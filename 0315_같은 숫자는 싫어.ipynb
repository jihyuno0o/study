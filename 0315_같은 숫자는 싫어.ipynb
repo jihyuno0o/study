{
 "cells": [
  {
   "cell_type": "markdown",
   "id": "e7a66a09",
   "metadata": {},
   "source": [
    "https://programmers.co.kr/learn/courses/30/lessons/12906"
   ]
  },
  {
   "cell_type": "markdown",
   "id": "f142df0a",
   "metadata": {
    "ExecuteTime": {
     "end_time": "2022-03-10T07:17:52.064853Z",
     "start_time": "2022-03-10T07:17:52.043603Z"
    }
   },
   "source": [
    "배열 arr가 주어집니다. 배열 arr의 각 원소는 숫자 0부터 9까지로 이루어져 있습니다. 이때, 배열 arr에서 연속적으로 나타나는 숫자는 하나만 남기고 전부 제거하려고 합니다. 단, 제거된 후 남은 수들을 반환할 때는 배열 arr의 원소들의 순서를 유지해야 합니다. 예를 들면,\n",
    "\n",
    "- arr = [1, 1, 3, 3, 0, 1, 1] 이면 [1, 3, 0, 1] 을 return 합니다.\n",
    "- arr = [4, 4, 4, 3, 3] 이면 [4, 3] 을 return 합니다.\n",
    "\n",
    "배열 arr에서 연속적으로 나타나는 숫자는 제거하고 남은 수들을 return 하는 solution 함수를 완성해 주세요.\n",
    "\n",
    "제한사항\n",
    "- 배열 arr의 크기 : 1,000,000 이하의 자연수\n",
    "- 배열 arr의 원소의 크기 : 0보다 크거나 같고 9보다 작거나 같은 정수"
   ]
  },
  {
   "cell_type": "markdown",
   "id": "caf86284",
   "metadata": {},
   "source": [
    "[1,1,3,3,0,1,1]\t[1,3,0,1]\n",
    "\n",
    "[4,4,4,3,3]\t[4,3]"
   ]
  },
  {
   "cell_type": "code",
   "execution_count": null,
   "id": "acce74c7",
   "metadata": {
    "ExecuteTime": {
     "end_time": "2022-03-10T07:34:44.892973Z",
     "start_time": "2022-03-10T07:34:44.885245Z"
    }
   },
   "outputs": [],
   "source": [
    "arr = [1,1,3,3,0,1,1]"
   ]
  },
  {
   "cell_type": "code",
   "execution_count": null,
   "id": "902aa216",
   "metadata": {
    "ExecuteTime": {
     "end_time": "2022-03-10T07:31:01.556747Z",
     "start_time": "2022-03-10T07:31:01.546776Z"
    }
   },
   "outputs": [],
   "source": [
    "answer = [arr[0]]"
   ]
  },
  {
   "cell_type": "code",
   "execution_count": null,
   "id": "35a75835",
   "metadata": {
    "ExecuteTime": {
     "end_time": "2022-03-10T07:31:01.886923Z",
     "start_time": "2022-03-10T07:31:01.877832Z"
    },
    "scrolled": false
   },
   "outputs": [],
   "source": [
    "for n in arr[1:]:\n",
    "    if n != answer[-1]:\n",
    "        answer.append(n)"
   ]
  },
  {
   "cell_type": "code",
   "execution_count": null,
   "id": "ad7717af",
   "metadata": {
    "ExecuteTime": {
     "end_time": "2022-03-10T07:34:19.384154Z",
     "start_time": "2022-03-10T07:34:19.364206Z"
    }
   },
   "outputs": [],
   "source": [
    "answer"
   ]
  },
  {
   "cell_type": "code",
   "execution_count": null,
   "id": "51b71b71",
   "metadata": {},
   "outputs": [],
   "source": []
  },
  {
   "cell_type": "code",
   "execution_count": null,
   "id": "b8f6b02e",
   "metadata": {
    "ExecuteTime": {
     "end_time": "2022-03-10T07:34:47.972108Z",
     "start_time": "2022-03-10T07:34:47.963903Z"
    }
   },
   "outputs": [],
   "source": [
    "answer = []\n",
    "answer[-1:] # 빈배열에 해도 안죽음"
   ]
  },
  {
   "cell_type": "code",
   "execution_count": null,
   "id": "e6c89509",
   "metadata": {
    "ExecuteTime": {
     "end_time": "2022-03-10T07:34:48.176340Z",
     "start_time": "2022-03-10T07:34:48.163375Z"
    },
    "scrolled": true
   },
   "outputs": [],
   "source": [
    "for n in arr:\n",
    "    if [n] != answer[-1:]:\n",
    "        print(n)\n",
    "        print(answer[-1:])\n",
    "        answer.append(n)\n",
    "        print(answer)"
   ]
  },
  {
   "cell_type": "code",
   "execution_count": null,
   "id": "60209e2a",
   "metadata": {},
   "outputs": [],
   "source": []
  },
  {
   "cell_type": "markdown",
   "id": "2849ce3f",
   "metadata": {},
   "source": [
    "solution"
   ]
  },
  {
   "cell_type": "code",
   "execution_count": null,
   "id": "8b5f98be",
   "metadata": {},
   "outputs": [],
   "source": [
    "def solution(arr):\n",
    "    answer = [arr[0]]\n",
    "    for n in arr[1:]:\n",
    "        if n != answer[-1]:\n",
    "            answer.append(n)\n",
    "    return answer"
   ]
  },
  {
   "cell_type": "code",
   "execution_count": null,
   "id": "52a1925d",
   "metadata": {},
   "outputs": [],
   "source": [
    "def solution(arr):\n",
    "    answer = []\n",
    "    for n in arr:\n",
    "        if [n] != answer[-1:]:\n",
    "            answer.append(n)"
   ]
  }
 ],
 "metadata": {
  "kernelspec": {
   "display_name": "Python 3",
   "language": "python",
   "name": "python3"
  },
  "language_info": {
   "codemirror_mode": {
    "name": "ipython",
    "version": 3
   },
   "file_extension": ".py",
   "mimetype": "text/x-python",
   "name": "python",
   "nbconvert_exporter": "python",
   "pygments_lexer": "ipython3",
   "version": "3.8.8"
  },
  "toc": {
   "base_numbering": 1,
   "nav_menu": {},
   "number_sections": true,
   "sideBar": true,
   "skip_h1_title": false,
   "title_cell": "Table of Contents",
   "title_sidebar": "Contents",
   "toc_cell": false,
   "toc_position": {},
   "toc_section_display": true,
   "toc_window_display": false
  },
  "varInspector": {
   "cols": {
    "lenName": 16,
    "lenType": 16,
    "lenVar": 40
   },
   "kernels_config": {
    "python": {
     "delete_cmd_postfix": "",
     "delete_cmd_prefix": "del ",
     "library": "var_list.py",
     "varRefreshCmd": "print(var_dic_list())"
    },
    "r": {
     "delete_cmd_postfix": ") ",
     "delete_cmd_prefix": "rm(",
     "library": "var_list.r",
     "varRefreshCmd": "cat(var_dic_list()) "
    }
   },
   "types_to_exclude": [
    "module",
    "function",
    "builtin_function_or_method",
    "instance",
    "_Feature"
   ],
   "window_display": false
  }
 },
 "nbformat": 4,
 "nbformat_minor": 5
}
