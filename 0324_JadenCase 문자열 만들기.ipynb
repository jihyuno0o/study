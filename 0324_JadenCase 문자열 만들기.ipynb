{
 "cells": [
  {
   "cell_type": "markdown",
   "id": "9f79d295",
   "metadata": {},
   "source": [
    "https://programmers.co.kr/learn/courses/30/lessons/12951"
   ]
  },
  {
   "cell_type": "markdown",
   "id": "0830bdfb",
   "metadata": {},
   "source": [
    "JadenCase란 모든 단어의 첫 문자가 대문자이고, 그 외의 알파벳은 소문자인 문자열입니다. 단, 첫 문자가 알파벳이 아닐 때에는 이어지는 알파벳은 소문자로 쓰면 됩니다. (첫 번째 입출력 예 참고)\n",
    "문자열 s가 주어졌을 때, s를 JadenCase로 바꾼 문자열을 리턴하는 함수, solution을 완성해주세요.\n",
    "\n",
    "제한 조건\n",
    "- s는 길이 1 이상 200 이하인 문자열입니다.\n",
    "- s는 알파벳과 숫자, 공백문자(\" \")로 이루어져 있습니다.\n",
    "- 숫자는 단어의 첫 문자로만 나옵니다.\n",
    "- 숫자로만 이루어진 단어는 없습니다.\n",
    "- 공백문자가 연속해서 나올 수 있습니다."
   ]
  },
  {
   "cell_type": "code",
   "execution_count": 39,
   "id": "67b30599",
   "metadata": {
    "ExecuteTime": {
     "end_time": "2022-03-24T01:54:15.574527Z",
     "start_time": "2022-03-24T01:54:15.564870Z"
    }
   },
   "outputs": [],
   "source": [
    "s= \"3people unFollowed me\"\n",
    "#\"3people Unfollowed Me\""
   ]
  },
  {
   "cell_type": "code",
   "execution_count": 59,
   "id": "6e1d055d",
   "metadata": {
    "ExecuteTime": {
     "end_time": "2022-03-24T02:14:18.224971Z",
     "start_time": "2022-03-24T02:14:18.217090Z"
    }
   },
   "outputs": [],
   "source": [
    "s= \" a a a a   a a a a a a \""
   ]
  },
  {
   "cell_type": "code",
   "execution_count": 60,
   "id": "ddd216a4",
   "metadata": {
    "ExecuteTime": {
     "end_time": "2022-03-24T02:14:18.594839Z",
     "start_time": "2022-03-24T02:14:18.588651Z"
    }
   },
   "outputs": [],
   "source": [
    "answer = ''"
   ]
  },
  {
   "cell_type": "code",
   "execution_count": 61,
   "id": "5a49579f",
   "metadata": {
    "ExecuteTime": {
     "end_time": "2022-03-24T02:14:20.230898Z",
     "start_time": "2022-03-24T02:14:20.219001Z"
    }
   },
   "outputs": [],
   "source": [
    "words = list(s.lower())"
   ]
  },
  {
   "cell_type": "code",
   "execution_count": 62,
   "id": "2985ca01",
   "metadata": {
    "ExecuteTime": {
     "end_time": "2022-03-24T02:14:20.858218Z",
     "start_time": "2022-03-24T02:14:20.840945Z"
    },
    "scrolled": true
   },
   "outputs": [
    {
     "data": {
      "text/plain": [
       "[' ',\n",
       " 'a',\n",
       " ' ',\n",
       " 'a',\n",
       " ' ',\n",
       " 'a',\n",
       " ' ',\n",
       " 'a',\n",
       " ' ',\n",
       " ' ',\n",
       " ' ',\n",
       " 'a',\n",
       " ' ',\n",
       " 'a',\n",
       " ' ',\n",
       " 'a',\n",
       " ' ',\n",
       " 'a',\n",
       " ' ',\n",
       " 'a',\n",
       " ' ',\n",
       " 'a',\n",
       " ' ']"
      ]
     },
     "execution_count": 62,
     "metadata": {},
     "output_type": "execute_result"
    }
   ],
   "source": [
    "words"
   ]
  },
  {
   "cell_type": "code",
   "execution_count": 63,
   "id": "a5200b7e",
   "metadata": {
    "ExecuteTime": {
     "end_time": "2022-03-24T02:14:25.075869Z",
     "start_time": "2022-03-24T02:14:25.056068Z"
    }
   },
   "outputs": [],
   "source": [
    "i = -1\n",
    "for word in words:\n",
    "    if word.isspace(): i = -1 \n",
    "    else: i += 1\n",
    "\n",
    "    if i == 0:\n",
    "        answer += word.upper()\n",
    "    else:\n",
    "        answer += word"
   ]
  },
  {
   "cell_type": "code",
   "execution_count": 64,
   "id": "a5a4ae87",
   "metadata": {
    "ExecuteTime": {
     "end_time": "2022-03-24T02:14:27.269207Z",
     "start_time": "2022-03-24T02:14:27.248775Z"
    }
   },
   "outputs": [
    {
     "data": {
      "text/plain": [
       "' A A A A   A A A A A A '"
      ]
     },
     "execution_count": 64,
     "metadata": {},
     "output_type": "execute_result"
    }
   ],
   "source": [
    "answer"
   ]
  },
  {
   "cell_type": "code",
   "execution_count": null,
   "id": "cf90b8da",
   "metadata": {},
   "outputs": [],
   "source": []
  },
  {
   "cell_type": "markdown",
   "id": "788ae429",
   "metadata": {
    "ExecuteTime": {
     "end_time": "2022-03-24T01:13:32.249674Z",
     "start_time": "2022-03-24T01:13:31.908377Z"
    }
   },
   "source": [
    "solution"
   ]
  },
  {
   "cell_type": "code",
   "execution_count": 65,
   "id": "81a813d7",
   "metadata": {
    "ExecuteTime": {
     "end_time": "2022-03-24T02:14:53.920710Z",
     "start_time": "2022-03-24T02:14:53.910851Z"
    }
   },
   "outputs": [],
   "source": [
    "def solution(s):\n",
    "    answer = ''\n",
    "    \n",
    "    i = -1\n",
    "    for word in list(s.lower()):\n",
    "        if word.isspace(): i = -1 \n",
    "        else: i += 1\n",
    "\n",
    "        if i == 0:\n",
    "            answer += word.upper()\n",
    "        else:\n",
    "            answer += word\n",
    "    return answer"
   ]
  },
  {
   "cell_type": "code",
   "execution_count": 66,
   "id": "5d3972ff",
   "metadata": {
    "ExecuteTime": {
     "end_time": "2022-03-24T02:14:57.482150Z",
     "start_time": "2022-03-24T02:14:57.467163Z"
    }
   },
   "outputs": [
    {
     "data": {
      "text/plain": [
       "' A A   A A A '"
      ]
     },
     "execution_count": 66,
     "metadata": {},
     "output_type": "execute_result"
    }
   ],
   "source": [
    "solution(\" a a   a a a \")"
   ]
  },
  {
   "cell_type": "markdown",
   "id": "d10bb213",
   "metadata": {},
   "source": [
    "다른 사람 풀이 - 이전 정답이라 테스트케이스 추가돼서 이제는 안됨 (공백처리 x)"
   ]
  },
  {
   "cell_type": "code",
   "execution_count": null,
   "id": "a9dbce5a",
   "metadata": {},
   "outputs": [],
   "source": [
    "def solution(s):\n",
    "    return s.title()"
   ]
  },
  {
   "cell_type": "code",
   "execution_count": null,
   "id": "8e072bf2",
   "metadata": {},
   "outputs": [],
   "source": [
    "def solution(s):\n",
    "    return ' '.join([word.capitalize() for word in s.split(\" \")])"
   ]
  }
 ],
 "metadata": {
  "kernelspec": {
   "display_name": "Python 3",
   "language": "python",
   "name": "python3"
  },
  "language_info": {
   "codemirror_mode": {
    "name": "ipython",
    "version": 3
   },
   "file_extension": ".py",
   "mimetype": "text/x-python",
   "name": "python",
   "nbconvert_exporter": "python",
   "pygments_lexer": "ipython3",
   "version": "3.8.8"
  },
  "toc": {
   "base_numbering": 1,
   "nav_menu": {},
   "number_sections": true,
   "sideBar": true,
   "skip_h1_title": false,
   "title_cell": "Table of Contents",
   "title_sidebar": "Contents",
   "toc_cell": false,
   "toc_position": {},
   "toc_section_display": true,
   "toc_window_display": false
  },
  "varInspector": {
   "cols": {
    "lenName": 16,
    "lenType": 16,
    "lenVar": 40
   },
   "kernels_config": {
    "python": {
     "delete_cmd_postfix": "",
     "delete_cmd_prefix": "del ",
     "library": "var_list.py",
     "varRefreshCmd": "print(var_dic_list())"
    },
    "r": {
     "delete_cmd_postfix": ") ",
     "delete_cmd_prefix": "rm(",
     "library": "var_list.r",
     "varRefreshCmd": "cat(var_dic_list()) "
    }
   },
   "types_to_exclude": [
    "module",
    "function",
    "builtin_function_or_method",
    "instance",
    "_Feature"
   ],
   "window_display": false
  }
 },
 "nbformat": 4,
 "nbformat_minor": 5
}
