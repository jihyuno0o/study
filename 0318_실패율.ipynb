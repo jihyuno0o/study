{
 "cells": [
  {
   "cell_type": "markdown",
   "id": "7c4b5345",
   "metadata": {},
   "source": [
    "https://programmers.co.kr/learn/courses/30/lessons/42889"
   ]
  },
  {
   "cell_type": "markdown",
   "id": "67c06ec3",
   "metadata": {},
   "source": [
    "슈퍼 게임 개발자 오렐리는 큰 고민에 빠졌다. 그녀가 만든 프랜즈 오천성이 대성공을 거뒀지만, 요즘 신규 사용자의 수가 급감한 것이다. 원인은 신규 사용자와 기존 사용자 사이에 스테이지 차이가 너무 큰 것이 문제였다.\n",
    "\n",
    "이 문제를 어떻게 할까 고민 한 그녀는 동적으로 게임 시간을 늘려서 난이도를 조절하기로 했다. 역시 슈퍼 개발자라 대부분의 로직은 쉽게 구현했지만, 실패율을 구하는 부분에서 위기에 빠지고 말았다. 오렐리를 위해 실패율을 구하는 코드를 완성하라.\n",
    "\n",
    "- 실패율은 다음과 같이 정의한다.\n",
    "    - 스테이지에 도달했으나 아직 클리어하지 못한 플레이어의 수 / 스테이지에 도달한 플레이어 수\n",
    "\n",
    "전체 스테이지의 개수 N, 게임을 이용하는 사용자가 현재 멈춰있는 스테이지의 번호가 담긴 배열 stages가 매개변수로 주어질 때, 실패율이 높은 스테이지부터 내림차순으로 스테이지의 번호가 담겨있는 배열을 return 하도록 solution 함수를 완성하라."
   ]
  },
  {
   "cell_type": "markdown",
   "id": "ba8398cd",
   "metadata": {},
   "source": [
    "제한사항\n",
    "- 스테이지의 개수 N은 1 이상 500 이하의 자연수이다.\n",
    "- stages의 길이는 1 이상 200,000 이하이다.\n",
    "- stages에는 1 이상 N + 1 이하의 자연수가 담겨있다.\n",
    "    - 각 자연수는 사용자가 현재 도전 중인 스테이지의 번호를 나타낸다.\n",
    "    - 단, N + 1 은 마지막 스테이지(N 번째 스테이지) 까지 클리어 한 사용자를 나타낸다.\n",
    "- 만약 실패율이 같은 스테이지가 있다면 작은 번호의 스테이지가 먼저 오도록 하면 된다.\n",
    "- 스테이지에 도달한 유저가 없는 경우 해당 스테이지의 실패율은 0 으로 정의한다."
   ]
  },
  {
   "cell_type": "code",
   "execution_count": 53,
   "id": "6836f448",
   "metadata": {
    "ExecuteTime": {
     "end_time": "2022-03-18T01:53:56.463094Z",
     "start_time": "2022-03-18T01:53:56.445944Z"
    }
   },
   "outputs": [],
   "source": [
    "N = 5\n",
    "stages = [2, 1, 2, 6, 2, 4, 3, 3]\n",
    "# [3,4,2,1,5]"
   ]
  },
  {
   "cell_type": "code",
   "execution_count": 47,
   "id": "06c75e72",
   "metadata": {
    "ExecuteTime": {
     "end_time": "2022-03-18T01:53:21.925910Z",
     "start_time": "2022-03-18T01:53:21.911967Z"
    }
   },
   "outputs": [],
   "source": [
    "N=8\n",
    "stages=[1,2,3,4,5,6,7]"
   ]
  },
  {
   "cell_type": "markdown",
   "id": "8a64b5cc",
   "metadata": {},
   "source": [
    "입출력 예 #1\n",
    "\n",
    "1번 스테이지에는 총 8명의 사용자가 도전했으며, 이 중 1명의 사용자가 아직 클리어하지 못했다. 따라서 1번 스테이지의 실패율은 다음과 같다.\n",
    "\n",
    "- 1 번 스테이지 실패율 : 1/8\n",
    "2번 스테이지에는 총 7명의 사용자가 도전했으며, 이 중 3명의 사용자가 아직 클리어하지 못했다. 따라서 2번 스테이지의 실패율은 다음과 같다.\n",
    "\n",
    "- 2 번 스테이지 실패율 : 3/7\n",
    "마찬가지로 나머지 스테이지의 실패율은 다음과 같다.\n",
    "\n",
    "- 3 번 스테이지 실패율 : 2/4\n",
    "- 4번 스테이지 실패율 : 1/2\n",
    "- 5번 스테이지 실패율 : 0/1\n",
    "\n",
    "각 스테이지의 번호를 실패율의 내림차순으로 정렬하면 다음과 같다.\n",
    "\n",
    "- [3,4,2,1,5]"
   ]
  },
  {
   "cell_type": "code",
   "execution_count": 54,
   "id": "15155157",
   "metadata": {
    "ExecuteTime": {
     "end_time": "2022-03-18T01:53:58.171470Z",
     "start_time": "2022-03-18T01:53:58.153395Z"
    }
   },
   "outputs": [],
   "source": [
    "user = len(stages)\n",
    "failure = []"
   ]
  },
  {
   "cell_type": "code",
   "execution_count": 55,
   "id": "3c755d1e",
   "metadata": {
    "ExecuteTime": {
     "end_time": "2022-03-18T01:53:58.486477Z",
     "start_time": "2022-03-18T01:53:58.471517Z"
    }
   },
   "outputs": [],
   "source": [
    "for i in range(1, N+1):\n",
    "    try:\n",
    "        fail = stages.count(i)\n",
    "        failure.append([i, fail/user])\n",
    "        user -= fail\n",
    "    except:\n",
    "        failure.append([i, 0])"
   ]
  },
  {
   "cell_type": "code",
   "execution_count": 56,
   "id": "0c60f2d2",
   "metadata": {
    "ExecuteTime": {
     "end_time": "2022-03-18T01:53:58.818165Z",
     "start_time": "2022-03-18T01:53:58.805060Z"
    }
   },
   "outputs": [
    {
     "data": {
      "text/plain": [
       "[[1, 0.125], [2, 0.42857142857142855], [3, 0.5], [4, 0.5], [5, 0.0]]"
      ]
     },
     "execution_count": 56,
     "metadata": {},
     "output_type": "execute_result"
    }
   ],
   "source": [
    "failure"
   ]
  },
  {
   "cell_type": "code",
   "execution_count": 57,
   "id": "ae58d408",
   "metadata": {
    "ExecuteTime": {
     "end_time": "2022-03-18T01:54:00.303402Z",
     "start_time": "2022-03-18T01:54:00.280465Z"
    }
   },
   "outputs": [
    {
     "data": {
      "text/plain": [
       "[[3, 0.5], [4, 0.5], [2, 0.42857142857142855], [1, 0.125], [5, 0.0]]"
      ]
     },
     "execution_count": 57,
     "metadata": {},
     "output_type": "execute_result"
    }
   ],
   "source": [
    "failure.sort(reverse= True, key=lambda x : x[1])\n",
    "failure"
   ]
  },
  {
   "cell_type": "code",
   "execution_count": 58,
   "id": "e05786c9",
   "metadata": {
    "ExecuteTime": {
     "end_time": "2022-03-18T01:54:01.094239Z",
     "start_time": "2022-03-18T01:54:01.083416Z"
    }
   },
   "outputs": [
    {
     "data": {
      "text/plain": [
       "[3, 4, 2, 1, 5]"
      ]
     },
     "execution_count": 58,
     "metadata": {},
     "output_type": "execute_result"
    }
   ],
   "source": [
    "answer = list(map(lambda x : x[0], failure))\n",
    "answer"
   ]
  },
  {
   "cell_type": "markdown",
   "id": "76443005",
   "metadata": {},
   "source": [
    "solution"
   ]
  },
  {
   "cell_type": "code",
   "execution_count": null,
   "id": "74d0f2b3",
   "metadata": {},
   "outputs": [],
   "source": [
    "def solution(N, stages):\n",
    "    failure = []\n",
    "    user = len(stages)\n",
    "    \n",
    "    for i in range(1, N+1):\n",
    "        try:\n",
    "            fail = stages.count(i)\n",
    "            failure.append([i, fail/user])\n",
    "            user -= fail\n",
    "        except:\n",
    "            failure.append([i, 0])\n",
    "        if i == N:\n",
    "            break\n",
    "    #실패율 내림차순 정렬\n",
    "    failure.sort(reverse=True, key=lambda x:x[1])\n",
    "    \n",
    "    return list(map(lambda x: x[0], failure))"
   ]
  }
 ],
 "metadata": {
  "kernelspec": {
   "display_name": "Python 3",
   "language": "python",
   "name": "python3"
  },
  "language_info": {
   "codemirror_mode": {
    "name": "ipython",
    "version": 3
   },
   "file_extension": ".py",
   "mimetype": "text/x-python",
   "name": "python",
   "nbconvert_exporter": "python",
   "pygments_lexer": "ipython3",
   "version": "3.8.8"
  },
  "toc": {
   "base_numbering": 1,
   "nav_menu": {},
   "number_sections": true,
   "sideBar": true,
   "skip_h1_title": false,
   "title_cell": "Table of Contents",
   "title_sidebar": "Contents",
   "toc_cell": false,
   "toc_position": {},
   "toc_section_display": true,
   "toc_window_display": false
  },
  "varInspector": {
   "cols": {
    "lenName": 16,
    "lenType": 16,
    "lenVar": 40
   },
   "kernels_config": {
    "python": {
     "delete_cmd_postfix": "",
     "delete_cmd_prefix": "del ",
     "library": "var_list.py",
     "varRefreshCmd": "print(var_dic_list())"
    },
    "r": {
     "delete_cmd_postfix": ") ",
     "delete_cmd_prefix": "rm(",
     "library": "var_list.r",
     "varRefreshCmd": "cat(var_dic_list()) "
    }
   },
   "types_to_exclude": [
    "module",
    "function",
    "builtin_function_or_method",
    "instance",
    "_Feature"
   ],
   "window_display": false
  }
 },
 "nbformat": 4,
 "nbformat_minor": 5
}
