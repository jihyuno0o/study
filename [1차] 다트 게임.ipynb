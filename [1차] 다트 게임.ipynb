{
 "cells": [
  {
   "cell_type": "markdown",
   "id": "30d0971f",
   "metadata": {},
   "source": [
    "# 2018 KAKAO BLIND RECRUITMENT"
   ]
  },
  {
   "cell_type": "markdown",
   "id": "085104c9",
   "metadata": {},
   "source": [
    "https://programmers.co.kr/learn/courses/30/lessons/17682"
   ]
  },
  {
   "cell_type": "markdown",
   "id": "9e34fc92",
   "metadata": {},
   "source": [
    "카카오톡에 뜬 네 번째 별! 심심할 땐? 카카오톡 게임별~\n",
    "\n",
    "Game Star\n",
    "\n",
    "카카오톡 게임별의 하반기 신규 서비스로 다트 게임을 출시하기로 했다. 다트 게임은 다트판에 다트를 세 차례 던져 그 점수의 합계로 실력을 겨루는 게임으로, 모두가 간단히 즐길 수 있다.\n",
    "갓 입사한 무지는 코딩 실력을 인정받아 게임의 핵심 부분인 점수 계산 로직을 맡게 되었다. 다트 게임의 점수 계산 로직은 아래와 같다.\n",
    "\n",
    "1. 다트 게임은 총 3번의 기회로 구성된다.\n",
    "2. 각 기회마다 얻을 수 있는 점수는 0점에서 10점까지이다.\n",
    "3. 점수와 함께 Single(S), Double(D), Triple(T) 영역이 존재하고 각 영역 당첨 시 점수에서 1제곱, 2제곱, 3제곱 (점수1 , 점수2 , 점수3 )으로 계산된다.\n",
    "4. 옵션으로 스타상(*) , 아차상(#)이 존재하며 스타상(*) 당첨 시 해당 점수와 바로 전에 얻은 점수를 각 2배로 만든다. 아차상(#) 당첨 시 해당 점수는 마이너스된다.\n",
    "5. 스타상(*)은 첫 번째 기회에서도 나올 수 있다. 이 경우 첫 번째 스타상(*)의 점수만 2배가 된다. (예제 4번 참고)\n",
    "6. 스타상(*)의 효과는 다른 스타상(*)의 효과와 중첩될 수 있다. 이 경우 중첩된 스타상(*) 점수는 4배가 된다. (예제 4번 참고)\n",
    "7. 스타상(*)의 효과는 아차상(#)의 효과와 중첩될 수 있다. 이 경우 중첩된 아차상(#)의 점수는 -2배가 된다. (예제 5번 참고)\n",
    "8. Single(S), Double(D), Triple(T)은 점수마다 하나씩 존재한다.\n",
    "9. 스타상(*), 아차상(#)은 점수마다 둘 중 하나만 존재할 수 있으며, 존재하지 않을 수도 있다.\n",
    "\n",
    "0~10의 정수와 문자 S, D, T, *, #로 구성된 문자열이 입력될 시 총점수를 반환하는 함수를 작성하라.\n"
   ]
  },
  {
   "cell_type": "markdown",
   "id": "f9351f4b",
   "metadata": {
    "ExecuteTime": {
     "end_time": "2022-03-10T12:02:22.513554Z",
     "start_time": "2022-03-10T12:02:22.496598Z"
    }
   },
   "source": [
    "입력 형식\n",
    "\n",
    "\"점수|보너스|[옵션]\"으로 이루어진 문자열 3세트.\n",
    "예) 1S2D*3T\n",
    "\n",
    "- 점수는 0에서 10 사이의 정수이다.\n",
    "- 보너스는 S, D, T 중 하나이다.\n",
    "- 옵선은 *이나 # 중 하나이며, 없을 수도 있다.\n",
    "\n",
    "출력 형식\n",
    "\n",
    "3번의 기회에서 얻은 점수 합계에 해당하는 정수값을 출력한다.\n",
    "- 예) 37"
   ]
  },
  {
   "cell_type": "markdown",
   "id": "1565427d",
   "metadata": {},
   "source": [
    "예제\tdartResult\tanswer\t설명\n",
    "\n",
    "1\t1S2D*3T\t#37\t11 * 2 + 22 * 2 + 33\n",
    "\n",
    "2\t1D2S#10S\t#9\t12 + 21 * (-1) + 101\n",
    "\n",
    "3\t1D2S0T\t#3\t12 + 21 + 03\n",
    "\n",
    "4\t1S*2T*3S\t#23\t11 * 2 * 2 + 23 * 2 + 31\n",
    "\n",
    "5\t1D#2S*3S\t#5\t12 * (-1) * 2 + 21 * 2 + 31\n",
    "\n",
    "6\t1T2D3D#\t-4\t#13 + 22 + 32 * (-1)\n",
    "\n",
    "7\t1D2S3T*\t#59 12 + 21 * 2 + 33 * 2"
   ]
  },
  {
   "cell_type": "markdown",
   "id": "d0fc9b97",
   "metadata": {},
   "source": []
  },
  {
   "cell_type": "code",
   "execution_count": 11,
   "id": "57c712db",
   "metadata": {
    "ExecuteTime": {
     "end_time": "2022-03-10T12:15:20.255995Z",
     "start_time": "2022-03-10T12:15:20.249154Z"
    }
   },
   "outputs": [],
   "source": [
    "dartResult = '1S*2T*3S'\n",
    "# 23"
   ]
  },
  {
   "cell_type": "code",
   "execution_count": 18,
   "id": "959128a7",
   "metadata": {
    "ExecuteTime": {
     "end_time": "2022-03-10T12:23:45.254200Z",
     "start_time": "2022-03-10T12:23:45.245311Z"
    }
   },
   "outputs": [],
   "source": [
    "dartResult = '1D2S#10S'"
   ]
  },
  {
   "cell_type": "code",
   "execution_count": 19,
   "id": "d3a54bae",
   "metadata": {
    "ExecuteTime": {
     "end_time": "2022-03-10T12:23:46.142356Z",
     "start_time": "2022-03-10T12:23:46.128158Z"
    }
   },
   "outputs": [
    {
     "data": {
      "text/plain": [
       "['1', 'D', '2', 'S', '#', '1', '0', 'S']"
      ]
     },
     "execution_count": 19,
     "metadata": {},
     "output_type": "execute_result"
    }
   ],
   "source": [
    "dart = list(dartResult)\n",
    "dart"
   ]
  },
  {
   "cell_type": "code",
   "execution_count": 20,
   "id": "59e57c8d",
   "metadata": {
    "ExecuteTime": {
     "end_time": "2022-03-10T12:23:48.944049Z",
     "start_time": "2022-03-10T12:23:48.929054Z"
    }
   },
   "outputs": [],
   "source": [
    "Result = [0,0,0]\n",
    "idx = -1\n",
    "before_s = ''"
   ]
  },
  {
   "cell_type": "code",
   "execution_count": 21,
   "id": "d6809ec2",
   "metadata": {
    "ExecuteTime": {
     "end_time": "2022-03-10T12:23:52.550707Z",
     "start_time": "2022-03-10T12:23:52.531598Z"
    }
   },
   "outputs": [],
   "source": [
    "for s in dart:\n",
    "    try:\n",
    "        num = int(s)\n",
    "        if num == 0 and before_s == \"1\":\n",
    "            Result[idx] *= 10\n",
    "        else:\n",
    "            idx += 1\n",
    "            Result[idx] = num\n",
    "            \n",
    "    except:\n",
    "        if s == 'D':\n",
    "            Result[idx] **= 2\n",
    "        elif s  == 'T':\n",
    "            Result[idx] **= 3\n",
    "        \n",
    "        elif s == '#':\n",
    "            Result[idx] *= -1\n",
    "        elif s == '*':\n",
    "            if idx == 0:\n",
    "                Result[idx] *= 2\n",
    "            else:\n",
    "                Result[idx] *= 2\n",
    "                Result[idx-1] *= 2\n",
    "            \n",
    "    before_s = s\n",
    "        "
   ]
  },
  {
   "cell_type": "code",
   "execution_count": 22,
   "id": "51511563",
   "metadata": {
    "ExecuteTime": {
     "end_time": "2022-03-10T12:23:53.956649Z",
     "start_time": "2022-03-10T12:23:53.945271Z"
    }
   },
   "outputs": [
    {
     "data": {
      "text/plain": [
       "[1, -2, 10]"
      ]
     },
     "execution_count": 22,
     "metadata": {},
     "output_type": "execute_result"
    }
   ],
   "source": [
    "Result"
   ]
  },
  {
   "cell_type": "code",
   "execution_count": 16,
   "id": "257d8204",
   "metadata": {
    "ExecuteTime": {
     "end_time": "2022-03-10T12:16:30.795311Z",
     "start_time": "2022-03-10T12:16:30.780629Z"
    }
   },
   "outputs": [
    {
     "data": {
      "text/plain": [
       "23"
      ]
     },
     "execution_count": 16,
     "metadata": {},
     "output_type": "execute_result"
    }
   ],
   "source": [
    "sum(Result)"
   ]
  },
  {
   "cell_type": "markdown",
   "id": "26e7239b",
   "metadata": {},
   "source": [
    "solution"
   ]
  },
  {
   "cell_type": "code",
   "execution_count": null,
   "id": "cd2fcfee",
   "metadata": {},
   "outputs": [],
   "source": [
    "def solution(dartResult):\n",
    "    dart = list(dartResult)\n",
    "    Result = [0,0,0]\n",
    "    idx = -1\n",
    "    before_s = ''\n",
    "    \n",
    "    for s in dart:\n",
    "        try:\n",
    "            num = int(s)\n",
    "            if num == 0 and before_s == \"1\":\n",
    "                Result[idx] *= 10\n",
    "            else:\n",
    "                idx += 1\n",
    "                Result[idx] = num\n",
    "        except:\n",
    "            if s == 'D':\n",
    "                Result[idx] **= 2\n",
    "            elif s  == 'T':\n",
    "                Result[idx] **= 3\n",
    "\n",
    "            elif s == '#':\n",
    "                Result[idx] *= -1\n",
    "            elif s == '*':\n",
    "                if idx == 0:\n",
    "                    Result[idx] *= 2\n",
    "                else:\n",
    "                    Result[idx] *= 2\n",
    "                    Result[idx-1] *= 2\n",
    "        before_s = s\n",
    "        \n",
    "    return sum(Result)"
   ]
  },
  {
   "cell_type": "markdown",
   "id": "8c3103d6",
   "metadata": {},
   "source": [
    "다른 사람 코드 - 정규식 사용"
   ]
  },
  {
   "cell_type": "code",
   "execution_count": null,
   "id": "53dbf177",
   "metadata": {},
   "outputs": [],
   "source": [
    "import re\n",
    "\n",
    "\n",
    "def solution(dartResult):\n",
    "    bonus = {'S' : 1, 'D' : 2, 'T' : 3}\n",
    "    option = {'' : 1, '*' : 2, '#' : -1}\n",
    "    p = re.compile('(\\d+)([SDT])([*#]?)')\n",
    "    dart = p.findall(dartResult)\n",
    "    for i in range(len(dart)):\n",
    "        if dart[i][2] == '*' and i > 0:\n",
    "            dart[i-1] *= 2\n",
    "        dart[i] = int(dart[i][0]) ** bonus[dart[i][1]] * option[dart[i][2]]\n",
    "\n",
    "    answer = sum(dart)\n",
    "    return answer"
   ]
  },
  {
   "cell_type": "code",
   "execution_count": 23,
   "id": "09a4c210",
   "metadata": {
    "ExecuteTime": {
     "end_time": "2022-03-10T12:26:20.296117Z",
     "start_time": "2022-03-10T12:26:20.288911Z"
    }
   },
   "outputs": [],
   "source": [
    "import re"
   ]
  },
  {
   "cell_type": "code",
   "execution_count": 29,
   "id": "f03976f7",
   "metadata": {
    "ExecuteTime": {
     "end_time": "2022-03-10T12:31:10.289738Z",
     "start_time": "2022-03-10T12:31:10.282697Z"
    }
   },
   "outputs": [],
   "source": [
    "bonus = {'S':1, 'D':2, 'T':3}\n",
    "option = {'':1, '*':2, '#':-1}\n",
    "\n",
    "p = re.compile('(\\d+)([SDT])([*#]?)')"
   ]
  },
  {
   "cell_type": "code",
   "execution_count": 30,
   "id": "8adde5f2",
   "metadata": {
    "ExecuteTime": {
     "end_time": "2022-03-10T12:31:23.798363Z",
     "start_time": "2022-03-10T12:31:23.778429Z"
    }
   },
   "outputs": [
    {
     "data": {
      "text/plain": [
       "[('1', 'D', ''), ('2', 'S', '#'), ('10', 'S', '')]"
      ]
     },
     "execution_count": 30,
     "metadata": {},
     "output_type": "execute_result"
    }
   ],
   "source": [
    "dart = p.findall(dartResult)\n",
    "dart"
   ]
  },
  {
   "cell_type": "code",
   "execution_count": 35,
   "id": "31bebc16",
   "metadata": {
    "ExecuteTime": {
     "end_time": "2022-03-10T12:33:23.502557Z",
     "start_time": "2022-03-10T12:33:23.483605Z"
    }
   },
   "outputs": [],
   "source": [
    "for i in range(len(dart)):\n",
    "    if dart[i][2] == '*' and i>0:\n",
    "        dart[i-1] *= 2\n",
    "    dart[i] = int(dart[i][0]) ** bonus[dart[i][1]] * option[dart[i][2]]"
   ]
  },
  {
   "cell_type": "code",
   "execution_count": 36,
   "id": "df1df9ad",
   "metadata": {
    "ExecuteTime": {
     "end_time": "2022-03-10T12:33:30.032907Z",
     "start_time": "2022-03-10T12:33:30.012427Z"
    }
   },
   "outputs": [
    {
     "data": {
      "text/plain": [
       "9"
      ]
     },
     "execution_count": 36,
     "metadata": {},
     "output_type": "execute_result"
    }
   ],
   "source": [
    "answer = sum(dart)\n",
    "answer"
   ]
  },
  {
   "cell_type": "markdown",
   "id": "f4b4ec68",
   "metadata": {},
   "source": [
    "또 다른 사람 코드 - 10ㄷㅐ체하는 방법"
   ]
  },
  {
   "cell_type": "code",
   "execution_count": null,
   "id": "8bcffa32",
   "metadata": {},
   "outputs": [],
   "source": [
    "def solution(dartResult):\n",
    "    point = []\n",
    "    answer = []\n",
    "    dartResult = dartResult.replace('10','k')\n",
    "    point = ['10' if i == 'k' else i for i in dartResult]\n",
    "    print(point)\n",
    "\n",
    "    i = -1\n",
    "    sdt = ['S', 'D', 'T']\n",
    "    for j in point:\n",
    "        if j in sdt :\n",
    "            answer[i] = answer[i] ** (sdt.index(j)+1)\n",
    "        elif j == '*':\n",
    "            answer[i] = answer[i] * 2\n",
    "            if i != 0 :\n",
    "                answer[i - 1] = answer[i - 1] * 2\n",
    "        elif j == '#':\n",
    "            answer[i] = answer[i] * (-1)\n",
    "        else:\n",
    "            answer.append(int(j))\n",
    "            i += 1\n",
    "    return sum(answer)"
   ]
  }
 ],
 "metadata": {
  "kernelspec": {
   "display_name": "Python 3",
   "language": "python",
   "name": "python3"
  },
  "language_info": {
   "codemirror_mode": {
    "name": "ipython",
    "version": 3
   },
   "file_extension": ".py",
   "mimetype": "text/x-python",
   "name": "python",
   "nbconvert_exporter": "python",
   "pygments_lexer": "ipython3",
   "version": "3.8.8"
  },
  "toc": {
   "base_numbering": 1,
   "nav_menu": {},
   "number_sections": true,
   "sideBar": true,
   "skip_h1_title": false,
   "title_cell": "Table of Contents",
   "title_sidebar": "Contents",
   "toc_cell": false,
   "toc_position": {},
   "toc_section_display": true,
   "toc_window_display": false
  },
  "varInspector": {
   "cols": {
    "lenName": 16,
    "lenType": 16,
    "lenVar": 40
   },
   "kernels_config": {
    "python": {
     "delete_cmd_postfix": "",
     "delete_cmd_prefix": "del ",
     "library": "var_list.py",
     "varRefreshCmd": "print(var_dic_list())"
    },
    "r": {
     "delete_cmd_postfix": ") ",
     "delete_cmd_prefix": "rm(",
     "library": "var_list.r",
     "varRefreshCmd": "cat(var_dic_list()) "
    }
   },
   "types_to_exclude": [
    "module",
    "function",
    "builtin_function_or_method",
    "instance",
    "_Feature"
   ],
   "window_display": false
  }
 },
 "nbformat": 4,
 "nbformat_minor": 5
}
