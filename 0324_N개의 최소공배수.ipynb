{
 "cells": [
  {
   "cell_type": "markdown",
   "id": "e3326a53",
   "metadata": {},
   "source": [
    "https://programmers.co.kr/learn/courses/30/lessons/12953"
   ]
  },
  {
   "cell_type": "markdown",
   "id": "d0c249b8",
   "metadata": {},
   "source": [
    "두 수의 최소공배수(Least Common Multiple)란 입력된 두 수의 배수 중 공통이 되는 가장 작은 숫자를 의미합니다. 예를 들어 2와 7의 최소공배수는 14가 됩니다. 정의를 확장해서, n개의 수의 최소공배수는 n 개의 수들의 배수 중 공통이 되는 가장 작은 숫자가 됩니다. n개의 숫자를 담은 배열 arr이 입력되었을 때 이 수들의 최소공배수를 반환하는 함수, solution을 완성해 주세요.\n",
    "\n",
    "제한 사항\n",
    "- arr은 길이 1이상, 15이하인 배열입니다.\n",
    "- arr의 원소는 100 이하인 자연수입니다."
   ]
  },
  {
   "cell_type": "code",
   "execution_count": 2,
   "id": "79b24bf6",
   "metadata": {
    "ExecuteTime": {
     "end_time": "2022-03-24T00:51:36.368084Z",
     "start_time": "2022-03-24T00:51:36.351127Z"
    }
   },
   "outputs": [],
   "source": [
    "arr = [2,6,8,14]\n",
    "# 168"
   ]
  },
  {
   "cell_type": "code",
   "execution_count": 3,
   "id": "0b4f6634",
   "metadata": {
    "ExecuteTime": {
     "end_time": "2022-03-24T00:51:36.653453Z",
     "start_time": "2022-03-24T00:51:36.648541Z"
    }
   },
   "outputs": [],
   "source": [
    "max_n = max(arr)"
   ]
  },
  {
   "cell_type": "code",
   "execution_count": 4,
   "id": "70a9f259",
   "metadata": {
    "ExecuteTime": {
     "end_time": "2022-03-24T00:51:37.640622Z",
     "start_time": "2022-03-24T00:51:37.631645Z"
    }
   },
   "outputs": [],
   "source": [
    "i = 1\n",
    "while(True):\n",
    "    cnt = 0\n",
    "    for n in arr:\n",
    "        if (max_n * i) % n != 0:\n",
    "            break\n",
    "        else:\n",
    "            cnt += 1\n",
    "\n",
    "    if cnt==len(arr): break\n",
    "    else: i+=1"
   ]
  },
  {
   "cell_type": "code",
   "execution_count": 5,
   "id": "9287f184",
   "metadata": {
    "ExecuteTime": {
     "end_time": "2022-03-24T00:51:38.175384Z",
     "start_time": "2022-03-24T00:51:38.146278Z"
    },
    "scrolled": true
   },
   "outputs": [
    {
     "data": {
      "text/plain": [
       "168"
      ]
     },
     "execution_count": 5,
     "metadata": {},
     "output_type": "execute_result"
    }
   ],
   "source": [
    "max_n * i"
   ]
  },
  {
   "cell_type": "markdown",
   "id": "f5020ca0",
   "metadata": {},
   "source": [
    "solution"
   ]
  },
  {
   "cell_type": "code",
   "execution_count": 6,
   "id": "7d9f0c4a",
   "metadata": {
    "ExecuteTime": {
     "end_time": "2022-03-24T00:51:39.756525Z",
     "start_time": "2022-03-24T00:51:39.742673Z"
    }
   },
   "outputs": [],
   "source": [
    "def solution(arr):\n",
    "    max_n = max(arr)\n",
    "    i = 1\n",
    "    while(True):\n",
    "        cnt=0\n",
    "        for n in arr:\n",
    "            if (max_n * i) % n != 0: break\n",
    "            else: cnt += 1\n",
    "        \n",
    "        if cnt == len(arr): break\n",
    "        else: i += 1\n",
    "    return max_n * i"
   ]
  },
  {
   "cell_type": "markdown",
   "id": "e2272199",
   "metadata": {},
   "source": [
    "다른 사람 풀이"
   ]
  },
  {
   "cell_type": "code",
   "execution_count": null,
   "id": "643f3868",
   "metadata": {
    "ExecuteTime": {
     "end_time": "2022-03-23T09:10:52.785623Z",
     "start_time": "2022-03-23T09:10:52.770949Z"
    }
   },
   "outputs": [],
   "source": [
    "import math\n",
    "def nlcm(arr):      \n",
    "    answer = arr[0]\n",
    "    for n in arr:\n",
    "        answer = n * answer // math.gcd(n, answer)\n",
    "\n",
    "    return answer\n"
   ]
  },
  {
   "cell_type": "code",
   "execution_count": null,
   "id": "d740fa78",
   "metadata": {
    "ExecuteTime": {
     "end_time": "2022-03-23T09:11:35.477250Z",
     "start_time": "2022-03-23T09:11:35.458443Z"
    }
   },
   "outputs": [],
   "source": [
    "nlcm(arr)"
   ]
  },
  {
   "cell_type": "code",
   "execution_count": null,
   "id": "29a2f148",
   "metadata": {},
   "outputs": [],
   "source": []
  }
 ],
 "metadata": {
  "kernelspec": {
   "display_name": "Python 3",
   "language": "python",
   "name": "python3"
  },
  "language_info": {
   "codemirror_mode": {
    "name": "ipython",
    "version": 3
   },
   "file_extension": ".py",
   "mimetype": "text/x-python",
   "name": "python",
   "nbconvert_exporter": "python",
   "pygments_lexer": "ipython3",
   "version": "3.8.8"
  },
  "toc": {
   "base_numbering": 1,
   "nav_menu": {},
   "number_sections": true,
   "sideBar": true,
   "skip_h1_title": false,
   "title_cell": "Table of Contents",
   "title_sidebar": "Contents",
   "toc_cell": false,
   "toc_position": {},
   "toc_section_display": true,
   "toc_window_display": false
  },
  "varInspector": {
   "cols": {
    "lenName": 16,
    "lenType": 16,
    "lenVar": 40
   },
   "kernels_config": {
    "python": {
     "delete_cmd_postfix": "",
     "delete_cmd_prefix": "del ",
     "library": "var_list.py",
     "varRefreshCmd": "print(var_dic_list())"
    },
    "r": {
     "delete_cmd_postfix": ") ",
     "delete_cmd_prefix": "rm(",
     "library": "var_list.r",
     "varRefreshCmd": "cat(var_dic_list()) "
    }
   },
   "types_to_exclude": [
    "module",
    "function",
    "builtin_function_or_method",
    "instance",
    "_Feature"
   ],
   "window_display": false
  }
 },
 "nbformat": 4,
 "nbformat_minor": 5
}
