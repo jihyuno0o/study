{
 "cells": [
  {
   "cell_type": "markdown",
   "id": "b91c18e2",
   "metadata": {},
   "source": [
    "https://www.acmicpc.net/problem/2164"
   ]
  },
  {
   "cell_type": "markdown",
   "id": "f21d13ff",
   "metadata": {},
   "source": [
    "## 문제\n",
    "N장의 카드가 있다. 각각의 카드는 차례로 1부터 N까지의 번호가 붙어 있으며, 1번 카드가 제일 위에, N번 카드가 제일 아래인 상태로 순서대로 카드가 놓여 있다.\n",
    "\n",
    "이제 다음과 같은 동작을 카드가 한 장 남을 때까지 반복하게 된다. 우선, 제일 위에 있는 카드를 바닥에 버린다. 그 다음, 제일 위에 있는 카드를 제일 아래에 있는 카드 밑으로 옮긴다.\n",
    "\n",
    "예를 들어 N=4인 경우를 생각해 보자. 카드는 제일 위에서부터 1234 의 순서로 놓여있다. 1을 버리면 234가 남는다. 여기서 2를 제일 아래로 옮기면 342가 된다. 3을 버리면 42가 되고, 4를 밑으로 옮기면 24가 된다. 마지막으로 2를 버리고 나면, 남는 카드는 4가 된다.\n",
    "\n",
    "N이 주어졌을 때, 제일 마지막에 남게 되는 카드를 구하는 프로그램을 작성하시오.\n",
    "\n",
    "## 입력\n",
    "첫째 줄에 정수 N(1 ≤ N ≤ 500,000)이 주어진다.\n",
    "\n",
    "## 출력\n",
    "첫째 줄에 남게 되는 카드의 번호를 출력한다."
   ]
  },
  {
   "cell_type": "code",
   "execution_count": null,
   "id": "f39eba77",
   "metadata": {},
   "outputs": [],
   "source": [
    "n = 6\n",
    "# 4"
   ]
  },
  {
   "cell_type": "code",
   "execution_count": 1,
   "id": "6f5a4cf3",
   "metadata": {
    "ExecuteTime": {
     "end_time": "2022-04-27T07:09:31.257774Z",
     "start_time": "2022-04-27T07:09:30.670525Z"
    }
   },
   "outputs": [
    {
     "name": "stdout",
     "output_type": "stream",
     "text": [
      "6\n"
     ]
    }
   ],
   "source": [
    "n = int(input())"
   ]
  },
  {
   "cell_type": "code",
   "execution_count": 2,
   "id": "52121b70",
   "metadata": {
    "ExecuteTime": {
     "end_time": "2022-04-27T07:10:31.228533Z",
     "start_time": "2022-04-27T07:10:31.222579Z"
    }
   },
   "outputs": [],
   "source": [
    "from collections import deque\n",
    "cards = deque()\n",
    "for num in range(1, n+1):\n",
    "    cards.append(num)"
   ]
  },
  {
   "cell_type": "code",
   "execution_count": 3,
   "id": "cfba06d4",
   "metadata": {
    "ExecuteTime": {
     "end_time": "2022-04-27T07:10:32.229323Z",
     "start_time": "2022-04-27T07:10:32.198821Z"
    }
   },
   "outputs": [
    {
     "data": {
      "text/plain": [
       "deque([1, 2, 3, 4, 5, 6])"
      ]
     },
     "execution_count": 3,
     "metadata": {},
     "output_type": "execute_result"
    }
   ],
   "source": [
    "cards"
   ]
  },
  {
   "cell_type": "code",
   "execution_count": 5,
   "id": "d5c2759d",
   "metadata": {
    "ExecuteTime": {
     "end_time": "2022-04-27T07:11:28.159498Z",
     "start_time": "2022-04-27T07:11:28.145843Z"
    }
   },
   "outputs": [],
   "source": [
    "for i in range(n-1):\n",
    "    cards.popleft()\n",
    "    cards.append(cards.popleft())"
   ]
  },
  {
   "cell_type": "code",
   "execution_count": 8,
   "id": "1195cfba",
   "metadata": {
    "ExecuteTime": {
     "end_time": "2022-04-27T07:11:44.153283Z",
     "start_time": "2022-04-27T07:11:44.139319Z"
    }
   },
   "outputs": [
    {
     "name": "stdout",
     "output_type": "stream",
     "text": [
      "4\n"
     ]
    }
   ],
   "source": [
    "print(cards.pop())"
   ]
  },
  {
   "cell_type": "markdown",
   "id": "6a97ec57",
   "metadata": {},
   "source": [
    "제출코드"
   ]
  },
  {
   "cell_type": "code",
   "execution_count": null,
   "id": "d36d68e6",
   "metadata": {},
   "outputs": [],
   "source": [
    "n = int(input())\n",
    "\n",
    "from collections import deque\n",
    "cards = deque()\n",
    "for num in range(1, n+1):\n",
    "    cards.append(num)\n",
    "\n",
    "for i in range(n-1):\n",
    "    cards.popleft()\n",
    "    cards.append(cards.popleft())\n",
    "\n",
    "print(cards.pop())"
   ]
  }
 ],
 "metadata": {
  "kernelspec": {
   "display_name": "Python 3",
   "language": "python",
   "name": "python3"
  },
  "language_info": {
   "codemirror_mode": {
    "name": "ipython",
    "version": 3
   },
   "file_extension": ".py",
   "mimetype": "text/x-python",
   "name": "python",
   "nbconvert_exporter": "python",
   "pygments_lexer": "ipython3",
   "version": "3.8.8"
  },
  "toc": {
   "base_numbering": 1,
   "nav_menu": {},
   "number_sections": true,
   "sideBar": true,
   "skip_h1_title": false,
   "title_cell": "Table of Contents",
   "title_sidebar": "Contents",
   "toc_cell": false,
   "toc_position": {},
   "toc_section_display": true,
   "toc_window_display": false
  },
  "varInspector": {
   "cols": {
    "lenName": 16,
    "lenType": 16,
    "lenVar": 40
   },
   "kernels_config": {
    "python": {
     "delete_cmd_postfix": "",
     "delete_cmd_prefix": "del ",
     "library": "var_list.py",
     "varRefreshCmd": "print(var_dic_list())"
    },
    "r": {
     "delete_cmd_postfix": ") ",
     "delete_cmd_prefix": "rm(",
     "library": "var_list.r",
     "varRefreshCmd": "cat(var_dic_list()) "
    }
   },
   "types_to_exclude": [
    "module",
    "function",
    "builtin_function_or_method",
    "instance",
    "_Feature"
   ],
   "window_display": false
  }
 },
 "nbformat": 4,
 "nbformat_minor": 5
}
