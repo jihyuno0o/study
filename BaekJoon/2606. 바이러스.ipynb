{
 "cells": [
  {
   "cell_type": "markdown",
   "id": "4df1542a",
   "metadata": {},
   "source": [
    "https://www.acmicpc.net/problem/2606"
   ]
  },
  {
   "cell_type": "markdown",
   "id": "8b6e841f",
   "metadata": {},
   "source": [
    "## 문제\n",
    "신종 바이러스인 웜 바이러스는 네트워크를 통해 전파된다. 한 컴퓨터가 웜 바이러스에 걸리면 그 컴퓨터와 네트워크 상에서 연결되어 있는 모든 컴퓨터는 웜 바이러스에 걸리게 된다.\n",
    "\n",
    "예를 들어 7대의 컴퓨터가 <그림 1>과 같이 네트워크 상에서 연결되어 있다고 하자. 1번 컴퓨터가 웜 바이러스에 걸리면 웜 바이러스는 2번과 5번 컴퓨터를 거쳐 3번과 6번 컴퓨터까지 전파되어 2, 3, 5, 6 네 대의 컴퓨터는 웜 바이러스에 걸리게 된다. 하지만 4번과 7번 컴퓨터는 1번 컴퓨터와 네트워크상에서 연결되어 있지 않기 때문에 영향을 받지 않는다.\n",
    "\n",
    "\n",
    "\n",
    "어느 날 1번 컴퓨터가 웜 바이러스에 걸렸다. 컴퓨터의 수와 네트워크 상에서 서로 연결되어 있는 정보가 주어질 때, 1번 컴퓨터를 통해 웜 바이러스에 걸리게 되는 컴퓨터의 수를 출력하는 프로그램을 작성하시오.\n",
    "\n",
    "## 입력\n",
    "첫째 줄에는 컴퓨터의 수가 주어진다. 컴퓨터의 수는 100 이하이고 각 컴퓨터에는 1번 부터 차례대로 번호가 매겨진다. 둘째 줄에는 네트워크 상에서 직접 연결되어 있는 컴퓨터 쌍의 수가 주어진다. 이어서 그 수만큼 한 줄에 한 쌍씩 네트워크 상에서 직접 연결되어 있는 컴퓨터의 번호 쌍이 주어진다.\n",
    "\n",
    "## 출력\n",
    "1번 컴퓨터가 웜 바이러스에 걸렸을 때, 1번 컴퓨터를 통해 웜 바이러스에 걸리게 되는 컴퓨터의 수를 첫째 줄에 출력한다."
   ]
  },
  {
   "attachments": {
    "image.png": {
     "image/png": "[encoded data removed]"
    }
   },
   "cell_type": "markdown",
   "id": "f87caeea",
   "metadata": {},
   "source": [
    "![image.png](attachment:image.png)"
   ]
  },
  {
   "cell_type": "code",
   "execution_count": 4,
   "id": "a4b1ef85",
   "metadata": {
    "ExecuteTime": {
     "end_time": "2022-05-11T08:08:30.493735Z",
     "start_time": "2022-05-11T08:08:27.354204Z"
    }
   },
   "outputs": [
    {
     "name": "stdout",
     "output_type": "stream",
     "text": [
      "7\n",
      "6\n"
     ]
    }
   ],
   "source": [
    "comp = int(input())\n",
    "node_n = int(input())\n",
    "nodes = [[0] * (comp+1) for _ in range(comp+1)]"
   ]
  },
  {
   "cell_type": "code",
   "execution_count": 5,
   "id": "43cefd66",
   "metadata": {
    "ExecuteTime": {
     "end_time": "2022-05-11T08:08:31.520751Z",
     "start_time": "2022-05-11T08:08:31.505576Z"
    }
   },
   "outputs": [
    {
     "data": {
      "text/plain": [
       "[[0, 0, 0, 0, 0, 0, 0, 0],\n",
       " [0, 0, 0, 0, 0, 0, 0, 0],\n",
       " [0, 0, 0, 0, 0, 0, 0, 0],\n",
       " [0, 0, 0, 0, 0, 0, 0, 0],\n",
       " [0, 0, 0, 0, 0, 0, 0, 0],\n",
       " [0, 0, 0, 0, 0, 0, 0, 0],\n",
       " [0, 0, 0, 0, 0, 0, 0, 0],\n",
       " [0, 0, 0, 0, 0, 0, 0, 0]]"
      ]
     },
     "execution_count": 5,
     "metadata": {},
     "output_type": "execute_result"
    }
   ],
   "source": [
    "nodes"
   ]
  },
  {
   "cell_type": "code",
   "execution_count": 6,
   "id": "33c992b5",
   "metadata": {
    "ExecuteTime": {
     "end_time": "2022-05-11T08:22:33.253062Z",
     "start_time": "2022-05-11T08:22:24.884499Z"
    }
   },
   "outputs": [
    {
     "name": "stdout",
     "output_type": "stream",
     "text": [
      "1 2\n",
      "2 3\n",
      "1 5\n",
      "5 2\n",
      "5 6\n",
      "4 7\n"
     ]
    }
   ],
   "source": [
    "for _ in range(node_n):\n",
    "    i, j = map(int, input().split())\n",
    "    nodes[i][j] = nodes[j][i] = 1"
   ]
  },
  {
   "cell_type": "code",
   "execution_count": 22,
   "id": "fca61144",
   "metadata": {
    "ExecuteTime": {
     "end_time": "2022-05-11T08:29:45.768778Z",
     "start_time": "2022-05-11T08:29:45.756878Z"
    }
   },
   "outputs": [
    {
     "data": {
      "text/plain": [
       "[[0, 0, 0, 0, 0, 0, 0, 0],\n",
       " [0, 0, 1, 0, 0, 1, 0, 0],\n",
       " [0, 1, 0, 1, 0, 1, 0, 0],\n",
       " [0, 0, 1, 0, 0, 0, 0, 0],\n",
       " [0, 0, 0, 0, 0, 0, 0, 1],\n",
       " [0, 1, 1, 0, 0, 0, 1, 0],\n",
       " [0, 0, 0, 0, 0, 1, 0, 0],\n",
       " [0, 0, 0, 0, 1, 0, 0, 0]]"
      ]
     },
     "execution_count": 22,
     "metadata": {},
     "output_type": "execute_result"
    }
   ],
   "source": [
    "nodes"
   ]
  },
  {
   "cell_type": "code",
   "execution_count": 30,
   "id": "01020243",
   "metadata": {
    "ExecuteTime": {
     "end_time": "2022-05-11T08:31:11.975711Z",
     "start_time": "2022-05-11T08:31:11.964744Z"
    }
   },
   "outputs": [],
   "source": [
    "def dfs(nodes, comp, visited, now):\n",
    "    visited[now] = 1\n",
    "    for i in range(comp+1):\n",
    "        if nodes[now][i] == 1 and visited[i] == 0:\n",
    "            dfs(nodes, comp, visited, i)"
   ]
  },
  {
   "cell_type": "code",
   "execution_count": 31,
   "id": "0721d29e",
   "metadata": {
    "ExecuteTime": {
     "end_time": "2022-05-11T08:31:17.209716Z",
     "start_time": "2022-05-11T08:31:17.196553Z"
    }
   },
   "outputs": [
    {
     "data": {
      "text/plain": [
       "[1, 0, 0, 0, 0, 0, 0, 0]"
      ]
     },
     "execution_count": 31,
     "metadata": {},
     "output_type": "execute_result"
    }
   ],
   "source": [
    "visited = [0] * (comp+1)\n",
    "visited[0] = 1\n",
    "visited"
   ]
  },
  {
   "cell_type": "code",
   "execution_count": 32,
   "id": "30457fc2",
   "metadata": {
    "ExecuteTime": {
     "end_time": "2022-05-11T08:31:23.657604Z",
     "start_time": "2022-05-11T08:31:23.652801Z"
    }
   },
   "outputs": [],
   "source": [
    "dfs(nodes, comp, visited, 1)"
   ]
  },
  {
   "cell_type": "code",
   "execution_count": 33,
   "id": "3a99d9a3",
   "metadata": {
    "ExecuteTime": {
     "end_time": "2022-05-11T08:31:35.294355Z",
     "start_time": "2022-05-11T08:31:35.284284Z"
    }
   },
   "outputs": [
    {
     "data": {
      "text/plain": [
       "6"
      ]
     },
     "execution_count": 33,
     "metadata": {},
     "output_type": "execute_result"
    }
   ],
   "source": [
    "visited.count(1) - 2"
   ]
  },
  {
   "cell_type": "markdown",
   "id": "c6d8f400",
   "metadata": {},
   "source": [
    "제출 코드"
   ]
  },
  {
   "cell_type": "code",
   "execution_count": 35,
   "id": "3e410f06",
   "metadata": {
    "ExecuteTime": {
     "end_time": "2022-05-11T08:36:31.549162Z",
     "start_time": "2022-05-11T08:36:20.898826Z"
    }
   },
   "outputs": [
    {
     "name": "stdout",
     "output_type": "stream",
     "text": [
      "7\n",
      "6\n",
      "1 2\n",
      "2 3\n",
      "1 5\n",
      "5 2\n",
      "5 6\n",
      "4 7\n",
      "4\n"
     ]
    }
   ],
   "source": [
    "def dfs(nodes, comp, visited, now):\n",
    "    visited[now] = 1\n",
    "    for i in range(comp+1):\n",
    "        if nodes[now][i] == 1 and visited[i] == 0:\n",
    "            dfs(nodes, comp, visited, i)\n",
    "\n",
    "comp = int(input())\n",
    "node_n = int(input())\n",
    "nodes = [[0] * (comp+1) for _ in range(comp+1)]\n",
    "for _ in range(node_n):\n",
    "    i, j = map(int, input().split())\n",
    "    nodes[i][j] = nodes[j][i] = 1\n",
    "    \n",
    "visited = [0] * (comp+1)\n",
    "visited[0] = 1\n",
    "\n",
    "dfs(nodes, comp, visited, 1)\n",
    "\n",
    "print(visited.count(1) - 2)"
   ]
  },
  {
   "cell_type": "code",
   "execution_count": null,
   "id": "8baaf2ee",
   "metadata": {},
   "outputs": [],
   "source": []
  }
 ],
 "metadata": {
  "kernelspec": {
   "display_name": "Python 3",
   "language": "python",
   "name": "python3"
  },
  "language_info": {
   "codemirror_mode": {
    "name": "ipython",
    "version": 3
   },
   "file_extension": ".py",
   "mimetype": "text/x-python",
   "name": "python",
   "nbconvert_exporter": "python",
   "pygments_lexer": "ipython3",
   "version": "3.8.8"
  },
  "toc": {
   "base_numbering": 1,
   "nav_menu": {},
   "number_sections": true,
   "sideBar": true,
   "skip_h1_title": false,
   "title_cell": "Table of Contents",
   "title_sidebar": "Contents",
   "toc_cell": false,
   "toc_position": {},
   "toc_section_display": true,
   "toc_window_display": false
  },
  "varInspector": {
   "cols": {
    "lenName": 16,
    "lenType": 16,
    "lenVar": 40
   },
   "kernels_config": {
    "python": {
     "delete_cmd_postfix": "",
     "delete_cmd_prefix": "del ",
     "library": "var_list.py",
     "varRefreshCmd": "print(var_dic_list())"
    },
    "r": {
     "delete_cmd_postfix": ") ",
     "delete_cmd_prefix": "rm(",
     "library": "var_list.r",
     "varRefreshCmd": "cat(var_dic_list()) "
    }
   },
   "types_to_exclude": [
    "module",
    "function",
    "builtin_function_or_method",
    "instance",
    "_Feature"
   ],
   "window_display": false
  }
 },
 "nbformat": 4,
 "nbformat_minor": 5
}
