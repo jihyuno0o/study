{
 "cells": [
  {
   "cell_type": "markdown",
   "id": "5338bdad",
   "metadata": {},
   "source": [
    "https://www.acmicpc.net/problem/15059"
   ]
  },
  {
   "cell_type": "markdown",
   "id": "04da6580",
   "metadata": {},
   "source": [
    "## 문제\n",
    "In long flights, airlines offer hot meals. Usually the flight attendants push carts containing the meals down along the aisles of the plane. When a cart reaches your row, you are asked right away: “Chicken, beef, or pasta?” You know your choices, but you have only a few seconds to choose and you don’t know how your choice will look like because your neighbor hasn’t opened his wrap yet. . .\n",
    "\n",
    "The flight attendant in this flight decided to change the procedure. First she will ask all passengers what choice of meal they would prefer, and then she will check if the number of meals available in this flight for each choice are enough.\n",
    "\n",
    "As an example, consider that the available number of meals for chicken, beef and pasta are respectively (80, 20, 40), while the number of passenger’s choices for chicken, beef and pasta are respectively (45, 23, 48). In this case, eleven people will surely not receive their selection for a meal, since three passengers who wanted beef and eight passengers who wanted pasta cannot be pleased.\n",
    "\n",
    "Given the quantity of meals available for each choice and the number of meals requested for each choice, could you please help the flight attendant to determine how many passengers will surely not receive their selection for a meal?\n",
    "\n",
    "## 입력\n",
    "The first line contains three integers Ca, Ba and Pa (0 ≤ Ca, Ba, Pa ≤ 100), representing respectively the number of meals available for chicken, beef and pasta. The second line contains three integers Cr, Br and Pr (0 ≤ Cr, Br, Pr ≤ 100), indicating respectively the number of meals requested for chicken, beef and pasta.\n",
    "\n",
    "## 출력\n",
    "Output a single line with an integer representing the number of passengers that will surely not receive their selection for a meal."
   ]
  },
  {
   "cell_type": "code",
   "execution_count": 4,
   "id": "c758a7c0",
   "metadata": {
    "ExecuteTime": {
     "end_time": "2022-04-26T06:03:17.473766Z",
     "start_time": "2022-04-26T06:03:14.450612Z"
    }
   },
   "outputs": [
    {
     "name": "stdout",
     "output_type": "stream",
     "text": [
      "80 20 40\n"
     ]
    }
   ],
   "source": [
    "possible = list(map(int, input().split()))"
   ]
  },
  {
   "cell_type": "code",
   "execution_count": 5,
   "id": "483d0cc3",
   "metadata": {
    "ExecuteTime": {
     "end_time": "2022-04-26T06:03:18.780581Z",
     "start_time": "2022-04-26T06:03:18.760179Z"
    }
   },
   "outputs": [
    {
     "data": {
      "text/plain": [
       "[80, 20, 40]"
      ]
     },
     "execution_count": 5,
     "metadata": {},
     "output_type": "execute_result"
    }
   ],
   "source": [
    "possible"
   ]
  },
  {
   "cell_type": "code",
   "execution_count": 6,
   "id": "5e31adf1",
   "metadata": {
    "ExecuteTime": {
     "end_time": "2022-04-26T06:03:47.392041Z",
     "start_time": "2022-04-26T06:03:43.429524Z"
    }
   },
   "outputs": [
    {
     "name": "stdout",
     "output_type": "stream",
     "text": [
      "45 23 48\n"
     ]
    }
   ],
   "source": [
    "choice = list(map(int, input().split()))"
   ]
  },
  {
   "cell_type": "code",
   "execution_count": 7,
   "id": "63105d00",
   "metadata": {
    "ExecuteTime": {
     "end_time": "2022-04-26T06:03:48.964104Z",
     "start_time": "2022-04-26T06:03:48.956721Z"
    }
   },
   "outputs": [
    {
     "data": {
      "text/plain": [
       "[45, 23, 48]"
      ]
     },
     "execution_count": 7,
     "metadata": {},
     "output_type": "execute_result"
    }
   ],
   "source": [
    "choice"
   ]
  },
  {
   "cell_type": "code",
   "execution_count": 8,
   "id": "c43dd3b0",
   "metadata": {
    "ExecuteTime": {
     "end_time": "2022-04-26T06:04:39.916716Z",
     "start_time": "2022-04-26T06:04:39.908040Z"
    }
   },
   "outputs": [],
   "source": [
    "answer = 0\n",
    "for pos, cho in zip(possible, choice):\n",
    "    if pos < cho: answer += (cho - pos)"
   ]
  },
  {
   "cell_type": "code",
   "execution_count": 9,
   "id": "9706c166",
   "metadata": {
    "ExecuteTime": {
     "end_time": "2022-04-26T06:04:40.988873Z",
     "start_time": "2022-04-26T06:04:40.967425Z"
    }
   },
   "outputs": [
    {
     "data": {
      "text/plain": [
       "11"
      ]
     },
     "execution_count": 9,
     "metadata": {},
     "output_type": "execute_result"
    }
   ],
   "source": [
    "answer"
   ]
  },
  {
   "cell_type": "markdown",
   "id": "2e05a3e1",
   "metadata": {},
   "source": [
    "제출 코드"
   ]
  },
  {
   "cell_type": "code",
   "execution_count": null,
   "id": "0a876024",
   "metadata": {},
   "outputs": [],
   "source": [
    "possible = list(map(int, input().split()))\n",
    "choice = list(map(int, input().split()))\n",
    "\n",
    "answer = 0\n",
    "for pos, cho in zip(possible, choice):\n",
    "    if pos < cho: answer += (cho - pos)\n",
    "        \n",
    "print(answer)"
   ]
  }
 ],
 "metadata": {
  "kernelspec": {
   "display_name": "Python 3",
   "language": "python",
   "name": "python3"
  },
  "language_info": {
   "codemirror_mode": {
    "name": "ipython",
    "version": 3
   },
   "file_extension": ".py",
   "mimetype": "text/x-python",
   "name": "python",
   "nbconvert_exporter": "python",
   "pygments_lexer": "ipython3",
   "version": "3.8.8"
  },
  "toc": {
   "base_numbering": 1,
   "nav_menu": {},
   "number_sections": true,
   "sideBar": true,
   "skip_h1_title": false,
   "title_cell": "Table of Contents",
   "title_sidebar": "Contents",
   "toc_cell": false,
   "toc_position": {},
   "toc_section_display": true,
   "toc_window_display": false
  },
  "varInspector": {
   "cols": {
    "lenName": 16,
    "lenType": 16,
    "lenVar": 40
   },
   "kernels_config": {
    "python": {
     "delete_cmd_postfix": "",
     "delete_cmd_prefix": "del ",
     "library": "var_list.py",
     "varRefreshCmd": "print(var_dic_list())"
    },
    "r": {
     "delete_cmd_postfix": ") ",
     "delete_cmd_prefix": "rm(",
     "library": "var_list.r",
     "varRefreshCmd": "cat(var_dic_list()) "
    }
   },
   "types_to_exclude": [
    "module",
    "function",
    "builtin_function_or_method",
    "instance",
    "_Feature"
   ],
   "window_display": false
  }
 },
 "nbformat": 4,
 "nbformat_minor": 5
}
