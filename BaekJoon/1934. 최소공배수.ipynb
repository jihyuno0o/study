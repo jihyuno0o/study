{
 "cells": [
  {
   "cell_type": "markdown",
   "id": "a3fbd3c8",
   "metadata": {},
   "source": [
    "https://www.acmicpc.net/problem/1934"
   ]
  },
  {
   "cell_type": "markdown",
   "id": "e28dfaff",
   "metadata": {},
   "source": [
    "## 문제\n",
    "두 자연수 A와 B에 대해서, A의 배수이면서 B의 배수인 자연수를 A와 B의 공배수라고 한다. 이런 공배수 중에서 가장 작은 수를 최소공배수라고 한다. 예를 들어, 6과 15의 공배수는 30, 60, 90등이 있으며, 최소 공배수는 30이다.\n",
    "\n",
    "두 자연수 A와 B가 주어졌을 때, A와 B의 최소공배수를 구하는 프로그램을 작성하시오.\n",
    "\n",
    "## 입력\n",
    "첫째 줄에 테스트 케이스의 개수 T(1 ≤ T ≤ 1,000)가 주어진다. 둘째 줄부터 T개의 줄에 걸쳐서 A와 B가 주어진다. (1 ≤ A, B ≤ 45,000)\n",
    "\n",
    "## 출력\n",
    "첫째 줄부터 T개의 줄에 A와 B의 최소공배수를 입력받은 순서대로 한 줄에 하나씩 출력한다."
   ]
  },
  {
   "attachments": {
    "image.png": {
     "image/png": "[encoded data removed]"
    }
   },
   "cell_type": "markdown",
   "id": "f43043a4",
   "metadata": {},
   "source": [
    "![image.png](attachment:image.png)"
   ]
  },
  {
   "cell_type": "code",
   "execution_count": 1,
   "id": "d27c0a18",
   "metadata": {
    "ExecuteTime": {
     "end_time": "2022-05-02T05:35:15.594182Z",
     "start_time": "2022-05-02T05:35:14.042196Z"
    }
   },
   "outputs": [
    {
     "name": "stdout",
     "output_type": "stream",
     "text": [
      "3\n"
     ]
    }
   ],
   "source": [
    "t = int(input())"
   ]
  },
  {
   "cell_type": "code",
   "execution_count": 2,
   "id": "22648123",
   "metadata": {
    "ExecuteTime": {
     "end_time": "2022-05-02T05:37:04.789027Z",
     "start_time": "2022-05-02T05:37:04.778019Z"
    }
   },
   "outputs": [],
   "source": [
    "def LCM(a, b):\n",
    "    import math\n",
    "    G = math.gcd(a,b)\n",
    "    return a*b // G"
   ]
  },
  {
   "cell_type": "code",
   "execution_count": 7,
   "id": "10c01c20",
   "metadata": {
    "ExecuteTime": {
     "end_time": "2022-05-02T05:39:47.986879Z",
     "start_time": "2022-05-02T05:39:39.516401Z"
    }
   },
   "outputs": [
    {
     "name": "stdout",
     "output_type": "stream",
     "text": [
      "1 45000\n",
      "45000\n",
      "6 10\n",
      "30\n",
      "13 17\n",
      "221\n"
     ]
    }
   ],
   "source": [
    "for i in range(t):\n",
    "    a, b = map(int, input().split())\n",
    "    print(LCM(a,b))"
   ]
  },
  {
   "cell_type": "code",
   "execution_count": 6,
   "id": "3d9f00bb",
   "metadata": {
    "ExecuteTime": {
     "end_time": "2022-05-02T05:39:34.666657Z",
     "start_time": "2022-05-02T05:39:34.659011Z"
    }
   },
   "outputs": [],
   "source": [
    "## math 사용 안한거\n",
    "def LCM(a, b):\n",
    "    if a > b:\n",
    "        a, b = b, a\n",
    "    for i in range(a, 0, -1):\n",
    "        if a % i ==0  and b % i == 0:\n",
    "            return a * b // i"
   ]
  },
  {
   "cell_type": "markdown",
   "id": "1831a345",
   "metadata": {},
   "source": [
    "제출코드"
   ]
  },
  {
   "cell_type": "code",
   "execution_count": null,
   "id": "52a09ddb",
   "metadata": {},
   "outputs": [],
   "source": [
    "def LCM(a, b):\n",
    "    import math\n",
    "    G = math.gcd(a,b)\n",
    "    return a*b // G\n",
    "\n",
    "## math 사용 안한거\n",
    "#def LCM(a, b):\n",
    "#    if a > b:\n",
    "#        a, b = b, a\n",
    "#    for i in range(a, 0, -1):\n",
    "#        if a % i ==0  and b % i == 0:\n",
    "#            return a * b // i\n",
    "\n",
    "t = int(input())\n",
    "for i in range(t):\n",
    "    a, b = map(int, input().split())\n",
    "    print(LCM(a,b))"
   ]
  }
 ],
 "metadata": {
  "kernelspec": {
   "display_name": "Python 3",
   "language": "python",
   "name": "python3"
  },
  "language_info": {
   "codemirror_mode": {
    "name": "ipython",
    "version": 3
   },
   "file_extension": ".py",
   "mimetype": "text/x-python",
   "name": "python",
   "nbconvert_exporter": "python",
   "pygments_lexer": "ipython3",
   "version": "3.8.8"
  },
  "toc": {
   "base_numbering": 1,
   "nav_menu": {},
   "number_sections": true,
   "sideBar": true,
   "skip_h1_title": false,
   "title_cell": "Table of Contents",
   "title_sidebar": "Contents",
   "toc_cell": false,
   "toc_position": {},
   "toc_section_display": true,
   "toc_window_display": false
  },
  "varInspector": {
   "cols": {
    "lenName": 16,
    "lenType": 16,
    "lenVar": 40
   },
   "kernels_config": {
    "python": {
     "delete_cmd_postfix": "",
     "delete_cmd_prefix": "del ",
     "library": "var_list.py",
     "varRefreshCmd": "print(var_dic_list())"
    },
    "r": {
     "delete_cmd_postfix": ") ",
     "delete_cmd_prefix": "rm(",
     "library": "var_list.r",
     "varRefreshCmd": "cat(var_dic_list()) "
    }
   },
   "types_to_exclude": [
    "module",
    "function",
    "builtin_function_or_method",
    "instance",
    "_Feature"
   ],
   "window_display": false
  }
 },
 "nbformat": 4,
 "nbformat_minor": 5
}
