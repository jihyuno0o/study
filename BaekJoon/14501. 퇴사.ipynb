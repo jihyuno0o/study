{
 "cells": [
  {
   "cell_type": "markdown",
   "id": "00d2cb08",
   "metadata": {},
   "source": [
    "https://www.acmicpc.net/problem/14501"
   ]
  },
  {
   "attachments": {
    "image.png": {
     "image/png": "[encoded data removed]"
    }
   },
   "cell_type": "markdown",
   "id": "e5691531",
   "metadata": {},
   "source": [
    "## 문제\n",
    "상담원으로 일하고 있는 백준이는 퇴사를 하려고 한다.\n",
    "\n",
    "오늘부터 N+1일째 되는 날 퇴사를 하기 위해서, 남은 N일 동안 최대한 많은 상담을 하려고 한다.\n",
    "\n",
    "백준이는 비서에게 최대한 많은 상담을 잡으라고 부탁을 했고, 비서는 하루에 하나씩 서로 다른 사람의 상담을 잡아놓았다.\n",
    "\n",
    "각각의 상담은 상담을 완료하는데 걸리는 기간 Ti와 상담을 했을 때 받을 수 있는 금액 Pi로 이루어져 있다.\n",
    "\n",
    "N = 7인 경우에 다음과 같은 상담 일정표를 보자.\n",
    "![image.png](attachment:image.png)\n",
    "1일에 잡혀있는 상담은 총 3일이 걸리며, 상담했을 때 받을 수 있는 금액은 10이다. 5일에 잡혀있는 상담은 총 2일이 걸리며, 받을 수 있는 금액은 15이다.\n",
    "\n",
    "상담을 하는데 필요한 기간은 1일보다 클 수 있기 때문에, 모든 상담을 할 수는 없다. 예를 들어서 1일에 상담을 하게 되면, 2일, 3일에 있는 상담은 할 수 없게 된다. 2일에 있는 상담을 하게 되면, 3, 4, 5, 6일에 잡혀있는 상담은 할 수 없다.\n",
    "\n",
    "또한, N+1일째에는 회사에 없기 때문에, 6, 7일에 있는 상담을 할 수 없다.\n",
    "\n",
    "퇴사 전에 할 수 있는 상담의 최대 이익은 1일, 4일, 5일에 있는 상담을 하는 것이며, 이때의 이익은 10+20+15=45이다.\n",
    "\n",
    "상담을 적절히 했을 때, 백준이가 얻을 수 있는 최대 수익을 구하는 프로그램을 작성하시오.\n",
    "\n",
    "## 입력\n",
    "첫째 줄에 N (1 ≤ N ≤ 15)이 주어진다.\n",
    "\n",
    "둘째 줄부터 N개의 줄에 Ti와 Pi가 공백으로 구분되어서 주어지며, 1일부터 N일까지 순서대로 주어진다. (1 ≤ Ti ≤ 5, 1 ≤ Pi ≤ 1,000)\n",
    "\n",
    "## 출력\n",
    "첫째 줄에 백준이가 얻을 수 있는 최대 이익을 출력한다."
   ]
  },
  {
   "cell_type": "code",
   "execution_count": 12,
   "id": "0b5c57e4",
   "metadata": {
    "ExecuteTime": {
     "end_time": "2022-05-18T06:07:52.770117Z",
     "start_time": "2022-05-18T06:07:39.203857Z"
    }
   },
   "outputs": [
    {
     "name": "stdout",
     "output_type": "stream",
     "text": [
      "7\n",
      "3 10\n",
      "5 20\n",
      "1 10\n",
      "1 20\n",
      "2 15\n",
      "4 40\n",
      "2 200\n"
     ]
    }
   ],
   "source": [
    "T = []\n",
    "P = []\n",
    "DP = []\n",
    "n = int(input())\n",
    "for _ in range(n):\n",
    "    t, p = map(int, input().split())\n",
    "    T.append(t)\n",
    "    P.append(p)\n",
    "    DP.append(p)\n",
    "DP.append(0)"
   ]
  },
  {
   "cell_type": "code",
   "execution_count": 13,
   "id": "221ddf56",
   "metadata": {
    "ExecuteTime": {
     "end_time": "2022-05-18T06:07:52.785324Z",
     "start_time": "2022-05-18T06:07:52.772111Z"
    }
   },
   "outputs": [
    {
     "data": {
      "text/plain": [
       "([3, 5, 1, 1, 2, 4, 2],\n",
       " [10, 20, 10, 20, 15, 40, 200],\n",
       " [10, 20, 10, 20, 15, 40, 200, 0])"
      ]
     },
     "execution_count": 13,
     "metadata": {},
     "output_type": "execute_result"
    }
   ],
   "source": [
    "T, P , DP"
   ]
  },
  {
   "cell_type": "code",
   "execution_count": 14,
   "id": "7895b6ef",
   "metadata": {
    "ExecuteTime": {
     "end_time": "2022-05-18T06:07:54.673508Z",
     "start_time": "2022-05-18T06:07:54.669520Z"
    }
   },
   "outputs": [],
   "source": [
    "for i in range(n-1, -1, -1):\n",
    "    if i + T[i] > n:\n",
    "        DP[i] = DP[i+1]\n",
    "    else:\n",
    "        DP[i] = max(DP[i+1], P[i] + DP[i+T[i]])"
   ]
  },
  {
   "cell_type": "code",
   "execution_count": 15,
   "id": "cd10bfc3",
   "metadata": {
    "ExecuteTime": {
     "end_time": "2022-05-18T06:07:55.226329Z",
     "start_time": "2022-05-18T06:07:55.217355Z"
    }
   },
   "outputs": [
    {
     "data": {
      "text/plain": [
       "[45, 45, 45, 35, 15, 0, 0, 0]"
      ]
     },
     "execution_count": 15,
     "metadata": {},
     "output_type": "execute_result"
    }
   ],
   "source": [
    "DP"
   ]
  },
  {
   "cell_type": "markdown",
   "id": "49190e3a",
   "metadata": {},
   "source": [
    "제출코드"
   ]
  },
  {
   "cell_type": "code",
   "execution_count": null,
   "id": "1840d669",
   "metadata": {},
   "outputs": [],
   "source": [
    "T = []\n",
    "P = []\n",
    "DP = []\n",
    "n = int(input())\n",
    "for _ in range(n):\n",
    "    t, p = map(int, input().split())\n",
    "    T.append(t)\n",
    "    P.append(p)\n",
    "    DP.append(p)\n",
    "DP.append(0)\n",
    "\n",
    "for i in range(n-1, -1, -1): # 뒤에서부터 가장 큰 값이 되도록 저장\n",
    "    if i + T[i] > n:\n",
    "        DP[i] = DP[i+1]\n",
    "    else:\n",
    "        DP[i] = max(DP[i+1], P[i] + DP[i+T[i]])\n",
    "print(DP[0])"
   ]
  }
 ],
 "metadata": {
  "kernelspec": {
   "display_name": "Python 3",
   "language": "python",
   "name": "python3"
  },
  "language_info": {
   "codemirror_mode": {
    "name": "ipython",
    "version": 3
   },
   "file_extension": ".py",
   "mimetype": "text/x-python",
   "name": "python",
   "nbconvert_exporter": "python",
   "pygments_lexer": "ipython3",
   "version": "3.8.8"
  },
  "toc": {
   "base_numbering": 1,
   "nav_menu": {},
   "number_sections": true,
   "sideBar": true,
   "skip_h1_title": false,
   "title_cell": "Table of Contents",
   "title_sidebar": "Contents",
   "toc_cell": false,
   "toc_position": {},
   "toc_section_display": true,
   "toc_window_display": false
  },
  "varInspector": {
   "cols": {
    "lenName": 16,
    "lenType": 16,
    "lenVar": 40
   },
   "kernels_config": {
    "python": {
     "delete_cmd_postfix": "",
     "delete_cmd_prefix": "del ",
     "library": "var_list.py",
     "varRefreshCmd": "print(var_dic_list())"
    },
    "r": {
     "delete_cmd_postfix": ") ",
     "delete_cmd_prefix": "rm(",
     "library": "var_list.r",
     "varRefreshCmd": "cat(var_dic_list()) "
    }
   },
   "types_to_exclude": [
    "module",
    "function",
    "builtin_function_or_method",
    "instance",
    "_Feature"
   ],
   "window_display": false
  }
 },
 "nbformat": 4,
 "nbformat_minor": 5
}
