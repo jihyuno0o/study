{
 "cells": [
  {
   "cell_type": "markdown",
   "id": "57976645",
   "metadata": {},
   "source": [
    "https://www.acmicpc.net/problem/1439"
   ]
  },
  {
   "cell_type": "markdown",
   "id": "79397466",
   "metadata": {
    "ExecuteTime": {
     "end_time": "2022-05-04T08:02:58.595769Z",
     "start_time": "2022-05-04T08:02:58.581773Z"
    }
   },
   "source": [
    "## 문제\n",
    "다솜이는 0과 1로만 이루어진 문자열 S를 가지고 있다. 다솜이는 이 문자열 S에 있는 모든 숫자를 전부 같게 만들려고 한다. 다솜이가 할 수 있는 행동은 S에서 연속된 하나 이상의 숫자를 잡고 모두 뒤집는 것이다. 뒤집는 것은 1을 0으로, 0을 1로 바꾸는 것을 의미한다.\n",
    "\n",
    "예를 들어 S=0001100 일 때,\n",
    "\n",
    "1. 전체를 뒤집으면 1110011이 된다.\n",
    "2. 4번째 문자부터 5번째 문자까지 뒤집으면 1111111이 되어서 2번 만에 모두 같은 숫자로 만들 수 있다.\n",
    "\n",
    "하지만, 처음부터 4번째 문자부터 5번째 문자까지 문자를 뒤집으면 한 번에 0000000이 되어서 1번 만에 모두 같은 숫자로 만들 수 있다.\n",
    "\n",
    "문자열 S가 주어졌을 때, 다솜이가 해야하는 행동의 최소 횟수를 출력하시오.\n",
    "\n",
    "## 입력\n",
    "첫째 줄에 문자열 S가 주어진다. S의 길이는 100만보다 작다.\n",
    "\n",
    "## 출력\n",
    "첫째 줄에 다솜이가 해야하는 행동의 최소 횟수를 출력한다."
   ]
  },
  {
   "cell_type": "code",
   "execution_count": 19,
   "id": "1b83a9e3",
   "metadata": {
    "ExecuteTime": {
     "end_time": "2022-05-04T08:08:23.802980Z",
     "start_time": "2022-05-04T08:08:16.927522Z"
    },
    "scrolled": true
   },
   "outputs": [
    {
     "name": "stdout",
     "output_type": "stream",
     "text": [
      "11001100110011000001\n"
     ]
    }
   ],
   "source": [
    "s = list(map(int, str(input())))"
   ]
  },
  {
   "cell_type": "code",
   "execution_count": 20,
   "id": "cccf786a",
   "metadata": {
    "ExecuteTime": {
     "end_time": "2022-05-04T08:08:24.143404Z",
     "start_time": "2022-05-04T08:08:24.126419Z"
    }
   },
   "outputs": [
    {
     "data": {
      "text/plain": [
       "[1, 1, 0, 0, 1, 1, 0, 0, 1, 1, 0, 0, 1, 1, 0, 0, 0, 0, 0, 1]"
      ]
     },
     "execution_count": 20,
     "metadata": {},
     "output_type": "execute_result"
    }
   ],
   "source": [
    "s"
   ]
  },
  {
   "cell_type": "code",
   "execution_count": 21,
   "id": "d8b82436",
   "metadata": {
    "ExecuteTime": {
     "end_time": "2022-05-04T08:08:24.427854Z",
     "start_time": "2022-05-04T08:08:24.416893Z"
    }
   },
   "outputs": [],
   "source": [
    "cnt = [0,0] # 0 과 1의 묶음 개수를 셈"
   ]
  },
  {
   "cell_type": "code",
   "execution_count": 22,
   "id": "bec4c1e8",
   "metadata": {
    "ExecuteTime": {
     "end_time": "2022-05-04T08:08:24.870281Z",
     "start_time": "2022-05-04T08:08:24.850869Z"
    }
   },
   "outputs": [],
   "source": [
    "now = -1\n",
    "for ss in s:\n",
    "    if now == ss:\n",
    "        continue\n",
    "    else:\n",
    "        now = ss\n",
    "        cnt[now] = cnt[now] + 1 # 0 과 1 이 바뀔 때 +1        "
   ]
  },
  {
   "cell_type": "code",
   "execution_count": 23,
   "id": "598dbdf4",
   "metadata": {
    "ExecuteTime": {
     "end_time": "2022-05-04T08:08:25.322589Z",
     "start_time": "2022-05-04T08:08:25.306161Z"
    }
   },
   "outputs": [
    {
     "data": {
      "text/plain": [
       "4"
      ]
     },
     "execution_count": 23,
     "metadata": {},
     "output_type": "execute_result"
    }
   ],
   "source": [
    "min(cnt)"
   ]
  },
  {
   "cell_type": "markdown",
   "id": "8183118d",
   "metadata": {},
   "source": [
    "제출코드"
   ]
  },
  {
   "cell_type": "code",
   "execution_count": null,
   "id": "38827154",
   "metadata": {},
   "outputs": [],
   "source": [
    "s = list(map(int, str(input())))\n",
    "cnt = [0,0] # 0 과 1의 묶음 개수를 셈\n",
    "now = -1\n",
    "for ss in s:\n",
    "    if now == ss:\n",
    "        continue\n",
    "    else:\n",
    "        now = ss\n",
    "        cnt[now] = cnt[now] + 1 # 0 과 1 이 바뀔 때 +1\n",
    "print(min(cnt))"
   ]
  }
 ],
 "metadata": {
  "kernelspec": {
   "display_name": "Python 3",
   "language": "python",
   "name": "python3"
  },
  "language_info": {
   "codemirror_mode": {
    "name": "ipython",
    "version": 3
   },
   "file_extension": ".py",
   "mimetype": "text/x-python",
   "name": "python",
   "nbconvert_exporter": "python",
   "pygments_lexer": "ipython3",
   "version": "3.8.8"
  },
  "toc": {
   "base_numbering": 1,
   "nav_menu": {},
   "number_sections": true,
   "sideBar": true,
   "skip_h1_title": false,
   "title_cell": "Table of Contents",
   "title_sidebar": "Contents",
   "toc_cell": false,
   "toc_position": {},
   "toc_section_display": true,
   "toc_window_display": false
  },
  "varInspector": {
   "cols": {
    "lenName": 16,
    "lenType": 16,
    "lenVar": 40
   },
   "kernels_config": {
    "python": {
     "delete_cmd_postfix": "",
     "delete_cmd_prefix": "del ",
     "library": "var_list.py",
     "varRefreshCmd": "print(var_dic_list())"
    },
    "r": {
     "delete_cmd_postfix": ") ",
     "delete_cmd_prefix": "rm(",
     "library": "var_list.r",
     "varRefreshCmd": "cat(var_dic_list()) "
    }
   },
   "types_to_exclude": [
    "module",
    "function",
    "builtin_function_or_method",
    "instance",
    "_Feature"
   ],
   "window_display": false
  }
 },
 "nbformat": 4,
 "nbformat_minor": 5
}
