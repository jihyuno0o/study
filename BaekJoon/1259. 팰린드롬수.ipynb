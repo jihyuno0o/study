{
 "cells": [
  {
   "cell_type": "markdown",
   "id": "240e6e40",
   "metadata": {},
   "source": [
    "https://www.acmicpc.net/problem/1259"
   ]
  },
  {
   "cell_type": "markdown",
   "id": "671fab8f",
   "metadata": {},
   "source": [
    "## 문제\n",
    "어떤 단어를 뒤에서부터 읽어도 똑같다면 그 단어를 팰린드롬이라고 한다. 'radar', 'sees'는 팰린드롬이다.\n",
    "\n",
    "수도 팰린드롬으로 취급할 수 있다. 수의 숫자들을 뒤에서부터 읽어도 같다면 그 수는 팰린드롬수다. 121, 12421 등은 팰린드롬수다. 123, 1231은 뒤에서부터 읽으면 다르므로 팰린드롬수가 아니다. 또한 10도 팰린드롬수가 아닌데, 앞에 무의미한 0이 올 수 있다면 010이 되어 팰린드롬수로 취급할 수도 있지만, 특별히 이번 문제에서는 무의미한 0이 앞에 올 수 없다고 하자.\n",
    "\n",
    "## 입력\n",
    "입력은 여러 개의 테스트 케이스로 이루어져 있으며, 각 줄마다 1 이상 99999 이하의 정수가 주어진다. 입력의 마지막 줄에는 0이 주어지며, 이 줄은 문제에 포함되지 않는다.\n",
    "\n",
    "## 출력\n",
    "각 줄마다 주어진 수가 팰린드롬수면 'yes', 아니면 'no'를 출력한다."
   ]
  },
  {
   "attachments": {
    "image.png": {
     "image/png": "[encoded data removed]"
    }
   },
   "cell_type": "markdown",
   "id": "412ff31e",
   "metadata": {},
   "source": [
    "![image.png](attachment:image.png)"
   ]
  },
  {
   "cell_type": "code",
   "execution_count": 26,
   "id": "90987f7f",
   "metadata": {
    "ExecuteTime": {
     "end_time": "2022-05-04T07:28:42.044549Z",
     "start_time": "2022-05-04T07:28:35.210253Z"
    }
   },
   "outputs": [
    {
     "name": "stdout",
     "output_type": "stream",
     "text": [
      "121\n",
      "yes\n",
      "1231\n",
      "no\n",
      "12421\n",
      "yes\n",
      "0\n"
     ]
    }
   ],
   "source": [
    "while True:\n",
    "    after = list(str(input())) # 입력받기\n",
    "    if after[0] == '0':\n",
    "        break\n",
    "    else:       \n",
    "        before = [n for n in after] # copy\n",
    "        after.reverse() # 뒤집기\n",
    "        if before == after:\n",
    "            print('yes')\n",
    "        else:\n",
    "            print('no')"
   ]
  },
  {
   "cell_type": "code",
   "execution_count": null,
   "id": "b5d8e977",
   "metadata": {},
   "outputs": [],
   "source": []
  }
 ],
 "metadata": {
  "kernelspec": {
   "display_name": "Python 3",
   "language": "python",
   "name": "python3"
  },
  "language_info": {
   "codemirror_mode": {
    "name": "ipython",
    "version": 3
   },
   "file_extension": ".py",
   "mimetype": "text/x-python",
   "name": "python",
   "nbconvert_exporter": "python",
   "pygments_lexer": "ipython3",
   "version": "3.8.8"
  },
  "toc": {
   "base_numbering": 1,
   "nav_menu": {},
   "number_sections": true,
   "sideBar": true,
   "skip_h1_title": false,
   "title_cell": "Table of Contents",
   "title_sidebar": "Contents",
   "toc_cell": false,
   "toc_position": {},
   "toc_section_display": true,
   "toc_window_display": false
  },
  "varInspector": {
   "cols": {
    "lenName": 16,
    "lenType": 16,
    "lenVar": 40
   },
   "kernels_config": {
    "python": {
     "delete_cmd_postfix": "",
     "delete_cmd_prefix": "del ",
     "library": "var_list.py",
     "varRefreshCmd": "print(var_dic_list())"
    },
    "r": {
     "delete_cmd_postfix": ") ",
     "delete_cmd_prefix": "rm(",
     "library": "var_list.r",
     "varRefreshCmd": "cat(var_dic_list()) "
    }
   },
   "types_to_exclude": [
    "module",
    "function",
    "builtin_function_or_method",
    "instance",
    "_Feature"
   ],
   "window_display": false
  }
 },
 "nbformat": 4,
 "nbformat_minor": 5
}
