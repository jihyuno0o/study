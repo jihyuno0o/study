{
 "cells": [
  {
   "cell_type": "markdown",
   "id": "5e84961d",
   "metadata": {},
   "source": [
    "https://www.acmicpc.net/problem/1193"
   ]
  },
  {
   "attachments": {
    "image.png": {
     "image/png": "[encoded data removed]"
    }
   },
   "cell_type": "markdown",
   "id": "ef924a04",
   "metadata": {},
   "source": [
    "## 문제\n",
    "무한히 큰 배열에 다음과 같이 분수들이 적혀있다.\n",
    "![image.png](attachment:image.png)\n",
    "이와 같이 나열된 분수들을 1/1 → 1/2 → 2/1 → 3/1 → 2/2 → … 과 같은 지그재그 순서로 차례대로 1번, 2번, 3번, 4번, 5번, … 분수라고 하자.\n",
    "\n",
    "X가 주어졌을 때, X번째 분수를 구하는 프로그램을 작성하시오.\n",
    "\n",
    "## 입력\n",
    "첫째 줄에 X(1 ≤ X ≤ 10,000,000)가 주어진다.\n",
    "\n",
    "## 출력\n",
    "첫째 줄에 분수를 출력한다."
   ]
  },
  {
   "cell_type": "code",
   "execution_count": 75,
   "id": "2ecee138",
   "metadata": {
    "ExecuteTime": {
     "end_time": "2022-05-18T06:43:02.810667Z",
     "start_time": "2022-05-18T06:43:02.142456Z"
    },
    "scrolled": true
   },
   "outputs": [
    {
     "name": "stdout",
     "output_type": "stream",
     "text": [
      "8\n"
     ]
    }
   ],
   "source": [
    "n = int(input())"
   ]
  },
  {
   "cell_type": "code",
   "execution_count": 76,
   "id": "20a56b1b",
   "metadata": {
    "ExecuteTime": {
     "end_time": "2022-05-18T06:43:03.000161Z",
     "start_time": "2022-05-18T06:43:02.986199Z"
    }
   },
   "outputs": [],
   "source": [
    "minus = 1\n",
    "cnt = 1\n",
    "while True:\n",
    "    if n - minus > 0:\n",
    "        cnt += 1\n",
    "        n = n - minus\n",
    "        minus += 1\n",
    "    else:\n",
    "        break"
   ]
  },
  {
   "cell_type": "code",
   "execution_count": 77,
   "id": "6c38f7bb",
   "metadata": {
    "ExecuteTime": {
     "end_time": "2022-05-18T06:43:03.204614Z",
     "start_time": "2022-05-18T06:43:03.198632Z"
    }
   },
   "outputs": [
    {
     "data": {
      "text/plain": [
       "4"
      ]
     },
     "execution_count": 77,
     "metadata": {},
     "output_type": "execute_result"
    }
   ],
   "source": [
    "minus"
   ]
  },
  {
   "cell_type": "code",
   "execution_count": 78,
   "id": "bd5a11e9",
   "metadata": {
    "ExecuteTime": {
     "end_time": "2022-05-18T06:43:03.441302Z",
     "start_time": "2022-05-18T06:43:03.430331Z"
    }
   },
   "outputs": [
    {
     "data": {
      "text/plain": [
       "4"
      ]
     },
     "execution_count": 78,
     "metadata": {},
     "output_type": "execute_result"
    }
   ],
   "source": [
    "cnt"
   ]
  },
  {
   "cell_type": "code",
   "execution_count": 79,
   "id": "8da33ecb",
   "metadata": {
    "ExecuteTime": {
     "end_time": "2022-05-18T06:43:04.693988Z",
     "start_time": "2022-05-18T06:43:04.684017Z"
    }
   },
   "outputs": [
    {
     "data": {
      "text/plain": [
       "2"
      ]
     },
     "execution_count": 79,
     "metadata": {},
     "output_type": "execute_result"
    }
   ],
   "source": [
    "n"
   ]
  },
  {
   "cell_type": "code",
   "execution_count": 81,
   "id": "e51d89d4",
   "metadata": {
    "ExecuteTime": {
     "end_time": "2022-05-18T06:43:14.263801Z",
     "start_time": "2022-05-18T06:43:14.251438Z"
    }
   },
   "outputs": [
    {
     "name": "stdout",
     "output_type": "stream",
     "text": [
      "2/3\n"
     ]
    }
   ],
   "source": [
    "if cnt % 2 == 0: # 분자 오름차순, 분모 내림차순\n",
    "    print(str(n)+'/'+str(cnt-n+1))\n",
    "else:\n",
    "    print(str(cnt-n+1)+'/'+str(n))"
   ]
  },
  {
   "cell_type": "markdown",
   "id": "be114503",
   "metadata": {},
   "source": [
    "제출코드"
   ]
  },
  {
   "cell_type": "code",
   "execution_count": null,
   "id": "8ca0c148",
   "metadata": {},
   "outputs": [],
   "source": [
    "n = int(input())\n",
    "minus = 1\n",
    "cnt = 1\n",
    "while True:\n",
    "    if n - minus > 0:\n",
    "        cnt += 1\n",
    "        n = n - minus\n",
    "        minus += 1\n",
    "    else:\n",
    "        break\n",
    "        \n",
    "if cnt % 2 == 0: # 분자 오름차순, 분모 내림차순\n",
    "    print(str(n)+'/'+str(cnt-n+1))\n",
    "else: # 분자 내림차순, 분모 오름차순\n",
    "    print(str(cnt-n+1)+'/'+str(n))"
   ]
  }
 ],
 "metadata": {
  "kernelspec": {
   "display_name": "Python 3",
   "language": "python",
   "name": "python3"
  },
  "language_info": {
   "codemirror_mode": {
    "name": "ipython",
    "version": 3
   },
   "file_extension": ".py",
   "mimetype": "text/x-python",
   "name": "python",
   "nbconvert_exporter": "python",
   "pygments_lexer": "ipython3",
   "version": "3.8.8"
  },
  "toc": {
   "base_numbering": 1,
   "nav_menu": {},
   "number_sections": true,
   "sideBar": true,
   "skip_h1_title": false,
   "title_cell": "Table of Contents",
   "title_sidebar": "Contents",
   "toc_cell": false,
   "toc_position": {},
   "toc_section_display": true,
   "toc_window_display": false
  },
  "varInspector": {
   "cols": {
    "lenName": 16,
    "lenType": 16,
    "lenVar": 40
   },
   "kernels_config": {
    "python": {
     "delete_cmd_postfix": "",
     "delete_cmd_prefix": "del ",
     "library": "var_list.py",
     "varRefreshCmd": "print(var_dic_list())"
    },
    "r": {
     "delete_cmd_postfix": ") ",
     "delete_cmd_prefix": "rm(",
     "library": "var_list.r",
     "varRefreshCmd": "cat(var_dic_list()) "
    }
   },
   "types_to_exclude": [
    "module",
    "function",
    "builtin_function_or_method",
    "instance",
    "_Feature"
   ],
   "window_display": false
  }
 },
 "nbformat": 4,
 "nbformat_minor": 5
}
