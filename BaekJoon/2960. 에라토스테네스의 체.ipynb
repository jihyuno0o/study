{
 "cells": [
  {
   "cell_type": "markdown",
   "id": "05e9c08c",
   "metadata": {},
   "source": [
    "https://www.acmicpc.net/problem/2960"
   ]
  },
  {
   "cell_type": "markdown",
   "id": "aad05513",
   "metadata": {},
   "source": [
    "## 문제\n",
    "에라토스테네스의 체는 N보다 작거나 같은 모든 소수를 찾는 유명한 알고리즘이다.\n",
    "\n",
    "이 알고리즘은 다음과 같다.\n",
    "\n",
    "2부터 N까지 모든 정수를 적는다.\n",
    "아직 지우지 않은 수 중 가장 작은 수를 찾는다. 이것을 P라고 하고, 이 수는 소수이다.\n",
    "P를 지우고, 아직 지우지 않은 P의 배수를 크기 순서대로 지운다.\n",
    "아직 모든 수를 지우지 않았다면, 다시 2번 단계로 간다.\n",
    "N, K가 주어졌을 때, K번째 지우는 수를 구하는 프로그램을 작성하시오.\n",
    "\n",
    "## 입력\n",
    "첫째 줄에 N과 K가 주어진다. (1 ≤ K < N, max(1, K) < N ≤ 1000)\n",
    "\n",
    "## 출력\n",
    "첫째 줄에 K번째 지워진 수를 출력한다."
   ]
  },
  {
   "cell_type": "code",
   "execution_count": 1,
   "id": "cb591849",
   "metadata": {
    "ExecuteTime": {
     "end_time": "2022-04-21T04:38:18.933258Z",
     "start_time": "2022-04-21T04:38:18.920297Z"
    }
   },
   "outputs": [
    {
     "ename": "SyntaxError",
     "evalue": "invalid syntax (<ipython-input-1-ea8dbf5bf613>, line 2)",
     "output_type": "error",
     "traceback": [
      "\u001b[1;36m  File \u001b[1;32m\"<ipython-input-1-ea8dbf5bf613>\"\u001b[1;36m, line \u001b[1;32m2\u001b[0m\n\u001b[1;33m    7 3\u001b[0m\n\u001b[1;37m      ^\u001b[0m\n\u001b[1;31mSyntaxError\u001b[0m\u001b[1;31m:\u001b[0m invalid syntax\n"
     ]
    }
   ],
   "source": [
    "# 예제 입력\n",
    "7 3\n",
    "# 예제 출력\n",
    "6"
   ]
  },
  {
   "cell_type": "code",
   "execution_count": 3,
   "id": "7bf85484",
   "metadata": {
    "ExecuteTime": {
     "end_time": "2022-04-21T04:38:51.647320Z",
     "start_time": "2022-04-21T04:38:47.718141Z"
    }
   },
   "outputs": [
    {
     "name": "stdout",
     "output_type": "stream",
     "text": [
      "7 3\n"
     ]
    }
   ],
   "source": [
    "n, k = map(int, input().split(\" \"))"
   ]
  },
  {
   "cell_type": "code",
   "execution_count": 9,
   "id": "723981ea",
   "metadata": {
    "ExecuteTime": {
     "end_time": "2022-04-21T05:30:39.175043Z",
     "start_time": "2022-04-21T05:30:39.163160Z"
    }
   },
   "outputs": [
    {
     "data": {
      "text/plain": [
       "[2, 3, 4, 5, 6, 7]"
      ]
     },
     "execution_count": 9,
     "metadata": {},
     "output_type": "execute_result"
    }
   ],
   "source": [
    "eratos = []\n",
    "for num in range(2, n+1):\n",
    "    eratos.append(num)\n",
    "eratos"
   ]
  },
  {
   "cell_type": "code",
   "execution_count": 10,
   "id": "295b3c25",
   "metadata": {
    "ExecuteTime": {
     "end_time": "2022-04-21T05:30:39.915632Z",
     "start_time": "2022-04-21T05:30:39.897171Z"
    }
   },
   "outputs": [
    {
     "name": "stdout",
     "output_type": "stream",
     "text": [
      "6\n"
     ]
    }
   ],
   "source": [
    "while k>0:\n",
    "    for i, v in enumerate(eratos):\n",
    "        if i == 0: P = v\n",
    "        if v % P == 0:\n",
    "            eratos.remove(v)\n",
    "            k -= 1\n",
    "            if k == 0: print(v)"
   ]
  },
  {
   "cell_type": "code",
   "execution_count": 11,
   "id": "ed2bf5ce",
   "metadata": {
    "ExecuteTime": {
     "end_time": "2022-04-21T05:32:20.026615Z",
     "start_time": "2022-04-21T05:32:20.011740Z"
    }
   },
   "outputs": [],
   "source": [
    "def solution(n,k):\n",
    "    eratos = []\n",
    "    for num in range(2, n+1):\n",
    "        eratos.append(num)\n",
    "    \n",
    "    while k>0:\n",
    "        for i,v in enumerate(eratos):\n",
    "            if i==0: P = v\n",
    "            if v % P == 0:\n",
    "                eratos.remove(v)\n",
    "                k -= 1\n",
    "                if k == 0: return v\n",
    "    return -1"
   ]
  },
  {
   "cell_type": "markdown",
   "id": "40f3e07a",
   "metadata": {},
   "source": [
    "solution"
   ]
  },
  {
   "cell_type": "code",
   "execution_count": null,
   "id": "d8ecbd4c",
   "metadata": {},
   "outputs": [],
   "source": [
    "def solution(n,k):\n",
    "    eratos = []\n",
    "    for num in range(2, n+1):\n",
    "        eratos.append(num)\n",
    "    \n",
    "    while k>0:\n",
    "        for i,v in enumerate(eratos):\n",
    "            if i==0: P = v\n",
    "            if v % P == 0:\n",
    "                eratos.remove(v)\n",
    "                k -= 1\n",
    "                if k == 0: return v\n",
    "    return -1\n",
    "\n",
    "n, k = map(int, input().split(\" \"))\n",
    "print(solution(n,k))"
   ]
  }
 ],
 "metadata": {
  "kernelspec": {
   "display_name": "Python 3",
   "language": "python",
   "name": "python3"
  },
  "language_info": {
   "codemirror_mode": {
    "name": "ipython",
    "version": 3
   },
   "file_extension": ".py",
   "mimetype": "text/x-python",
   "name": "python",
   "nbconvert_exporter": "python",
   "pygments_lexer": "ipython3",
   "version": "3.8.8"
  },
  "toc": {
   "base_numbering": 1,
   "nav_menu": {},
   "number_sections": true,
   "sideBar": true,
   "skip_h1_title": false,
   "title_cell": "Table of Contents",
   "title_sidebar": "Contents",
   "toc_cell": false,
   "toc_position": {},
   "toc_section_display": true,
   "toc_window_display": false
  },
  "varInspector": {
   "cols": {
    "lenName": 16,
    "lenType": 16,
    "lenVar": 40
   },
   "kernels_config": {
    "python": {
     "delete_cmd_postfix": "",
     "delete_cmd_prefix": "del ",
     "library": "var_list.py",
     "varRefreshCmd": "print(var_dic_list())"
    },
    "r": {
     "delete_cmd_postfix": ") ",
     "delete_cmd_prefix": "rm(",
     "library": "var_list.r",
     "varRefreshCmd": "cat(var_dic_list()) "
    }
   },
   "types_to_exclude": [
    "module",
    "function",
    "builtin_function_or_method",
    "instance",
    "_Feature"
   ],
   "window_display": false
  }
 },
 "nbformat": 4,
 "nbformat_minor": 5
}
