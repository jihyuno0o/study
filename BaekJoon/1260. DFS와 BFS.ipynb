{
 "cells": [
  {
   "cell_type": "markdown",
   "id": "f65c6aa0",
   "metadata": {
    "ExecuteTime": {
     "end_time": "2022-05-09T04:34:59.804849Z",
     "start_time": "2022-05-09T04:34:59.793848Z"
    }
   },
   "source": [
    "https://www.acmicpc.net/problem/1260"
   ]
  },
  {
   "cell_type": "markdown",
   "id": "c6934a16",
   "metadata": {},
   "source": [
    "## 문제\n",
    "그래프를 DFS로 탐색한 결과와 BFS로 탐색한 결과를 출력하는 프로그램을 작성하시오. 단, 방문할 수 있는 정점이 여러 개인 경우에는 정점 번호가 작은 것을 먼저 방문하고, 더 이상 방문할 수 있는 점이 없는 경우 종료한다. 정점 번호는 1번부터 N번까지이다.\n",
    "\n",
    "## 입력\n",
    "첫째 줄에 정점의 개수 N(1 ≤ N ≤ 1,000), 간선의 개수 M(1 ≤ M ≤ 10,000), 탐색을 시작할 정점의 번호 V가 주어진다. 다음 M개의 줄에는 간선이 연결하는 두 정점의 번호가 주어진다. 어떤 두 정점 사이에 여러 개의 간선이 있을 수 있다. 입력으로 주어지는 간선은 양방향이다.\n",
    "\n",
    "## 출력\n",
    "첫째 줄에 DFS를 수행한 결과를, 그 다음 줄에는 BFS를 수행한 결과를 출력한다. V부터 방문된 점을 순서대로 출력하면 된다."
   ]
  },
  {
   "attachments": {
    "image.png": {
     "image/png": "[encoded data removed]"
    }
   },
   "cell_type": "markdown",
   "id": "af55ff08",
   "metadata": {},
   "source": [
    "![image.png](attachment:image.png)"
   ]
  },
  {
   "cell_type": "code",
   "execution_count": 2,
   "id": "4766c904",
   "metadata": {
    "ExecuteTime": {
     "end_time": "2022-05-09T05:32:32.872219Z",
     "start_time": "2022-05-09T05:32:31.149663Z"
    }
   },
   "outputs": [
    {
     "name": "stdout",
     "output_type": "stream",
     "text": [
      "4 5 1\n"
     ]
    }
   ],
   "source": [
    "n, m, v = map(int, input().split())"
   ]
  },
  {
   "cell_type": "code",
   "execution_count": 3,
   "id": "73f6cab3",
   "metadata": {
    "ExecuteTime": {
     "end_time": "2022-05-09T05:32:37.516044Z",
     "start_time": "2022-05-09T05:32:37.487389Z"
    },
    "scrolled": false
   },
   "outputs": [
    {
     "data": {
      "text/plain": [
       "[[0, 0, 0, 0, 0],\n",
       " [0, 0, 0, 0, 0],\n",
       " [0, 0, 0, 0, 0],\n",
       " [0, 0, 0, 0, 0],\n",
       " [0, 0, 0, 0, 0]]"
      ]
     },
     "execution_count": 3,
     "metadata": {},
     "output_type": "execute_result"
    }
   ],
   "source": [
    "node = [[0]*(n+1) for _ in range(n+1)]\n",
    "node"
   ]
  },
  {
   "cell_type": "code",
   "execution_count": 4,
   "id": "cef9f68b",
   "metadata": {
    "ExecuteTime": {
     "end_time": "2022-05-09T05:32:53.343236Z",
     "start_time": "2022-05-09T05:32:45.999899Z"
    }
   },
   "outputs": [
    {
     "name": "stdout",
     "output_type": "stream",
     "text": [
      "1 2\n",
      "1 3\n",
      "1 4\n",
      "2 4\n",
      "3 4\n"
     ]
    },
    {
     "data": {
      "text/plain": [
       "[[0, 0, 0, 0, 0],\n",
       " [0, 0, 1, 1, 1],\n",
       " [0, 1, 0, 0, 1],\n",
       " [0, 1, 0, 0, 1],\n",
       " [0, 1, 1, 1, 0]]"
      ]
     },
     "execution_count": 4,
     "metadata": {},
     "output_type": "execute_result"
    }
   ],
   "source": [
    "for _ in range(m):\n",
    "    i, j = map(int, input().split())\n",
    "    node[i][j] = node[j][i] = 1\n",
    "node"
   ]
  },
  {
   "cell_type": "code",
   "execution_count": null,
   "id": "4218f76a",
   "metadata": {
    "ExecuteTime": {
     "end_time": "2022-05-09T05:03:07.473564Z",
     "start_time": "2022-05-09T05:03:07.461186Z"
    }
   },
   "outputs": [],
   "source": [
    "node"
   ]
  },
  {
   "cell_type": "code",
   "execution_count": 5,
   "id": "ed660bce",
   "metadata": {
    "ExecuteTime": {
     "end_time": "2022-05-09T05:34:20.640963Z",
     "start_time": "2022-05-09T05:34:20.631024Z"
    }
   },
   "outputs": [],
   "source": [
    "visited = [0] * (n+1)\n",
    "visited[0] = 1 \n",
    "def dfs(node, n, visited, now):\n",
    "    visited[now] = 1\n",
    "    print(now, end=' ')\n",
    "    for i in range(n+1):\n",
    "        if node[now][i] == 1 and visited[i] == 0:\n",
    "            dfs(node, n, visited, i)"
   ]
  },
  {
   "cell_type": "code",
   "execution_count": 6,
   "id": "bd7a1a9b",
   "metadata": {
    "ExecuteTime": {
     "end_time": "2022-05-09T05:34:23.469314Z",
     "start_time": "2022-05-09T05:34:23.460330Z"
    }
   },
   "outputs": [
    {
     "name": "stdout",
     "output_type": "stream",
     "text": [
      "1 2 4 3 "
     ]
    }
   ],
   "source": [
    "dfs(node, n, visited, v)"
   ]
  },
  {
   "cell_type": "code",
   "execution_count": 31,
   "id": "641eff1e",
   "metadata": {
    "ExecuteTime": {
     "end_time": "2022-05-09T06:35:48.863403Z",
     "start_time": "2022-05-09T06:35:48.854431Z"
    }
   },
   "outputs": [],
   "source": [
    "from collections import deque\n",
    "visited = [0] * (n+1)\n",
    "visited[0] = 1\n",
    "def bfs(node, n, visited, start):\n",
    "    queue = deque([start])\n",
    "    visited[start] = 1\n",
    "    while queue: # 큐가 빌때까지\n",
    "        v = queue.popleft()\n",
    "        print(v, end=' ')\n",
    "        for i in range(n+1):\n",
    "            if node[v][i] == 1 and visited[i] == 0:\n",
    "                queue.append(i)\n",
    "                visited[i] = 1"
   ]
  },
  {
   "cell_type": "code",
   "execution_count": 32,
   "id": "61313865",
   "metadata": {
    "ExecuteTime": {
     "end_time": "2022-05-09T06:35:49.368555Z",
     "start_time": "2022-05-09T06:35:49.357900Z"
    }
   },
   "outputs": [
    {
     "data": {
      "text/plain": [
       "1"
      ]
     },
     "execution_count": 32,
     "metadata": {},
     "output_type": "execute_result"
    }
   ],
   "source": [
    "v"
   ]
  },
  {
   "cell_type": "code",
   "execution_count": 33,
   "id": "e69697bc",
   "metadata": {
    "ExecuteTime": {
     "end_time": "2022-05-09T06:35:50.140959Z",
     "start_time": "2022-05-09T06:35:50.129957Z"
    }
   },
   "outputs": [
    {
     "name": "stdout",
     "output_type": "stream",
     "text": [
      "1 2 3 4 "
     ]
    }
   ],
   "source": [
    "bfs(node, n, visited, v)"
   ]
  },
  {
   "cell_type": "markdown",
   "id": "50c110ee",
   "metadata": {},
   "source": [
    "제출코드"
   ]
  },
  {
   "cell_type": "code",
   "execution_count": 37,
   "id": "fc7c28cd",
   "metadata": {
    "ExecuteTime": {
     "end_time": "2022-05-09T06:41:03.305943Z",
     "start_time": "2022-05-09T06:40:56.841620Z"
    },
    "scrolled": true
   },
   "outputs": [
    {
     "name": "stdout",
     "output_type": "stream",
     "text": [
      "1000 1 1000\n",
      "999 1000\n",
      "1000 999 \n",
      "1000 999 "
     ]
    }
   ],
   "source": [
    "def dfs(node, n, visited, now): #재귀로 깊이 탐색 아래로 쭉쭉\n",
    "    visited[now] = 1 # 방문 표시\n",
    "    print(now, end=' ')\n",
    "    for i in range(n+1):\n",
    "        if node[now][i] == 1 and visited[i] == 0:\n",
    "            dfs(node, n, visited, i)\n",
    "\n",
    "from collections import deque\n",
    "def bfs(node, n, visited, start):\n",
    "    queue = deque([start]) # queue 생성\n",
    "    visited[start] = 1\n",
    "    while queue: # 큐가 빌때까지\n",
    "        v = queue.popleft() \n",
    "        print(v, end=' ')\n",
    "        for i in range(n+1):\n",
    "            if node[v][i] == 1 and visited[i] == 0:\n",
    "                queue.append(i) # v 와 인접한 노드 다 queue에 저장\n",
    "                visited[i] = 1\n",
    "            \n",
    "n, m, v = map(int, input().split())\n",
    "node = [[0]*(n+1) for _ in range(n+1)]\n",
    "for _ in range(m):\n",
    "    i, j = map(int, input().split())\n",
    "    node[i][j] = node[j][i] = 1\n",
    "    \n",
    "visited = [0] * (n+1) # 방문 확인\n",
    "visited[0] = 1 # 인덱스랑 노드 수 맞추기 위해서 0노드 채움\n",
    "dfs(node, n, visited, v)\n",
    "\n",
    "print()\n",
    "visited = [0] * (n+1) # 방문 확인 # 초기화\n",
    "visited[0] = 1 # 인덱스랑 노드 수 맞추기 위해서 0노드 채움\n",
    "bfs(node, n, visited, v)"
   ]
  },
  {
   "cell_type": "code",
   "execution_count": null,
   "id": "c12439e6",
   "metadata": {},
   "outputs": [],
   "source": []
  }
 ],
 "metadata": {
  "kernelspec": {
   "display_name": "Python 3",
   "language": "python",
   "name": "python3"
  },
  "language_info": {
   "codemirror_mode": {
    "name": "ipython",
    "version": 3
   },
   "file_extension": ".py",
   "mimetype": "text/x-python",
   "name": "python",
   "nbconvert_exporter": "python",
   "pygments_lexer": "ipython3",
   "version": "3.8.8"
  },
  "toc": {
   "base_numbering": 1,
   "nav_menu": {},
   "number_sections": true,
   "sideBar": true,
   "skip_h1_title": false,
   "title_cell": "Table of Contents",
   "title_sidebar": "Contents",
   "toc_cell": false,
   "toc_position": {},
   "toc_section_display": true,
   "toc_window_display": false
  },
  "varInspector": {
   "cols": {
    "lenName": 16,
    "lenType": 16,
    "lenVar": 40
   },
   "kernels_config": {
    "python": {
     "delete_cmd_postfix": "",
     "delete_cmd_prefix": "del ",
     "library": "var_list.py",
     "varRefreshCmd": "print(var_dic_list())"
    },
    "r": {
     "delete_cmd_postfix": ") ",
     "delete_cmd_prefix": "rm(",
     "library": "var_list.r",
     "varRefreshCmd": "cat(var_dic_list()) "
    }
   },
   "types_to_exclude": [
    "module",
    "function",
    "builtin_function_or_method",
    "instance",
    "_Feature"
   ],
   "window_display": false
  }
 },
 "nbformat": 4,
 "nbformat_minor": 5
}
