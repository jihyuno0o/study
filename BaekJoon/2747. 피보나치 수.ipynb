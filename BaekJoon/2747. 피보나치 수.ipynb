{
 "cells": [
  {
   "cell_type": "markdown",
   "id": "0fc375b1",
   "metadata": {},
   "source": [
    "https://www.acmicpc.net/problem/2747"
   ]
  },
  {
   "cell_type": "markdown",
   "id": "8ead996e",
   "metadata": {},
   "source": [
    "## 문제\n",
    "피보나치 수는 0과 1로 시작한다. 0번째 피보나치 수는 0이고, 1번째 피보나치 수는 1이다. 그 다음 2번째 부터는 바로 앞 두 피보나치 수의 합이 된다.\n",
    "\n",
    "이를 식으로 써보면 Fn = Fn-1 + Fn-2 (n ≥ 2)가 된다.\n",
    "\n",
    "n=17일때 까지 피보나치 수를 써보면 다음과 같다.\n",
    "\n",
    "0, 1, 1, 2, 3, 5, 8, 13, 21, 34, 55, 89, 144, 233, 377, 610, 987, 1597\n",
    "\n",
    "n이 주어졌을 때, n번째 피보나치 수를 구하는 프로그램을 작성하시오.\n",
    "\n",
    "## 입력\n",
    "첫째 줄에 n이 주어진다. n은 45보다 작거나 같은 자연수이다.\n",
    "\n",
    "## 출력\n",
    "첫째 줄에 n번째 피보나치 수를 출력한다."
   ]
  },
  {
   "cell_type": "code",
   "execution_count": null,
   "id": "6e76a4d6",
   "metadata": {},
   "outputs": [],
   "source": [
    "# 예제 입력\n",
    "10\n",
    "# 예제 출력\n",
    "55"
   ]
  },
  {
   "cell_type": "code",
   "execution_count": 4,
   "id": "78f6a1ab",
   "metadata": {
    "ExecuteTime": {
     "end_time": "2022-04-21T05:47:28.896798Z",
     "start_time": "2022-04-21T05:47:28.879297Z"
    }
   },
   "outputs": [],
   "source": [
    "def fibo(n,f):\n",
    "    if f[n] != -1: return f[n]\n",
    "    else:\n",
    "        f[n] = fibo(n-1, f) + fibo(n-2, f)\n",
    "        return f[n]"
   ]
  },
  {
   "cell_type": "code",
   "execution_count": 5,
   "id": "ba5cdf09",
   "metadata": {
    "ExecuteTime": {
     "end_time": "2022-04-21T05:47:34.082463Z",
     "start_time": "2022-04-21T05:47:33.126154Z"
    }
   },
   "outputs": [
    {
     "name": "stdout",
     "output_type": "stream",
     "text": [
      "1\n"
     ]
    },
    {
     "ename": "IndexError",
     "evalue": "list assignment index out of range",
     "output_type": "error",
     "traceback": [
      "\u001b[1;31m---------------------------------------------------------------------------\u001b[0m",
      "\u001b[1;31mIndexError\u001b[0m                                Traceback (most recent call last)",
      "\u001b[1;32m<ipython-input-5-205f8131f2b7>\u001b[0m in \u001b[0;36m<module>\u001b[1;34m\u001b[0m\n\u001b[0;32m      1\u001b[0m \u001b[0mn\u001b[0m \u001b[1;33m=\u001b[0m \u001b[0mint\u001b[0m\u001b[1;33m(\u001b[0m\u001b[0minput\u001b[0m\u001b[1;33m(\u001b[0m\u001b[1;33m)\u001b[0m\u001b[1;33m)\u001b[0m\u001b[1;33m\u001b[0m\u001b[1;33m\u001b[0m\u001b[0m\n\u001b[0;32m      2\u001b[0m \u001b[0mf\u001b[0m \u001b[1;33m=\u001b[0m \u001b[1;33m[\u001b[0m\u001b[1;33m-\u001b[0m\u001b[1;36m1\u001b[0m\u001b[1;33m]\u001b[0m \u001b[1;33m*\u001b[0m \u001b[1;33m(\u001b[0m\u001b[0mn\u001b[0m\u001b[1;33m+\u001b[0m\u001b[1;36m1\u001b[0m\u001b[1;33m)\u001b[0m\u001b[1;33m\u001b[0m\u001b[1;33m\u001b[0m\u001b[0m\n\u001b[1;32m----> 3\u001b[1;33m \u001b[0mf\u001b[0m\u001b[1;33m[\u001b[0m\u001b[1;36m0\u001b[0m\u001b[1;33m]\u001b[0m\u001b[1;33m,\u001b[0m \u001b[0mf\u001b[0m\u001b[1;33m[\u001b[0m\u001b[1;36m1\u001b[0m\u001b[1;33m]\u001b[0m\u001b[1;33m,\u001b[0m \u001b[0mf\u001b[0m\u001b[1;33m[\u001b[0m\u001b[1;36m2\u001b[0m\u001b[1;33m]\u001b[0m \u001b[1;33m=\u001b[0m \u001b[1;36m0\u001b[0m\u001b[1;33m,\u001b[0m \u001b[1;36m1\u001b[0m\u001b[1;33m,\u001b[0m \u001b[1;36m1\u001b[0m\u001b[1;33m\u001b[0m\u001b[1;33m\u001b[0m\u001b[0m\n\u001b[0m",
      "\u001b[1;31mIndexError\u001b[0m: list assignment index out of range"
     ]
    }
   ],
   "source": [
    "n = int(input())\n",
    "f = [-1] * (n+1)\n",
    "f[0], f[1], f[2] = 0, 1, 1"
   ]
  },
  {
   "cell_type": "code",
   "execution_count": 6,
   "id": "46d873e2",
   "metadata": {
    "ExecuteTime": {
     "end_time": "2022-04-21T05:47:34.240298Z",
     "start_time": "2022-04-21T05:47:34.227122Z"
    },
    "scrolled": true
   },
   "outputs": [
    {
     "data": {
      "text/plain": [
       "1"
      ]
     },
     "execution_count": 6,
     "metadata": {},
     "output_type": "execute_result"
    }
   ],
   "source": [
    "fibo(n, f)"
   ]
  },
  {
   "cell_type": "markdown",
   "id": "6926ea8c",
   "metadata": {},
   "source": [
    "solution - index error 왜,,?"
   ]
  },
  {
   "cell_type": "code",
   "execution_count": null,
   "id": "1b0a3e17",
   "metadata": {},
   "outputs": [],
   "source": [
    "def fibo(n,f):\n",
    "    if f[n] != -1: return f[n]\n",
    "    f[n] = fibo(n-1, f) + fibo(n-2, f)\n",
    "    return f[n]\n",
    "    \n",
    "n = int(input())\n",
    "f = [-1] * (n+1)\n",
    "f[0], f[1], f[2] = 0, 1, 1\n",
    "\n",
    "print(fibo(n,f))"
   ]
  },
  {
   "cell_type": "markdown",
   "id": "0fe06a96",
   "metadata": {},
   "source": [
    "solution - n이 0이거나 1일 경우 생각"
   ]
  },
  {
   "cell_type": "code",
   "execution_count": null,
   "id": "713355f7",
   "metadata": {},
   "outputs": [],
   "source": [
    "def fibo(n,f):\n",
    "    if f[n] != -1: return f[n]\n",
    "    f[n] = fibo(n-1, f) + fibo(n-2, f)\n",
    "    return f[n]\n",
    "\n",
    "\n",
    "n = int(input())\n",
    "if n == 0 or n == 1: print(n)\n",
    "else:\n",
    "    f = [-1] * (n+1)\n",
    "    f[0], f[1], f[2] = 0, 1, 1\n",
    "    print(fibo(n,f))"
   ]
  }
 ],
 "metadata": {
  "kernelspec": {
   "display_name": "Python 3",
   "language": "python",
   "name": "python3"
  },
  "language_info": {
   "codemirror_mode": {
    "name": "ipython",
    "version": 3
   },
   "file_extension": ".py",
   "mimetype": "text/x-python",
   "name": "python",
   "nbconvert_exporter": "python",
   "pygments_lexer": "ipython3",
   "version": "3.8.8"
  },
  "toc": {
   "base_numbering": 1,
   "nav_menu": {},
   "number_sections": true,
   "sideBar": true,
   "skip_h1_title": false,
   "title_cell": "Table of Contents",
   "title_sidebar": "Contents",
   "toc_cell": false,
   "toc_position": {},
   "toc_section_display": true,
   "toc_window_display": false
  },
  "varInspector": {
   "cols": {
    "lenName": 16,
    "lenType": 16,
    "lenVar": 40
   },
   "kernels_config": {
    "python": {
     "delete_cmd_postfix": "",
     "delete_cmd_prefix": "del ",
     "library": "var_list.py",
     "varRefreshCmd": "print(var_dic_list())"
    },
    "r": {
     "delete_cmd_postfix": ") ",
     "delete_cmd_prefix": "rm(",
     "library": "var_list.r",
     "varRefreshCmd": "cat(var_dic_list()) "
    }
   },
   "types_to_exclude": [
    "module",
    "function",
    "builtin_function_or_method",
    "instance",
    "_Feature"
   ],
   "window_display": false
  }
 },
 "nbformat": 4,
 "nbformat_minor": 5
}
