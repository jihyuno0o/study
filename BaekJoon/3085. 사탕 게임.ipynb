{
 "cells": [
  {
   "cell_type": "markdown",
   "id": "ca96a3b8",
   "metadata": {
    "ExecuteTime": {
     "end_time": "2022-04-19T00:32:02.175516Z",
     "start_time": "2022-04-19T00:32:02.158353Z"
    }
   },
   "source": [
    "https://www.acmicpc.net/problem/3085"
   ]
  },
  {
   "cell_type": "markdown",
   "id": "186df989",
   "metadata": {},
   "source": [
    "## 문제\n",
    "상근이는 어렸을 적에 \"봄보니 (Bomboni)\" 게임을 즐겨했다.\n",
    "\n",
    "가장 처음에 N×N크기에 사탕을 채워 놓는다. 사탕의 색은 모두 같지 않을 수도 있다. 상근이는 사탕의 색이 다른 인접한 두 칸을 고른다. 그 다음 고른 칸에 들어있는 사탕을 서로 교환한다. 이제, 모두 같은 색으로 이루어져 있는 가장 긴 연속 부분(행 또는 열)을 고른 다음 그 사탕을 모두 먹는다.\n",
    "\n",
    "사탕이 채워진 상태가 주어졌을 때, 상근이가 먹을 수 있는 사탕의 최대 개수를 구하는 프로그램을 작성하시오.\n",
    "\n",
    "## 입력\n",
    "첫째 줄에 보드의 크기 N이 주어진다. (3 ≤ N ≤ 50)\n",
    "\n",
    "다음 N개 줄에는 보드에 채워져 있는 사탕의 색상이 주어진다. 빨간색은 C, 파란색은 P, 초록색은 Z, 노란색은 Y로 주어진다.\n",
    "\n",
    "사탕의 색이 다른 인접한 두 칸이 존재하는 입력만 주어진다.\n",
    "\n",
    "## 출력\n",
    "첫째 줄에 상근이가 먹을 수 있는 사탕의 최대 개수를 출력한다."
   ]
  },
  {
   "cell_type": "code",
   "execution_count": null,
   "id": "ea76d8e3",
   "metadata": {},
   "outputs": [],
   "source": [
    "# 예제 입력\n",
    "3\n",
    "CCP\n",
    "CCP\n",
    "PPC\n",
    "# 예제 출력\n",
    "3"
   ]
  },
  {
   "cell_type": "code",
   "execution_count": null,
   "id": "fcd68ebe",
   "metadata": {},
   "outputs": [],
   "source": [
    "# 예제 입력\n",
    "5\n",
    "YCPZY\n",
    "CYZZP\n",
    "CCPPP\n",
    "YCYZC\n",
    "CPPZZ\n",
    "# 예제 출력\n",
    "4"
   ]
  },
  {
   "cell_type": "code",
   "execution_count": 25,
   "id": "9dfa15d8",
   "metadata": {
    "ExecuteTime": {
     "end_time": "2022-04-19T01:31:11.104389Z",
     "start_time": "2022-04-19T01:31:09.168817Z"
    }
   },
   "outputs": [
    {
     "name": "stdout",
     "output_type": "stream",
     "text": [
      "5\n"
     ]
    }
   ],
   "source": [
    "N = int(input())"
   ]
  },
  {
   "cell_type": "code",
   "execution_count": 26,
   "id": "806e9985",
   "metadata": {
    "ExecuteTime": {
     "end_time": "2022-04-19T01:31:22.023813Z",
     "start_time": "2022-04-19T01:31:11.601167Z"
    },
    "scrolled": true
   },
   "outputs": [
    {
     "name": "stdout",
     "output_type": "stream",
     "text": [
      "YCPZY\n",
      "CYZZP\n",
      "CCPPP\n",
      "YCYZC\n",
      "CPPZZ\n"
     ]
    }
   ],
   "source": [
    "candys = [list(input()) for _ in range(N)]"
   ]
  },
  {
   "cell_type": "code",
   "execution_count": 46,
   "id": "d1f60977",
   "metadata": {
    "ExecuteTime": {
     "end_time": "2022-04-19T04:31:22.543153Z",
     "start_time": "2022-04-19T04:31:22.531515Z"
    },
    "scrolled": false
   },
   "outputs": [
    {
     "data": {
      "text/plain": [
       "[['Y', 'C', 'P', 'Z', 'Y'],\n",
       " ['C', 'Y', 'Z', 'Z', 'P'],\n",
       " ['C', 'C', 'P', 'P', 'P'],\n",
       " ['Y', 'C', 'Y', 'Z', 'C'],\n",
       " ['C', 'P', 'P', 'Z', 'Z']]"
      ]
     },
     "execution_count": 46,
     "metadata": {},
     "output_type": "execute_result"
    }
   ],
   "source": [
    "candys"
   ]
  },
  {
   "cell_type": "code",
   "execution_count": 37,
   "id": "26411c5c",
   "metadata": {
    "ExecuteTime": {
     "end_time": "2022-04-19T01:50:49.376648Z",
     "start_time": "2022-04-19T01:50:49.363596Z"
    }
   },
   "outputs": [],
   "source": [
    "def max_count(N):\n",
    "    row_cnt, max_cnt = 1, 1\n",
    "    # 오른쪽으로 먼저 체크\n",
    "    for i in range(N):\n",
    "        for j in range(N-1):\n",
    "            if candys[i][j] == candys[i][j+1]:\n",
    "                row_cnt += 1\n",
    "            else:\n",
    "                row_cnt = 1\n",
    "            max_cnt = max(row_cnt, max_cnt)\n",
    "            if max_cnt == N:\n",
    "                return N\n",
    "        row_cnt = 1\n",
    "    \n",
    "    col_cnt = 1\n",
    "    # 아래로\n",
    "    for j in range(N):\n",
    "        for i in range(N-1):\n",
    "            if candys[i][j] == candys[i+1][j]:\n",
    "                col_cnt += 1\n",
    "            else:\n",
    "                col_cnt = 1\n",
    "            max_cnt = max(col_cnt, max_cnt)\n",
    "            if max_cnt == N:\n",
    "                return N\n",
    "        col_cnt = 1\n",
    "    return max_cnt"
   ]
  },
  {
   "cell_type": "code",
   "execution_count": 38,
   "id": "ebf15a7e",
   "metadata": {
    "ExecuteTime": {
     "end_time": "2022-04-19T01:50:50.366026Z",
     "start_time": "2022-04-19T01:50:50.345451Z"
    }
   },
   "outputs": [],
   "source": [
    "def solution(N, candys):\n",
    "    answer = 0\n",
    "    pos = [[-1,0],[1,0],[0,-1],[0,1]]\n",
    "    for i in range(N):\n",
    "        for j in range(N):\n",
    "            # 상하좌우 바꿔보기\n",
    "            for k in range(4):\n",
    "                nx, ny = i + pos[k][0], j + pos[k][1]\n",
    "\n",
    "                if nx<0 or nx>=N or ny<0 or ny>=N:\n",
    "                    continue\n",
    "                if candys[i][j] != candys[nx][ny]:\n",
    "                    candys[nx][ny], candys[i][j] = candys[i][j], candys[nx][ny]\n",
    "                    answer = max(answer, max_count(N))\n",
    "                    if answer == N:\n",
    "                        return N\n",
    "                    # 제자리로 돌려놓기\n",
    "                    candys[i][j], candys[nx][ny] = candys[nx][ny], candys[i][j]\n",
    "                \n",
    "    return answer"
   ]
  },
  {
   "cell_type": "code",
   "execution_count": 39,
   "id": "3a226706",
   "metadata": {
    "ExecuteTime": {
     "end_time": "2022-04-19T01:50:50.804135Z",
     "start_time": "2022-04-19T01:50:50.781917Z"
    }
   },
   "outputs": [
    {
     "data": {
      "text/plain": [
       "4"
      ]
     },
     "execution_count": 39,
     "metadata": {},
     "output_type": "execute_result"
    }
   ],
   "source": [
    "solution(N, candys)"
   ]
  },
  {
   "cell_type": "markdown",
   "id": "f1320085",
   "metadata": {},
   "source": [
    "solution - pypy3\n",
    "python3은 시간초과"
   ]
  },
  {
   "cell_type": "code",
   "execution_count": null,
   "id": "8fb998af",
   "metadata": {},
   "outputs": [],
   "source": [
    "def max_count(N):\n",
    "    row_cnt, max_cnt = 1, 1\n",
    "    # 오른쪽으로 먼저 체크\n",
    "    for i in range(N):\n",
    "        for j in range(N-1):\n",
    "            if candys[i][j] == candys[i][j+1]:\n",
    "                row_cnt += 1\n",
    "            else:\n",
    "                row_cnt = 1\n",
    "            max_cnt = max(row_cnt, max_cnt)\n",
    "            if max_cnt == N:\n",
    "                return N\n",
    "        row_cnt = 1\n",
    "    \n",
    "    col_cnt = 1\n",
    "    # 아래로\n",
    "    for j in range(N):\n",
    "        for i in range(N-1):\n",
    "            if candys[i][j] == candys[i+1][j]:\n",
    "                col_cnt += 1\n",
    "            else:\n",
    "                col_cnt = 1\n",
    "            max_cnt = max(col_cnt, max_cnt)\n",
    "            if max_cnt == N:\n",
    "                return N\n",
    "        col_cnt = 1\n",
    "    return max_cnt\n",
    "\n",
    "def solution(N, candys):\n",
    "    answer = 0\n",
    "    pos = [[-1,0],[1,0],[0,-1],[0,1]]\n",
    "    for i in range(N):\n",
    "        for j in range(N):\n",
    "            # 상하좌우 바꿔보기\n",
    "            for k in range(4):\n",
    "                nx, ny = i + pos[k][0], j + pos[k][1]\n",
    "\n",
    "                if nx<0 or nx>=N or ny<0 or ny>=N:\n",
    "                    continue\n",
    "                if candys[i][j] != candys[nx][ny]:\n",
    "                    candys[nx][ny], candys[i][j] = candys[i][j], candys[nx][ny]\n",
    "                    answer = max(answer, max_count(N))\n",
    "                    if answer == N:\n",
    "                        return N\n",
    "                    # 제자리로 돌려놓기\n",
    "                    candys[i][j], candys[nx][ny] = candys[nx][ny], candys[i][j]\n",
    "    return answer\n",
    "\n",
    "N = int(input())\n",
    "candys = [list(input()) for _ in range(N)]\n",
    "\n",
    "print(solution(N, candys))"
   ]
  },
  {
   "cell_type": "markdown",
   "id": "88403f58",
   "metadata": {},
   "source": [
    "나옹이 코드 보고 수정 - 그래도 python3은 시간초과네..?"
   ]
  },
  {
   "cell_type": "code",
   "execution_count": 44,
   "id": "25ee09c7",
   "metadata": {
    "ExecuteTime": {
     "end_time": "2022-04-19T02:03:53.752406Z",
     "start_time": "2022-04-19T02:03:40.271951Z"
    },
    "scrolled": true
   },
   "outputs": [
    {
     "name": "stdout",
     "output_type": "stream",
     "text": [
      "5\n",
      "YCPZY\n",
      "CYZZP\n",
      "CCPPP\n",
      "YCYZC\n",
      "CPPZZ\n",
      "4\n"
     ]
    }
   ],
   "source": [
    "def max_count(candys, N):\n",
    "    row_cnt, max_cnt = 1, 1\n",
    "    # 오른쪽으로 먼저 체크\n",
    "    for i in range(N):\n",
    "        for j in range(N-1):\n",
    "            if candys[i][j] == candys[i][j+1]:\n",
    "                row_cnt += 1\n",
    "            else:\n",
    "                row_cnt = 1\n",
    "            max_cnt = max(row_cnt, max_cnt)\n",
    "            if max_cnt == N:\n",
    "                return N\n",
    "        row_cnt = 1\n",
    "    \n",
    "    col_cnt = 1\n",
    "    # 아래로\n",
    "    for j in range(N):\n",
    "        for i in range(N-1):\n",
    "            if candys[i][j] == candys[i+1][j]:\n",
    "                col_cnt += 1\n",
    "            else:\n",
    "                col_cnt = 1\n",
    "            max_cnt = max(col_cnt, max_cnt)\n",
    "            if max_cnt == N:\n",
    "                return N\n",
    "        col_cnt = 1\n",
    "    return max_cnt\n",
    "\n",
    "def solution(N, candys):\n",
    "    answer = 0\n",
    "    for i in range(N):\n",
    "        for j in range(N):\n",
    "            if j+1 < N:\n",
    "                candys[i][j], candys[i][j+1] = candys[i][j+1], candys[i][j]\n",
    "                answer = max(answer, max_count(N))\n",
    "                if answer == N:\n",
    "                    return N\n",
    "                candys[i][j], candys[i][j + 1] = candys[i][j + 1], candys[i][j]\n",
    "\n",
    "            if i+1 < N:\n",
    "                candys[i][j], candys[i+1][j] = candys[i+1][j], candys[i][j]\n",
    "                answer = max(answer, max_count(candys, N))\n",
    "                if answer == N:\n",
    "                    return N\n",
    "                candys[i][j], candys[i+1][j] = candys[i+1][j], candys[i][j]\n",
    "\n",
    "    return answer\n",
    "\n",
    "N = int(input())\n",
    "candys = [list(input()) for _ in range(N)]\n",
    "\n",
    "print(solution(N, candys))"
   ]
  },
  {
   "cell_type": "markdown",
   "id": "0c795805",
   "metadata": {},
   "source": [
    "solution - python3 : max() 여러번안돌리고 list에 담은담에 한번에 max 찾음"
   ]
  },
  {
   "cell_type": "code",
   "execution_count": 51,
   "id": "d4b3b80f",
   "metadata": {
    "ExecuteTime": {
     "end_time": "2022-04-19T04:43:03.810894Z",
     "start_time": "2022-04-19T04:42:43.587482Z"
    }
   },
   "outputs": [
    {
     "name": "stdout",
     "output_type": "stream",
     "text": [
      "5\n",
      "YCPZY\n",
      "CYZZP\n",
      "CCPPP\n",
      "YCYZC\n",
      "CPPZZ\n",
      "4\n"
     ]
    }
   ],
   "source": [
    "def max_count(candys, N):\n",
    "    cnt_arr = []\n",
    "    row_cnt, max_cnt = 1, 1\n",
    "    # 오른쪽으로 먼저 체크\n",
    "    for i in range(N):\n",
    "        for j in range(N-1):\n",
    "            if candys[i][j] == candys[i][j+1]:\n",
    "                row_cnt += 1\n",
    "            else:\n",
    "                row_cnt = 1\n",
    "            if row_cnt == N:\n",
    "                return N\n",
    "            cnt_arr.append(row_cnt)\n",
    "        row_cnt = 1\n",
    "    \n",
    "    col_cnt = 1\n",
    "    # 아래로\n",
    "    for j in range(N):\n",
    "        for i in range(N-1):\n",
    "            if candys[i][j] == candys[i+1][j]:\n",
    "                col_cnt += 1\n",
    "            else:\n",
    "                col_cnt = 1\n",
    "            if col_cnt == N:\n",
    "                return N\n",
    "            cnt_arr.append(col_cnt)\n",
    "        col_cnt = 1\n",
    "    return max(cnt_arr)\n",
    "\n",
    "def solution(N, candys):\n",
    "    answer = 0\n",
    "    for i in range(N):\n",
    "        for j in range(N):\n",
    "            if j+1 < N:\n",
    "                candys[i][j], candys[i][j+1] = candys[i][j+1], candys[i][j]\n",
    "                answer = max(answer, max_count(candys, N))\n",
    "                if answer == N:\n",
    "                    return N\n",
    "                candys[i][j], candys[i][j + 1] = candys[i][j + 1], candys[i][j]\n",
    "\n",
    "            if i+1 < N:\n",
    "                candys[i][j], candys[i+1][j] = candys[i+1][j], candys[i][j]\n",
    "                answer = max(answer, max_count(candys, N))\n",
    "                if answer == N:\n",
    "                    return N\n",
    "                candys[i][j], candys[i+1][j] = candys[i+1][j], candys[i][j]\n",
    "    return answer\n",
    "\n",
    "N = int(input())\n",
    "candys = [list(input()) for _ in range(N)]\n",
    "\n",
    "print(solution(N, candys))"
   ]
  }
 ],
 "metadata": {
  "kernelspec": {
   "display_name": "Python 3",
   "language": "python",
   "name": "python3"
  },
  "language_info": {
   "codemirror_mode": {
    "name": "ipython",
    "version": 3
   },
   "file_extension": ".py",
   "mimetype": "text/x-python",
   "name": "python",
   "nbconvert_exporter": "python",
   "pygments_lexer": "ipython3",
   "version": "3.8.8"
  },
  "toc": {
   "base_numbering": 1,
   "nav_menu": {},
   "number_sections": true,
   "sideBar": true,
   "skip_h1_title": false,
   "title_cell": "Table of Contents",
   "title_sidebar": "Contents",
   "toc_cell": false,
   "toc_position": {},
   "toc_section_display": true,
   "toc_window_display": false
  },
  "varInspector": {
   "cols": {
    "lenName": 16,
    "lenType": 16,
    "lenVar": 40
   },
   "kernels_config": {
    "python": {
     "delete_cmd_postfix": "",
     "delete_cmd_prefix": "del ",
     "library": "var_list.py",
     "varRefreshCmd": "print(var_dic_list())"
    },
    "r": {
     "delete_cmd_postfix": ") ",
     "delete_cmd_prefix": "rm(",
     "library": "var_list.r",
     "varRefreshCmd": "cat(var_dic_list()) "
    }
   },
   "types_to_exclude": [
    "module",
    "function",
    "builtin_function_or_method",
    "instance",
    "_Feature"
   ],
   "window_display": false
  }
 },
 "nbformat": 4,
 "nbformat_minor": 5
}
