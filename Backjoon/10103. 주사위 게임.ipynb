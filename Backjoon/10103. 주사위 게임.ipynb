{
 "cells": [
  {
   "cell_type": "markdown",
   "id": "ab676210",
   "metadata": {},
   "source": [
    "https://www.acmicpc.net/problem/10103"
   ]
  },
  {
   "cell_type": "markdown",
   "id": "76203f65",
   "metadata": {},
   "source": [
    "## 문제\n",
    "창영이와 상덕이는 게임을 하고 있다.\n",
    "\n",
    "게임을 시작하는 시점에서, 두 사람의 점수는 모두 100점이다.\n",
    "\n",
    "게임은 여섯 면 주사위를 사용하며, 라운드로 진행된다. 매 라운드마다, 각 사람은 주사위를 던진다. 낮은 숫자가 나온 사람은 상대편 주사위에 나온 숫자만큼 점수를 잃게 된다. 두 사람의 주사위가 같은 숫자가 나온 경우에는 아무도 점수를 잃지 않는다.\n",
    "\n",
    "게임이 끝난 이후에 두 사람의 점수를 구하는 프로그램을 작성하시오.\n",
    "\n",
    "## 입력\n",
    "첫째 줄에 라운드의 수 n (1 ≤ n ≤ 15)가 주어진다. 다음 n개 줄에는 두 정수가 주어진다. 첫 번째 정수는 그 라운드에서 창영이의 주사위에 나타난 숫자, 두 번째 정수는 상덕이의 주사위에 나타난 숫자이다. 두 정수는 항상 1보다 크거나 같고, 6보다 작거나 같다.\n",
    "\n",
    "## 출력\n",
    "첫째 줄에 게임이 끝난 이후에 창영이의 점수, 둘째 줄에는 상덕이의 점수를 출력한다."
   ]
  },
  {
   "attachments": {
    "image.png": {
     "image/png": "[encoded data removed]"
    }
   },
   "cell_type": "markdown",
   "id": "68386e83",
   "metadata": {},
   "source": [
    "![image.png](attachment:image.png)"
   ]
  },
  {
   "cell_type": "code",
   "execution_count": 1,
   "id": "60169e11",
   "metadata": {
    "ExecuteTime": {
     "end_time": "2022-05-09T08:17:39.269557Z",
     "start_time": "2022-05-09T08:17:37.791460Z"
    }
   },
   "outputs": [
    {
     "name": "stdout",
     "output_type": "stream",
     "text": [
      "4\n"
     ]
    }
   ],
   "source": [
    "n = int(input())"
   ]
  },
  {
   "cell_type": "code",
   "execution_count": 3,
   "id": "3d2cc275",
   "metadata": {
    "ExecuteTime": {
     "end_time": "2022-05-09T08:19:11.725200Z",
     "start_time": "2022-05-09T08:19:11.718223Z"
    }
   },
   "outputs": [],
   "source": [
    "cy_total, sd_total = 100, 100"
   ]
  },
  {
   "cell_type": "code",
   "execution_count": 4,
   "id": "c762eabf",
   "metadata": {
    "ExecuteTime": {
     "end_time": "2022-05-09T08:20:34.120801Z",
     "start_time": "2022-05-09T08:20:27.046757Z"
    }
   },
   "outputs": [
    {
     "name": "stdout",
     "output_type": "stream",
     "text": [
      "5 6\n",
      "6 6\n",
      "4 3\n",
      "5 2\n"
     ]
    }
   ],
   "source": [
    "for _ in range(n):\n",
    "    cy, sd = map(int, input().split())\n",
    "    if cy > sd:\n",
    "        sd_total -= cy\n",
    "    elif sd > cy:\n",
    "        cy_total -= sd"
   ]
  },
  {
   "cell_type": "code",
   "execution_count": 5,
   "id": "1306b20e",
   "metadata": {
    "ExecuteTime": {
     "end_time": "2022-05-09T08:20:43.927716Z",
     "start_time": "2022-05-09T08:20:43.901130Z"
    }
   },
   "outputs": [
    {
     "data": {
      "text/plain": [
       "(94, 91)"
      ]
     },
     "execution_count": 5,
     "metadata": {},
     "output_type": "execute_result"
    }
   ],
   "source": [
    "cy_total, sd_total"
   ]
  },
  {
   "cell_type": "markdown",
   "id": "d9425880",
   "metadata": {},
   "source": [
    "제출코드"
   ]
  },
  {
   "cell_type": "code",
   "execution_count": 6,
   "id": "91529382",
   "metadata": {
    "ExecuteTime": {
     "end_time": "2022-05-09T08:21:37.007655Z",
     "start_time": "2022-05-09T08:21:30.071605Z"
    }
   },
   "outputs": [
    {
     "name": "stdout",
     "output_type": "stream",
     "text": [
      "4\n",
      "5 6\n",
      "6 6\n",
      "4 3\n",
      "5 2\n",
      "94\n",
      "91\n"
     ]
    }
   ],
   "source": [
    "n = int(input())\n",
    "cy_total, sd_total = 100, 100\n",
    "for _ in range(n):\n",
    "    cy, sd = map(int, input().split())\n",
    "    if cy > sd:\n",
    "        sd_total -= cy\n",
    "    elif sd > cy:\n",
    "        cy_total -= sd\n",
    "        \n",
    "print(cy_total)\n",
    "print(sd_total)"
   ]
  },
  {
   "cell_type": "code",
   "execution_count": null,
   "id": "43ecbb2e",
   "metadata": {},
   "outputs": [],
   "source": []
  }
 ],
 "metadata": {
  "kernelspec": {
   "display_name": "Python 3",
   "language": "python",
   "name": "python3"
  },
  "language_info": {
   "codemirror_mode": {
    "name": "ipython",
    "version": 3
   },
   "file_extension": ".py",
   "mimetype": "text/x-python",
   "name": "python",
   "nbconvert_exporter": "python",
   "pygments_lexer": "ipython3",
   "version": "3.8.8"
  },
  "toc": {
   "base_numbering": 1,
   "nav_menu": {},
   "number_sections": true,
   "sideBar": true,
   "skip_h1_title": false,
   "title_cell": "Table of Contents",
   "title_sidebar": "Contents",
   "toc_cell": false,
   "toc_position": {},
   "toc_section_display": true,
   "toc_window_display": false
  },
  "varInspector": {
   "cols": {
    "lenName": 16,
    "lenType": 16,
    "lenVar": 40
   },
   "kernels_config": {
    "python": {
     "delete_cmd_postfix": "",
     "delete_cmd_prefix": "del ",
     "library": "var_list.py",
     "varRefreshCmd": "print(var_dic_list())"
    },
    "r": {
     "delete_cmd_postfix": ") ",
     "delete_cmd_prefix": "rm(",
     "library": "var_list.r",
     "varRefreshCmd": "cat(var_dic_list()) "
    }
   },
   "types_to_exclude": [
    "module",
    "function",
    "builtin_function_or_method",
    "instance",
    "_Feature"
   ],
   "window_display": false
  }
 },
 "nbformat": 4,
 "nbformat_minor": 5
}
