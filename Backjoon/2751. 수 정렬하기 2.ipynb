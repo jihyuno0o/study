{
 "cells": [
  {
   "cell_type": "markdown",
   "id": "5f11d917",
   "metadata": {},
   "source": [
    "https://www.acmicpc.net/problem/2751"
   ]
  },
  {
   "cell_type": "markdown",
   "id": "fa142f7d",
   "metadata": {},
   "source": [
    "## 문제\n",
    "N개의 수가 주어졌을 때, 이를 오름차순으로 정렬하는 프로그램을 작성하시오.\n",
    "\n",
    "## 입력\n",
    "첫째 줄에 수의 개수 N(1 ≤ N ≤ 1,000,000)이 주어진다. 둘째 줄부터 N개의 줄에는 수가 주어진다. 이 수는 절댓값이 1,000,000보다 작거나 같은 정수이다. 수는 중복되지 않는다.\n",
    "\n",
    "## 출력\n",
    "첫째 줄부터 N개의 줄에 오름차순으로 정렬한 결과를 한 줄에 하나씩 출력한다."
   ]
  },
  {
   "cell_type": "code",
   "execution_count": null,
   "id": "e29de23e",
   "metadata": {},
   "outputs": [],
   "source": [
    "# 예제 입력\n",
    "5\n",
    "5\n",
    "4\n",
    "3\n",
    "2\n",
    "1"
   ]
  },
  {
   "cell_type": "code",
   "execution_count": null,
   "id": "5d7d0279",
   "metadata": {},
   "outputs": [],
   "source": [
    "# 예제 출력 \n",
    "1\n",
    "2\n",
    "3\n",
    "4\n",
    "5"
   ]
  },
  {
   "cell_type": "markdown",
   "id": "5befc057",
   "metadata": {},
   "source": [
    "solution - python3 시간초과 나오고 pypy3제출통과"
   ]
  },
  {
   "cell_type": "code",
   "execution_count": 1,
   "id": "5cd4f533",
   "metadata": {
    "ExecuteTime": {
     "end_time": "2022-04-14T07:32:56.656955Z",
     "start_time": "2022-04-14T07:32:53.084583Z"
    }
   },
   "outputs": [
    {
     "name": "stdout",
     "output_type": "stream",
     "text": [
      "5\n",
      "5\n",
      "4\n",
      "3\n",
      "2\n",
      "1\n",
      "1\n",
      "2\n",
      "3\n",
      "4\n",
      "5\n"
     ]
    }
   ],
   "source": [
    "n = int(input())\n",
    "nums = []\n",
    "for i in range(n):\n",
    "    nums.append(int(input()))\n",
    "for num in sorted(nums):\n",
    "    print(num)"
   ]
  },
  {
   "cell_type": "markdown",
   "id": "490008d7",
   "metadata": {},
   "source": [
    "sys 써서 python3 제출통과"
   ]
  },
  {
   "cell_type": "code",
   "execution_count": null,
   "id": "c5313d88",
   "metadata": {},
   "outputs": [],
   "source": [
    "import sys\n",
    "ipt = sys.stdin.readline\n",
    "nums = []\n",
    "for i in range(int(ipt())):\n",
    "    nums.append(int(ipt()))\n",
    "for num in sorted(nums):\n",
    "    print(num)"
   ]
  }
 ],
 "metadata": {
  "kernelspec": {
   "display_name": "Python 3",
   "language": "python",
   "name": "python3"
  },
  "language_info": {
   "codemirror_mode": {
    "name": "ipython",
    "version": 3
   },
   "file_extension": ".py",
   "mimetype": "text/x-python",
   "name": "python",
   "nbconvert_exporter": "python",
   "pygments_lexer": "ipython3",
   "version": "3.8.8"
  },
  "toc": {
   "base_numbering": 1,
   "nav_menu": {},
   "number_sections": true,
   "sideBar": true,
   "skip_h1_title": false,
   "title_cell": "Table of Contents",
   "title_sidebar": "Contents",
   "toc_cell": false,
   "toc_position": {},
   "toc_section_display": true,
   "toc_window_display": false
  },
  "varInspector": {
   "cols": {
    "lenName": 16,
    "lenType": 16,
    "lenVar": 40
   },
   "kernels_config": {
    "python": {
     "delete_cmd_postfix": "",
     "delete_cmd_prefix": "del ",
     "library": "var_list.py",
     "varRefreshCmd": "print(var_dic_list())"
    },
    "r": {
     "delete_cmd_postfix": ") ",
     "delete_cmd_prefix": "rm(",
     "library": "var_list.r",
     "varRefreshCmd": "cat(var_dic_list()) "
    }
   },
   "types_to_exclude": [
    "module",
    "function",
    "builtin_function_or_method",
    "instance",
    "_Feature"
   ],
   "window_display": false
  }
 },
 "nbformat": 4,
 "nbformat_minor": 5
}
