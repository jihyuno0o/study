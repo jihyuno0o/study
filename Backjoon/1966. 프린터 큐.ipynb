{
 "cells": [
  {
   "cell_type": "markdown",
   "id": "114159de",
   "metadata": {},
   "source": [
    "https://www.acmicpc.net/problem/1966"
   ]
  },
  {
   "cell_type": "markdown",
   "id": "fe2676aa",
   "metadata": {},
   "source": [
    "## 문제\n",
    "여러분도 알다시피 여러분의 프린터 기기는 여러분이 인쇄하고자 하는 문서를 인쇄 명령을 받은 ‘순서대로’, 즉 먼저 요청된 것을 먼저 인쇄한다. 여러 개의 문서가 쌓인다면 Queue 자료구조에 쌓여서 FIFO - First In First Out - 에 따라 인쇄가 되게 된다. 하지만 상근이는 새로운 프린터기 내부 소프트웨어를 개발하였는데, 이 프린터기는 다음과 같은 조건에 따라 인쇄를 하게 된다.\n",
    "\n",
    "현재 Queue의 가장 앞에 있는 문서의 ‘중요도’를 확인한다.\n",
    "나머지 문서들 중 현재 문서보다 중요도가 높은 문서가 하나라도 있다면, 이 문서를 인쇄하지 않고 Queue의 가장 뒤에 재배치 한다. 그렇지 않다면 바로 인쇄를 한다.\n",
    "예를 들어 Queue에 4개의 문서(A B C D)가 있고, 중요도가 2 1 4 3 라면 C를 인쇄하고, 다음으로 D를 인쇄하고 A, B를 인쇄하게 된다.\n",
    "\n",
    "여러분이 할 일은, 현재 Queue에 있는 문서의 수와 중요도가 주어졌을 때, 어떤 한 문서가 몇 번째로 인쇄되는지 알아내는 것이다. 예를 들어 위의 예에서 C문서는 1번째로, A문서는 3번째로 인쇄되게 된다.\n",
    "\n",
    "## 입력\n",
    "첫 줄에 테스트케이스의 수가 주어진다. 각 테스트케이스는 두 줄로 이루어져 있다.\n",
    "\n",
    "테스트케이스의 첫 번째 줄에는 문서의 개수 N(1 ≤ N ≤ 100)과, 몇 번째로 인쇄되었는지 궁금한 문서가 현재 Queue에서 몇 번째에 놓여 있는지를 나타내는 정수 M(0 ≤ M < N)이 주어진다. 이때 맨 왼쪽은 0번째라고 하자. 두 번째 줄에는 N개 문서의 중요도가 차례대로 주어진다. 중요도는 1 이상 9 이하의 정수이고, 중요도가 같은 문서가 여러 개 있을 수도 있다.\n",
    "\n",
    "## 출력\n",
    "각 테스트 케이스에 대해 문서가 몇 번째로 인쇄되는지 출력한다."
   ]
  },
  {
   "attachments": {
    "image.png": {
     "image/png": "[encoded data removed]"
    }
   },
   "cell_type": "markdown",
   "id": "4380b4f5",
   "metadata": {},
   "source": [
    "![image.png](attachment:image.png)"
   ]
  },
  {
   "cell_type": "code",
   "execution_count": 1,
   "id": "10ec668c",
   "metadata": {
    "ExecuteTime": {
     "end_time": "2022-05-04T02:53:04.024382Z",
     "start_time": "2022-05-04T02:53:01.917598Z"
    }
   },
   "outputs": [
    {
     "name": "stdout",
     "output_type": "stream",
     "text": [
      "3\n"
     ]
    }
   ],
   "source": [
    "t = int(input())"
   ]
  },
  {
   "cell_type": "code",
   "execution_count": 18,
   "id": "ef080e3d",
   "metadata": {
    "ExecuteTime": {
     "end_time": "2022-05-04T03:03:28.208927Z",
     "start_time": "2022-05-04T03:02:55.439956Z"
    }
   },
   "outputs": [
    {
     "name": "stdout",
     "output_type": "stream",
     "text": [
      "1 0 \n",
      "5\n",
      "1\n",
      "4 2\n",
      "1 2 3 4\n",
      "2\n",
      "6 0\n",
      "1 1 9 1 1 1\n",
      "3\n"
     ]
    }
   ],
   "source": [
    "from collections import deque\n",
    "for _ in range(t):\n",
    "    L, index = map(int, input().split())\n",
    "    idx = deque([0] * L)\n",
    "    idx[index] = 1 # 찾고자 하는 문서 1로 표시\n",
    "    docs = deque(map(int, input().split())) # 중요도 저장\n",
    "    print(find_seq(docs, idx))"
   ]
  },
  {
   "cell_type": "code",
   "execution_count": 23,
   "id": "af4cede3",
   "metadata": {
    "ExecuteTime": {
     "end_time": "2022-05-04T04:13:58.226471Z",
     "start_time": "2022-05-04T04:13:58.207304Z"
    }
   },
   "outputs": [],
   "source": [
    "def find_seq(docs, idx):\n",
    "    seq = 0\n",
    "    Max = max(docs)\n",
    "    while True:\n",
    "        if docs[0] == Max: # 현재 남은 문서 중 가장 중요한 문서일 때\n",
    "            docs.popleft()\n",
    "            seq += 1\n",
    "            if idx[0] == 1: # 그 문서가 찾는 문서일 때\n",
    "                return seq            \n",
    "            idx.popleft() # 아닐 때\n",
    "            Max = max(docs)\n",
    "            \n",
    "        else:\n",
    "            docs.append(docs.popleft())\n",
    "            idx.append(idx.popleft())"
   ]
  },
  {
   "cell_type": "markdown",
   "id": "2a8c1c35",
   "metadata": {},
   "source": [
    "제출코드"
   ]
  },
  {
   "cell_type": "code",
   "execution_count": null,
   "id": "b79ff7a8",
   "metadata": {},
   "outputs": [],
   "source": [
    "from collections import deque\n",
    "def find_seq(docs, idx):\n",
    "    seq = 0\n",
    "    Max = max(docs)\n",
    "    while True:\n",
    "        if docs[0] == Max: # 현재 남은 문서 중 가장 중요한 문서일 때\n",
    "            docs.popleft()\n",
    "            seq += 1\n",
    "            if idx[0] == 1: # 그 문서가 찾는 문서일 때\n",
    "                return seq            \n",
    "            idx.popleft() # 아닐 때\n",
    "            Max = max(docs)\n",
    "            \n",
    "        else:\n",
    "            docs.append(docs.popleft())\n",
    "            idx.append(idx.popleft())\n",
    "            \n",
    "t = int(input())\n",
    "for _ in range(t):\n",
    "    L, index = map(int, input().split())\n",
    "    idx = deque([0] * L)\n",
    "    idx[index] = 1 # 찾고자 하는 문서 1로 표시\n",
    "    docs = deque(map(int, input().split())) # 중요도 저장\n",
    "    print(find_seq(docs, idx))"
   ]
  }
 ],
 "metadata": {
  "kernelspec": {
   "display_name": "Python 3",
   "language": "python",
   "name": "python3"
  },
  "language_info": {
   "codemirror_mode": {
    "name": "ipython",
    "version": 3
   },
   "file_extension": ".py",
   "mimetype": "text/x-python",
   "name": "python",
   "nbconvert_exporter": "python",
   "pygments_lexer": "ipython3",
   "version": "3.8.8"
  },
  "toc": {
   "base_numbering": 1,
   "nav_menu": {},
   "number_sections": true,
   "sideBar": true,
   "skip_h1_title": false,
   "title_cell": "Table of Contents",
   "title_sidebar": "Contents",
   "toc_cell": false,
   "toc_position": {},
   "toc_section_display": true,
   "toc_window_display": false
  },
  "varInspector": {
   "cols": {
    "lenName": 16,
    "lenType": 16,
    "lenVar": 40
   },
   "kernels_config": {
    "python": {
     "delete_cmd_postfix": "",
     "delete_cmd_prefix": "del ",
     "library": "var_list.py",
     "varRefreshCmd": "print(var_dic_list())"
    },
    "r": {
     "delete_cmd_postfix": ") ",
     "delete_cmd_prefix": "rm(",
     "library": "var_list.r",
     "varRefreshCmd": "cat(var_dic_list()) "
    }
   },
   "types_to_exclude": [
    "module",
    "function",
    "builtin_function_or_method",
    "instance",
    "_Feature"
   ],
   "window_display": false
  }
 },
 "nbformat": 4,
 "nbformat_minor": 5
}
