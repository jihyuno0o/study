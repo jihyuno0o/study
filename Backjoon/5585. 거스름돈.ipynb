{
 "cells": [
  {
   "cell_type": "markdown",
   "id": "ec4ea24c",
   "metadata": {},
   "source": [
    "https://www.acmicpc.net/problem/5585"
   ]
  },
  {
   "cell_type": "markdown",
   "id": "013e519b",
   "metadata": {},
   "source": [
    "## 문제\n",
    "타로는 자주 JOI잡화점에서 물건을 산다. JOI잡화점에는 잔돈으로 500엔, 100엔, 50엔, 10엔, 5엔, 1엔이 충분히 있고, 언제나 거스름돈 개수가 가장 적게 잔돈을 준다. 타로가 JOI잡화점에서 물건을 사고 카운터에서 1000엔 지폐를 한장 냈을 때, 받을 잔돈에 포함된 잔돈의 개수를 구하는 프로그램을 작성하시오.\n",
    "\n",
    "## 입력\n",
    "입력은 한줄로 이루어져있고, 타로가 지불할 돈(1 이상 1000미만의 정수) 1개가 쓰여져있다.\n",
    "\n",
    "## 출력\n",
    "제출할 출력 파일은 1행으로만 되어 있다. 잔돈에 포함된 매수를 출력하시오."
   ]
  },
  {
   "attachments": {
    "image.png": {
     "image/png": "[encoded data removed]"
    }
   },
   "cell_type": "markdown",
   "id": "7e65408d",
   "metadata": {},
   "source": [
    "![image.png](attachment:image.png)"
   ]
  },
  {
   "cell_type": "code",
   "execution_count": 1,
   "id": "8cdbcac0",
   "metadata": {
    "ExecuteTime": {
     "end_time": "2022-06-07T07:53:47.886772Z",
     "start_time": "2022-06-07T07:53:46.627675Z"
    }
   },
   "outputs": [
    {
     "name": "stdout",
     "output_type": "stream",
     "text": [
      "380\n"
     ]
    }
   ],
   "source": [
    "pay = int(input())"
   ]
  },
  {
   "cell_type": "code",
   "execution_count": 2,
   "id": "49b1b56e",
   "metadata": {
    "ExecuteTime": {
     "end_time": "2022-06-07T07:54:25.303150Z",
     "start_time": "2022-06-07T07:54:25.293162Z"
    }
   },
   "outputs": [
    {
     "data": {
      "text/plain": [
       "620"
      ]
     },
     "execution_count": 2,
     "metadata": {},
     "output_type": "execute_result"
    }
   ],
   "source": [
    "changes = 1000 - pay\n",
    "changes"
   ]
  },
  {
   "cell_type": "code",
   "execution_count": 3,
   "id": "66c56b8e",
   "metadata": {
    "ExecuteTime": {
     "end_time": "2022-06-07T07:57:20.773922Z",
     "start_time": "2022-06-07T07:57:20.763973Z"
    }
   },
   "outputs": [],
   "source": [
    "answer = 0"
   ]
  },
  {
   "cell_type": "code",
   "execution_count": 4,
   "id": "8ed23bf2",
   "metadata": {
    "ExecuteTime": {
     "end_time": "2022-06-07T07:59:24.079272Z",
     "start_time": "2022-06-07T07:59:24.062951Z"
    }
   },
   "outputs": [
    {
     "name": "stdout",
     "output_type": "stream",
     "text": [
      "120 500 1\n",
      "20 100 1\n",
      "20 50 0\n",
      "0 10 2\n",
      "0 5 0\n",
      "0 1 0\n"
     ]
    }
   ],
   "source": [
    "moneys = [500, 100, 50, 10, 5, 1]\n",
    "for money in moneys:\n",
    "    cnt = changes // money\n",
    "    answer += cnt\n",
    "    changes -= cnt * money\n",
    "    print(changes, money, cnt)"
   ]
  },
  {
   "cell_type": "code",
   "execution_count": 5,
   "id": "a741ef24",
   "metadata": {
    "ExecuteTime": {
     "end_time": "2022-06-07T07:59:36.189718Z",
     "start_time": "2022-06-07T07:59:36.174866Z"
    },
    "scrolled": true
   },
   "outputs": [
    {
     "data": {
      "text/plain": [
       "4"
      ]
     },
     "execution_count": 5,
     "metadata": {},
     "output_type": "execute_result"
    }
   ],
   "source": [
    "answer"
   ]
  },
  {
   "cell_type": "markdown",
   "id": "20c4c56c",
   "metadata": {},
   "source": [
    "제출 코드"
   ]
  },
  {
   "cell_type": "code",
   "execution_count": null,
   "id": "9d9e55ba",
   "metadata": {},
   "outputs": [],
   "source": [
    "pay = int(input())\n",
    "changes = 1000 - pay\n",
    "answer = 0\n",
    "moneys = [500, 100, 50, 10, 5, 1]\n",
    "for money in moneys:\n",
    "    cnt = changes // money # 잔돈 개수\n",
    "    answer += cnt\n",
    "    changes -= cnt * money\n",
    "print(answer)"
   ]
  }
 ],
 "metadata": {
  "kernelspec": {
   "display_name": "Python 3",
   "language": "python",
   "name": "python3"
  },
  "language_info": {
   "codemirror_mode": {
    "name": "ipython",
    "version": 3
   },
   "file_extension": ".py",
   "mimetype": "text/x-python",
   "name": "python",
   "nbconvert_exporter": "python",
   "pygments_lexer": "ipython3",
   "version": "3.8.8"
  },
  "toc": {
   "base_numbering": 1,
   "nav_menu": {},
   "number_sections": true,
   "sideBar": true,
   "skip_h1_title": false,
   "title_cell": "Table of Contents",
   "title_sidebar": "Contents",
   "toc_cell": false,
   "toc_position": {},
   "toc_section_display": true,
   "toc_window_display": false
  },
  "varInspector": {
   "cols": {
    "lenName": 16,
    "lenType": 16,
    "lenVar": 40
   },
   "kernels_config": {
    "python": {
     "delete_cmd_postfix": "",
     "delete_cmd_prefix": "del ",
     "library": "var_list.py",
     "varRefreshCmd": "print(var_dic_list())"
    },
    "r": {
     "delete_cmd_postfix": ") ",
     "delete_cmd_prefix": "rm(",
     "library": "var_list.r",
     "varRefreshCmd": "cat(var_dic_list()) "
    }
   },
   "types_to_exclude": [
    "module",
    "function",
    "builtin_function_or_method",
    "instance",
    "_Feature"
   ],
   "window_display": false
  }
 },
 "nbformat": 4,
 "nbformat_minor": 5
}
