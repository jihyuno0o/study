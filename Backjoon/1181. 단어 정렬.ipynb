{
 "cells": [
  {
   "cell_type": "markdown",
   "id": "8426fbf8",
   "metadata": {},
   "source": [
    "https://www.acmicpc.net/problem/1181"
   ]
  },
  {
   "cell_type": "markdown",
   "id": "3cd9a475",
   "metadata": {},
   "source": [
    "## 문제\n",
    "알파벳 소문자로 이루어진 N개의 단어가 들어오면 아래와 같은 조건에 따라 정렬하는 프로그램을 작성하시오.\n",
    "\n",
    "1. 길이가 짧은 것부터\n",
    "2. 길이가 같으면 사전 순으로\n",
    "\n",
    "## 입력\n",
    "첫째 줄에 단어의 개수 N이 주어진다. (1 ≤ N ≤ 20,000) 둘째 줄부터 N개의 줄에 걸쳐 알파벳 소문자로 이루어진 단어가 한 줄에 하나씩 주어진다. 주어지는 문자열의 길이는 50을 넘지 않는다.\n",
    "\n",
    "## 출력\n",
    "조건에 따라 정렬하여 단어들을 출력한다. 단, 같은 단어가 여러 번 입력된 경우에는 한 번씩만 출력한다."
   ]
  },
  {
   "cell_type": "code",
   "execution_count": null,
   "id": "9c5827d3",
   "metadata": {},
   "outputs": [],
   "source": [
    "# 예제 입력\n",
    "13\n",
    "but\n",
    "i\n",
    "wont\n",
    "hesitate\n",
    "no\n",
    "more\n",
    "no\n",
    "more\n",
    "it\n",
    "cannot\n",
    "wait\n",
    "im\n",
    "yours\n",
    "\n",
    "# 예제 출력\n",
    "i\n",
    "im\n",
    "it\n",
    "no\n",
    "but\n",
    "more\n",
    "wait\n",
    "wont\n",
    "yours\n",
    "cannot\n",
    "hesitate"
   ]
  },
  {
   "cell_type": "code",
   "execution_count": 2,
   "id": "23c14539",
   "metadata": {
    "ExecuteTime": {
     "end_time": "2022-04-14T07:06:13.719199Z",
     "start_time": "2022-04-14T07:06:12.811464Z"
    }
   },
   "outputs": [
    {
     "name": "stdout",
     "output_type": "stream",
     "text": [
      "13\n"
     ]
    }
   ],
   "source": [
    "n = int(input())"
   ]
  },
  {
   "cell_type": "code",
   "execution_count": 3,
   "id": "518fe8b7",
   "metadata": {
    "ExecuteTime": {
     "end_time": "2022-04-14T07:07:17.267687Z",
     "start_time": "2022-04-14T07:06:58.338928Z"
    }
   },
   "outputs": [
    {
     "name": "stdout",
     "output_type": "stream",
     "text": [
      "but\n",
      "i\n",
      "wont\n",
      "hesitate\n",
      "no\n",
      "more\n",
      "no\n",
      "more\n",
      "it\n",
      "cannot\n",
      "wait\n",
      "im\n",
      "yours\n"
     ]
    }
   ],
   "source": [
    "words = []\n",
    "for i in range(n):\n",
    "    words.append(input())"
   ]
  },
  {
   "cell_type": "code",
   "execution_count": 14,
   "id": "a5284f8e",
   "metadata": {
    "ExecuteTime": {
     "end_time": "2022-04-14T07:11:17.292412Z",
     "start_time": "2022-04-14T07:11:17.285630Z"
    }
   },
   "outputs": [],
   "source": [
    "set_words = sorted(set(words))"
   ]
  },
  {
   "cell_type": "code",
   "execution_count": 15,
   "id": "218543f4",
   "metadata": {
    "ExecuteTime": {
     "end_time": "2022-04-14T07:11:17.700540Z",
     "start_time": "2022-04-14T07:11:17.683398Z"
    }
   },
   "outputs": [
    {
     "data": {
      "text/plain": [
       "['but',\n",
       " 'cannot',\n",
       " 'hesitate',\n",
       " 'i',\n",
       " 'im',\n",
       " 'it',\n",
       " 'more',\n",
       " 'no',\n",
       " 'wait',\n",
       " 'wont',\n",
       " 'yours']"
      ]
     },
     "execution_count": 15,
     "metadata": {},
     "output_type": "execute_result"
    }
   ],
   "source": [
    "set_words"
   ]
  },
  {
   "cell_type": "code",
   "execution_count": 19,
   "id": "3e98f2db",
   "metadata": {
    "ExecuteTime": {
     "end_time": "2022-04-14T07:14:20.203905Z",
     "start_time": "2022-04-14T07:14:20.183093Z"
    }
   },
   "outputs": [
    {
     "data": {
      "text/plain": [
       "[[3, 'but'],\n",
       " [6, 'cannot'],\n",
       " [8, 'hesitate'],\n",
       " [1, 'i'],\n",
       " [2, 'im'],\n",
       " [2, 'it'],\n",
       " [4, 'more'],\n",
       " [2, 'no'],\n",
       " [4, 'wait'],\n",
       " [4, 'wont'],\n",
       " [5, 'yours']]"
      ]
     },
     "execution_count": 19,
     "metadata": {},
     "output_type": "execute_result"
    }
   ],
   "source": [
    "sort_words = []\n",
    "for word in set_words:\n",
    "    sort_words.append([len(word), word])\n",
    "sort_words"
   ]
  },
  {
   "cell_type": "code",
   "execution_count": 20,
   "id": "38678744",
   "metadata": {
    "ExecuteTime": {
     "end_time": "2022-04-14T07:14:23.636933Z",
     "start_time": "2022-04-14T07:14:23.623337Z"
    }
   },
   "outputs": [
    {
     "data": {
      "text/plain": [
       "[[1, 'i'],\n",
       " [2, 'im'],\n",
       " [2, 'it'],\n",
       " [2, 'no'],\n",
       " [3, 'but'],\n",
       " [4, 'more'],\n",
       " [4, 'wait'],\n",
       " [4, 'wont'],\n",
       " [5, 'yours'],\n",
       " [6, 'cannot'],\n",
       " [8, 'hesitate']]"
      ]
     },
     "execution_count": 20,
     "metadata": {},
     "output_type": "execute_result"
    }
   ],
   "source": [
    "sort_words.sort()\n",
    "sort_words"
   ]
  },
  {
   "cell_type": "code",
   "execution_count": 21,
   "id": "b71c769d",
   "metadata": {
    "ExecuteTime": {
     "end_time": "2022-04-14T07:14:48.389460Z",
     "start_time": "2022-04-14T07:14:48.380505Z"
    }
   },
   "outputs": [
    {
     "name": "stdout",
     "output_type": "stream",
     "text": [
      "i\n",
      "im\n",
      "it\n",
      "no\n",
      "but\n",
      "more\n",
      "wait\n",
      "wont\n",
      "yours\n",
      "cannot\n",
      "hesitate\n"
     ]
    }
   ],
   "source": [
    "for len_word, word in sort_words:\n",
    "    print(word)"
   ]
  },
  {
   "cell_type": "code",
   "execution_count": null,
   "id": "99346d4d",
   "metadata": {},
   "outputs": [],
   "source": []
  }
 ],
 "metadata": {
  "kernelspec": {
   "display_name": "Python 3",
   "language": "python",
   "name": "python3"
  },
  "language_info": {
   "codemirror_mode": {
    "name": "ipython",
    "version": 3
   },
   "file_extension": ".py",
   "mimetype": "text/x-python",
   "name": "python",
   "nbconvert_exporter": "python",
   "pygments_lexer": "ipython3",
   "version": "3.8.8"
  },
  "toc": {
   "base_numbering": 1,
   "nav_menu": {},
   "number_sections": true,
   "sideBar": true,
   "skip_h1_title": false,
   "title_cell": "Table of Contents",
   "title_sidebar": "Contents",
   "toc_cell": false,
   "toc_position": {},
   "toc_section_display": true,
   "toc_window_display": false
  },
  "varInspector": {
   "cols": {
    "lenName": 16,
    "lenType": 16,
    "lenVar": 40
   },
   "kernels_config": {
    "python": {
     "delete_cmd_postfix": "",
     "delete_cmd_prefix": "del ",
     "library": "var_list.py",
     "varRefreshCmd": "print(var_dic_list())"
    },
    "r": {
     "delete_cmd_postfix": ") ",
     "delete_cmd_prefix": "rm(",
     "library": "var_list.r",
     "varRefreshCmd": "cat(var_dic_list()) "
    }
   },
   "types_to_exclude": [
    "module",
    "function",
    "builtin_function_or_method",
    "instance",
    "_Feature"
   ],
   "window_display": false
  }
 },
 "nbformat": 4,
 "nbformat_minor": 5
}
