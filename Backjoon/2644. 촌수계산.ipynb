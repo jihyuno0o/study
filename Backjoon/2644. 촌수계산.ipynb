{
 "cells": [
  {
   "cell_type": "markdown",
   "id": "1ec18f6e",
   "metadata": {},
   "source": [
    "https://www.acmicpc.net/problem/2644"
   ]
  },
  {
   "cell_type": "markdown",
   "id": "cb539a22",
   "metadata": {},
   "source": [
    "## 문제\n",
    "우리 나라는 가족 혹은 친척들 사이의 관계를 촌수라는 단위로 표현하는 독특한 문화를 가지고 있다. 이러한 촌수는 다음과 같은 방식으로 계산된다. 기본적으로 부모와 자식 사이를 1촌으로 정의하고 이로부터 사람들 간의 촌수를 계산한다. 예를 들면 나와 아버지, 아버지와 할아버지는 각각 1촌으로 나와 할아버지는 2촌이 되고, 아버지 형제들과 할아버지는 1촌, 나와 아버지 형제들과는 3촌이 된다.\n",
    "\n",
    "여러 사람들에 대한 부모 자식들 간의 관계가 주어졌을 때, 주어진 두 사람의 촌수를 계산하는 프로그램을 작성하시오.\n",
    "\n",
    "## 입력\n",
    "사람들은 1, 2, 3, …, n (1 ≤ n ≤ 100)의 연속된 번호로 각각 표시된다. 입력 파일의 첫째 줄에는 전체 사람의 수 n이 주어지고, 둘째 줄에는 촌수를 계산해야 하는 서로 다른 두 사람의 번호가 주어진다. 그리고 셋째 줄에는 부모 자식들 간의 관계의 개수 m이 주어진다. 넷째 줄부터는 부모 자식간의 관계를 나타내는 두 번호 x,y가 각 줄에 나온다. 이때 앞에 나오는 번호 x는 뒤에 나오는 정수 y의 부모 번호를 나타낸다.\n",
    "\n",
    "각 사람의 부모는 최대 한 명만 주어진다.\n",
    "\n",
    "## 출력\n",
    "입력에서 요구한 두 사람의 촌수를 나타내는 정수를 출력한다. 어떤 경우에는 두 사람의 친척 관계가 전혀 없어 촌수를 계산할 수 없을 때가 있다. 이때에는 -1을 출력해야 한다."
   ]
  },
  {
   "attachments": {
    "image.png": {
     "image/png": "[encoded data removed]"
    }
   },
   "cell_type": "markdown",
   "id": "07d47479",
   "metadata": {},
   "source": [
    "![image.png](attachment:image.png)"
   ]
  },
  {
   "cell_type": "code",
   "execution_count": 22,
   "id": "4cc00746",
   "metadata": {
    "ExecuteTime": {
     "end_time": "2022-05-13T04:45:51.145375Z",
     "start_time": "2022-05-13T04:45:46.229237Z"
    }
   },
   "outputs": [
    {
     "name": "stdout",
     "output_type": "stream",
     "text": [
      "3\n",
      "1 3\n",
      "1\n",
      "1 2\n",
      "-1\n"
     ]
    }
   ],
   "source": [
    "from collections import deque\n",
    "def bfs(nodes, n, visited, start, end):\n",
    "    queue = deque([start])\n",
    "    cnt = 1\n",
    "    visited[start] = cnt\n",
    "    while queue: # 큐가 빌때까지\n",
    "        v = queue.popleft()\n",
    "        cnt += 1\n",
    "        for i in range(n+1):\n",
    "            if nodes[v][i] == 1 and visited[i] == 0:\n",
    "                queue.append(i)\n",
    "                visited[i] = cnt\n",
    "    return -1\n",
    "         \n",
    "n = int(input())\n",
    "s, e = map(int, input().split())\n",
    "if s > e:\n",
    "    s, e = e, s # sort\n",
    "    \n",
    "nodes = [[0] * (n+1) for _ in range(n+1)]\n",
    "m = int(input())\n",
    "for _ in range(m):\n",
    "    x, y = map(int, input().split())\n",
    "    nodes[x][y] = nodes[y][x] = 1\n",
    "visited = [0] * (n+1)\n",
    "print(bfs(nodes, n, visited, s, e))"
   ]
  },
  {
   "cell_type": "markdown",
   "id": "1bc6f73b",
   "metadata": {},
   "source": [
    "제출코드 - bfs"
   ]
  },
  {
   "cell_type": "code",
   "execution_count": 25,
   "id": "f59cccb8",
   "metadata": {
    "ExecuteTime": {
     "end_time": "2022-05-13T04:55:01.671969Z",
     "start_time": "2022-05-13T04:54:39.864710Z"
    }
   },
   "outputs": [
    {
     "name": "stdout",
     "output_type": "stream",
     "text": [
      "9\n",
      "7 3\n",
      "7\n",
      "1 2\n",
      "1 3\n",
      "2 7\n",
      "2 8\n",
      "2 9\n",
      "4 5\n",
      "4 6\n",
      "3\n"
     ]
    }
   ],
   "source": [
    "from collections import deque\n",
    "def bfs(node):\n",
    "    queue = deque()\n",
    "    queue.append(node)\n",
    "    while queue:\n",
    "        node = queue.popleft()\n",
    "        for n in graph[node]:\n",
    "            if check[n] == 0:\n",
    "                check[n] = check[node] + 1\n",
    "                queue.append(n)\n",
    "\n",
    "n = int(input())\n",
    "graph = [[] for _ in range(n+1)]\n",
    "s, e = map(int, input().split())\n",
    "for _ in range(int(input())):\n",
    "    u, v = map(int, input().split())\n",
    "    graph[u].append(v)\n",
    "    graph[v].append(u)\n",
    "check = [0] * (n+1)\n",
    "bfs(s)\n",
    "print(check[e] if check[e] > 0 else -1)"
   ]
  },
  {
   "cell_type": "code",
   "execution_count": null,
   "id": "abcde8ec",
   "metadata": {},
   "outputs": [],
   "source": [
    "def dfs(node):\n",
    "    for n in graph[node]:\n",
    "        if check[n]"
   ]
  }
 ],
 "metadata": {
  "kernelspec": {
   "display_name": "Python 3",
   "language": "python",
   "name": "python3"
  },
  "language_info": {
   "codemirror_mode": {
    "name": "ipython",
    "version": 3
   },
   "file_extension": ".py",
   "mimetype": "text/x-python",
   "name": "python",
   "nbconvert_exporter": "python",
   "pygments_lexer": "ipython3",
   "version": "3.8.8"
  },
  "toc": {
   "base_numbering": 1,
   "nav_menu": {},
   "number_sections": true,
   "sideBar": true,
   "skip_h1_title": false,
   "title_cell": "Table of Contents",
   "title_sidebar": "Contents",
   "toc_cell": false,
   "toc_position": {},
   "toc_section_display": true,
   "toc_window_display": false
  },
  "varInspector": {
   "cols": {
    "lenName": 16,
    "lenType": 16,
    "lenVar": 40
   },
   "kernels_config": {
    "python": {
     "delete_cmd_postfix": "",
     "delete_cmd_prefix": "del ",
     "library": "var_list.py",
     "varRefreshCmd": "print(var_dic_list())"
    },
    "r": {
     "delete_cmd_postfix": ") ",
     "delete_cmd_prefix": "rm(",
     "library": "var_list.r",
     "varRefreshCmd": "cat(var_dic_list()) "
    }
   },
   "types_to_exclude": [
    "module",
    "function",
    "builtin_function_or_method",
    "instance",
    "_Feature"
   ],
   "window_display": false
  }
 },
 "nbformat": 4,
 "nbformat_minor": 5
}
