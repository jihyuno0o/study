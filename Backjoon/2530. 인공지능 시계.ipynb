{
 "cells": [
  {
   "cell_type": "markdown",
   "id": "3c9dd44e",
   "metadata": {},
   "source": [
    "https://www.acmicpc.net/problem/2530"
   ]
  },
  {
   "cell_type": "markdown",
   "id": "79fe7850",
   "metadata": {},
   "source": [
    "## 문제\n",
    "KOI 전자에서는 건강에 좋고 맛있는 훈제오리구이 요리를 간편하게 만드는 인공지능 오븐을 개발하려고 한다. 인공지능 오븐을 사용하는 방법은 적당한 양의 오리 훈제 재료를 인공지능 오븐에 넣으면 된다. 그러면 인공지능 오븐은 오븐구이가 끝나는 시간을 초 단위로 자동적으로 계산한다. \n",
    "\n",
    "또한, KOI 전자의 인공지능 오븐 앞면에는 사용자에게 훈제오리구이 요리가 끝나는 시각을 알려 주는 디지털 시계가 있다.  \n",
    "\n",
    "훈제오리구이를 시작하는 시각과 오븐구이를 하는 데 필요한 시간이 초 단위로 주어졌을 때, 오븐구이가 끝나는 시각을 계산하는 프로그램을 작성하시오.\n",
    "\n",
    "## 입력\n",
    "첫째 줄에는 현재 시각이 나온다. 현재 시각은 시 A (0 ≤ A ≤ 23), 분 B (0 ≤ B ≤ 59)와 초 C (0 ≤ C ≤ 59)가 정수로 빈칸을 사이에 두고 순서대로 주어진다. 두 번째 줄에는 요리하는 데 필요한 시간 D (0 ≤ D ≤ 500,000)가 초 단위로 주어진다.\n",
    "\n",
    "## 출력\n",
    "첫째 줄에 종료되는 시각의 시, 분, 초을 공백을 사이에 두고 출력한다. (단, 시는 0부터 23까지의 정수이며, 분, 초는 0부터 59까지의 정수이다. 디지털 시계는 23시 59분 59초에서 1초가 지나면 0시 0분 0초가 된다.)"
   ]
  },
  {
   "attachments": {
    "image.png": {
     "image/png": "[encoded data removed]"
    }
   },
   "cell_type": "markdown",
   "id": "d02c3382",
   "metadata": {},
   "source": [
    "![image.png](attachment:image.png)"
   ]
  },
  {
   "cell_type": "code",
   "execution_count": 42,
   "id": "377706cf",
   "metadata": {
    "ExecuteTime": {
     "end_time": "2022-05-16T06:20:13.552360Z",
     "start_time": "2022-05-16T06:20:09.853605Z"
    },
    "scrolled": false
   },
   "outputs": [
    {
     "name": "stdout",
     "output_type": "stream",
     "text": [
      "23 48 59\n",
      "2515\n"
     ]
    }
   ],
   "source": [
    "h, m, s = map(int, input().split())\n",
    "d = int(input())"
   ]
  },
  {
   "cell_type": "code",
   "execution_count": 43,
   "id": "6290e369",
   "metadata": {
    "ExecuteTime": {
     "end_time": "2022-05-16T06:20:14.247746Z",
     "start_time": "2022-05-16T06:20:14.229585Z"
    }
   },
   "outputs": [],
   "source": [
    "s = s + d\n",
    "if s >= 60:\n",
    "    temp = s\n",
    "    s = temp % 60\n",
    "    m = temp // 60 + m"
   ]
  },
  {
   "cell_type": "code",
   "execution_count": 44,
   "id": "3ac599e3",
   "metadata": {
    "ExecuteTime": {
     "end_time": "2022-05-16T06:20:14.690874Z",
     "start_time": "2022-05-16T06:20:14.683922Z"
    }
   },
   "outputs": [
    {
     "data": {
      "text/plain": [
       "(54, 90)"
      ]
     },
     "execution_count": 44,
     "metadata": {},
     "output_type": "execute_result"
    }
   ],
   "source": [
    "s, m"
   ]
  },
  {
   "cell_type": "code",
   "execution_count": 45,
   "id": "d059b86a",
   "metadata": {
    "ExecuteTime": {
     "end_time": "2022-05-16T06:20:28.356793Z",
     "start_time": "2022-05-16T06:20:28.341510Z"
    }
   },
   "outputs": [],
   "source": [
    "if m >= 60:\n",
    "    temp = m\n",
    "    m = temp % 60\n",
    "    h = h + (temp // 60)"
   ]
  },
  {
   "cell_type": "code",
   "execution_count": 46,
   "id": "e5aca0ac",
   "metadata": {
    "ExecuteTime": {
     "end_time": "2022-05-16T06:20:29.158470Z",
     "start_time": "2022-05-16T06:20:29.145503Z"
    }
   },
   "outputs": [
    {
     "data": {
      "text/plain": [
       "(24, 30)"
      ]
     },
     "execution_count": 46,
     "metadata": {},
     "output_type": "execute_result"
    }
   ],
   "source": [
    "h, m"
   ]
  },
  {
   "cell_type": "code",
   "execution_count": 52,
   "id": "34e6e264",
   "metadata": {
    "ExecuteTime": {
     "end_time": "2022-05-16T06:21:28.654070Z",
     "start_time": "2022-05-16T06:21:28.645095Z"
    }
   },
   "outputs": [],
   "source": [
    "if h >= 24:\n",
    "    h = h % 24"
   ]
  },
  {
   "cell_type": "code",
   "execution_count": 53,
   "id": "09a7dcaa",
   "metadata": {
    "ExecuteTime": {
     "end_time": "2022-05-16T06:21:28.981678Z",
     "start_time": "2022-05-16T06:21:28.964726Z"
    }
   },
   "outputs": [
    {
     "data": {
      "text/plain": [
       "0"
      ]
     },
     "execution_count": 53,
     "metadata": {},
     "output_type": "execute_result"
    }
   ],
   "source": [
    "h"
   ]
  },
  {
   "cell_type": "code",
   "execution_count": 51,
   "id": "9772c782",
   "metadata": {
    "ExecuteTime": {
     "end_time": "2022-05-16T06:21:19.851491Z",
     "start_time": "2022-05-16T06:21:19.840520Z"
    }
   },
   "outputs": [
    {
     "data": {
      "text/plain": [
       "0"
      ]
     },
     "execution_count": 51,
     "metadata": {},
     "output_type": "execute_result"
    }
   ],
   "source": [
    "24"
   ]
  },
  {
   "cell_type": "code",
   "execution_count": 55,
   "id": "29681b86",
   "metadata": {
    "ExecuteTime": {
     "end_time": "2022-05-16T06:22:49.287582Z",
     "start_time": "2022-05-16T06:22:49.269628Z"
    }
   },
   "outputs": [
    {
     "name": "stdout",
     "output_type": "stream",
     "text": [
      "0 30 54 "
     ]
    }
   ],
   "source": [
    "print(h,m,s, end=' ')"
   ]
  },
  {
   "cell_type": "markdown",
   "id": "39d5d100",
   "metadata": {},
   "source": [
    "제출코드"
   ]
  },
  {
   "cell_type": "code",
   "execution_count": null,
   "id": "76dd67e3",
   "metadata": {},
   "outputs": [],
   "source": [
    "h, m, s = map(int, input().split())\n",
    "d = int(input())\n",
    "\n",
    "s = s + d\n",
    "if s >= 60:\n",
    "    temp = s\n",
    "    s = temp % 60\n",
    "    m = temp // 60 + m\n",
    "\n",
    "if m >= 60:\n",
    "    temp = m\n",
    "    m = temp % 60\n",
    "    h = h + (temp // 60)\n",
    "    \n",
    "if h >= 24:\n",
    "    h = h % 24\n",
    "\n",
    "print(h, m, s, end=' ')"
   ]
  }
 ],
 "metadata": {
  "kernelspec": {
   "display_name": "Python 3",
   "language": "python",
   "name": "python3"
  },
  "language_info": {
   "codemirror_mode": {
    "name": "ipython",
    "version": 3
   },
   "file_extension": ".py",
   "mimetype": "text/x-python",
   "name": "python",
   "nbconvert_exporter": "python",
   "pygments_lexer": "ipython3",
   "version": "3.8.8"
  },
  "toc": {
   "base_numbering": 1,
   "nav_menu": {},
   "number_sections": true,
   "sideBar": true,
   "skip_h1_title": false,
   "title_cell": "Table of Contents",
   "title_sidebar": "Contents",
   "toc_cell": false,
   "toc_position": {},
   "toc_section_display": true,
   "toc_window_display": false
  },
  "varInspector": {
   "cols": {
    "lenName": 16,
    "lenType": 16,
    "lenVar": 40
   },
   "kernels_config": {
    "python": {
     "delete_cmd_postfix": "",
     "delete_cmd_prefix": "del ",
     "library": "var_list.py",
     "varRefreshCmd": "print(var_dic_list())"
    },
    "r": {
     "delete_cmd_postfix": ") ",
     "delete_cmd_prefix": "rm(",
     "library": "var_list.r",
     "varRefreshCmd": "cat(var_dic_list()) "
    }
   },
   "types_to_exclude": [
    "module",
    "function",
    "builtin_function_or_method",
    "instance",
    "_Feature"
   ],
   "window_display": false
  }
 },
 "nbformat": 4,
 "nbformat_minor": 5
}
