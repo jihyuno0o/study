{
 "cells": [
  {
   "cell_type": "markdown",
   "id": "30260301",
   "metadata": {},
   "source": [
    "https://www.acmicpc.net/problem/1935"
   ]
  },
  {
   "cell_type": "markdown",
   "id": "10ef6680",
   "metadata": {},
   "source": [
    "## 문제\n",
    "후위 표기식과 각 피연산자에 대응하는 값들이 주어져 있을 때, 그 식을 계산하는 프로그램을 작성하시오.\n",
    "\n",
    "## 입력\n",
    "첫째 줄에 피연산자의 개수(1 ≤ N ≤ 26) 가 주어진다. 그리고 둘째 줄에는 후위 표기식이 주어진다. (여기서 피연산자는 A~Z의 영대문자이며, A부터 순서대로 N개의 영대문자만이 사용되며, 길이는 100을 넘지 않는다) 그리고 셋째 줄부터 N+2번째 줄까지는 각 피연산자에 대응하는 값이 주어진다. 3번째 줄에는 A에 해당하는 값, 4번째 줄에는 B에 해당하는값 , 5번째 줄에는 C ...이 주어진다, 그리고 피연산자에 대응 하는 값은 100보다 작거나 같은 자연수이다.\n",
    "\n",
    "후위 표기식을 앞에서부터 계산했을 때, 식의 결과와 중간 결과가 -20억보다 크거나 같고, 20억보다 작거나 같은 입력만 주어진다.\n",
    "\n",
    "## 출력\n",
    "계산 결과를 소숫점 둘째 자리까지 출력한다."
   ]
  },
  {
   "cell_type": "code",
   "execution_count": 1,
   "id": "dcf964cf",
   "metadata": {
    "scrolled": false
   },
   "outputs": [
    {
     "name": "stdout",
     "output_type": "stream",
     "text": [
      "5\n"
     ]
    }
   ],
   "source": [
    "n = int(input())"
   ]
  },
  {
   "cell_type": "code",
   "execution_count": 3,
   "id": "5d964ca9",
   "metadata": {
    "scrolled": true
   },
   "outputs": [
    {
     "name": "stdout",
     "output_type": "stream",
     "text": [
      "ABC*+DE/-\n"
     ]
    }
   ],
   "source": [
    "str = input()"
   ]
  },
  {
   "cell_type": "code",
   "execution_count": 4,
   "id": "aba598e2",
   "metadata": {},
   "outputs": [
    {
     "name": "stdout",
     "output_type": "stream",
     "text": [
      "1\n",
      "2\n",
      "3\n",
      "4\n",
      "5\n"
     ]
    }
   ],
   "source": [
    "num = [int(input()) for _ in range(n)]"
   ]
  },
  {
   "cell_type": "code",
   "execution_count": 5,
   "id": "eed6a72f",
   "metadata": {
    "scrolled": true
   },
   "outputs": [
    {
     "data": {
      "text/plain": [
       "[1, 2, 3, 4, 5]"
      ]
     },
     "execution_count": 5,
     "metadata": {},
     "output_type": "execute_result"
    }
   ],
   "source": [
    "num"
   ]
  },
  {
   "cell_type": "code",
   "execution_count": 6,
   "id": "76ea3d59",
   "metadata": {},
   "outputs": [],
   "source": [
    "results = [] #숫자 저장\n",
    "for s in str:\n",
    "    if 65 <= ord(s) <= 90: \n",
    "        results.append(num[ord(s) - ord('A')]) #피연산자는 저장\n",
    "    else: # 연산자 나오면 젤 최근 숫자 두개 pop\n",
    "        num2 = results.pop()\n",
    "        num1 = results.pop()\n",
    "        if s == '+':\n",
    "            results.append(num1 + num2)\n",
    "        elif s == '-':\n",
    "            results.append(num1 - num2)\n",
    "        elif s == '*':\n",
    "            results.append(num1 * num2)\n",
    "        elif s == '/':\n",
    "            results.append(num1 / num2)\n"
   ]
  },
  {
   "cell_type": "code",
   "execution_count": 13,
   "id": "8a17784e",
   "metadata": {},
   "outputs": [
    {
     "name": "stdout",
     "output_type": "stream",
     "text": [
      "6.20\n"
     ]
    }
   ],
   "source": [
    "print('%.2f' %results[-1])"
   ]
  },
  {
   "cell_type": "markdown",
   "id": "9c9feabb",
   "metadata": {},
   "source": [
    "제출코드"
   ]
  },
  {
   "cell_type": "code",
   "execution_count": null,
   "id": "becc4860",
   "metadata": {},
   "outputs": [],
   "source": [
    "n = int(input())\n",
    "str = input()\n",
    "num = [int(input()) for _ in range(n)]\n",
    "\n",
    "results = [] #숫자 저장\n",
    "for s in str:\n",
    "    if 65 <= ord(s) <= 90: \n",
    "        results.append(num[ord(s) - ord('A')]) #피연산자는 저장\n",
    "    else: # 연산자 나오면 젤 최근 숫자 두개 pop\n",
    "        num2 = results.pop()\n",
    "        num1 = results.pop()\n",
    "        if s == '+':\n",
    "            results.append(num1 + num2)\n",
    "        elif s == '-':\n",
    "            results.append(num1 - num2)\n",
    "        elif s == '*':\n",
    "            results.append(num1 * num2)\n",
    "        elif s == '/':\n",
    "            results.append(num1 / num2)\n",
    "            \n",
    "print('%.2f' %results[-1])"
   ]
  }
 ],
 "metadata": {
  "kernelspec": {
   "display_name": "Python 3 (ipykernel)",
   "language": "python",
   "name": "python3"
  },
  "language_info": {
   "codemirror_mode": {
    "name": "ipython",
    "version": 3
   },
   "file_extension": ".py",
   "mimetype": "text/x-python",
   "name": "python",
   "nbconvert_exporter": "python",
   "pygments_lexer": "ipython3",
   "version": "3.9.7"
  }
 },
 "nbformat": 4,
 "nbformat_minor": 5
}
