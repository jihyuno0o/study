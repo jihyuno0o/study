{
 "cells": [
  {
   "cell_type": "markdown",
   "id": "1d3374af",
   "metadata": {},
   "source": [
    "https://www.acmicpc.net/problem/15235"
   ]
  },
  {
   "cell_type": "markdown",
   "id": "ac966532",
   "metadata": {},
   "source": [
    "## 문제\n",
    "During the Olympiad finals we usually serve pizza for the contestants. When the food arrives, the contestants to queue to get some pizza. Each student will be given a single slice of pizza when his/her turn arrives. The problem is that some people need more than one slice of pizza to be well fed so they need to queue again for more pizza after they get the first one.\n",
    "\n",
    "Given a list of slices needed to fed each of the contestants, compute how long it will take to fed all of them. We can give a slice of pizza every second and when a contestant is well fed he does not return to the queue.\n",
    "\n",
    "## 입력\n",
    "The first line will contain an integer N. The number of contestants.\n",
    "\n",
    "The second line will contain N integers separated by spaces. The number of slices of pizza needed to feed each contestant.\n",
    "\n",
    "N <= 1000\n",
    "\n",
    "The numbers in the sequence will be between 1 and 1000.\n",
    "\n",
    "Each contestant will need at least 1 and at most 100 slices of pizza.\n",
    "\n",
    "## 출력\n",
    "A line containing N integers separated by spaces. The time in which each of the contestant get all the slices he/she needs."
   ]
  },
  {
   "cell_type": "code",
   "execution_count": 6,
   "id": "47741d54",
   "metadata": {
    "ExecuteTime": {
     "end_time": "2022-04-26T06:34:30.175089Z",
     "start_time": "2022-04-26T06:34:28.562313Z"
    }
   },
   "outputs": [
    {
     "name": "stdout",
     "output_type": "stream",
     "text": [
      "4\n"
     ]
    }
   ],
   "source": [
    "n = int(input())"
   ]
  },
  {
   "cell_type": "code",
   "execution_count": 2,
   "id": "f581a1e9",
   "metadata": {
    "ExecuteTime": {
     "end_time": "2022-04-26T06:31:44.212451Z",
     "start_time": "2022-04-26T06:31:40.081788Z"
    }
   },
   "outputs": [
    {
     "name": "stdout",
     "output_type": "stream",
     "text": [
      "1 3 1 4\n"
     ]
    }
   ],
   "source": [
    "pizza = list(map(int, input().split()))"
   ]
  },
  {
   "cell_type": "code",
   "execution_count": 4,
   "id": "d946acd6",
   "metadata": {
    "ExecuteTime": {
     "end_time": "2022-04-26T06:32:56.592013Z",
     "start_time": "2022-04-26T06:32:56.582072Z"
    }
   },
   "outputs": [],
   "source": [
    "P = sum(pizza)"
   ]
  },
  {
   "cell_type": "code",
   "execution_count": 7,
   "id": "1d2e5a09",
   "metadata": {
    "ExecuteTime": {
     "end_time": "2022-04-26T06:37:25.858661Z",
     "start_time": "2022-04-26T06:37:25.847101Z"
    }
   },
   "outputs": [],
   "source": [
    "order = [0] * n\n",
    "cnt = 0\n",
    "while(cnt < P):\n",
    "    for i in range(n):\n",
    "        if pizza[i] == 0:\n",
    "            continue\n",
    "        pizza[i] -= 1\n",
    "        cnt += 1\n",
    "        if pizza[i] == 0:\n",
    "            order[i] = cnt"
   ]
  },
  {
   "cell_type": "code",
   "execution_count": 8,
   "id": "b0026e41",
   "metadata": {
    "ExecuteTime": {
     "end_time": "2022-04-26T06:37:28.634252Z",
     "start_time": "2022-04-26T06:37:28.619977Z"
    }
   },
   "outputs": [
    {
     "data": {
      "text/plain": [
       "[1, 7, 3, 9]"
      ]
     },
     "execution_count": 8,
     "metadata": {},
     "output_type": "execute_result"
    }
   ],
   "source": [
    "order"
   ]
  },
  {
   "cell_type": "code",
   "execution_count": 9,
   "id": "cc9ee417",
   "metadata": {
    "ExecuteTime": {
     "end_time": "2022-04-26T06:38:58.896972Z",
     "start_time": "2022-04-26T06:38:58.884956Z"
    }
   },
   "outputs": [
    {
     "data": {
      "text/plain": [
       "'1 7 3 9'"
      ]
     },
     "execution_count": 9,
     "metadata": {},
     "output_type": "execute_result"
    }
   ],
   "source": [
    "' '.join(map(str, order))"
   ]
  },
  {
   "cell_type": "markdown",
   "id": "dd3b919f",
   "metadata": {},
   "source": [
    "제출코드"
   ]
  },
  {
   "cell_type": "code",
   "execution_count": null,
   "id": "b7be8341",
   "metadata": {},
   "outputs": [],
   "source": [
    "n = int(input())\n",
    "pizza = list(map(int, input().split()))\n",
    "\n",
    "cnt, P = 0, sum(pizza)\n",
    "order = [0] * n\n",
    "\n",
    "while(cnt < P):\n",
    "    for i in range(n): #n조각 순서대로 돌면서\n",
    "        if pizza[i] == 0: #남은 조각이 없으면 pass\n",
    "            continue\n",
    "        pizza[i] -= 1\n",
    "        cnt += 1\n",
    "        if pizza[i] == 0: #마지막 조각일때 order에 저장\n",
    "            order[i] = cnt\n",
    "            \n",
    "print(' '.join(map(str, order)))"
   ]
  }
 ],
 "metadata": {
  "kernelspec": {
   "display_name": "Python 3",
   "language": "python",
   "name": "python3"
  },
  "language_info": {
   "codemirror_mode": {
    "name": "ipython",
    "version": 3
   },
   "file_extension": ".py",
   "mimetype": "text/x-python",
   "name": "python",
   "nbconvert_exporter": "python",
   "pygments_lexer": "ipython3",
   "version": "3.8.8"
  },
  "toc": {
   "base_numbering": 1,
   "nav_menu": {},
   "number_sections": true,
   "sideBar": true,
   "skip_h1_title": false,
   "title_cell": "Table of Contents",
   "title_sidebar": "Contents",
   "toc_cell": false,
   "toc_position": {},
   "toc_section_display": true,
   "toc_window_display": false
  },
  "varInspector": {
   "cols": {
    "lenName": 16,
    "lenType": 16,
    "lenVar": 40
   },
   "kernels_config": {
    "python": {
     "delete_cmd_postfix": "",
     "delete_cmd_prefix": "del ",
     "library": "var_list.py",
     "varRefreshCmd": "print(var_dic_list())"
    },
    "r": {
     "delete_cmd_postfix": ") ",
     "delete_cmd_prefix": "rm(",
     "library": "var_list.r",
     "varRefreshCmd": "cat(var_dic_list()) "
    }
   },
   "types_to_exclude": [
    "module",
    "function",
    "builtin_function_or_method",
    "instance",
    "_Feature"
   ],
   "window_display": false
  }
 },
 "nbformat": 4,
 "nbformat_minor": 5
}
