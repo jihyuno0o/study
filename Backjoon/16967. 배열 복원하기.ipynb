{
 "cells": [
  {
   "cell_type": "markdown",
   "id": "93643248",
   "metadata": {},
   "source": [
    "https://www.acmicpc.net/problem/16967"
   ]
  },
  {
   "cell_type": "markdown",
   "id": "308ac184",
   "metadata": {},
   "source": [
    "## 문제\n",
    "크기가 H × W인 배열 A와 두 정수 X와 Y가 있을 때, 크기가 (H + X) × (W + Y)인 배열 B는 배열 A와 배열 A를 아래로 X칸, 오른쪽으로 Y칸 이동시킨 배열을 겹쳐 만들 수 있다. 수가 겹쳐지면 수가 합쳐진다.\n",
    "\n",
    "즉, 배열 B의 (i, j)에 들어있는 값은 아래 3개 중 하나이다.\n",
    "\n",
    "- (i, j)가 두 배열 모두에 포함되지 않으면, Bi,j = 0이다.\n",
    "- (i, j)가 두 배열 모두에 포함되면, Bi,j = Ai,j + Ai-X,j-Y이다.\n",
    "- (i, j)가 두 배열 중 하나에 포함되면, Bi,j = Ai,j 또는 Ai-X,j-Y이다.\n",
    "\n",
    "배열 B와 정수 X, Y가 주어졌을 때, 배열 A를 구해보자.\n",
    "\n",
    "## 입력\n",
    "첫째 줄에 네 정수 H, W, X, Y가 주어진다. 둘째 줄부터 H + X개의 줄에 배열 B의 원소가 주어진다.\n",
    "\n",
    "항상 배열 A가 존재하는 경우만 입력으로 주어진다.\n",
    "\n",
    "## 출력\n",
    "총 H개의 줄에 배열 A의 원소를 출력한다.\n",
    "\n",
    "## 제한\n",
    "- 2 ≤ H, W ≤ 300\n",
    "- 1 ≤ X < H\n",
    "- 1 ≤ Y < W\n",
    "- 0 ≤ Bi,j ≤ 1,000"
   ]
  },
  {
   "cell_type": "code",
   "execution_count": 20,
   "id": "d6b73499",
   "metadata": {
    "ExecuteTime": {
     "end_time": "2022-04-27T05:11:04.953934Z",
     "start_time": "2022-04-27T05:11:03.027266Z"
    },
    "scrolled": true
   },
   "outputs": [
    {
     "name": "stdout",
     "output_type": "stream",
     "text": [
      "2 4 1 1\n"
     ]
    }
   ],
   "source": [
    "h, w, x, y = map(int, input().split())"
   ]
  },
  {
   "cell_type": "code",
   "execution_count": 21,
   "id": "5af6e425",
   "metadata": {
    "ExecuteTime": {
     "end_time": "2022-04-27T05:11:20.961523Z",
     "start_time": "2022-04-27T05:11:05.874113Z"
    },
    "scrolled": true
   },
   "outputs": [
    {
     "name": "stdout",
     "output_type": "stream",
     "text": [
      "1 2 3 4 0\n",
      "5 7 9 11 4\n",
      "0 5 6 7 8\n"
     ]
    }
   ],
   "source": [
    "b = []\n",
    "for _ in range(h+x):\n",
    "    arr = list(map(int, input().split()))\n",
    "    b.append(arr)"
   ]
  },
  {
   "cell_type": "code",
   "execution_count": 27,
   "id": "7ceca3bd",
   "metadata": {
    "ExecuteTime": {
     "end_time": "2022-04-27T05:24:21.907261Z",
     "start_time": "2022-04-27T05:24:21.887458Z"
    },
    "scrolled": false
   },
   "outputs": [
    {
     "data": {
      "text/plain": [
       "[[1, 2, 3, 4, 0], [5, 7, 9, 11, 4], [0, 5, 6, 7, 8]]"
      ]
     },
     "execution_count": 27,
     "metadata": {},
     "output_type": "execute_result"
    }
   ],
   "source": [
    "b"
   ]
  },
  {
   "cell_type": "code",
   "execution_count": 28,
   "id": "a84361ee",
   "metadata": {
    "ExecuteTime": {
     "end_time": "2022-04-27T05:24:25.285751Z",
     "start_time": "2022-04-27T05:24:25.278501Z"
    }
   },
   "outputs": [
    {
     "data": {
      "text/plain": [
       "[[-1, -1, -1, -1], [-1, -1, -1, -1]]"
      ]
     },
     "execution_count": 28,
     "metadata": {},
     "output_type": "execute_result"
    }
   ],
   "source": [
    "a = [[-1] * w for _ in range(h)]\n",
    "a"
   ]
  },
  {
   "cell_type": "code",
   "execution_count": 29,
   "id": "ea8450fe",
   "metadata": {
    "ExecuteTime": {
     "end_time": "2022-04-27T05:24:27.592448Z",
     "start_time": "2022-04-27T05:24:27.573257Z"
    }
   },
   "outputs": [],
   "source": [
    "for i in range(h):\n",
    "        for j in range(w):\n",
    "            if i < x or j< y:\n",
    "                a[i][j] = b[i][j]\n",
    "            else:\n",
    "                a[i][j] = b[i][j] - a[i-x][j-y]"
   ]
  },
  {
   "cell_type": "code",
   "execution_count": 30,
   "id": "18a1ffb5",
   "metadata": {
    "ExecuteTime": {
     "end_time": "2022-04-27T05:24:28.482618Z",
     "start_time": "2022-04-27T05:24:28.462661Z"
    }
   },
   "outputs": [
    {
     "data": {
      "text/plain": [
       "[[1, 2, 3, 4], [5, 6, 7, 8]]"
      ]
     },
     "execution_count": 30,
     "metadata": {},
     "output_type": "execute_result"
    }
   ],
   "source": [
    "a"
   ]
  },
  {
   "cell_type": "code",
   "execution_count": 19,
   "id": "83236dac",
   "metadata": {
    "ExecuteTime": {
     "end_time": "2022-04-27T05:09:40.822085Z",
     "start_time": "2022-04-27T05:09:40.815984Z"
    }
   },
   "outputs": [
    {
     "name": "stdout",
     "output_type": "stream",
     "text": [
      "1 2 3\n",
      "4 5 6\n",
      "7 8 9\n"
     ]
    }
   ],
   "source": [
    "for i in range(h):\n",
    "    print(' '.join(map(str, a[i])))"
   ]
  },
  {
   "cell_type": "markdown",
   "id": "d49a05cc",
   "metadata": {},
   "source": [
    "제출코드"
   ]
  },
  {
   "cell_type": "code",
   "execution_count": null,
   "id": "9504f894",
   "metadata": {},
   "outputs": [],
   "source": [
    "h, w, x, y = map(int, input().split())\n",
    "b = []\n",
    "for _ in range(h+x):\n",
    "    arr = list(map(int, input().split()))\n",
    "    b.append(arr)\n",
    "    \n",
    "a = [[-1] * w for _ in range(h)]\n",
    "for i in range(h):\n",
    "        for j in range(w):\n",
    "            if i < x or j< y:\n",
    "                a[i][j] = b[i][j]\n",
    "            else:\n",
    "                a[i][j] = b[i][j] - a[i-x][j-y]\n",
    "            \n",
    "for i in range(h):\n",
    "    print(' '.join(map(str, a[i])))"
   ]
  }
 ],
 "metadata": {
  "kernelspec": {
   "display_name": "Python 3",
   "language": "python",
   "name": "python3"
  },
  "language_info": {
   "codemirror_mode": {
    "name": "ipython",
    "version": 3
   },
   "file_extension": ".py",
   "mimetype": "text/x-python",
   "name": "python",
   "nbconvert_exporter": "python",
   "pygments_lexer": "ipython3",
   "version": "3.8.8"
  },
  "toc": {
   "base_numbering": 1,
   "nav_menu": {},
   "number_sections": true,
   "sideBar": true,
   "skip_h1_title": false,
   "title_cell": "Table of Contents",
   "title_sidebar": "Contents",
   "toc_cell": false,
   "toc_position": {},
   "toc_section_display": true,
   "toc_window_display": false
  },
  "varInspector": {
   "cols": {
    "lenName": 16,
    "lenType": 16,
    "lenVar": 40
   },
   "kernels_config": {
    "python": {
     "delete_cmd_postfix": "",
     "delete_cmd_prefix": "del ",
     "library": "var_list.py",
     "varRefreshCmd": "print(var_dic_list())"
    },
    "r": {
     "delete_cmd_postfix": ") ",
     "delete_cmd_prefix": "rm(",
     "library": "var_list.r",
     "varRefreshCmd": "cat(var_dic_list()) "
    }
   },
   "types_to_exclude": [
    "module",
    "function",
    "builtin_function_or_method",
    "instance",
    "_Feature"
   ],
   "window_display": false
  }
 },
 "nbformat": 4,
 "nbformat_minor": 5
}
