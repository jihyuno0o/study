{
 "cells": [
  {
   "cell_type": "markdown",
   "id": "f90c2b1b",
   "metadata": {},
   "source": [
    "https://www.acmicpc.net/problem/1789"
   ]
  },
  {
   "cell_type": "markdown",
   "id": "133871c1",
   "metadata": {},
   "source": [
    "## 문제\n",
    "서로 다른 N개의 자연수의 합이 S라고 한다. S를 알 때, 자연수 N의 최댓값은 얼마일까?\n",
    "\n",
    "## 입력\n",
    "첫째 줄에 자연수 S(1 ≤ S ≤ 4,294,967,295)가 주어진다.\n",
    "\n",
    "## 출력\n",
    "첫째 줄에 자연수 N의 최댓값을 출력한다."
   ]
  },
  {
   "attachments": {
    "image.png": {
     "image/png": "[encoded data removed]"
    }
   },
   "cell_type": "markdown",
   "id": "ac294cee",
   "metadata": {},
   "source": [
    "![image.png](attachment:image.png)"
   ]
  },
  {
   "cell_type": "code",
   "execution_count": 1,
   "id": "e9f06c92",
   "metadata": {
    "ExecuteTime": {
     "end_time": "2022-05-02T05:08:31.032939Z",
     "start_time": "2022-05-02T05:08:29.696114Z"
    }
   },
   "outputs": [
    {
     "name": "stdout",
     "output_type": "stream",
     "text": [
      "200\n"
     ]
    }
   ],
   "source": [
    "s = int(input())"
   ]
  },
  {
   "cell_type": "code",
   "execution_count": 2,
   "id": "efec7381",
   "metadata": {
    "ExecuteTime": {
     "end_time": "2022-05-02T05:12:57.043775Z",
     "start_time": "2022-05-02T05:12:57.024545Z"
    }
   },
   "outputs": [
    {
     "name": "stdout",
     "output_type": "stream",
     "text": [
      "19\n"
     ]
    }
   ],
   "source": [
    "n = 0\n",
    "i = 1\n",
    "while True:\n",
    "    s -= i\n",
    "    if s >= 0:\n",
    "        n += 1\n",
    "        i += 1\n",
    "    else:\n",
    "        print(n)\n",
    "        break\n",
    "        # s가 0보다 작으면 마지막에 빼줬던 수를 순차적으로 젤 작은 수가 아닌 s가 0이되게 하는 수로 빼주면 됨"
   ]
  },
  {
   "cell_type": "code",
   "execution_count": null,
   "id": "381dab31",
   "metadata": {},
   "outputs": [],
   "source": []
  }
 ],
 "metadata": {
  "kernelspec": {
   "display_name": "Python 3",
   "language": "python",
   "name": "python3"
  },
  "language_info": {
   "codemirror_mode": {
    "name": "ipython",
    "version": 3
   },
   "file_extension": ".py",
   "mimetype": "text/x-python",
   "name": "python",
   "nbconvert_exporter": "python",
   "pygments_lexer": "ipython3",
   "version": "3.8.8"
  },
  "toc": {
   "base_numbering": 1,
   "nav_menu": {},
   "number_sections": true,
   "sideBar": true,
   "skip_h1_title": false,
   "title_cell": "Table of Contents",
   "title_sidebar": "Contents",
   "toc_cell": false,
   "toc_position": {},
   "toc_section_display": true,
   "toc_window_display": false
  },
  "varInspector": {
   "cols": {
    "lenName": 16,
    "lenType": 16,
    "lenVar": 40
   },
   "kernels_config": {
    "python": {
     "delete_cmd_postfix": "",
     "delete_cmd_prefix": "del ",
     "library": "var_list.py",
     "varRefreshCmd": "print(var_dic_list())"
    },
    "r": {
     "delete_cmd_postfix": ") ",
     "delete_cmd_prefix": "rm(",
     "library": "var_list.r",
     "varRefreshCmd": "cat(var_dic_list()) "
    }
   },
   "types_to_exclude": [
    "module",
    "function",
    "builtin_function_or_method",
    "instance",
    "_Feature"
   ],
   "window_display": false
  }
 },
 "nbformat": 4,
 "nbformat_minor": 5
}
