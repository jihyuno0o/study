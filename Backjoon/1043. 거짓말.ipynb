{
 "cells": [
  {
   "cell_type": "markdown",
   "id": "789470f2",
   "metadata": {},
   "source": [
    "## 문제\n",
    "지민이는 파티에 가서 이야기 하는 것을 좋아한다. 파티에 갈 때마다, 지민이는 지민이가 가장 좋아하는 이야기를 한다. 지민이는 그 이야기를 말할 때, 있는 그대로 진실로 말하거나 엄청나게 과장해서 말한다. 당연히 과장해서 이야기하는 것이 훨씬 더 재미있기 때문에, 되도록이면 과장해서 이야기하려고 한다. 하지만, 지민이는 거짓말쟁이로 알려지기는 싫어한다. 문제는 몇몇 사람들은 그 이야기의 진실을 안다는 것이다. 따라서 이런 사람들이 파티에 왔을 때는, 지민이는 진실을 이야기할 수 밖에 없다. 당연히, 어떤 사람이 어떤 파티에서는 진실을 듣고, 또다른 파티에서는 과장된 이야기를 들었을 때도 지민이는 거짓말쟁이로 알려지게 된다. 지민이는 이런 일을 모두 피해야 한다.\n",
    "\n",
    "사람의 수 N이 주어진다. 그리고 그 이야기의 진실을 아는 사람이 주어진다. 그리고 각 파티에 오는 사람들의 번호가 주어진다. 지민이는 모든 파티에 참가해야 한다. 이때, 지민이가 거짓말쟁이로 알려지지 않으면서, 과장된 이야기를 할 수 있는 파티 개수의 최댓값을 구하는 프로그램을 작성하시오.\n",
    "\n",
    "## 입력\n",
    "첫째 줄에 사람의 수 N과 파티의 수 M이 주어진다.\n",
    "\n",
    "둘째 줄에는 이야기의 진실을 아는 사람의 수와 번호가 주어진다. 진실을 아는 사람의 수가 먼저 주어지고 그 개수만큼 사람들의 번호가 주어진다. 사람들의 번호는 1부터 N까지의 수로 주어진다.\n",
    "\n",
    "셋째 줄부터 M개의 줄에는 각 파티마다 오는 사람의 수와 번호가 같은 방식으로 주어진다.\n",
    "\n",
    "N, M은 50 이하의 자연수이고, 진실을 아는 사람의 수는 0 이상 50 이하의 정수, 각 파티마다 오는 사람의 수는 1 이상 50 이하의 정수이다.\n",
    "\n",
    "## 출력\n",
    "첫째 줄에 문제의 정답을 출력한다."
   ]
  },
  {
   "cell_type": "code",
   "execution_count": 46,
   "id": "9eb6546e",
   "metadata": {
    "ExecuteTime": {
     "end_time": "2022-04-26T05:22:30.708443Z",
     "start_time": "2022-04-26T05:22:29.170144Z"
    }
   },
   "outputs": [
    {
     "name": "stdout",
     "output_type": "stream",
     "text": [
      "10 9\n"
     ]
    }
   ],
   "source": [
    "n, m = map(int, input().split())"
   ]
  },
  {
   "cell_type": "code",
   "execution_count": 47,
   "id": "a0c67d7e",
   "metadata": {
    "ExecuteTime": {
     "end_time": "2022-04-26T05:22:35.453985Z",
     "start_time": "2022-04-26T05:22:33.097470Z"
    }
   },
   "outputs": [
    {
     "name": "stdout",
     "output_type": "stream",
     "text": [
      "4 1 2 3 4\n"
     ]
    }
   ],
   "source": [
    "cant_lie = set(input().split()[1:])"
   ]
  },
  {
   "cell_type": "code",
   "execution_count": 48,
   "id": "f3fd28c9",
   "metadata": {
    "ExecuteTime": {
     "end_time": "2022-04-26T05:22:35.909062Z",
     "start_time": "2022-04-26T05:22:35.889907Z"
    }
   },
   "outputs": [
    {
     "data": {
      "text/plain": [
       "{'1', '2', '3', '4'}"
      ]
     },
     "execution_count": 48,
     "metadata": {},
     "output_type": "execute_result"
    }
   ],
   "source": [
    "cant_lie"
   ]
  },
  {
   "cell_type": "code",
   "execution_count": 41,
   "id": "45175302",
   "metadata": {
    "ExecuteTime": {
     "end_time": "2022-04-26T05:18:08.557106Z",
     "start_time": "2022-04-26T05:17:46.912611Z"
    }
   },
   "outputs": [
    {
     "name": "stdout",
     "output_type": "stream",
     "text": [
      "2 1 5\n",
      "2 2 6\n",
      "1 7\n",
      "1 8\n",
      "2 7 8\n",
      "1 9\n",
      "1 10\n",
      "2 3 10\n",
      "1 4\n"
     ]
    }
   ],
   "source": [
    "parties = []\n",
    "for _ in range(m):\n",
    "    parties.append(set(input().split()[1:]))"
   ]
  },
  {
   "cell_type": "code",
   "execution_count": 42,
   "id": "722dbad8",
   "metadata": {
    "ExecuteTime": {
     "end_time": "2022-04-26T05:18:10.744597Z",
     "start_time": "2022-04-26T05:18:10.734097Z"
    }
   },
   "outputs": [
    {
     "data": {
      "text/plain": [
       "[{'1', '5'},\n",
       " {'2', '6'},\n",
       " {'7'},\n",
       " {'8'},\n",
       " {'7', '8'},\n",
       " {'9'},\n",
       " {'10'},\n",
       " {'10', '3'},\n",
       " {'4'}]"
      ]
     },
     "execution_count": 42,
     "metadata": {},
     "output_type": "execute_result"
    }
   ],
   "source": [
    "parties"
   ]
  },
  {
   "cell_type": "code",
   "execution_count": 43,
   "id": "9bf1c1e9",
   "metadata": {
    "ExecuteTime": {
     "end_time": "2022-04-26T05:19:54.665240Z",
     "start_time": "2022-04-26T05:19:54.651029Z"
    }
   },
   "outputs": [],
   "source": [
    "for _ in range(m):\n",
    "    for party in parties:\n",
    "        if party & cant_lie:\n",
    "            cant_lie = cant_lie.union(party)"
   ]
  },
  {
   "cell_type": "code",
   "execution_count": 44,
   "id": "3c3227eb",
   "metadata": {
    "ExecuteTime": {
     "end_time": "2022-04-26T05:19:58.205686Z",
     "start_time": "2022-04-26T05:19:58.183709Z"
    }
   },
   "outputs": [
    {
     "data": {
      "text/plain": [
       "{'1', '10', '2', '3', '4', '5', '6'}"
      ]
     },
     "execution_count": 44,
     "metadata": {},
     "output_type": "execute_result"
    }
   ],
   "source": [
    "cant_lie"
   ]
  },
  {
   "cell_type": "code",
   "execution_count": 45,
   "id": "ab263451",
   "metadata": {
    "ExecuteTime": {
     "end_time": "2022-04-26T05:21:07.294899Z",
     "start_time": "2022-04-26T05:21:07.286826Z"
    }
   },
   "outputs": [
    {
     "data": {
      "text/plain": [
       "4"
      ]
     },
     "execution_count": 45,
     "metadata": {},
     "output_type": "execute_result"
    }
   ],
   "source": [
    "answer = 0\n",
    "for party in parties:\n",
    "    if party & cant_lie:\n",
    "        continue\n",
    "    answer += 1\n",
    "answer"
   ]
  },
  {
   "cell_type": "markdown",
   "id": "d36cc519",
   "metadata": {},
   "source": [
    "제출코드"
   ]
  },
  {
   "cell_type": "code",
   "execution_count": null,
   "id": "084e4970",
   "metadata": {},
   "outputs": [],
   "source": [
    "n, m = map(int, input().split())\n",
    "cant_lie = set(input().split()[1:]) # 진실을 아는 사람\n",
    "\n",
    "parties = []\n",
    "for _ in range(m):\n",
    "    parties.append(set(input().split()[1:])) # 파티 구성 저장\n",
    "\n",
    "for _ in range(m):\n",
    "    for party in parties:\n",
    "        if party & cant_lie:\n",
    "            cant_lie = cant_lie.union(party)\n",
    "            \n",
    "answer = 0\n",
    "for party in parties:\n",
    "    if party & cant_lie:\n",
    "        continue\n",
    "    answer += 1\n",
    "\n",
    "print(answer)"
   ]
  }
 ],
 "metadata": {
  "kernelspec": {
   "display_name": "Python 3",
   "language": "python",
   "name": "python3"
  },
  "language_info": {
   "codemirror_mode": {
    "name": "ipython",
    "version": 3
   },
   "file_extension": ".py",
   "mimetype": "text/x-python",
   "name": "python",
   "nbconvert_exporter": "python",
   "pygments_lexer": "ipython3",
   "version": "3.8.8"
  },
  "toc": {
   "base_numbering": 1,
   "nav_menu": {},
   "number_sections": true,
   "sideBar": true,
   "skip_h1_title": false,
   "title_cell": "Table of Contents",
   "title_sidebar": "Contents",
   "toc_cell": false,
   "toc_position": {},
   "toc_section_display": true,
   "toc_window_display": false
  },
  "varInspector": {
   "cols": {
    "lenName": 16,
    "lenType": 16,
    "lenVar": 40
   },
   "kernels_config": {
    "python": {
     "delete_cmd_postfix": "",
     "delete_cmd_prefix": "del ",
     "library": "var_list.py",
     "varRefreshCmd": "print(var_dic_list())"
    },
    "r": {
     "delete_cmd_postfix": ") ",
     "delete_cmd_prefix": "rm(",
     "library": "var_list.r",
     "varRefreshCmd": "cat(var_dic_list()) "
    }
   },
   "types_to_exclude": [
    "module",
    "function",
    "builtin_function_or_method",
    "instance",
    "_Feature"
   ],
   "window_display": false
  }
 },
 "nbformat": 4,
 "nbformat_minor": 5
}
