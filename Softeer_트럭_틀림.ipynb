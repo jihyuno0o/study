{
 "cells": [
  {
   "cell_type": "markdown",
   "id": "74f76d37",
   "metadata": {},
   "source": [
    "https://softeer.ai/practice/info.do?eventIdx=1&psProblemId=631"
   ]
  },
  {
   "attachments": {
    "image.png": {
     "image/png": "[encoded data removed]"
    }
   },
   "cell_type": "markdown",
   "id": "8273c522",
   "metadata": {},
   "source": [
    "## 제한시간 : C/C++(2초)/Java/JS/Python(4초)| 메모리 제한 : 1024MB\n",
    "\n",
    "\n",
    "현대자동차그룹의 트럭 디자이너로 일하는 당신은 신차의 크기를 결정하려고 한다.\n",
    "총 N명의 소비자에게 신차 구매의사를 조사했다.\n",
    "\n",
    "i (1≤i≤N)번째 소비자는 Ai개의 제안을 보냈는데, 이 중 j (1≤j≤Ai)번째 제안은 “신차의 크기가 Si,j 이상이라면 차량 한 대를 Pi,j원에 구매할 용의가 있다”는 것이다.\n",
    "\n",
    "하지만 소비자 각각에 맞춘 차량을 생산하기에는 설비를 위한 비용이 막대해질 것이므로, 신차의 크기를 하나로 결정해야한다.\n",
    "\n",
    "각 소비자는 트럭을 2대 이상 구매하지는 않을 것이다. 따라서, 당신은 각 소비자마다 그 소비자가 제시한 제안 중 하나를 수락하거나, 그 소비자의 제안을 모두 거절할 것이다. 이 때 당신이 정한 신차의 크기가 소비자의 여러가지 제안을 만족할 수 있다.\n",
    "\n",
    "당신은 매출에 따라 신차의 크기를 얼마로 설정해야 하는지를 알아보고자, M가지의 시나리오를 고려해 보기로 하였다. 당신은 모든 k (1≤k≤M)에 대해, 총 Qk원의 매출을 내려면, 신차의 크기가 최소 얼마여야 하는지를 구해야 한다.\n",
    "\n",
    "\n",
    "###  제약조건\n",
    "- 주어지는 모든 수는 정수이다.\n",
    "- 1≤N≤100,000\n",
    "![image.png](attachment:image.png)\n",
    "- 모든 i,j (1≤i≤N, 1≤j≤Ai)에 대해 1≤Si,j,Pi,j≤109\n",
    "- 1≤M≤100,000\n",
    "- 모든 k (1≤k≤M)에 대해, 1≤Qk≤109\n",
    "\n",
    "\n",
    "### 입력형식\n",
    "- 첫 번째 줄에 N이 주어진다. 다음 N개의 줄에는 소비자의 제안에 대한 정보가 주어진다.\n",
    "- 이 중 i (1≤i≤N)번째 줄의 형식은 다음과 같다: Ai Si,1 Pi,1 … Si,Ai Pi,Ai\n",
    "- 그 다음 줄에 시나리오의 개수 M이 주어진다.\n",
    "- 마지막 줄에 M개의 정수 Q1, Q2,…, QM이 공백 하나씩을 사이로 두고 주어진다.\n",
    "\n",
    "\n",
    "### 출력형식\n",
    "- M개의 수를 한 칸의 공백을 두고 출력한다. 이 중 k (1≤k≤M)번째 수는\n",
    "- Qk원 이상의 매출을 낼 수 있다면, 이 때 신차의 최소 크기이다.\n",
    "- Qk원 이상의 매출을 낼 수 없다면, -1이다."
   ]
  },
  {
   "cell_type": "code",
   "execution_count": 46,
   "id": "720c47ae",
   "metadata": {
    "ExecuteTime": {
     "end_time": "2022-05-16T05:00:37.753054Z",
     "start_time": "2022-05-16T05:00:35.923338Z"
    },
    "scrolled": false
   },
   "outputs": [
    {
     "name": "stdout",
     "output_type": "stream",
     "text": [
      "5\n"
     ]
    },
    {
     "data": {
      "text/plain": [
       "[[], [], [], [], []]"
      ]
     },
     "execution_count": 46,
     "metadata": {},
     "output_type": "execute_result"
    }
   ],
   "source": [
    "n = int(input())\n",
    "Suggests = [[] for _ in range(n)] # 소비자의 제안 저장\n",
    "Suggests"
   ]
  },
  {
   "cell_type": "code",
   "execution_count": 58,
   "id": "1eee1a6b",
   "metadata": {
    "ExecuteTime": {
     "end_time": "2022-05-16T05:14:28.998785Z",
     "start_time": "2022-05-16T05:14:28.978392Z"
    }
   },
   "outputs": [
    {
     "data": {
      "text/plain": [
       "[11, 10, 10, 9, 9, 9, 8, 5, 5, 3, 1]"
      ]
     },
     "execution_count": 58,
     "metadata": {},
     "output_type": "execute_result"
    }
   ],
   "source": [
    "Sizes"
   ]
  },
  {
   "cell_type": "code",
   "execution_count": 59,
   "id": "b8568d41",
   "metadata": {
    "ExecuteTime": {
     "end_time": "2022-05-16T05:14:33.935415Z",
     "start_time": "2022-05-16T05:14:33.924213Z"
    }
   },
   "outputs": [
    {
     "data": {
      "text/plain": [
       "[11, 10, 9, 8, 5, 3, 1]"
      ]
     },
     "execution_count": 59,
     "metadata": {},
     "output_type": "execute_result"
    }
   ],
   "source": [
    "Sizes = sorted(set(Sizes), reverse = True)\n",
    "Sizes"
   ]
  },
  {
   "cell_type": "code",
   "execution_count": 47,
   "id": "5aae2eb5",
   "metadata": {
    "ExecuteTime": {
     "end_time": "2022-05-16T05:00:41.302288Z",
     "start_time": "2022-05-16T05:00:41.285368Z"
    }
   },
   "outputs": [],
   "source": [
    "Sizes = [] # 소비자가 제안한 사이즈 저장"
   ]
  },
  {
   "cell_type": "code",
   "execution_count": 48,
   "id": "262914bf",
   "metadata": {
    "ExecuteTime": {
     "end_time": "2022-05-16T05:00:58.341280Z",
     "start_time": "2022-05-16T05:00:41.466685Z"
    }
   },
   "outputs": [
    {
     "name": "stdout",
     "output_type": "stream",
     "text": [
      "2 10 17 5 19\n",
      "2 8 7 10 21\n",
      "3 3 3 9 13 11 14\n",
      "3 5 3 1 2 9 15\n",
      "1 9 11\n"
     ]
    },
    {
     "data": {
      "text/plain": [
       "([[(10, 17), (5, 19)],\n",
       "  [(8, 7), (10, 21)],\n",
       "  [(3, 3), (9, 13), (11, 14)],\n",
       "  [(5, 3), (1, 2), (9, 15)],\n",
       "  [(9, 11)]],\n",
       " [11, 10, 10, 9, 9, 9, 8, 5, 5, 3, 1])"
      ]
     },
     "execution_count": 48,
     "metadata": {},
     "output_type": "execute_result"
    }
   ],
   "source": [
    "from collections import deque\n",
    "for i in range(n): # n 명의 소비자\n",
    "    a, *arr = map(int, input().split()) \n",
    "    arr = deque(arr)\n",
    "    for _ in range(a): # a개의 제안\n",
    "        s = arr.popleft() # 사이즈\n",
    "        Sizes.append(s)\n",
    "        Suggests[i].append((s, arr.popleft())) #사이즈, 가격\n",
    "\n",
    "Sizes = sorted(set(Sizes), reverse = True) # 제안된 사이즈 내림차순 정렬\n",
    "\n",
    "Suggests, Sizes"
   ]
  },
  {
   "cell_type": "code",
   "execution_count": 49,
   "id": "c027f794",
   "metadata": {
    "ExecuteTime": {
     "end_time": "2022-05-16T05:01:05.350925Z",
     "start_time": "2022-05-16T05:01:00.327082Z"
    }
   },
   "outputs": [
    {
     "name": "stdout",
     "output_type": "stream",
     "text": [
      "11\n",
      "21 31 35 54 79 80 100 3 5 7 9\n"
     ]
    }
   ],
   "source": [
    "m = int(input())\n",
    "Q = list(map(int, input().split())) # 결과 출력용 Q 저장"
   ]
  },
  {
   "cell_type": "code",
   "execution_count": 50,
   "id": "851f6ce1",
   "metadata": {
    "ExecuteTime": {
     "end_time": "2022-05-16T05:01:06.628206Z",
     "start_time": "2022-05-16T05:01:06.615183Z"
    }
   },
   "outputs": [],
   "source": [
    "Revenues = [] # 제안된 사이즈 별 매출 계산 저장 # 내림차순"
   ]
  },
  {
   "cell_type": "code",
   "execution_count": 51,
   "id": "73f9038d",
   "metadata": {
    "ExecuteTime": {
     "end_time": "2022-05-16T05:01:07.424613Z",
     "start_time": "2022-05-16T05:01:07.406357Z"
    }
   },
   "outputs": [
    {
     "data": {
      "text/plain": [
       "[80, 79, 79, 65, 65, 65, 32, 25, 25, 5, 2]"
      ]
     },
     "execution_count": 51,
     "metadata": {},
     "output_type": "execute_result"
    }
   ],
   "source": [
    "for size in Sizes: # 사이즈별로\n",
    "    total = 0 # 매출값 변수\n",
    "    for suggest in Suggests: # 제안 한줄씩\n",
    "        max_money = 0 # 제안 중 1개만 채택 가능\n",
    "        for s,p in suggest:\n",
    "            if s <= size: # 제안된 사이즈보다 작으면\n",
    "                max_money = max(max_money, p) # 매출값 max 확인\n",
    "        total += max_money\n",
    "    Revenues.append(total)\n",
    "\n",
    "Revenues"
   ]
  },
  {
   "cell_type": "code",
   "execution_count": 52,
   "id": "1e8459ad",
   "metadata": {
    "ExecuteTime": {
     "end_time": "2022-05-16T05:01:11.165904Z",
     "start_time": "2022-05-16T05:01:11.151791Z"
    }
   },
   "outputs": [
    {
     "data": {
      "text/plain": [
       "[11, 10, 10, 9, 9, 9, 8, 5, 5, 3, 1]"
      ]
     },
     "execution_count": 52,
     "metadata": {},
     "output_type": "execute_result"
    }
   ],
   "source": [
    "Sizes"
   ]
  },
  {
   "cell_type": "code",
   "execution_count": 53,
   "id": "18a39807",
   "metadata": {
    "ExecuteTime": {
     "end_time": "2022-05-16T05:01:11.886963Z",
     "start_time": "2022-05-16T05:01:11.875990Z"
    }
   },
   "outputs": [
    {
     "data": {
      "text/plain": [
       "[80, 79, 79, 65, 65, 65, 32, 25, 25, 5, 2]"
      ]
     },
     "execution_count": 53,
     "metadata": {},
     "output_type": "execute_result"
    }
   ],
   "source": [
    "Revenues"
   ]
  },
  {
   "cell_type": "code",
   "execution_count": 54,
   "id": "950bfeeb",
   "metadata": {
    "ExecuteTime": {
     "end_time": "2022-05-16T05:01:12.627701Z",
     "start_time": "2022-05-16T05:01:12.616649Z"
    }
   },
   "outputs": [
    {
     "data": {
      "text/plain": [
       "[21, 31, 35, 54, 79, 80, 100, 3, 5, 7, 9]"
      ]
     },
     "execution_count": 54,
     "metadata": {},
     "output_type": "execute_result"
    }
   ],
   "source": [
    "Q"
   ]
  },
  {
   "cell_type": "code",
   "execution_count": 55,
   "id": "86bca5ef",
   "metadata": {
    "ExecuteTime": {
     "end_time": "2022-05-16T05:01:14.335111Z",
     "start_time": "2022-05-16T05:01:14.325017Z"
    }
   },
   "outputs": [],
   "source": [
    "def find_minSizes(Revenues, Sizes, n):\n",
    "    if n > Revenues[0]:\n",
    "        return -1\n",
    "    \n",
    "    for i, r in enumerate(Revenues):\n",
    "        if r < n:\n",
    "            return Sizes[i-1]\n",
    "        if r == n:\n",
    "            return Sizes[i]"
   ]
  },
  {
   "cell_type": "code",
   "execution_count": 56,
   "id": "dd131eca",
   "metadata": {
    "ExecuteTime": {
     "end_time": "2022-05-16T05:01:15.262738Z",
     "start_time": "2022-05-16T05:01:15.244709Z"
    }
   },
   "outputs": [
    {
     "name": "stdout",
     "output_type": "stream",
     "text": [
      "5 8 9 9 10 11 -1 3 3 5 5 "
     ]
    }
   ],
   "source": [
    "for n in Q:\n",
    "    print(find_minSizes(Revenues, Sizes, n), end=' ')\n",
    "    "
   ]
  },
  {
   "cell_type": "markdown",
   "id": "75a0d6e4",
   "metadata": {},
   "source": [
    "제출"
   ]
  },
  {
   "cell_type": "code",
   "execution_count": 57,
   "id": "5e026a28",
   "metadata": {
    "ExecuteTime": {
     "end_time": "2022-05-16T05:07:07.208358Z",
     "start_time": "2022-05-16T05:06:40.552789Z"
    }
   },
   "outputs": [
    {
     "name": "stdout",
     "output_type": "stream",
     "text": [
      "5\n",
      "2 10 17 5 19\n",
      "2 8 7 10 21\n",
      "3 3 3 9 13 11 14\n",
      "3 5 3 1 2 9 15\n",
      "1 9 11\n",
      "11\n",
      "21 31 35 54 79 80 100 3 5 7 9\n",
      "5 8 9 9 10 11 -1 3 3 5 5 "
     ]
    }
   ],
   "source": [
    "# 입력\n",
    "n = int(input())\n",
    "Suggests = [[] for _ in range(n)] # 소비자의 제안 저장\n",
    "Sizes = [] # 소비자가 제안한 사이즈 저장\n",
    "\n",
    "from collections import deque\n",
    "for i in range(n): # n 명의 소비자\n",
    "    a, *arr = map(int, input().split()) \n",
    "    arr = deque(arr)\n",
    "    for _ in range(a): # a개의 제안\n",
    "        s = arr.popleft() # 사이즈\n",
    "        Sizes.append(s)\n",
    "        Suggests[i].append((s, arr.popleft())) #사이즈, 가격\n",
    "Sizes = sorted(set(Sizes), reverse = True) # 제안된 사이즈 내림차순 정렬\n",
    "\n",
    "m = int(input())\n",
    "Q = list(map(int, input().split())) # 결과 출력용 Q 저장\n",
    "\n",
    "Revenues = [] # 제안된 사이즈 별 매출 계산 저장 # 내림차순\n",
    "for size in Sizes: # 사이즈별로\n",
    "    total = 0 # 매출값 변수\n",
    "    for suggest in Suggests: # 제안 한줄씩\n",
    "        max_money = 0 # 제안 중 1개만 채택 가능\n",
    "        for s,p in suggest:\n",
    "            if s <= size: # 제안된 사이즈보다 작으면\n",
    "                if p > max_money:\n",
    "                    max_money = p # 매출값 max 확인\n",
    "        total += max_money\n",
    "    Revenues.append(total)\n",
    "\n",
    "    \n",
    "def find_minSizes(Revenues, Sizes, n):\n",
    "    if n > Revenues[0]:\n",
    "        return -1\n",
    "    \n",
    "    for i, r in enumerate(Revenues):\n",
    "        if r < n:\n",
    "            return Sizes[i-1]\n",
    "        if r == n:\n",
    "            return Sizes[i]\n",
    "\n",
    "for n in Q:\n",
    "    print(find_minSizes(Revenues, Sizes, n), end=' ')"
   ]
  },
  {
   "cell_type": "code",
   "execution_count": null,
   "id": "c7e99794",
   "metadata": {},
   "outputs": [],
   "source": []
  }
 ],
 "metadata": {
  "kernelspec": {
   "display_name": "Python 3",
   "language": "python",
   "name": "python3"
  },
  "language_info": {
   "codemirror_mode": {
    "name": "ipython",
    "version": 3
   },
   "file_extension": ".py",
   "mimetype": "text/x-python",
   "name": "python",
   "nbconvert_exporter": "python",
   "pygments_lexer": "ipython3",
   "version": "3.8.8"
  },
  "toc": {
   "base_numbering": 1,
   "nav_menu": {},
   "number_sections": true,
   "sideBar": true,
   "skip_h1_title": false,
   "title_cell": "Table of Contents",
   "title_sidebar": "Contents",
   "toc_cell": false,
   "toc_position": {},
   "toc_section_display": true,
   "toc_window_display": false
  },
  "varInspector": {
   "cols": {
    "lenName": 16,
    "lenType": 16,
    "lenVar": 40
   },
   "kernels_config": {
    "python": {
     "delete_cmd_postfix": "",
     "delete_cmd_prefix": "del ",
     "library": "var_list.py",
     "varRefreshCmd": "print(var_dic_list())"
    },
    "r": {
     "delete_cmd_postfix": ") ",
     "delete_cmd_prefix": "rm(",
     "library": "var_list.r",
     "varRefreshCmd": "cat(var_dic_list()) "
    }
   },
   "types_to_exclude": [
    "module",
    "function",
    "builtin_function_or_method",
    "instance",
    "_Feature"
   ],
   "window_display": false
  }
 },
 "nbformat": 4,
 "nbformat_minor": 5
}
