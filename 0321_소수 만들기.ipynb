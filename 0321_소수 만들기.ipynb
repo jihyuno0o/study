{
 "cells": [
  {
   "cell_type": "markdown",
   "id": "1c2ac3ba",
   "metadata": {},
   "source": [
    "https://programmers.co.kr/learn/courses/30/lessons/12977"
   ]
  },
  {
   "cell_type": "markdown",
   "id": "481bbf9e",
   "metadata": {},
   "source": [
    "주어진 숫자 중 3개의 수를 더했을 때 소수가 되는 경우의 개수를 구하려고 합니다. 숫자들이 들어있는 배열 nums가 매개변수로 주어질 때, nums에 있는 숫자들 중 서로 다른 3개를 골라 더했을 때 소수가 되는 경우의 개수를 return 하도록 solution 함수를 완성해주세요.\n",
    "\n",
    "제한사항\n",
    "- nums에 들어있는 숫자의 개수는 3개 이상 50개 이하입니다.\n",
    "- nums의 각 원소는 1 이상 1,000 이하의 자연수이며, 중복된 숫자가 들어있지 않습니다."
   ]
  },
  {
   "cell_type": "markdown",
   "id": "4207781b",
   "metadata": {
    "ExecuteTime": {
     "end_time": "2022-03-18T03:34:49.676611Z",
     "start_time": "2022-03-18T03:34:49.665508Z"
    }
   },
   "source": [
    "#1 [1,2,3,4]\t1\n",
    "#2 [1,2,7,6,4]\t4"
   ]
  },
  {
   "cell_type": "markdown",
   "id": "adce1253",
   "metadata": {},
   "source": [
    "입출력 예 #1\n",
    "[1,2,4]를 이용해서 7을 만들 수 있습니다.\n",
    "\n",
    "입출력 예 #2\n",
    "[1,2,4]를 이용해서 7을 만들 수 있습니다.\n",
    "[1,4,6]을 이용해서 11을 만들 수 있습니다.\n",
    "[2,4,7]을 이용해서 13을 만들 수 있습니다.\n",
    "[4,6,7]을 이용해서 17을 만들 수 있습니다."
   ]
  },
  {
   "cell_type": "code",
   "execution_count": 12,
   "id": "372726a0",
   "metadata": {
    "ExecuteTime": {
     "end_time": "2022-03-18T03:43:44.583179Z",
     "start_time": "2022-03-18T03:43:44.577105Z"
    }
   },
   "outputs": [],
   "source": [
    "nums = [1,2,7,6,4]\n",
    "nums.sort()"
   ]
  },
  {
   "cell_type": "code",
   "execution_count": 19,
   "id": "6f012e34",
   "metadata": {
    "ExecuteTime": {
     "end_time": "2022-03-18T03:49:40.057205Z",
     "start_time": "2022-03-18T03:49:40.035900Z"
    }
   },
   "outputs": [
    {
     "name": "stdout",
     "output_type": "stream",
     "text": [
      "1 2 4\n",
      "1 2 6\n",
      "1 2 7\n",
      "1 4 6\n",
      "1 4 7\n",
      "1 6 7\n",
      "2 4 6\n",
      "2 4 7\n",
      "2 6 7\n",
      "4 6 7\n"
     ]
    }
   ],
   "source": [
    "n_sum = []\n",
    "for i in range(len(nums)-2):\n",
    "    one = nums[i]\n",
    "    for j in range(i+1, len(nums)-1):\n",
    "        two = nums[j]\n",
    "        for k in range(j+1, len(nums)):\n",
    "            three = nums[k]\n",
    "            n_sum.append(one+two+three)"
   ]
  },
  {
   "cell_type": "code",
   "execution_count": 14,
   "id": "e07df574",
   "metadata": {
    "ExecuteTime": {
     "end_time": "2022-03-18T03:44:01.969764Z",
     "start_time": "2022-03-18T03:44:01.949027Z"
    }
   },
   "outputs": [
    {
     "data": {
      "text/plain": [
       "[7, 9, 10, 11, 12, 14, 12, 13, 15, 17]"
      ]
     },
     "execution_count": 14,
     "metadata": {},
     "output_type": "execute_result"
    }
   ],
   "source": [
    "n_sum"
   ]
  },
  {
   "cell_type": "code",
   "execution_count": 4,
   "id": "aec2455c",
   "metadata": {
    "ExecuteTime": {
     "end_time": "2022-03-18T03:37:06.233600Z",
     "start_time": "2022-03-18T03:37:06.215383Z"
    }
   },
   "outputs": [],
   "source": [
    "def isPrime(n):\n",
    "    if n==2 or n==3: return True\n",
    "    if n%2==0 or n<2: return False\n",
    "    for i in range(3, int(n**0.5)+1, 2):\n",
    "        if n%i==0:\n",
    "            return False\n",
    "    return True"
   ]
  },
  {
   "cell_type": "code",
   "execution_count": 15,
   "id": "297e2e8a",
   "metadata": {
    "ExecuteTime": {
     "end_time": "2022-03-18T03:45:01.685862Z",
     "start_time": "2022-03-18T03:45:01.666750Z"
    }
   },
   "outputs": [],
   "source": [
    "answer = 0\n",
    "for num in n_sum:\n",
    "    if isPrime(num): answer+=1"
   ]
  },
  {
   "cell_type": "code",
   "execution_count": 16,
   "id": "d5b6e92b",
   "metadata": {
    "ExecuteTime": {
     "end_time": "2022-03-18T03:45:03.459747Z",
     "start_time": "2022-03-18T03:45:03.455784Z"
    }
   },
   "outputs": [
    {
     "data": {
      "text/plain": [
       "4"
      ]
     },
     "execution_count": 16,
     "metadata": {},
     "output_type": "execute_result"
    }
   ],
   "source": [
    "answer"
   ]
  },
  {
   "cell_type": "markdown",
   "id": "167c2d5a",
   "metadata": {},
   "source": [
    "solution"
   ]
  },
  {
   "cell_type": "code",
   "execution_count": null,
   "id": "993952fe",
   "metadata": {},
   "outputs": [],
   "source": [
    "def isPrime(n):\n",
    "    if n==2 or n==3: return True\n",
    "    if n%2==0 or n<2: return False\n",
    "    for i in range(3, int(n**0.5)+1, 2):\n",
    "        if n%i==0:\n",
    "            return False\n",
    "    return True\n",
    "\n",
    "def solution(nums):\n",
    "    answer = 0\n",
    "    n_sum = []\n",
    "    for i in range(len(nums)-2):\n",
    "        one = nums[i]\n",
    "        for j in range(i+1, len(nums)-1):\n",
    "            two = nums[j]\n",
    "            for k in range(j+1, len(nums)):\n",
    "                three = nums[k]\n",
    "                n_sum.append(one+two+three)\n",
    "    \n",
    "    for num in n_sum:\n",
    "        if isPrime(num): answer += 1\n",
    "        \n",
    "    return answer"
   ]
  },
  {
   "cell_type": "markdown",
   "id": "587e5b2b",
   "metadata": {},
   "source": [
    "다른사람 코드"
   ]
  },
  {
   "cell_type": "code",
   "execution_count": null,
   "id": "0f243f8e",
   "metadata": {},
   "outputs": [],
   "source": [
    "def solution(nums):\n",
    "    from itertools import combinations as cb\n",
    "    answer = 0\n",
    "    for a in cb(nums, 3):\n",
    "        cand = sum(a)\n",
    "        for j in range(2, cand):\n",
    "            if cand%j==0:\n",
    "                break\n",
    "        else:\n",
    "            answer += 1\n",
    "    return answer"
   ]
  },
  {
   "cell_type": "code",
   "execution_count": 18,
   "id": "7df8ccc7",
   "metadata": {
    "ExecuteTime": {
     "end_time": "2022-03-18T03:49:19.214324Z",
     "start_time": "2022-03-18T03:49:19.205038Z"
    }
   },
   "outputs": [
    {
     "name": "stdout",
     "output_type": "stream",
     "text": [
      "(1, 2, 4)\n",
      "(1, 2, 6)\n",
      "(1, 2, 7)\n",
      "(1, 4, 6)\n",
      "(1, 4, 7)\n",
      "(1, 6, 7)\n",
      "(2, 4, 6)\n",
      "(2, 4, 7)\n",
      "(2, 6, 7)\n",
      "(4, 6, 7)\n"
     ]
    }
   ],
   "source": [
    "from itertools import combinations\n",
    "for a in combinations(nums, 3):\n",
    "    print(a)"
   ]
  },
  {
   "cell_type": "code",
   "execution_count": null,
   "id": "437aad64",
   "metadata": {},
   "outputs": [],
   "source": []
  }
 ],
 "metadata": {
  "kernelspec": {
   "display_name": "Python 3",
   "language": "python",
   "name": "python3"
  },
  "language_info": {
   "codemirror_mode": {
    "name": "ipython",
    "version": 3
   },
   "file_extension": ".py",
   "mimetype": "text/x-python",
   "name": "python",
   "nbconvert_exporter": "python",
   "pygments_lexer": "ipython3",
   "version": "3.8.8"
  },
  "toc": {
   "base_numbering": 1,
   "nav_menu": {},
   "number_sections": true,
   "sideBar": true,
   "skip_h1_title": false,
   "title_cell": "Table of Contents",
   "title_sidebar": "Contents",
   "toc_cell": false,
   "toc_position": {},
   "toc_section_display": true,
   "toc_window_display": false
  },
  "varInspector": {
   "cols": {
    "lenName": 16,
    "lenType": 16,
    "lenVar": 40
   },
   "kernels_config": {
    "python": {
     "delete_cmd_postfix": "",
     "delete_cmd_prefix": "del ",
     "library": "var_list.py",
     "varRefreshCmd": "print(var_dic_list())"
    },
    "r": {
     "delete_cmd_postfix": ") ",
     "delete_cmd_prefix": "rm(",
     "library": "var_list.r",
     "varRefreshCmd": "cat(var_dic_list()) "
    }
   },
   "types_to_exclude": [
    "module",
    "function",
    "builtin_function_or_method",
    "instance",
    "_Feature"
   ],
   "window_display": false
  }
 },
 "nbformat": 4,
 "nbformat_minor": 5
}
