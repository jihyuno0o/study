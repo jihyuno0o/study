{
 "cells": [
  {
   "cell_type": "code",
   "execution_count": 1,
   "id": "48b2c58f",
   "metadata": {
    "ExecuteTime": {
     "end_time": "2022-05-16T05:46:42.083893Z",
     "start_time": "2022-05-16T05:46:42.079603Z"
    }
   },
   "outputs": [],
   "source": [
    "from collections import deque"
   ]
  },
  {
   "cell_type": "code",
   "execution_count": 126,
   "id": "c6028dbe",
   "metadata": {
    "ExecuteTime": {
     "end_time": "2022-05-18T05:22:30.172981Z",
     "start_time": "2022-05-18T05:22:29.611387Z"
    }
   },
   "outputs": [
    {
     "name": "stdout",
     "output_type": "stream",
     "text": [
      "2\n"
     ]
    }
   ],
   "source": [
    "n = int(input())"
   ]
  },
  {
   "cell_type": "code",
   "execution_count": 127,
   "id": "68406ee0",
   "metadata": {
    "ExecuteTime": {
     "end_time": "2022-05-18T05:22:34.171054Z",
     "start_time": "2022-05-18T05:22:30.546982Z"
    },
    "scrolled": true
   },
   "outputs": [
    {
     "name": "stdout",
     "output_type": "stream",
     "text": [
      "10 A\n",
      "10 B\n"
     ]
    }
   ],
   "source": [
    "way = {'A':0, 'B':1, 'C':2, 'D':3}\n",
    "stack = deque()\n",
    "for i in range(n):\n",
    "    t, w = input().split()\n",
    "    stack.append((int(t), way.get(w), i))"
   ]
  },
  {
   "cell_type": "code",
   "execution_count": 128,
   "id": "a7390dc8",
   "metadata": {
    "ExecuteTime": {
     "end_time": "2022-05-18T05:22:34.535631Z",
     "start_time": "2022-05-18T05:22:34.519051Z"
    }
   },
   "outputs": [
    {
     "data": {
      "text/plain": [
       "[deque([]), deque([]), deque([]), deque([])]"
      ]
     },
     "execution_count": 128,
     "metadata": {},
     "output_type": "execute_result"
    }
   ],
   "source": [
    "now = [deque() for _ in range(4)]\n",
    "now"
   ]
  },
  {
   "cell_type": "code",
   "execution_count": 129,
   "id": "5fadc0da",
   "metadata": {
    "ExecuteTime": {
     "end_time": "2022-05-18T05:22:34.819055Z",
     "start_time": "2022-05-18T05:22:34.805907Z"
    },
    "scrolled": false
   },
   "outputs": [
    {
     "data": {
      "text/plain": [
       "[-1, -1]"
      ]
     },
     "execution_count": 129,
     "metadata": {},
     "output_type": "execute_result"
    }
   ],
   "source": [
    "output = [-1 for _ in range(n)]\n",
    "output"
   ]
  },
  {
   "cell_type": "code",
   "execution_count": 130,
   "id": "cb27bdd4",
   "metadata": {
    "ExecuteTime": {
     "end_time": "2022-05-18T05:22:35.415883Z",
     "start_time": "2022-05-18T05:22:35.398928Z"
    }
   },
   "outputs": [
    {
     "name": "stdout",
     "output_type": "stream",
     "text": [
      "0 2\n",
      "deque([(10, 0, 0), (10, 1, 1)])\n",
      "[deque([]), deque([]), deque([]), deque([])]\n",
      "[0, 0, 0, 0]\n",
      "[-1, -1]\n",
      "\n",
      "1 2\n",
      "deque([(10, 0, 0), (10, 1, 1)])\n",
      "[deque([]), deque([]), deque([]), deque([])]\n",
      "[0, 0, 0, 0]\n",
      "[-1, -1]\n",
      "\n",
      "2 2\n",
      "deque([(10, 0, 0), (10, 1, 1)])\n",
      "[deque([]), deque([]), deque([]), deque([])]\n",
      "[0, 0, 0, 0]\n",
      "[-1, -1]\n",
      "\n",
      "3 2\n",
      "deque([(10, 0, 0), (10, 1, 1)])\n",
      "[deque([]), deque([]), deque([]), deque([])]\n",
      "[0, 0, 0, 0]\n",
      "[-1, -1]\n",
      "\n",
      "4 2\n",
      "deque([(10, 0, 0), (10, 1, 1)])\n",
      "[deque([]), deque([]), deque([]), deque([])]\n",
      "[0, 0, 0, 0]\n",
      "[-1, -1]\n",
      "\n",
      "5 2\n",
      "deque([(10, 0, 0), (10, 1, 1)])\n",
      "[deque([]), deque([]), deque([]), deque([])]\n",
      "[0, 0, 0, 0]\n",
      "[-1, -1]\n",
      "\n",
      "6 2\n",
      "deque([(10, 0, 0), (10, 1, 1)])\n",
      "[deque([]), deque([]), deque([]), deque([])]\n",
      "[0, 0, 0, 0]\n",
      "[-1, -1]\n",
      "\n",
      "7 2\n",
      "deque([(10, 0, 0), (10, 1, 1)])\n",
      "[deque([]), deque([]), deque([]), deque([])]\n",
      "[0, 0, 0, 0]\n",
      "[-1, -1]\n",
      "\n",
      "8 2\n",
      "deque([(10, 0, 0), (10, 1, 1)])\n",
      "[deque([]), deque([]), deque([]), deque([])]\n",
      "[0, 0, 0, 0]\n",
      "[-1, -1]\n",
      "\n",
      "9 2\n",
      "deque([(10, 0, 0), (10, 1, 1)])\n",
      "[deque([]), deque([]), deque([]), deque([])]\n",
      "[0, 0, 0, 0]\n",
      "[-1, -1]\n",
      "\n",
      "10 2\n",
      "deque([(10, 0, 0), (10, 1, 1)])\n",
      "[deque([(10, 0)]), deque([(10, 1)]), deque([]), deque([])]\n",
      "[1, 0, 0, 0]\n",
      "[10, -1]\n",
      "\n",
      "11 1\n",
      "deque([])\n",
      "[deque([]), deque([(10, 1)]), deque([]), deque([])]\n",
      "[0, 1, 0, 0]\n",
      "[10, 11]\n",
      "\n"
     ]
    }
   ],
   "source": [
    "check = {0:3, 1:0, 2:1, 3:2}\n",
    "time = 0\n",
    "while n > 0:\n",
    "    print(time, n)\n",
    "    print(stack)\n",
    "    while stack:\n",
    "        if stack[0][0] == time:\n",
    "            t, w, i = stack.popleft()\n",
    "            now[w].append((t,i))\n",
    "        else:\n",
    "            break\n",
    "    print(now)\n",
    "    canpass = [0, 0, 0, 0]\n",
    "    for i in range(4):\n",
    "        if len(now[i]) != 0 and len(now[check.get(i)]) == 0:\n",
    "            canpass[i] = 1\n",
    "    print(canpass)\n",
    "    if canpass.count(0) == 4:\n",
    "        for i in range(4):\n",
    "            if len(now[i]) != 0:\n",
    "                break\n",
    "    \n",
    "    for i, chek in enumerate(canpass):\n",
    "        if chek:\n",
    "            output[now[i].popleft()[1]] = time\n",
    "            n -= 1\n",
    "    print(output)\n",
    "    print()\n",
    "\n",
    "    time += 1"
   ]
  },
  {
   "cell_type": "code",
   "execution_count": 131,
   "id": "ae5a9a6d",
   "metadata": {
    "ExecuteTime": {
     "end_time": "2022-05-18T05:24:11.728674Z",
     "start_time": "2022-05-18T05:24:11.714669Z"
    }
   },
   "outputs": [
    {
     "data": {
      "text/plain": [
       "[10, 11]"
      ]
     },
     "execution_count": 131,
     "metadata": {},
     "output_type": "execute_result"
    }
   ],
   "source": [
    "output"
   ]
  },
  {
   "cell_type": "code",
   "execution_count": 132,
   "id": "608ed103",
   "metadata": {
    "ExecuteTime": {
     "end_time": "2022-05-18T05:24:21.944826Z",
     "start_time": "2022-05-18T05:24:21.937846Z"
    }
   },
   "outputs": [
    {
     "name": "stdout",
     "output_type": "stream",
     "text": [
      "10\n",
      "11\n"
     ]
    }
   ],
   "source": [
    "for n in output:\n",
    "    print(n)"
   ]
  },
  {
   "cell_type": "markdown",
   "id": "6e620363",
   "metadata": {},
   "source": [
    "제출코드"
   ]
  },
  {
   "cell_type": "code",
   "execution_count": null,
   "id": "1537e621",
   "metadata": {},
   "outputs": [],
   "source": [
    "import sys\n",
    "from collections import deque\n",
    "n = int(input())\n",
    "way = {'A':0, 'B':1, 'C':2, 'D':3}\n",
    "stack = deque()\n",
    "for i in range(n):\n",
    "    t, w = input().split()\n",
    "    stack.append((int(t), way.get(w), i))\n",
    "now = [deque() for _ in range(4)]\n",
    "output = [-1 for _ in range(n)]\n",
    "\n",
    "check = {0:3, 1:0, 2:1, 3:2}\n",
    "time = 0\n",
    "while n > 0:\n",
    "    while stack:\n",
    "        if stack[0][0] == time:\n",
    "            t, w, i = stack.popleft()\n",
    "            now[w].append((t,i))\n",
    "        else:\n",
    "            break\n",
    "\n",
    "    canpass = [0, 0, 0, 0]\n",
    "    for i in range(4):\n",
    "        if len(now[i]) != 0 and len(now[check.get(i)]) == 0:\n",
    "            canpass[i] = 1\n",
    "\n",
    "    if canpass.count(0) == 4:\n",
    "        for i in range(4):\n",
    "            if len(now[i]) != 0:\n",
    "                break\n",
    "    \n",
    "    for i, chek in enumerate(canpass):\n",
    "        if chek:\n",
    "            output[now[i].popleft()[1]] = time\n",
    "            n -= 1\n",
    "\n",
    "    time += 1\n",
    "\n",
    "for n in output:\n",
    "    print(n)"
   ]
  },
  {
   "cell_type": "code",
   "execution_count": 139,
   "id": "e37c91d2",
   "metadata": {
    "ExecuteTime": {
     "end_time": "2022-05-18T05:36:25.325109Z",
     "start_time": "2022-05-18T05:36:21.324307Z"
    }
   },
   "outputs": [
    {
     "name": "stdout",
     "output_type": "stream",
     "text": [
      "2 \n",
      "10 A\n",
      "10 B\n",
      "10\n",
      "11\n"
     ]
    }
   ],
   "source": [
    "def output(stack, n):\n",
    "    now = [deque() for _ in range(4)]\n",
    "    answer = [-1 for _ in range(n)]\n",
    "\n",
    "    check = {0:3, 1:0, 2:1, 3:2}\n",
    "    time = 0\n",
    "    while n > 0:\n",
    "        while stack:\n",
    "            if stack[0][0] == time:\n",
    "                t, w, i = stack.popleft()\n",
    "                now[w].append((t,i))\n",
    "            else:\n",
    "                break\n",
    "\n",
    "        canpass = [0, 0, 0, 0]\n",
    "        for i in range(4):\n",
    "            if len(now[i]) != 0 and len(now[check.get(i)]) == 0:\n",
    "                canpass[i] = 1\n",
    "\n",
    "        if canpass.count(0) == 4:\n",
    "            for i in range(4):\n",
    "                if len(now[i]) != 0:\n",
    "                    return answer\n",
    "\n",
    "        for i, chek in enumerate(canpass):\n",
    "            if chek:\n",
    "                answer[now[i].popleft()[1]] = time\n",
    "                n -= 1\n",
    "\n",
    "        time += 1\n",
    "    \n",
    "    return answer\n",
    "\n",
    "import sys\n",
    "from collections import deque\n",
    "n = int(input())\n",
    "way = {'A':0, 'B':1, 'C':2, 'D':3}\n",
    "stack = deque()\n",
    "for i in range(n):\n",
    "    t, w = input().split()\n",
    "    stack.append((int(t), way.get(w), i))\n",
    "\n",
    "for n in output(stack, n):\n",
    "    print(n)"
   ]
  },
  {
   "cell_type": "code",
   "execution_count": null,
   "id": "45a0d1dc",
   "metadata": {},
   "outputs": [],
   "source": []
  }
 ],
 "metadata": {
  "kernelspec": {
   "display_name": "Python 3",
   "language": "python",
   "name": "python3"
  },
  "language_info": {
   "codemirror_mode": {
    "name": "ipython",
    "version": 3
   },
   "file_extension": ".py",
   "mimetype": "text/x-python",
   "name": "python",
   "nbconvert_exporter": "python",
   "pygments_lexer": "ipython3",
   "version": "3.8.8"
  },
  "toc": {
   "base_numbering": 1,
   "nav_menu": {},
   "number_sections": true,
   "sideBar": true,
   "skip_h1_title": false,
   "title_cell": "Table of Contents",
   "title_sidebar": "Contents",
   "toc_cell": false,
   "toc_position": {},
   "toc_section_display": true,
   "toc_window_display": false
  },
  "varInspector": {
   "cols": {
    "lenName": 16,
    "lenType": 16,
    "lenVar": 40
   },
   "kernels_config": {
    "python": {
     "delete_cmd_postfix": "",
     "delete_cmd_prefix": "del ",
     "library": "var_list.py",
     "varRefreshCmd": "print(var_dic_list())"
    },
    "r": {
     "delete_cmd_postfix": ") ",
     "delete_cmd_prefix": "rm(",
     "library": "var_list.r",
     "varRefreshCmd": "cat(var_dic_list()) "
    }
   },
   "types_to_exclude": [
    "module",
    "function",
    "builtin_function_or_method",
    "instance",
    "_Feature"
   ],
   "window_display": false
  }
 },
 "nbformat": 4,
 "nbformat_minor": 5
}
