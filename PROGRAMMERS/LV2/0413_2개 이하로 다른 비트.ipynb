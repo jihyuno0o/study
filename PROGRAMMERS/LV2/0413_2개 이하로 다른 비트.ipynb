{
 "cells": [
  {
   "cell_type": "markdown",
   "id": "38a29608",
   "metadata": {},
   "source": [
    "https://programmers.co.kr/learn/courses/30/lessons/77885"
   ]
  },
  {
   "attachments": {
    "image-2.png": {
     "image/png": "[encoded data removed]"
    },
    "image.png": {
     "image/png": "[encoded data removed]"
    }
   },
   "cell_type": "markdown",
   "id": "e6afae50",
   "metadata": {},
   "source": [
    "양의 정수 x에 대한 함수 f(x)를 다음과 같이 정의합니다.\n",
    "\n",
    "- x보다 크고 x와 비트가 1~2개 다른 수들 중에서 제일 작은 수\n",
    "\n",
    "예를 들어,\n",
    "- f(2) = 3 입니다. 다음 표와 같이 2보다 큰 수들 중에서 비트가 다른 지점이 2개 이하이면서 제일 작은 수가 3이기 때문입니다.\n",
    "\n",
    "![image.png](attachment:image.png)\n",
    "\n",
    "- f(7) = 11 입니다. 다음 표와 같이 7보다 큰 수들 중에서 비트가 다른 지점이 2개 이하이면서 제일 작은 수가 11이기 때문입니다.\n",
    "\n",
    "![image-2.png](attachment:image-2.png)\n",
    "\n",
    "정수들이 담긴 배열 numbers가 매개변수로 주어집니다. numbers의 모든 수들에 대하여 각 수의 f 값을 배열에 차례대로 담아 return 하도록 solution 함수를 완성해주세요."
   ]
  },
  {
   "cell_type": "markdown",
   "id": "7117d3ad",
   "metadata": {},
   "source": [
    "제한사항\n",
    "- 1 ≤ numbers의 길이 ≤ 100,000\n",
    "- 0 ≤ numbers의 모든 수 ≤ 1015"
   ]
  },
  {
   "cell_type": "code",
   "execution_count": 1,
   "id": "f35703dd",
   "metadata": {
    "ExecuteTime": {
     "end_time": "2022-04-13T05:03:50.258076Z",
     "start_time": "2022-04-13T05:03:50.245114Z"
    }
   },
   "outputs": [],
   "source": [
    "numbers = [2,7]\n",
    "# [3,11]"
   ]
  },
  {
   "cell_type": "code",
   "execution_count": 3,
   "id": "2d37e11f",
   "metadata": {
    "ExecuteTime": {
     "end_time": "2022-04-13T05:20:21.389461Z",
     "start_time": "2022-04-13T05:20:21.354350Z"
    }
   },
   "outputs": [
    {
     "data": {
      "text/plain": [
       "'111'"
      ]
     },
     "execution_count": 3,
     "metadata": {},
     "output_type": "execute_result"
    }
   ],
   "source": [
    "num = 7\n",
    "str_n = str(format(num, 'b'))\n",
    "str_n"
   ]
  },
  {
   "cell_type": "code",
   "execution_count": 10,
   "id": "7a02705d",
   "metadata": {
    "ExecuteTime": {
     "end_time": "2022-04-13T05:22:57.407568Z",
     "start_time": "2022-04-13T05:22:57.388351Z"
    }
   },
   "outputs": [
    {
     "name": "stdout",
     "output_type": "stream",
     "text": [
      "1\n",
      "1\n",
      "1\n"
     ]
    }
   ],
   "source": [
    "for i in range(1, len(str_n)+1):\n",
    "    print(str_n[-i])"
   ]
  },
  {
   "cell_type": "code",
   "execution_count": 28,
   "id": "2de094c0",
   "metadata": {
    "ExecuteTime": {
     "end_time": "2022-04-13T05:49:12.518188Z",
     "start_time": "2022-04-13T05:49:12.513901Z"
    }
   },
   "outputs": [],
   "source": [
    "answer = []"
   ]
  },
  {
   "cell_type": "code",
   "execution_count": 29,
   "id": "3cbc69d5",
   "metadata": {
    "ExecuteTime": {
     "end_time": "2022-04-13T05:49:12.798366Z",
     "start_time": "2022-04-13T05:49:12.783237Z"
    }
   },
   "outputs": [
    {
     "name": "stdout",
     "output_type": "stream",
     "text": [
      "str_n10\n",
      "str_check11\n",
      "str_n111\n",
      "str_check1000\n",
      "str_check1001\n",
      "str_check1010\n",
      "str_check1011\n"
     ]
    }
   ],
   "source": [
    "for num in numbers:\n",
    "    str_n = str(format(num, 'b'))\n",
    "    print('str_n' + str_n)\n",
    "    L = len(str_n)\n",
    "    check = num+1\n",
    "    while True:\n",
    "        str_check = str(format(check, 'b'))\n",
    "        print('str_check' + str_check)\n",
    "        diff = str_check[:-L].count('1')\n",
    "\n",
    "        for i in range(1, L+1):\n",
    "            if str_n[-i] != str_check[-i]: diff += 1\n",
    "            if diff > 2 : break\n",
    "        \n",
    "        if diff <= 2:\n",
    "            break\n",
    "        else: check += 1\n",
    "    answer.append(check)"
   ]
  },
  {
   "cell_type": "code",
   "execution_count": 30,
   "id": "66562c0e",
   "metadata": {
    "ExecuteTime": {
     "end_time": "2022-04-13T05:49:13.215458Z",
     "start_time": "2022-04-13T05:49:13.208954Z"
    }
   },
   "outputs": [
    {
     "data": {
      "text/plain": [
       "[3, 11]"
      ]
     },
     "execution_count": 30,
     "metadata": {},
     "output_type": "execute_result"
    }
   ],
   "source": [
    "answer"
   ]
  },
  {
   "cell_type": "markdown",
   "id": "c7ed6dcc",
   "metadata": {},
   "source": [
    "solution"
   ]
  },
  {
   "cell_type": "code",
   "execution_count": null,
   "id": "71fc0376",
   "metadata": {},
   "outputs": [],
   "source": [
    "def solution(numbers):\n",
    "    answer = []\n",
    "    for num in numbers:\n",
    "        num = int(num) # 안하면 TC7,8,9 런타임오류뜸\n",
    "        str_n = str(format(num, 'b'))\n",
    "        L = len(str_n)\n",
    "        check = num+1\n",
    "        while True:\n",
    "            str_check = str(format(check, 'b'))\n",
    "            diff = str_check[:-L].count('1') # n의 길이보다 길면 두 비트가 겹치지 않는 곳에서의 1의 개수가 다른 비트임\n",
    "\n",
    "            for i in range(1, L+1): # 원래 n의 비트 부분만 확인\n",
    "                # 뒤에서 부터 다른지 확인\n",
    "                if str_n[-i] != str_check[-i]: diff += 1\n",
    "                if diff > 2 : break\n",
    "\n",
    "            if diff <= 2:\n",
    "                break\n",
    "            else: check += 1\n",
    "        answer.append(check)\n",
    "    return answer"
   ]
  },
  {
   "cell_type": "code",
   "execution_count": null,
   "id": "7d050896",
   "metadata": {},
   "outputs": [],
   "source": []
  },
  {
   "cell_type": "code",
   "execution_count": null,
   "id": "c2bdbcca",
   "metadata": {},
   "outputs": [],
   "source": []
  },
  {
   "cell_type": "markdown",
   "id": "0f1b6b0c",
   "metadata": {},
   "source": [
    "짝수인 경우는 그냥 그 다음숫자가 정답, 홀수일때만 하면됨"
   ]
  },
  {
   "cell_type": "code",
   "execution_count": 61,
   "id": "c4d3c0a0",
   "metadata": {
    "ExecuteTime": {
     "end_time": "2022-04-13T06:40:22.529876Z",
     "start_time": "2022-04-13T06:40:22.511761Z"
    }
   },
   "outputs": [
    {
     "name": "stdout",
     "output_type": "stream",
     "text": [
      "7\n",
      "['0', '1', '1', '1']\n",
      "1\n",
      "2\n",
      "3\n",
      "['1', '0', '1', '1']\n"
     ]
    }
   ],
   "source": [
    "answer = []\n",
    "for num in numbers:\n",
    "    num = int(num)\n",
    "    if num %2 == 0:\n",
    "        answer.append(num+1)\n",
    "        continue\n",
    "    else:\n",
    "        print(num)\n",
    "        str_n = list('0' + format(num, 'b'))\n",
    "        print(str_n)\n",
    "        check = '1'\n",
    "        for i in range(1, len(str_n)):\n",
    "            if str_n[-i] == '1' and str_n[-i-1] == '0':\n",
    "                str_n[-i] = '0'\n",
    "                str_n[-i-1] = '1'\n",
    "                break\n",
    "        print(str_n)\n",
    "        answer.append(int(''.join(str_n),2))"
   ]
  },
  {
   "cell_type": "code",
   "execution_count": 62,
   "id": "357cd207",
   "metadata": {
    "ExecuteTime": {
     "end_time": "2022-04-13T06:40:30.875989Z",
     "start_time": "2022-04-13T06:40:30.863264Z"
    }
   },
   "outputs": [
    {
     "data": {
      "text/plain": [
       "[3, 11]"
      ]
     },
     "execution_count": 62,
     "metadata": {},
     "output_type": "execute_result"
    }
   ],
   "source": [
    "answer"
   ]
  },
  {
   "cell_type": "markdown",
   "id": "89555f27",
   "metadata": {},
   "source": [
    "soltuion"
   ]
  },
  {
   "cell_type": "code",
   "execution_count": null,
   "id": "ae6526ef",
   "metadata": {},
   "outputs": [],
   "source": [
    "def solution(numbers):\n",
    "    answer = []\n",
    "    for num in numbers:\n",
    "        num = int(num)\n",
    "        if num %2 == 0:\n",
    "            answer.append(num+1)\n",
    "            continue\n",
    "        else:\n",
    "            str_n = list('0' + format(num, 'b'))\n",
    "            check = '1'\n",
    "            for i in range(1, len(str_n)):\n",
    "                if str_n[-i] == '1' and str_n[-i-1] == '0':\n",
    "                    str_n[-i] = '0'\n",
    "                    str_n[-i-1] = '1'\n",
    "                    break\n",
    "            answer.append(int(''.join(str_n),2))\n",
    "    \n",
    "    return answer"
   ]
  }
 ],
 "metadata": {
  "kernelspec": {
   "display_name": "Python 3",
   "language": "python",
   "name": "python3"
  },
  "language_info": {
   "codemirror_mode": {
    "name": "ipython",
    "version": 3
   },
   "file_extension": ".py",
   "mimetype": "text/x-python",
   "name": "python",
   "nbconvert_exporter": "python",
   "pygments_lexer": "ipython3",
   "version": "3.8.8"
  },
  "toc": {
   "base_numbering": 1,
   "nav_menu": {},
   "number_sections": true,
   "sideBar": true,
   "skip_h1_title": false,
   "title_cell": "Table of Contents",
   "title_sidebar": "Contents",
   "toc_cell": false,
   "toc_position": {},
   "toc_section_display": true,
   "toc_window_display": false
  },
  "varInspector": {
   "cols": {
    "lenName": 16,
    "lenType": 16,
    "lenVar": 40
   },
   "kernels_config": {
    "python": {
     "delete_cmd_postfix": "",
     "delete_cmd_prefix": "del ",
     "library": "var_list.py",
     "varRefreshCmd": "print(var_dic_list())"
    },
    "r": {
     "delete_cmd_postfix": ") ",
     "delete_cmd_prefix": "rm(",
     "library": "var_list.r",
     "varRefreshCmd": "cat(var_dic_list()) "
    }
   },
   "types_to_exclude": [
    "module",
    "function",
    "builtin_function_or_method",
    "instance",
    "_Feature"
   ],
   "window_display": false
  }
 },
 "nbformat": 4,
 "nbformat_minor": 5
}
