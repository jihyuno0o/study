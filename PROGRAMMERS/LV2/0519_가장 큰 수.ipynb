{
 "cells": [
  {
   "cell_type": "code",
   "execution_count": 13,
   "id": "b6d3e5dd",
   "metadata": {
    "ExecuteTime": {
     "end_time": "2022-05-19T00:20:37.937928Z",
     "start_time": "2022-05-19T00:20:37.934714Z"
    }
   },
   "outputs": [],
   "source": [
    "numbers = [3, 30, 34, 5, 9]\n",
    "numbers = list(map(str, numbers))"
   ]
  },
  {
   "cell_type": "code",
   "execution_count": 14,
   "id": "030cf5cf",
   "metadata": {
    "ExecuteTime": {
     "end_time": "2022-05-19T00:20:38.332920Z",
     "start_time": "2022-05-19T00:20:38.318961Z"
    },
    "scrolled": true
   },
   "outputs": [
    {
     "data": {
      "text/plain": [
       "['3', '30', '34', '5', '9']"
      ]
     },
     "execution_count": 14,
     "metadata": {},
     "output_type": "execute_result"
    }
   ],
   "source": [
    "numbers"
   ]
  },
  {
   "cell_type": "code",
   "execution_count": 16,
   "id": "9e533600",
   "metadata": {
    "ExecuteTime": {
     "end_time": "2022-05-19T00:46:02.569338Z",
     "start_time": "2022-05-19T00:46:02.559365Z"
    },
    "scrolled": true
   },
   "outputs": [
    {
     "data": {
      "text/plain": [
       "['9', '5', '34', '30', '3']"
      ]
     },
     "execution_count": 16,
     "metadata": {},
     "output_type": "execute_result"
    }
   ],
   "source": [
    "numbers.sort(reverse = True)\n",
    "numbers # 30이 3보다 뒤에 있어야함"
   ]
  },
  {
   "cell_type": "code",
   "execution_count": null,
   "id": "42ea76dc",
   "metadata": {},
   "outputs": [],
   "source": []
  },
  {
   "cell_type": "code",
   "execution_count": 17,
   "id": "4e946a4f",
   "metadata": {
    "ExecuteTime": {
     "end_time": "2022-05-19T00:46:23.903004Z",
     "start_time": "2022-05-19T00:46:23.885039Z"
    }
   },
   "outputs": [
    {
     "data": {
      "text/plain": [
       "['999', '555', '343434', '303030', '333']"
      ]
     },
     "execution_count": 17,
     "metadata": {},
     "output_type": "execute_result"
    }
   ],
   "source": [
    "numbers = list(map(lambda x:x*3, numbers))\n",
    "numbers"
   ]
  },
  {
   "cell_type": "code",
   "execution_count": 18,
   "id": "8a0e7f12",
   "metadata": {
    "ExecuteTime": {
     "end_time": "2022-05-19T00:46:24.233826Z",
     "start_time": "2022-05-19T00:46:24.215151Z"
    }
   },
   "outputs": [],
   "source": [
    "numbers.sort(reverse = True)"
   ]
  },
  {
   "cell_type": "code",
   "execution_count": 12,
   "id": "28c89428",
   "metadata": {
    "ExecuteTime": {
     "end_time": "2022-05-19T00:20:19.184494Z",
     "start_time": "2022-05-19T00:20:19.168532Z"
    }
   },
   "outputs": [
    {
     "data": {
      "text/plain": [
       "['303030', '333', '343434', '555', '999']"
      ]
     },
     "execution_count": 12,
     "metadata": {},
     "output_type": "execute_result"
    }
   ],
   "source": [
    "numbers"
   ]
  },
  {
   "cell_type": "code",
   "execution_count": 4,
   "id": "8f323aee",
   "metadata": {
    "ExecuteTime": {
     "end_time": "2022-05-19T00:17:13.387796Z",
     "start_time": "2022-05-19T00:17:13.364990Z"
    }
   },
   "outputs": [
    {
     "data": {
      "text/plain": [
       "['9', '5', '34', '3', '30']"
      ]
     },
     "execution_count": 4,
     "metadata": {},
     "output_type": "execute_result"
    }
   ],
   "source": [
    "numbers.sort(reverse=True, key=lambda x:x*3)\n",
    "numbers"
   ]
  },
  {
   "cell_type": "code",
   "execution_count": null,
   "id": "4e16dde0",
   "metadata": {},
   "outputs": [],
   "source": [
    "numbers"
   ]
  }
 ],
 "metadata": {
  "kernelspec": {
   "display_name": "Python 3",
   "language": "python",
   "name": "python3"
  },
  "language_info": {
   "codemirror_mode": {
    "name": "ipython",
    "version": 3
   },
   "file_extension": ".py",
   "mimetype": "text/x-python",
   "name": "python",
   "nbconvert_exporter": "python",
   "pygments_lexer": "ipython3",
   "version": "3.8.8"
  },
  "toc": {
   "base_numbering": 1,
   "nav_menu": {},
   "number_sections": true,
   "sideBar": true,
   "skip_h1_title": false,
   "title_cell": "Table of Contents",
   "title_sidebar": "Contents",
   "toc_cell": false,
   "toc_position": {},
   "toc_section_display": true,
   "toc_window_display": false
  },
  "varInspector": {
   "cols": {
    "lenName": 16,
    "lenType": 16,
    "lenVar": 40
   },
   "kernels_config": {
    "python": {
     "delete_cmd_postfix": "",
     "delete_cmd_prefix": "del ",
     "library": "var_list.py",
     "varRefreshCmd": "print(var_dic_list())"
    },
    "r": {
     "delete_cmd_postfix": ") ",
     "delete_cmd_prefix": "rm(",
     "library": "var_list.r",
     "varRefreshCmd": "cat(var_dic_list()) "
    }
   },
   "types_to_exclude": [
    "module",
    "function",
    "builtin_function_or_method",
    "instance",
    "_Feature"
   ],
   "window_display": false
  }
 },
 "nbformat": 4,
 "nbformat_minor": 5
}
