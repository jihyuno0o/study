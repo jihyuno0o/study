{
 "cells": [
  {
   "cell_type": "markdown",
   "id": "850b6474",
   "metadata": {
    "ExecuteTime": {
     "end_time": "2022-04-06T02:06:45.177118Z",
     "start_time": "2022-04-06T02:06:45.156879Z"
    }
   },
   "source": [
    "사전에 알파벳 모음 'A', 'E', 'I', 'O', 'U'만을 사용하여 만들 수 있는, 길이 5 이하의 모든 단어가 수록되어 있습니다. 사전에서 첫 번째 단어는 \"A\"이고, 그다음은 \"AA\"이며, 마지막 단어는 \"UUUUU\"입니다.\n",
    "\n",
    "단어 하나 word가 매개변수로 주어질 때, 이 단어가 사전에서 몇 번째 단어인지 return 하도록 solution 함수를 완성해주세요.\n",
    "\n",
    "제한사항\n",
    "- word의 길이는 1 이상 5 이하입니다.\n",
    "- word는 알파벳 대문자 'A', 'E', 'I', 'O', 'U'로만 이루어져 있습니다."
   ]
  },
  {
   "cell_type": "code",
   "execution_count": 2,
   "id": "418c3527",
   "metadata": {
    "ExecuteTime": {
     "end_time": "2022-04-06T02:47:16.711911Z",
     "start_time": "2022-04-06T02:47:16.696647Z"
    }
   },
   "outputs": [],
   "source": [
    "word = \"AAAAE\" # 6"
   ]
  },
  {
   "cell_type": "code",
   "execution_count": 13,
   "id": "b490ba7a",
   "metadata": {
    "ExecuteTime": {
     "end_time": "2022-04-06T04:00:26.708946Z",
     "start_time": "2022-04-06T04:00:26.695513Z"
    }
   },
   "outputs": [],
   "source": [
    "answer = len(word)"
   ]
  },
  {
   "cell_type": "code",
   "execution_count": 14,
   "id": "5576d501",
   "metadata": {
    "ExecuteTime": {
     "end_time": "2022-04-06T04:00:27.668575Z",
     "start_time": "2022-04-06T04:00:27.654585Z"
    }
   },
   "outputs": [],
   "source": [
    "alpha = \"AEIOU\"\n",
    "pos = [781, 156, 31, 6, 1]"
   ]
  },
  {
   "cell_type": "code",
   "execution_count": 15,
   "id": "11837bd5",
   "metadata": {
    "ExecuteTime": {
     "end_time": "2022-04-06T04:00:27.948986Z",
     "start_time": "2022-04-06T04:00:27.942611Z"
    }
   },
   "outputs": [],
   "source": [
    "idx = alpha.find(\"E\")"
   ]
  },
  {
   "cell_type": "code",
   "execution_count": 16,
   "id": "a7d92071",
   "metadata": {
    "ExecuteTime": {
     "end_time": "2022-04-06T04:00:28.380912Z",
     "start_time": "2022-04-06T04:00:28.358368Z"
    }
   },
   "outputs": [
    {
     "data": {
      "text/plain": [
       "6"
      ]
     },
     "execution_count": 16,
     "metadata": {},
     "output_type": "execute_result"
    }
   ],
   "source": [
    "for i, v in enumerate(word):\n",
    "    idx = alpha.find(v)\n",
    "    answer += idx * pos[i]\n",
    "\n",
    "answer"
   ]
  },
  {
   "cell_type": "code",
   "execution_count": 17,
   "id": "279359e5",
   "metadata": {
    "ExecuteTime": {
     "end_time": "2022-04-06T04:03:24.893910Z",
     "start_time": "2022-04-06T04:03:24.879146Z"
    }
   },
   "outputs": [
    {
     "data": {
      "text/plain": [
       "156.2"
      ]
     },
     "execution_count": 17,
     "metadata": {},
     "output_type": "execute_result"
    }
   ],
   "source": [
    "3905 / 25"
   ]
  },
  {
   "cell_type": "markdown",
   "id": "46dcd792",
   "metadata": {},
   "source": [
    "solution"
   ]
  },
  {
   "cell_type": "code",
   "execution_count": null,
   "id": "2617066f",
   "metadata": {},
   "outputs": [],
   "source": [
    "def solution(word):\n",
    "    answer = len(word)\n",
    "    alpha = \"AEIOU\"\n",
    "    pos = [781, 156, 31, 6, 1]\n",
    "    # 문자간의 거리 = 경우의 수 총합 / 문자열 길이의 경우의 수\n",
    "    # 문자열 종류 5개 # 문자열 길이는 1,2,3,4,5 다섯개\n",
    "    # 5 + 25 + 125 + 625 + 3125 = 3905\n",
    "    # 1번 자리 = 781 (3905 / 5)\n",
    "    # 2번 자리 = 156 (3905 / 25)\n",
    "    # ...\n",
    "    \n",
    "    for i,v in enumerate(word):\n",
    "        idx = alpha.find(v)\n",
    "        answer += idx * pos[i]\n",
    "        \n",
    "    return answer"
   ]
  },
  {
   "cell_type": "markdown",
   "id": "0d3901b3",
   "metadata": {},
   "source": [
    "다른 사람 코드"
   ]
  },
  {
   "cell_type": "code",
   "execution_count": null,
   "id": "6829577f",
   "metadata": {},
   "outputs": [],
   "source": [
    "def solution(word):\n",
    "    answer = 0\n",
    "    for i, n in enumerate(word):\n",
    "        answer += (5 ** (5 - i) - 1) / (5 - 1) * \"AEIOU\".index(n) + 1\n",
    "    return answer"
   ]
  }
 ],
 "metadata": {
  "kernelspec": {
   "display_name": "Python 3",
   "language": "python",
   "name": "python3"
  },
  "language_info": {
   "codemirror_mode": {
    "name": "ipython",
    "version": 3
   },
   "file_extension": ".py",
   "mimetype": "text/x-python",
   "name": "python",
   "nbconvert_exporter": "python",
   "pygments_lexer": "ipython3",
   "version": "3.8.8"
  },
  "toc": {
   "base_numbering": 1,
   "nav_menu": {},
   "number_sections": true,
   "sideBar": true,
   "skip_h1_title": false,
   "title_cell": "Table of Contents",
   "title_sidebar": "Contents",
   "toc_cell": false,
   "toc_position": {},
   "toc_section_display": true,
   "toc_window_display": false
  },
  "varInspector": {
   "cols": {
    "lenName": 16,
    "lenType": 16,
    "lenVar": 40
   },
   "kernels_config": {
    "python": {
     "delete_cmd_postfix": "",
     "delete_cmd_prefix": "del ",
     "library": "var_list.py",
     "varRefreshCmd": "print(var_dic_list())"
    },
    "r": {
     "delete_cmd_postfix": ") ",
     "delete_cmd_prefix": "rm(",
     "library": "var_list.r",
     "varRefreshCmd": "cat(var_dic_list()) "
    }
   },
   "types_to_exclude": [
    "module",
    "function",
    "builtin_function_or_method",
    "instance",
    "_Feature"
   ],
   "window_display": false
  }
 },
 "nbformat": 4,
 "nbformat_minor": 5
}
