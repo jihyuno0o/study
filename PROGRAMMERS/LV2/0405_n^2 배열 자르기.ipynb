{
 "cells": [
  {
   "cell_type": "markdown",
   "id": "ff8b552b",
   "metadata": {},
   "source": [
    "https://programmers.co.kr/learn/courses/30/lessons/87390"
   ]
  },
  {
   "cell_type": "markdown",
   "id": "c1aa9afc",
   "metadata": {},
   "source": [
    "문제 설명\n",
    "정수 n, left, right가 주어집니다. 다음 과정을 거쳐서 1차원 배열을 만들고자 합니다.\n",
    "\n",
    "1. n행 n열 크기의 비어있는 2차원 배열을 만듭니다.\n",
    "2. i = 1, 2, 3, ..., n에 대해서, 다음 과정을 반복합니다.\n",
    "    - 1행 1열부터 i행 i열까지의 영역 내의 모든 빈 칸을 숫자 i로 채웁니다.\n",
    "3. 1행, 2행, ..., n행을 잘라내어 모두 이어붙인 새로운 1차원 배열을 만듭니다.\n",
    "4. 새로운 1차원 배열을 arr이라 할 때, arr[left], arr[left+1], ..., arr[right]만 남기고 나머지는 지웁니다.\n",
    "\n",
    "정수 n, left, right가 매개변수로 주어집니다. 주어진 과정대로 만들어진 1차원 배열을 return 하도록 solution 함수를 완성해주세요."
   ]
  },
  {
   "cell_type": "markdown",
   "id": "5f85752a",
   "metadata": {},
   "source": [
    "제한사항\n",
    "- 1 ≤ n ≤ 107\n",
    "- 0 ≤ left ≤ right < n2\n",
    "- right - left < 105"
   ]
  },
  {
   "cell_type": "code",
   "execution_count": 1,
   "id": "bce371c3",
   "metadata": {
    "ExecuteTime": {
     "end_time": "2022-04-04T08:02:02.844748Z",
     "start_time": "2022-04-04T08:02:02.826514Z"
    }
   },
   "outputs": [],
   "source": [
    "n = 3\n",
    "left = 2\n",
    "right = 5\n",
    "# result = [3,2,2,3]"
   ]
  },
  {
   "cell_type": "code",
   "execution_count": null,
   "id": "65105bd8",
   "metadata": {
    "ExecuteTime": {
     "end_time": "2022-04-04T07:12:05.702476Z",
     "start_time": "2022-04-04T07:12:05.691674Z"
    }
   },
   "outputs": [],
   "source": [
    "n = 4\n",
    "left = 7\n",
    "right = 14\n",
    "# [4,3,3,3,4,4,4,4]"
   ]
  },
  {
   "cell_type": "code",
   "execution_count": 2,
   "id": "5584f94c",
   "metadata": {
    "ExecuteTime": {
     "end_time": "2022-04-04T08:02:05.575124Z",
     "start_time": "2022-04-04T08:02:05.556503Z"
    }
   },
   "outputs": [
    {
     "data": {
      "text/plain": [
       "[[0, 0, 0], [0, 0, 0], [0, 0, 0]]"
      ]
     },
     "execution_count": 2,
     "metadata": {},
     "output_type": "execute_result"
    }
   ],
   "source": [
    "n2 = [[0]*n for _ in range(n)]\n",
    "n2"
   ]
  },
  {
   "cell_type": "code",
   "execution_count": 3,
   "id": "3a511620",
   "metadata": {
    "ExecuteTime": {
     "end_time": "2022-04-04T08:02:05.762493Z",
     "start_time": "2022-04-04T08:02:05.748048Z"
    }
   },
   "outputs": [
    {
     "data": {
      "text/plain": [
       "[[1, 2, 3], [2, 2, 3], [3, 3, 3]]"
      ]
     },
     "execution_count": 3,
     "metadata": {},
     "output_type": "execute_result"
    }
   ],
   "source": [
    "num = 0\n",
    "while(num < n):\n",
    "    for i in range(num+1):\n",
    "        n2[num][i] = num+1\n",
    "        n2[i][num] = num+1\n",
    "    num += 1\n",
    "n2"
   ]
  },
  {
   "cell_type": "code",
   "execution_count": 4,
   "id": "df970d23",
   "metadata": {
    "ExecuteTime": {
     "end_time": "2022-04-04T08:02:08.754671Z",
     "start_time": "2022-04-04T08:02:08.737754Z"
    }
   },
   "outputs": [],
   "source": [
    "answer = []\n",
    "for n1 in n2:\n",
    "    answer += n1"
   ]
  },
  {
   "cell_type": "code",
   "execution_count": 5,
   "id": "968b90e7",
   "metadata": {
    "ExecuteTime": {
     "end_time": "2022-04-04T08:02:09.411722Z",
     "start_time": "2022-04-04T08:02:09.391481Z"
    }
   },
   "outputs": [
    {
     "data": {
      "text/plain": [
       "[1, 2, 3, 2, 2, 3, 3, 3, 3]"
      ]
     },
     "execution_count": 5,
     "metadata": {},
     "output_type": "execute_result"
    }
   ],
   "source": [
    "answer"
   ]
  },
  {
   "cell_type": "code",
   "execution_count": 6,
   "id": "1ba9c155",
   "metadata": {
    "ExecuteTime": {
     "end_time": "2022-04-04T08:02:09.925585Z",
     "start_time": "2022-04-04T08:02:09.904364Z"
    }
   },
   "outputs": [
    {
     "data": {
      "text/plain": [
       "[3, 2, 2, 3]"
      ]
     },
     "execution_count": 6,
     "metadata": {},
     "output_type": "execute_result"
    }
   ],
   "source": [
    "answer[left:right+1]"
   ]
  },
  {
   "cell_type": "markdown",
   "id": "e7cf00fe",
   "metadata": {},
   "source": [
    "solution - 시간 초과"
   ]
  },
  {
   "cell_type": "code",
   "execution_count": null,
   "id": "b75928b1",
   "metadata": {
    "ExecuteTime": {
     "end_time": "2022-04-04T07:04:33.797044Z",
     "start_time": "2022-04-04T07:04:33.787685Z"
    }
   },
   "outputs": [],
   "source": [
    "def solution(n, left, right):\n",
    "    answer = []\n",
    "    \n",
    "    n2 = [[0]*n for _ in range(n)]\n",
    "    num = 0\n",
    "    while(num < n):\n",
    "        for i in range(num+1):\n",
    "            n2[num][i] = num+1\n",
    "            n2[i][num] = num+1\n",
    "        num += 1\n",
    "    \n",
    "    for n1 in n2:\n",
    "        answer += n1\n",
    "    return answer[left:right+1]"
   ]
  },
  {
   "cell_type": "code",
   "execution_count": null,
   "id": "1ed6b432",
   "metadata": {},
   "outputs": [],
   "source": []
  },
  {
   "cell_type": "code",
   "execution_count": null,
   "id": "69ef1bd7",
   "metadata": {},
   "outputs": [],
   "source": []
  },
  {
   "cell_type": "code",
   "execution_count": null,
   "id": "c3ab75dd",
   "metadata": {},
   "outputs": [],
   "source": [
    "#다른 방법 - 시간초과가 나니까 전부 돌려서 값을 구할 필요 없이 left-right의 행만 구해보기"
   ]
  },
  {
   "cell_type": "code",
   "execution_count": 7,
   "id": "71c795d8",
   "metadata": {
    "ExecuteTime": {
     "end_time": "2022-04-04T08:02:13.470429Z",
     "start_time": "2022-04-04T08:02:13.462405Z"
    }
   },
   "outputs": [
    {
     "data": {
      "text/plain": [
       "(0, 1)"
      ]
     },
     "execution_count": 7,
     "metadata": {},
     "output_type": "execute_result"
    }
   ],
   "source": [
    "left // n, right // n"
   ]
  },
  {
   "cell_type": "code",
   "execution_count": 8,
   "id": "65d00216",
   "metadata": {
    "ExecuteTime": {
     "end_time": "2022-04-04T08:02:13.941181Z",
     "start_time": "2022-04-04T08:02:13.927849Z"
    }
   },
   "outputs": [],
   "source": [
    "answer = []\n",
    "for i in range(left//n + 1, right//n + 2):\n",
    "    for j in range(i):\n",
    "        answer.append(i)\n",
    "    for j in range(i+1,n+1):\n",
    "        answer.append(j)"
   ]
  },
  {
   "cell_type": "code",
   "execution_count": 9,
   "id": "13fe26ff",
   "metadata": {
    "ExecuteTime": {
     "end_time": "2022-04-04T08:02:15.495423Z",
     "start_time": "2022-04-04T08:02:15.480258Z"
    }
   },
   "outputs": [
    {
     "data": {
      "text/plain": [
       "[1, 2, 3, 2, 2, 3]"
      ]
     },
     "execution_count": 9,
     "metadata": {},
     "output_type": "execute_result"
    }
   ],
   "source": [
    "answer"
   ]
  },
  {
   "cell_type": "code",
   "execution_count": 12,
   "id": "3c57bbbb",
   "metadata": {
    "ExecuteTime": {
     "end_time": "2022-04-04T08:02:36.709869Z",
     "start_time": "2022-04-04T08:02:36.688934Z"
    }
   },
   "outputs": [
    {
     "name": "stdout",
     "output_type": "stream",
     "text": [
      "[3, 2, 2, 3]\n"
     ]
    }
   ],
   "source": [
    "if n-(right%n+1) == 0:\n",
    "    print(answer[left%n:])\n",
    "else:\n",
    "    print(answer[left%n:-(n-(right%n+1))])"
   ]
  },
  {
   "cell_type": "markdown",
   "id": "afa8ecb5",
   "metadata": {},
   "source": [
    "solution"
   ]
  },
  {
   "cell_type": "code",
   "execution_count": null,
   "id": "77199837",
   "metadata": {},
   "outputs": [],
   "source": [
    "def solution(n, left, right):\n",
    "    left,right = int(left), int(right) # 이걸 왜 해야하지 # 안하면 12, 13 TC 런타임 뜸\n",
    "    answer = []\n",
    "    for i in range(left//n + 1, right//n + 2):\n",
    "        for j in range(i):\n",
    "            answer.append(i)\n",
    "        for j in range(i+1,n+1):\n",
    "            answer.append(j)\n",
    "    if n-(right%n+1) == 0:\n",
    "        return answer[left%n:]\n",
    "    else:\n",
    "        return answer[left%n:-(n-(right%n+1))]"
   ]
  }
 ],
 "metadata": {
  "kernelspec": {
   "display_name": "Python 3",
   "language": "python",
   "name": "python3"
  },
  "language_info": {
   "codemirror_mode": {
    "name": "ipython",
    "version": 3
   },
   "file_extension": ".py",
   "mimetype": "text/x-python",
   "name": "python",
   "nbconvert_exporter": "python",
   "pygments_lexer": "ipython3",
   "version": "3.8.8"
  },
  "toc": {
   "base_numbering": 1,
   "nav_menu": {},
   "number_sections": true,
   "sideBar": true,
   "skip_h1_title": false,
   "title_cell": "Table of Contents",
   "title_sidebar": "Contents",
   "toc_cell": false,
   "toc_position": {},
   "toc_section_display": true,
   "toc_window_display": false
  },
  "varInspector": {
   "cols": {
    "lenName": 16,
    "lenType": 16,
    "lenVar": 40
   },
   "kernels_config": {
    "python": {
     "delete_cmd_postfix": "",
     "delete_cmd_prefix": "del ",
     "library": "var_list.py",
     "varRefreshCmd": "print(var_dic_list())"
    },
    "r": {
     "delete_cmd_postfix": ") ",
     "delete_cmd_prefix": "rm(",
     "library": "var_list.r",
     "varRefreshCmd": "cat(var_dic_list()) "
    }
   },
   "types_to_exclude": [
    "module",
    "function",
    "builtin_function_or_method",
    "instance",
    "_Feature"
   ],
   "window_display": false
  }
 },
 "nbformat": 4,
 "nbformat_minor": 5
}
