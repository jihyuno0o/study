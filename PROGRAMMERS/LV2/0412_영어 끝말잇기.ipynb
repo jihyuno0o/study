{
 "cells": [
  {
   "cell_type": "markdown",
   "id": "d0323a67",
   "metadata": {},
   "source": [
    "https://programmers.co.kr/learn/courses/30/lessons/12981"
   ]
  },
  {
   "cell_type": "markdown",
   "id": "3a008a92",
   "metadata": {},
   "source": [
    "1부터 n까지 번호가 붙어있는 n명의 사람이 영어 끝말잇기를 하고 있습니다. 영어 끝말잇기는 다음과 같은 규칙으로 진행됩니다.\n",
    "\n",
    "1. 1번부터 번호 순서대로 한 사람씩 차례대로 단어를 말합니다.\n",
    "2. 마지막 사람이 단어를 말한 다음에는 다시 1번부터 시작합니다.\n",
    "3. 앞사람이 말한 단어의 마지막 문자로 시작하는 단어를 말해야 합니다.\n",
    "4. 이전에 등장했던 단어는 사용할 수 없습니다.\n",
    "5. 한 글자인 단어는 인정되지 않습니다.\n",
    "\n",
    "다음은 3명이 끝말잇기를 하는 상황을 나타냅니다.\n",
    "\n",
    "tank → kick → know → wheel → land → dream → mother → robot → tank\n",
    "\n",
    "위 끝말잇기는 다음과 같이 진행됩니다.\n",
    "\n",
    "- 1번 사람이 자신의 첫 번째 차례에 tank를 말합니다.\n",
    "- 2번 사람이 자신의 첫 번째 차례에 kick을 말합니다.\n",
    "- 3번 사람이 자신의 첫 번째 차례에 know를 말합니다.\n",
    "- 1번 사람이 자신의 두 번째 차례에 wheel을 말합니다.\n",
    "- (계속 진행)\n",
    "\n",
    "끝말잇기를 계속 진행해 나가다 보면, 3번 사람이 자신의 세 번째 차례에 말한 tank 라는 단어는 이전에 등장했던 단어이므로 탈락하게 됩니다.\n",
    "\n",
    "사람의 수 n과 사람들이 순서대로 말한 단어 words 가 매개변수로 주어질 때, 가장 먼저 탈락하는 사람의 번호와 그 사람이 자신의 몇 번째 차례에 탈락하는지를 구해서 return 하도록 solution 함수를 완성해주세요."
   ]
  },
  {
   "cell_type": "markdown",
   "id": "72dcb6bb",
   "metadata": {},
   "source": [
    "제한 사항\n",
    "- 끝말잇기에 참여하는 사람의 수 n은 2 이상 10 이하의 자연수입니다.\n",
    "- words는 끝말잇기에 사용한 단어들이 순서대로 들어있는 배열이며, 길이는 n 이상 100 이하입니다.\n",
    "- 단어의 길이는 2 이상 50 이하입니다.\n",
    "- 모든 단어는 알파벳 소문자로만 이루어져 있습니다.\n",
    "- 끝말잇기에 사용되는 단어의 뜻(의미)은 신경 쓰지 않으셔도 됩니다.\n",
    "- 정답은 [ 번호, 차례 ] 형태로 return 해주세요.\n",
    "- 만약 주어진 단어들로 탈락자가 생기지 않는다면, [0, 0]을 return 해주세요."
   ]
  },
  {
   "cell_type": "code",
   "execution_count": 16,
   "id": "ed4b44a6",
   "metadata": {
    "ExecuteTime": {
     "end_time": "2022-04-12T08:26:21.144513Z",
     "start_time": "2022-04-12T08:26:21.131316Z"
    }
   },
   "outputs": [],
   "source": [
    "n = 3\n",
    "words = [\"tank\", \"kick\", \"know\", \"wheel\", \"land\", \"dream\", \"mother\", \"robot\", \"tank\"]\n",
    "# [3,3]"
   ]
  },
  {
   "cell_type": "code",
   "execution_count": 17,
   "id": "5191e50f",
   "metadata": {
    "ExecuteTime": {
     "end_time": "2022-04-12T08:26:21.348940Z",
     "start_time": "2022-04-12T08:26:21.339758Z"
    }
   },
   "outputs": [],
   "source": [
    "check = [words[0]]"
   ]
  },
  {
   "cell_type": "code",
   "execution_count": 18,
   "id": "71b3b60c",
   "metadata": {
    "ExecuteTime": {
     "end_time": "2022-04-12T08:26:21.693876Z",
     "start_time": "2022-04-12T08:26:21.672090Z"
    }
   },
   "outputs": [
    {
     "name": "stdout",
     "output_type": "stream",
     "text": [
      "['tank', 'kick']\n",
      "['tank', 'kick', 'know']\n",
      "['tank', 'kick', 'know', 'wheel']\n",
      "['tank', 'kick', 'know', 'wheel', 'land']\n",
      "['tank', 'kick', 'know', 'wheel', 'land', 'dream']\n",
      "['tank', 'kick', 'know', 'wheel', 'land', 'dream', 'mother']\n",
      "['tank', 'kick', 'know', 'wheel', 'land', 'dream', 'mother', 'robot']\n",
      "3 3\n",
      "['tank', 'kick', 'know', 'wheel', 'land', 'dream', 'mother', 'robot', 'tank']\n"
     ]
    }
   ],
   "source": [
    "for i in range(1, len(words)):\n",
    "    if words[i] in check:\n",
    "        print(i%n+1, i//n+1)\n",
    "    if words[i][0] != words[i-1][-1]:\n",
    "        print(i%n+1, i//n+1)\n",
    "    check.append(words[i])"
   ]
  },
  {
   "cell_type": "markdown",
   "id": "c88e77a1",
   "metadata": {},
   "source": [
    "solution"
   ]
  },
  {
   "cell_type": "code",
   "execution_count": null,
   "id": "d4075dec",
   "metadata": {},
   "outputs": [],
   "source": [
    "def solution(n, words):\n",
    "    check = [words[0]] #첫시작\n",
    "    for i in range(1, len(words)):\n",
    "        # 똑같은 단어 말하는 경우\n",
    "        if words[i] in check: return [i%n+1, i//n+1]\n",
    "        # 끝말잇기가 아닌 경우\n",
    "        if words[i][0] != words[i-1][-1]: return [i%n+1, i//n+1]\n",
    "        # 통과\n",
    "        check.append(words[i])\n",
    "    return [0,0]"
   ]
  }
 ],
 "metadata": {
  "kernelspec": {
   "display_name": "Python 3",
   "language": "python",
   "name": "python3"
  },
  "language_info": {
   "codemirror_mode": {
    "name": "ipython",
    "version": 3
   },
   "file_extension": ".py",
   "mimetype": "text/x-python",
   "name": "python",
   "nbconvert_exporter": "python",
   "pygments_lexer": "ipython3",
   "version": "3.8.8"
  },
  "toc": {
   "base_numbering": 1,
   "nav_menu": {},
   "number_sections": true,
   "sideBar": true,
   "skip_h1_title": false,
   "title_cell": "Table of Contents",
   "title_sidebar": "Contents",
   "toc_cell": false,
   "toc_position": {},
   "toc_section_display": true,
   "toc_window_display": false
  },
  "varInspector": {
   "cols": {
    "lenName": 16,
    "lenType": 16,
    "lenVar": 40
   },
   "kernels_config": {
    "python": {
     "delete_cmd_postfix": "",
     "delete_cmd_prefix": "del ",
     "library": "var_list.py",
     "varRefreshCmd": "print(var_dic_list())"
    },
    "r": {
     "delete_cmd_postfix": ") ",
     "delete_cmd_prefix": "rm(",
     "library": "var_list.r",
     "varRefreshCmd": "cat(var_dic_list()) "
    }
   },
   "types_to_exclude": [
    "module",
    "function",
    "builtin_function_or_method",
    "instance",
    "_Feature"
   ],
   "window_display": false
  }
 },
 "nbformat": 4,
 "nbformat_minor": 5
}
