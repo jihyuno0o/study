{
 "cells": [
  {
   "cell_type": "markdown",
   "id": "1b4a30cf",
   "metadata": {},
   "source": [
    "https://programmers.co.kr/learn/courses/30/lessons/42885"
   ]
  },
  {
   "cell_type": "markdown",
   "id": "8dab7169",
   "metadata": {},
   "source": [
    "무인도에 갇힌 사람들을 구명보트를 이용하여 구출하려고 합니다. 구명보트는 작아서 한 번에 최대 2명씩 밖에 탈 수 없고, 무게 제한도 있습니다.\n",
    "\n",
    "예를 들어, 사람들의 몸무게가 [70kg, 50kg, 80kg, 50kg]이고 구명보트의 무게 제한이 100kg이라면 2번째 사람과 4번째 사람은 같이 탈 수 있지만 1번째 사람과 3번째 사람의 무게의 합은 150kg이므로 구명보트의 무게 제한을 초과하여 같이 탈 수 없습니다.\n",
    "\n",
    "구명보트를 최대한 적게 사용하여 모든 사람을 구출하려고 합니다.\n",
    "\n",
    "사람들의 몸무게를 담은 배열 people과 구명보트의 무게 제한 limit가 매개변수로 주어질 때, 모든 사람을 구출하기 위해 필요한 구명보트 개수의 최솟값을 return 하도록 solution 함수를 작성해주세요.\n",
    "\n",
    "제한사항\n",
    "- 무인도에 갇힌 사람은 1명 이상 50,000명 이하입니다.\n",
    "- 각 사람의 몸무게는 40kg 이상 240kg 이하입니다.\n",
    "- 구명보트의 무게 제한은 40kg 이상 240kg 이하입니다.\n",
    "- 구명보트의 무게 제한은 항상 사람들의 몸무게 중 최댓값보다 크게 주어지므로 사람들을 구출할 수 없는 경우는 없습니다."
   ]
  },
  {
   "cell_type": "code",
   "execution_count": 1,
   "id": "fb108a10",
   "metadata": {
    "ExecuteTime": {
     "end_time": "2022-04-11T08:43:52.564510Z",
     "start_time": "2022-04-11T08:43:52.550548Z"
    }
   },
   "outputs": [],
   "source": [
    "people = [70, 50, 80, 50]\n",
    "limit = 100\n",
    "# 3"
   ]
  },
  {
   "cell_type": "code",
   "execution_count": 3,
   "id": "0edbe8cf",
   "metadata": {
    "ExecuteTime": {
     "end_time": "2022-04-11T08:45:03.230666Z",
     "start_time": "2022-04-11T08:45:03.219750Z"
    }
   },
   "outputs": [],
   "source": [
    "from collections import deque"
   ]
  },
  {
   "cell_type": "code",
   "execution_count": 4,
   "id": "4e31ef0b",
   "metadata": {
    "ExecuteTime": {
     "end_time": "2022-04-11T08:45:07.716332Z",
     "start_time": "2022-04-11T08:45:07.712030Z"
    }
   },
   "outputs": [],
   "source": [
    "answer = 0"
   ]
  },
  {
   "cell_type": "code",
   "execution_count": 5,
   "id": "d5a32dab",
   "metadata": {
    "ExecuteTime": {
     "end_time": "2022-04-11T08:45:15.928498Z",
     "start_time": "2022-04-11T08:45:15.919581Z"
    }
   },
   "outputs": [],
   "source": [
    "deq = deque(sorted(people))"
   ]
  },
  {
   "cell_type": "code",
   "execution_count": 6,
   "id": "980ae787",
   "metadata": {
    "ExecuteTime": {
     "end_time": "2022-04-11T08:46:10.493538Z",
     "start_time": "2022-04-11T08:46:10.480316Z"
    }
   },
   "outputs": [],
   "source": [
    "while deq:\n",
    "    if len(deq) == 1:\n",
    "        answer += 1 \n",
    "        break\n",
    "    if deq[-1]+deq[0] <= limit:\n",
    "        deq.pop()\n",
    "        deq.popleft()\n",
    "    else:\n",
    "        deq.pop()\n",
    "    answer += 1"
   ]
  },
  {
   "cell_type": "code",
   "execution_count": 7,
   "id": "9ac1672c",
   "metadata": {
    "ExecuteTime": {
     "end_time": "2022-04-11T08:46:11.725647Z",
     "start_time": "2022-04-11T08:46:11.705191Z"
    }
   },
   "outputs": [
    {
     "data": {
      "text/plain": [
       "3"
      ]
     },
     "execution_count": 7,
     "metadata": {},
     "output_type": "execute_result"
    }
   ],
   "source": [
    "answer"
   ]
  },
  {
   "cell_type": "markdown",
   "id": "cb4ff3cc",
   "metadata": {},
   "source": [
    "solution"
   ]
  },
  {
   "cell_type": "code",
   "execution_count": 8,
   "id": "3d48de89",
   "metadata": {
    "ExecuteTime": {
     "end_time": "2022-04-11T08:46:19.033541Z",
     "start_time": "2022-04-11T08:46:19.024252Z"
    }
   },
   "outputs": [],
   "source": [
    "from collections import deque\n",
    "def solution(people, limit):\n",
    "    answer = 0\n",
    "    deq = deque(sorted(people))\n",
    "    \n",
    "    while deq:\n",
    "        if len(deq)==1:\n",
    "            answer+=1\n",
    "            break\n",
    "        if deq[-1]+deq[0] <= limit:\n",
    "            deq.pop()\n",
    "            deq.popleft()\n",
    "        else:\n",
    "            deq.pop()\n",
    "        answer+=1\n",
    "    return answer"
   ]
  },
  {
   "cell_type": "code",
   "execution_count": null,
   "id": "99a2f884",
   "metadata": {},
   "outputs": [],
   "source": []
  }
 ],
 "metadata": {
  "kernelspec": {
   "display_name": "Python 3",
   "language": "python",
   "name": "python3"
  },
  "language_info": {
   "codemirror_mode": {
    "name": "ipython",
    "version": 3
   },
   "file_extension": ".py",
   "mimetype": "text/x-python",
   "name": "python",
   "nbconvert_exporter": "python",
   "pygments_lexer": "ipython3",
   "version": "3.8.8"
  },
  "toc": {
   "base_numbering": 1,
   "nav_menu": {},
   "number_sections": true,
   "sideBar": true,
   "skip_h1_title": false,
   "title_cell": "Table of Contents",
   "title_sidebar": "Contents",
   "toc_cell": false,
   "toc_position": {},
   "toc_section_display": true,
   "toc_window_display": false
  },
  "varInspector": {
   "cols": {
    "lenName": 16,
    "lenType": 16,
    "lenVar": 40
   },
   "kernels_config": {
    "python": {
     "delete_cmd_postfix": "",
     "delete_cmd_prefix": "del ",
     "library": "var_list.py",
     "varRefreshCmd": "print(var_dic_list())"
    },
    "r": {
     "delete_cmd_postfix": ") ",
     "delete_cmd_prefix": "rm(",
     "library": "var_list.r",
     "varRefreshCmd": "cat(var_dic_list()) "
    }
   },
   "types_to_exclude": [
    "module",
    "function",
    "builtin_function_or_method",
    "instance",
    "_Feature"
   ],
   "window_display": false
  }
 },
 "nbformat": 4,
 "nbformat_minor": 5
}
