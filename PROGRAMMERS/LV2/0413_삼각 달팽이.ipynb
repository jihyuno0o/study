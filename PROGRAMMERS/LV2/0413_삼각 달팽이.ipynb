{
 "cells": [
  {
   "cell_type": "markdown",
   "id": "0ee9824a",
   "metadata": {},
   "source": [
    "https://programmers.co.kr/learn/courses/30/lessons/68645"
   ]
  },
  {
   "cell_type": "markdown",
   "id": "4bfaa7e5",
   "metadata": {},
   "source": [
    "정수 n이 매개변수로 주어집니다. 다음 그림과 같이 밑변의 길이와 높이가 n인 삼각형에서 맨 위 꼭짓점부터 반시계 방향으로 달팽이 채우기를 진행한 후, 첫 행부터 마지막 행까지 모두 순서대로 합친 새로운 배열을 return 하도록 solution 함수를 완성해주세요."
   ]
  },
  {
   "attachments": {
    "image.png": {
     "image/png": "[encoded data removed]"
    }
   },
   "cell_type": "markdown",
   "id": "88164652",
   "metadata": {},
   "source": [
    "![image.png](attachment:image.png)"
   ]
  },
  {
   "cell_type": "markdown",
   "id": "c7d1b781",
   "metadata": {},
   "source": [
    "제한사항\n",
    "- n은 1 이상 1,000 이하입니다."
   ]
  },
  {
   "cell_type": "code",
   "execution_count": 2,
   "id": "6da25dae",
   "metadata": {
    "ExecuteTime": {
     "end_time": "2022-04-13T03:34:00.152081Z",
     "start_time": "2022-04-13T03:34:00.144551Z"
    }
   },
   "outputs": [],
   "source": [
    "n = 6\n",
    "# [1,2,15,3,16,14,4,17,21,13,5,18,19,20,12,6,7,8,9,10,11]"
   ]
  },
  {
   "cell_type": "code",
   "execution_count": 3,
   "id": "63b4d16e",
   "metadata": {
    "ExecuteTime": {
     "end_time": "2022-04-13T03:35:06.684901Z",
     "start_time": "2022-04-13T03:35:06.656715Z"
    }
   },
   "outputs": [
    {
     "data": {
      "text/plain": [
       "([1, 2, 3, 4, 5, 6],\n",
       " [7, 8, 9, 10, 11],\n",
       " [12, 13, 14, 15],\n",
       " [16, 17, 18],\n",
       " [19, 20],\n",
       " [21])"
      ]
     },
     "execution_count": 3,
     "metadata": {},
     "output_type": "execute_result"
    }
   ],
   "source": [
    "[1,2,3,4,5,6] , [7,8,9,10,11] , [12,13,14,15] , [16,17,18] , [19,20] , [21]\n",
    "6개의 직선 (5번 방향 바꿈) 6,5,4,3 ,,, n--로 개수를 채울 수 있음\n",
    "n번째 직선 % 3 == 0, 아래로 내려감 (+,)\n",
    "n번째 직선 % 3 == 1, 오른쪽 (,+)\n",
    "둘다 아니면 왼쪽으로 (-,-)"
   ]
  },
  {
   "cell_type": "code",
   "execution_count": 13,
   "id": "8e271a33",
   "metadata": {
    "ExecuteTime": {
     "end_time": "2022-04-13T04:02:22.621200Z",
     "start_time": "2022-04-13T04:02:22.609821Z"
    }
   },
   "outputs": [],
   "source": [
    "x,y = -1,0 # 좌표\n",
    "num = 1"
   ]
  },
  {
   "cell_type": "code",
   "execution_count": 16,
   "id": "dc289b42",
   "metadata": {
    "ExecuteTime": {
     "end_time": "2022-04-13T04:04:17.164191Z",
     "start_time": "2022-04-13T04:04:17.142005Z"
    }
   },
   "outputs": [
    {
     "data": {
      "text/plain": [
       "[[0], [0, 0], [0, 0, 0], [0, 0, 0, 0], [0, 0, 0, 0, 0], [0, 0, 0, 0, 0, 0]]"
      ]
     },
     "execution_count": 16,
     "metadata": {},
     "output_type": "execute_result"
    }
   ],
   "source": [
    "answer = [[0 for _ in range(i)] for i in range(1, n+1)]\n",
    "answer"
   ]
  },
  {
   "cell_type": "code",
   "execution_count": 19,
   "id": "6f1e91ca",
   "metadata": {
    "ExecuteTime": {
     "end_time": "2022-04-13T04:07:55.184245Z",
     "start_time": "2022-04-13T04:07:55.163065Z"
    }
   },
   "outputs": [],
   "source": [
    "for i in range(n):    \n",
    "    for j in range(i, n):        \n",
    "        if i%3 == 0: #아래로\n",
    "            x += 1\n",
    "        elif i%3 == 1: #오른쪽으로\n",
    "            y += 1\n",
    "        else: #위로\n",
    "            x -= 1\n",
    "            y -= 1\n",
    "        answer[x][y] = num\n",
    "        num += 1"
   ]
  },
  {
   "cell_type": "code",
   "execution_count": 20,
   "id": "322ccb63",
   "metadata": {
    "ExecuteTime": {
     "end_time": "2022-04-13T04:07:56.802983Z",
     "start_time": "2022-04-13T04:07:56.782698Z"
    }
   },
   "outputs": [
    {
     "data": {
      "text/plain": [
       "[[1],\n",
       " [2, 15],\n",
       " [3, 16, 14],\n",
       " [4, 17, 21, 13],\n",
       " [5, 18, 19, 20, 12],\n",
       " [6, 7, 8, 9, 10, 11]]"
      ]
     },
     "execution_count": 20,
     "metadata": {},
     "output_type": "execute_result"
    }
   ],
   "source": [
    "answer"
   ]
  },
  {
   "cell_type": "code",
   "execution_count": 21,
   "id": "b3cc66a4",
   "metadata": {
    "ExecuteTime": {
     "end_time": "2022-04-13T04:10:12.982929Z",
     "start_time": "2022-04-13T04:10:12.966540Z"
    }
   },
   "outputs": [
    {
     "data": {
      "text/plain": [
       "[1, 2, 15, 3, 16, 14, 4, 17, 21, 13, 5, 18, 19, 20, 12, 6, 7, 8, 9, 10, 11]"
      ]
     },
     "execution_count": 21,
     "metadata": {},
     "output_type": "execute_result"
    }
   ],
   "source": [
    "sum(answer, [])"
   ]
  },
  {
   "cell_type": "markdown",
   "id": "d15832fe",
   "metadata": {},
   "source": [
    "solution"
   ]
  },
  {
   "cell_type": "code",
   "execution_count": null,
   "id": "dfc8a44b",
   "metadata": {},
   "outputs": [],
   "source": [
    "def solution(n):\n",
    "    answer = [[0 for _ in range(i)] for i in range(1, n+1)]\n",
    "    x,y = -1,0 #위치\n",
    "    num = 1\n",
    "    \n",
    "    for i in range(n):\n",
    "        for j in range(i,n):\n",
    "            if i%3 == 0: #아래로\n",
    "                x += 1\n",
    "            elif i%3 == 1: #오른쪽으로\n",
    "                y += 1\n",
    "            else: #위로\n",
    "                x -= 1\n",
    "                y -= 1\n",
    "            answer[x][y] = num\n",
    "            num += 1\n",
    "    \n",
    "    return sum(answer,[])"
   ]
  }
 ],
 "metadata": {
  "kernelspec": {
   "display_name": "Python 3",
   "language": "python",
   "name": "python3"
  },
  "language_info": {
   "codemirror_mode": {
    "name": "ipython",
    "version": 3
   },
   "file_extension": ".py",
   "mimetype": "text/x-python",
   "name": "python",
   "nbconvert_exporter": "python",
   "pygments_lexer": "ipython3",
   "version": "3.8.8"
  },
  "toc": {
   "base_numbering": 1,
   "nav_menu": {},
   "number_sections": true,
   "sideBar": true,
   "skip_h1_title": false,
   "title_cell": "Table of Contents",
   "title_sidebar": "Contents",
   "toc_cell": false,
   "toc_position": {},
   "toc_section_display": true,
   "toc_window_display": false
  },
  "varInspector": {
   "cols": {
    "lenName": 16,
    "lenType": 16,
    "lenVar": 40
   },
   "kernels_config": {
    "python": {
     "delete_cmd_postfix": "",
     "delete_cmd_prefix": "del ",
     "library": "var_list.py",
     "varRefreshCmd": "print(var_dic_list())"
    },
    "r": {
     "delete_cmd_postfix": ") ",
     "delete_cmd_prefix": "rm(",
     "library": "var_list.r",
     "varRefreshCmd": "cat(var_dic_list()) "
    }
   },
   "types_to_exclude": [
    "module",
    "function",
    "builtin_function_or_method",
    "instance",
    "_Feature"
   ],
   "window_display": false
  }
 },
 "nbformat": 4,
 "nbformat_minor": 5
}
