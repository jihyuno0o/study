{
 "cells": [
  {
   "cell_type": "markdown",
   "id": "2a0c9ce4",
   "metadata": {},
   "source": [
    "https://programmers.co.kr/learn/courses/30/lessons/12973"
   ]
  },
  {
   "cell_type": "markdown",
   "id": "96d99384",
   "metadata": {},
   "source": [
    "짝지어 제거하기는, 알파벳 소문자로 이루어진 문자열을 가지고 시작합니다. 먼저 문자열에서 같은 알파벳이 2개 붙어 있는 짝을 찾습니다. 그다음, 그 둘을 제거한 뒤, 앞뒤로 문자열을 이어 붙입니다. 이 과정을 반복해서 문자열을 모두 제거한다면 짝지어 제거하기가 종료됩니다. 문자열 S가 주어졌을 때, 짝지어 제거하기를 성공적으로 수행할 수 있는지 반환하는 함수를 완성해 주세요. 성공적으로 수행할 수 있으면 1을, 아닐 경우 0을 리턴해주면 됩니다.\n",
    "\n",
    "예를 들어, 문자열 S = baabaa 라면\n",
    "\n",
    "b aa baa → bb aa → aa →\n",
    "\n",
    "의 순서로 문자열을 모두 제거할 수 있으므로 1을 반환합니다.\n",
    "\n",
    "제한사항\n",
    "- 문자열의 길이 : 1,000,000이하의 자연수\n",
    "- 문자열은 모두 소문자로 이루어져 있습니다."
   ]
  },
  {
   "cell_type": "code",
   "execution_count": 73,
   "id": "fa5a049c",
   "metadata": {
    "ExecuteTime": {
     "end_time": "2022-04-18T05:03:39.293356Z",
     "start_time": "2022-04-18T05:03:39.282207Z"
    }
   },
   "outputs": [],
   "source": [
    "s = \"baabaa\"\n",
    "# 1"
   ]
  },
  {
   "cell_type": "code",
   "execution_count": 65,
   "id": "6762af7a",
   "metadata": {
    "ExecuteTime": {
     "end_time": "2022-04-18T05:02:00.990812Z",
     "start_time": "2022-04-18T05:02:00.982676Z"
    }
   },
   "outputs": [],
   "source": [
    "s = \"cdcd\"\n",
    "# 0"
   ]
  },
  {
   "cell_type": "code",
   "execution_count": 74,
   "id": "75f3dd47",
   "metadata": {
    "ExecuteTime": {
     "end_time": "2022-04-18T05:03:40.170786Z",
     "start_time": "2022-04-18T05:03:40.160433Z"
    }
   },
   "outputs": [],
   "source": [
    "L = len(s)"
   ]
  },
  {
   "cell_type": "code",
   "execution_count": 21,
   "id": "562462f2",
   "metadata": {
    "ExecuteTime": {
     "end_time": "2022-04-18T04:34:29.962335Z",
     "start_time": "2022-04-18T04:34:29.944633Z"
    }
   },
   "outputs": [
    {
     "ename": "SyntaxError",
     "evalue": "'return' outside function (<ipython-input-21-da3afa69f73d>, line 4)",
     "output_type": "error",
     "traceback": [
      "\u001b[1;36m  File \u001b[1;32m\"<ipython-input-21-da3afa69f73d>\"\u001b[1;36m, line \u001b[1;32m4\u001b[0m\n\u001b[1;33m    return 0\u001b[0m\n\u001b[1;37m    ^\u001b[0m\n\u001b[1;31mSyntaxError\u001b[0m\u001b[1;31m:\u001b[0m 'return' outside function\n"
     ]
    }
   ],
   "source": [
    "if L % 2 != 0:\n",
    "    return 0"
   ]
  },
  {
   "cell_type": "code",
   "execution_count": 75,
   "id": "3068f7de",
   "metadata": {
    "ExecuteTime": {
     "end_time": "2022-04-18T05:03:42.606754Z",
     "start_time": "2022-04-18T05:03:42.588099Z"
    }
   },
   "outputs": [
    {
     "data": {
      "text/plain": [
       "0"
      ]
     },
     "execution_count": 75,
     "metadata": {},
     "output_type": "execute_result"
    }
   ],
   "source": [
    "sL = [0]\n",
    "sL[-1]"
   ]
  },
  {
   "cell_type": "code",
   "execution_count": 60,
   "id": "49c2f7a8",
   "metadata": {
    "ExecuteTime": {
     "end_time": "2022-04-18T04:58:22.191932Z",
     "start_time": "2022-04-18T04:58:22.183646Z"
    }
   },
   "outputs": [],
   "source": [
    "while s:\n",
    "    if sL[-1] == s[0]:\n",
    "        sL.pop()\n",
    "    else:\n",
    "        sL.append(s[0])\n",
    "    s = s[1:]   "
   ]
  },
  {
   "cell_type": "code",
   "execution_count": 78,
   "id": "784d4ccd",
   "metadata": {
    "ExecuteTime": {
     "end_time": "2022-04-18T05:03:50.699843Z",
     "start_time": "2022-04-18T05:03:50.682896Z"
    }
   },
   "outputs": [],
   "source": [
    "if len(sL) > 1:\n",
    "    print(0)"
   ]
  },
  {
   "cell_type": "code",
   "execution_count": 79,
   "id": "b1633969",
   "metadata": {
    "ExecuteTime": {
     "end_time": "2022-04-18T05:04:12.453528Z",
     "start_time": "2022-04-18T05:04:12.435170Z"
    }
   },
   "outputs": [],
   "source": [
    "for i in range(L):\n",
    "    if sL[-1] == s[i]: sL.pop()\n",
    "    else: sL.append(s[i])"
   ]
  },
  {
   "cell_type": "code",
   "execution_count": 80,
   "id": "18fd57e7",
   "metadata": {
    "ExecuteTime": {
     "end_time": "2022-04-18T05:04:13.484856Z",
     "start_time": "2022-04-18T05:04:13.466219Z"
    },
    "scrolled": true
   },
   "outputs": [
    {
     "data": {
      "text/plain": [
       "[0]"
      ]
     },
     "execution_count": 80,
     "metadata": {},
     "output_type": "execute_result"
    }
   ],
   "source": [
    "sL"
   ]
  },
  {
   "cell_type": "markdown",
   "id": "e36d0b46",
   "metadata": {},
   "source": [
    "solution - 시간초과"
   ]
  },
  {
   "cell_type": "code",
   "execution_count": null,
   "id": "88ff6e63",
   "metadata": {},
   "outputs": [],
   "source": [
    "def solution(s):\n",
    "    L = len(s)\n",
    "    if L % 2 != 0:\n",
    "        return 0\n",
    "    \n",
    "    sL = [0] # sL[-1]과 비교할거라서 0으로 초기화\n",
    "    while s:\n",
    "        if sL[-1] == s[0]: sL.pop()\n",
    "        else: sL.append(s[0])\n",
    "        s = s[1:]  \n",
    "    \n",
    "    if len(sL) > 1: return 0\n",
    "    \n",
    "    return 1"
   ]
  },
  {
   "cell_type": "markdown",
   "id": "e1d99725",
   "metadata": {},
   "source": [
    "solution"
   ]
  },
  {
   "cell_type": "code",
   "execution_count": null,
   "id": "1839adec",
   "metadata": {},
   "outputs": [],
   "source": [
    "def solution(s):\n",
    "    L = len(s)\n",
    "    if L % 2 != 0:\n",
    "        return 0\n",
    "    \n",
    "    sL = [0] # sL[-1]과 비교할거라서 0으로 초기화\n",
    "    for i in range(L):\n",
    "        if sL[-1] == s[i]: sL.pop()\n",
    "        else: sL.append(s[i])\n",
    "    \n",
    "    if len(sL) > 1: return 0\n",
    "    \n",
    "    return 1"
   ]
  }
 ],
 "metadata": {
  "kernelspec": {
   "display_name": "Python 3",
   "language": "python",
   "name": "python3"
  },
  "language_info": {
   "codemirror_mode": {
    "name": "ipython",
    "version": 3
   },
   "file_extension": ".py",
   "mimetype": "text/x-python",
   "name": "python",
   "nbconvert_exporter": "python",
   "pygments_lexer": "ipython3",
   "version": "3.8.8"
  },
  "toc": {
   "base_numbering": 1,
   "nav_menu": {},
   "number_sections": true,
   "sideBar": true,
   "skip_h1_title": false,
   "title_cell": "Table of Contents",
   "title_sidebar": "Contents",
   "toc_cell": false,
   "toc_position": {},
   "toc_section_display": true,
   "toc_window_display": false
  },
  "varInspector": {
   "cols": {
    "lenName": 16,
    "lenType": 16,
    "lenVar": 40
   },
   "kernels_config": {
    "python": {
     "delete_cmd_postfix": "",
     "delete_cmd_prefix": "del ",
     "library": "var_list.py",
     "varRefreshCmd": "print(var_dic_list())"
    },
    "r": {
     "delete_cmd_postfix": ") ",
     "delete_cmd_prefix": "rm(",
     "library": "var_list.r",
     "varRefreshCmd": "cat(var_dic_list()) "
    }
   },
   "types_to_exclude": [
    "module",
    "function",
    "builtin_function_or_method",
    "instance",
    "_Feature"
   ],
   "window_display": false
  }
 },
 "nbformat": 4,
 "nbformat_minor": 5
}
