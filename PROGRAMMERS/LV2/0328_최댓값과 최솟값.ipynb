{
 "cells": [
  {
   "cell_type": "markdown",
   "id": "bacc7399",
   "metadata": {},
   "source": [
    "https://programmers.co.kr/learn/courses/30/lessons/12939"
   ]
  },
  {
   "cell_type": "markdown",
   "id": "0f2bf867",
   "metadata": {},
   "source": [
    "문자열 s에는 공백으로 구분된 숫자들이 저장되어 있습니다. str에 나타나는 숫자 중 최소값과 최대값을 찾아 이를 \"(최소값) (최대값)\"형태의 문자열을 반환하는 함수, solution을 완성하세요.\n",
    "예를들어 s가 \"1 2 3 4\"라면 \"1 4\"를 리턴하고, \"-1 -2 -3 -4\"라면 \"-4 -1\"을 리턴하면 됩니다.\n",
    "\n",
    "제한 조건\n",
    "- s에는 둘 이상의 정수가 공백으로 구분되어 있습니다."
   ]
  },
  {
   "cell_type": "code",
   "execution_count": 1,
   "id": "cbddeb99",
   "metadata": {
    "ExecuteTime": {
     "end_time": "2022-03-25T05:51:48.291918Z",
     "start_time": "2022-03-25T05:51:48.284838Z"
    }
   },
   "outputs": [],
   "source": [
    "s = \"1 2 3 4\" # \"1 4\"\n",
    "s1 = \"-1 -2 -3 -4\" # \"-4 -1\"\n",
    "s2 = \"-1 -1\" #\"-1 -1\""
   ]
  },
  {
   "cell_type": "code",
   "execution_count": 24,
   "id": "ace75033",
   "metadata": {
    "ExecuteTime": {
     "end_time": "2022-03-25T05:56:49.016258Z",
     "start_time": "2022-03-25T05:56:48.996418Z"
    }
   },
   "outputs": [
    {
     "data": {
      "text/plain": [
       "[-1, -2, -3, -4]"
      ]
     },
     "execution_count": 24,
     "metadata": {},
     "output_type": "execute_result"
    }
   ],
   "source": [
    "nums = list(map(int, s1.split(' ')))\n",
    "nums"
   ]
  },
  {
   "cell_type": "code",
   "execution_count": 25,
   "id": "662baf3d",
   "metadata": {
    "ExecuteTime": {
     "end_time": "2022-03-25T05:56:49.564477Z",
     "start_time": "2022-03-25T05:56:49.555502Z"
    },
    "scrolled": true
   },
   "outputs": [
    {
     "data": {
      "text/plain": [
       "'-4 -1'"
      ]
     },
     "execution_count": 25,
     "metadata": {},
     "output_type": "execute_result"
    }
   ],
   "source": [
    "answer = str(min(nums)) + ' ' + str(max(nums))\n",
    "answer"
   ]
  },
  {
   "cell_type": "code",
   "execution_count": 27,
   "id": "51a77cab",
   "metadata": {
    "ExecuteTime": {
     "end_time": "2022-03-25T05:58:11.222768Z",
     "start_time": "2022-03-25T05:58:11.201233Z"
    }
   },
   "outputs": [
    {
     "data": {
      "text/plain": [
       "'-4 -1'"
      ]
     },
     "execution_count": 27,
     "metadata": {},
     "output_type": "execute_result"
    }
   ],
   "source": [
    "f'{min(nums)} {max(nums)}'"
   ]
  },
  {
   "cell_type": "markdown",
   "id": "b9cf984a",
   "metadata": {},
   "source": [
    "solution"
   ]
  },
  {
   "cell_type": "code",
   "execution_count": null,
   "id": "24d03e92",
   "metadata": {},
   "outputs": [],
   "source": [
    "def solution(s):\n",
    "    nums = list(map(int, s.split(' ')))\n",
    "    return str(min(nums)) + ' ' + str(max(nums))"
   ]
  }
 ],
 "metadata": {
  "kernelspec": {
   "display_name": "Python 3",
   "language": "python",
   "name": "python3"
  },
  "language_info": {
   "codemirror_mode": {
    "name": "ipython",
    "version": 3
   },
   "file_extension": ".py",
   "mimetype": "text/x-python",
   "name": "python",
   "nbconvert_exporter": "python",
   "pygments_lexer": "ipython3",
   "version": "3.8.8"
  },
  "toc": {
   "base_numbering": 1,
   "nav_menu": {},
   "number_sections": true,
   "sideBar": true,
   "skip_h1_title": false,
   "title_cell": "Table of Contents",
   "title_sidebar": "Contents",
   "toc_cell": false,
   "toc_position": {},
   "toc_section_display": true,
   "toc_window_display": false
  },
  "varInspector": {
   "cols": {
    "lenName": 16,
    "lenType": 16,
    "lenVar": 40
   },
   "kernels_config": {
    "python": {
     "delete_cmd_postfix": "",
     "delete_cmd_prefix": "del ",
     "library": "var_list.py",
     "varRefreshCmd": "print(var_dic_list())"
    },
    "r": {
     "delete_cmd_postfix": ") ",
     "delete_cmd_prefix": "rm(",
     "library": "var_list.r",
     "varRefreshCmd": "cat(var_dic_list()) "
    }
   },
   "types_to_exclude": [
    "module",
    "function",
    "builtin_function_or_method",
    "instance",
    "_Feature"
   ],
   "window_display": false
  }
 },
 "nbformat": 4,
 "nbformat_minor": 5
}
