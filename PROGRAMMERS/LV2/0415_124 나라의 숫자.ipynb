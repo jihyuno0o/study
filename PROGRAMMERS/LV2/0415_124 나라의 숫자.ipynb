{
 "cells": [
  {
   "cell_type": "markdown",
   "id": "ef863f4d",
   "metadata": {},
   "source": [
    "https://programmers.co.kr/learn/courses/30/lessons/12899"
   ]
  },
  {
   "cell_type": "markdown",
   "id": "bb498d63",
   "metadata": {},
   "source": [
    "124 나라가 있습니다. 124 나라에서는 10진법이 아닌 다음과 같은 자신들만의 규칙으로 수를 표현합니다.\n",
    "\n",
    "1. 124 나라에는 자연수만 존재합니다.\n",
    "2. 124 나라에는 모든 수를 표현할 때 1, 2, 4만 사용합니다.\n",
    "\n",
    "예를 들어서 124 나라에서 사용하는 숫자는 다음과 같이 변환됩니다."
   ]
  },
  {
   "attachments": {
    "image.png": {
     "image/png": "[encoded data removed]"
    }
   },
   "cell_type": "markdown",
   "id": "321458ae",
   "metadata": {},
   "source": [
    "![image.png](attachment:image.png)\n",
    "\n",
    "자연수 n이 매개변수로 주어질 때, n을 124 나라에서 사용하는 숫자로 바꾼 값을 return 하도록 solution 함수를 완성해 주세요.\n",
    "\n",
    "제한사항\n",
    "- n은 500,000,000이하의 자연수 입니다.\n"
   ]
  },
  {
   "cell_type": "markdown",
   "id": "94bab1d0",
   "metadata": {},
   "source": [
    "3진법 같은 느낌인데 아예 3진법은 아니고 3으로 나누서 0일때 4를 남기고 n에서 1을 빼야 함\n",
    "- 6%3 == 0 => 4 , n = 6//3 -1 \n",
    "- 1%3 == 1 => 1"
   ]
  },
  {
   "cell_type": "code",
   "execution_count": 1,
   "id": "b3e0ea23",
   "metadata": {
    "ExecuteTime": {
     "end_time": "2022-04-18T00:59:45.283606Z",
     "start_time": "2022-04-18T00:59:45.270574Z"
    }
   },
   "outputs": [],
   "source": [
    "n = 9"
   ]
  },
  {
   "cell_type": "code",
   "execution_count": 2,
   "id": "a0f5cce6",
   "metadata": {
    "ExecuteTime": {
     "end_time": "2022-04-18T00:59:50.882538Z",
     "start_time": "2022-04-18T00:59:50.864347Z"
    }
   },
   "outputs": [],
   "source": [
    "answer = []"
   ]
  },
  {
   "cell_type": "code",
   "execution_count": 3,
   "id": "96a18a7c",
   "metadata": {
    "ExecuteTime": {
     "end_time": "2022-04-18T00:59:56.488697Z",
     "start_time": "2022-04-18T00:59:56.468494Z"
    }
   },
   "outputs": [],
   "source": [
    "while n>0:\n",
    "        remainder = n%3\n",
    "        n = n//3\n",
    "        if remainder == 0:\n",
    "            remainder = 4\n",
    "            n -= 1\n",
    "        answer.append(str(remainder))"
   ]
  },
  {
   "cell_type": "code",
   "execution_count": 4,
   "id": "e75bcbc1",
   "metadata": {
    "ExecuteTime": {
     "end_time": "2022-04-18T01:00:02.260074Z",
     "start_time": "2022-04-18T01:00:02.237976Z"
    }
   },
   "outputs": [
    {
     "data": {
      "text/plain": [
       "'24'"
      ]
     },
     "execution_count": 4,
     "metadata": {},
     "output_type": "execute_result"
    }
   ],
   "source": [
    "''.join(reversed(answer))"
   ]
  },
  {
   "cell_type": "markdown",
   "id": "4c6cee64",
   "metadata": {},
   "source": [
    "solution"
   ]
  },
  {
   "cell_type": "code",
   "execution_count": null,
   "id": "94f91d31",
   "metadata": {},
   "outputs": [],
   "source": [
    "def solution(n):\n",
    "    answer = []\n",
    "    while n>0:\n",
    "        remainder = n%3\n",
    "        n = n//3\n",
    "        if remainder == 0:\n",
    "            remainder = 4\n",
    "            n -= 1\n",
    "        answer.append(str(remainder))\n",
    "    \n",
    "    return ''.join(reversed(answer))"
   ]
  }
 ],
 "metadata": {
  "kernelspec": {
   "display_name": "Python 3",
   "language": "python",
   "name": "python3"
  },
  "language_info": {
   "codemirror_mode": {
    "name": "ipython",
    "version": 3
   },
   "file_extension": ".py",
   "mimetype": "text/x-python",
   "name": "python",
   "nbconvert_exporter": "python",
   "pygments_lexer": "ipython3",
   "version": "3.8.8"
  },
  "toc": {
   "base_numbering": 1,
   "nav_menu": {},
   "number_sections": true,
   "sideBar": true,
   "skip_h1_title": false,
   "title_cell": "Table of Contents",
   "title_sidebar": "Contents",
   "toc_cell": false,
   "toc_position": {},
   "toc_section_display": true,
   "toc_window_display": false
  },
  "varInspector": {
   "cols": {
    "lenName": 16,
    "lenType": 16,
    "lenVar": 40
   },
   "kernels_config": {
    "python": {
     "delete_cmd_postfix": "",
     "delete_cmd_prefix": "del ",
     "library": "var_list.py",
     "varRefreshCmd": "print(var_dic_list())"
    },
    "r": {
     "delete_cmd_postfix": ") ",
     "delete_cmd_prefix": "rm(",
     "library": "var_list.r",
     "varRefreshCmd": "cat(var_dic_list()) "
    }
   },
   "types_to_exclude": [
    "module",
    "function",
    "builtin_function_or_method",
    "instance",
    "_Feature"
   ],
   "window_display": false
  }
 },
 "nbformat": 4,
 "nbformat_minor": 5
}
