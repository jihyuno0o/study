{
 "cells": [
  {
   "cell_type": "markdown",
   "id": "9c86189d",
   "metadata": {},
   "source": [
    "https://programmers.co.kr/learn/courses/30/lessons/42583"
   ]
  },
  {
   "attachments": {
    "image.png": {
     "image/png": "[encoded data removed]"
    }
   },
   "cell_type": "markdown",
   "id": "9598af89",
   "metadata": {},
   "source": [
    "트럭 여러 대가 강을 가로지르는 일차선 다리를 정해진 순으로 건너려 합니다. 모든 트럭이 다리를 건너려면 최소 몇 초가 걸리는지 알아내야 합니다. 다리에는 트럭이 최대 bridge_length대 올라갈 수 있으며, 다리는 weight 이하까지의 무게를 견딜 수 있습니다. 단, 다리에 완전히 오르지 않은 트럭의 무게는 무시합니다.\n",
    "\n",
    "예를 들어, 트럭 2대가 올라갈 수 있고 무게를 10kg까지 견디는 다리가 있습니다. 무게가 [7, 4, 5, 6]kg인 트럭이 순서대로 최단 시간 안에 다리를 건너려면 다음과 같이 건너야 합니다.\n",
    "\n",
    "![image.png](attachment:image.png)\n",
    "\n",
    "따라서, 모든 트럭이 다리를 지나려면 최소 8초가 걸립니다.\n",
    "\n",
    "solution 함수의 매개변수로 다리에 올라갈 수 있는 트럭 수 bridge_length, 다리가 견딜 수 있는 무게 weight, 트럭 별 무게 truck_weights가 주어집니다. 이때 모든 트럭이 다리를 건너려면 최소 몇 초가 걸리는지 return 하도록 solution 함수를 완성하세요."
   ]
  },
  {
   "cell_type": "markdown",
   "id": "df64bd30",
   "metadata": {},
   "source": [
    "제한 조건\n",
    "- bridge_length는 1 이상 10,000 이하입니다.\n",
    "- weight는 1 이상 10,000 이하입니다.\n",
    "- truck_weights의 길이는 1 이상 10,000 이하입니다.\n",
    "- 모든 트럭의 무게는 1 이상 weight 이하입니다."
   ]
  },
  {
   "cell_type": "code",
   "execution_count": null,
   "id": "92cb9ee3",
   "metadata": {},
   "outputs": [],
   "source": [
    "다리 확인 -  총 무게, 최대 수용가능 트럭 수"
   ]
  },
  {
   "cell_type": "code",
   "execution_count": 36,
   "id": "ad63cead",
   "metadata": {
    "ExecuteTime": {
     "end_time": "2022-04-22T03:14:10.602458Z",
     "start_time": "2022-04-22T03:14:10.584522Z"
    }
   },
   "outputs": [],
   "source": [
    "bridge_length = 2\n",
    "weight = 10\n",
    "truck_weights = [7,4,5,6]\n",
    "# 8"
   ]
  },
  {
   "cell_type": "code",
   "execution_count": 31,
   "id": "cfaeeae5",
   "metadata": {
    "ExecuteTime": {
     "end_time": "2022-04-22T02:55:59.347838Z",
     "start_time": "2022-04-22T02:55:59.336625Z"
    }
   },
   "outputs": [
    {
     "data": {
      "text/plain": [
       "[0, 0]"
      ]
     },
     "execution_count": 31,
     "metadata": {},
     "output_type": "execute_result"
    }
   ],
   "source": [
    "bridge = [0] * bridge_length\n",
    "bridge"
   ]
  },
  {
   "cell_type": "code",
   "execution_count": 32,
   "id": "6011573d",
   "metadata": {
    "ExecuteTime": {
     "end_time": "2022-04-22T02:55:59.611259Z",
     "start_time": "2022-04-22T02:55:59.594041Z"
    }
   },
   "outputs": [
    {
     "data": {
      "text/plain": [
       "[6, 5, 4, 7]"
      ]
     },
     "execution_count": 32,
     "metadata": {},
     "output_type": "execute_result"
    }
   ],
   "source": [
    "truck_weights.reverse()\n",
    "truck_weights"
   ]
  },
  {
   "cell_type": "code",
   "execution_count": 33,
   "id": "14ae357f",
   "metadata": {
    "ExecuteTime": {
     "end_time": "2022-04-22T02:56:00.981194Z",
     "start_time": "2022-04-22T02:56:00.970215Z"
    }
   },
   "outputs": [],
   "source": [
    "def roll_bridge(bridge):\n",
    "    from collections import deque\n",
    "    b = deque(bridge)\n",
    "    b.append(b.popleft()) #왼쪽으로 한번 회전\n",
    "    bridge = list(b)\n",
    "    bridge[-1] = 0 #맨 뒤에 0으로 초기화 (도착)\n",
    "    return bridge"
   ]
  },
  {
   "cell_type": "code",
   "execution_count": 8,
   "id": "9b84f87a",
   "metadata": {
    "ExecuteTime": {
     "end_time": "2022-04-22T02:53:46.209909Z",
     "start_time": "2022-04-22T02:53:46.194843Z"
    }
   },
   "outputs": [
    {
     "data": {
      "text/plain": [
       "[1, 2, 3, 4, 0]"
      ]
     },
     "execution_count": 8,
     "metadata": {},
     "output_type": "execute_result"
    }
   ],
   "source": [
    "arr = [0,1,2,3,4]\n",
    "arr = roll_bridge(arr)\n",
    "arr"
   ]
  },
  {
   "cell_type": "code",
   "execution_count": 34,
   "id": "a9d37788",
   "metadata": {
    "ExecuteTime": {
     "end_time": "2022-04-22T02:56:02.639977Z",
     "start_time": "2022-04-22T02:56:02.628781Z"
    }
   },
   "outputs": [
    {
     "name": "stdout",
     "output_type": "stream",
     "text": [
      "[0, 7]\n",
      "[7, 0]\n",
      "[0, 4]\n",
      "[4, 5]\n",
      "[5, 0]\n",
      "[0, 6]\n"
     ]
    }
   ],
   "source": [
    "answer = 0\n",
    "while truck_weights:\n",
    "    answer += 1 #1초\n",
    "    bridge = roll_bridge(bridge)\n",
    "    if sum(bridge) + truck_weights[-1] <= weight and 0 in bridge:\n",
    "        bridge[-1] = truck_weights.pop()\n"
   ]
  },
  {
   "cell_type": "code",
   "execution_count": 35,
   "id": "61fe20e7",
   "metadata": {
    "ExecuteTime": {
     "end_time": "2022-04-22T02:56:05.106582Z",
     "start_time": "2022-04-22T02:56:05.085462Z"
    }
   },
   "outputs": [
    {
     "data": {
      "text/plain": [
       "6"
      ]
     },
     "execution_count": 35,
     "metadata": {},
     "output_type": "execute_result"
    }
   ],
   "source": [
    "answer"
   ]
  },
  {
   "cell_type": "markdown",
   "id": "9d4fec2b",
   "metadata": {},
   "source": [
    "solution - tc5번 시간초과"
   ]
  },
  {
   "cell_type": "code",
   "execution_count": null,
   "id": "484351f4",
   "metadata": {},
   "outputs": [],
   "source": [
    "def roll_bridge(bridge):\n",
    "    from collections import deque\n",
    "    b = deque(bridge)\n",
    "    b.append(b.popleft()) #왼쪽으로 한번 회전\n",
    "    bridge = list(b)\n",
    "    bridge[-1] = 0 #맨 뒤에 0으로 초기화 (도착)\n",
    "    return bridge\n",
    "\n",
    "def solution(bridge_length, weight, truck_weights):\n",
    "    bridge = [0] * bridge_length\n",
    "    answer = 0\n",
    "    while truck_weights:\n",
    "        answer += 1 #1초\n",
    "        bridge = roll_bridge(bridge)\n",
    "        if sum(bridge) + truck_weights[-1] <= weight:\n",
    "            bridge[-1] = truck_weights.pop()\n",
    "    return answer + bridge_length #대기트럭이 빈 시간 + 마지막 트럭이 다리를 지나는 시간"
   ]
  },
  {
   "cell_type": "code",
   "execution_count": null,
   "id": "82d2c340",
   "metadata": {},
   "outputs": [],
   "source": [
    "def roll_bridge(bridge):\n",
    "    from collections import deque\n",
    "    b = deque(bridge)\n",
    "    b.append(b.popleft()) #왼쪽으로 한번 회전\n",
    "    bridge = list(b)\n",
    "    arrive = 0\n",
    "    if bridge[-1] != 0:\n",
    "        arrive = bridge[-1]\n",
    "        bridge[-1] = 0 #맨 뒤에 0으로 초기화 (도착)\n",
    "    return arrive, bridge\n",
    "\n",
    "def solution(bridge_length, weight, truck_weights):\n",
    "    bridge = [0] * bridge_length\n",
    "    answer = 0\n",
    "    sum_bridge = 0\n",
    "    while truck_weights:\n",
    "        answer += 1 #1초\n",
    "        arrive, bridge = roll_bridge(bridge)\n",
    "        sum_bridge -= arrive\n",
    "        if sum_bridge + truck_weights[-1] <= weight:\n",
    "            b = truck_weights.pop()\n",
    "            bridge[-1] = b\n",
    "            sum_bridge += b\n",
    "    return answer + bridge_length #대기트럭이 빈 시간 + 마지막 트럭이 다리를 지나는 시간"
   ]
  },
  {
   "cell_type": "code",
   "execution_count": null,
   "id": "fc6a743e",
   "metadata": {},
   "outputs": [],
   "source": [
    "def roll_bridge(bridge):\n",
    "    from collections import deque\n",
    "    b = deque(bridge)\n",
    "    b.append(b.popleft()) #왼쪽으로 한번 회전\n",
    "    bridge = list(b)\n",
    "    arrive = 0\n",
    "    if bridge[-1] != 0:\n",
    "        arrive = bridge[-1]\n",
    "        bridge[-1] = 0 #맨 뒤에 0으로 초기화 (도착)\n",
    "    return arrive, bridge\n",
    "\n",
    "def solution(bridge_length, weight, truck_weights):\n",
    "    bridge = [0] * bridge_length\n",
    "    answer = 0\n",
    "    sum_bridge = 0\n",
    "    while truck_weights:\n",
    "        answer += 1 #1초\n",
    "        arrive, bridge = roll_bridge(bridge)\n",
    "        if arrive != 0:\n",
    "            sum_bridge -= arrive\n",
    "        if sum_bridge + truck_weights[-1] <= weight:\n",
    "            b = truck_weights.pop()\n",
    "            bridge[-1] = b\n",
    "            sum_bridge += b\n",
    "    return answer + bridge_length #대기트럭이 빈 시간 + 마지막 트럭이 다리를 지나는 시간"
   ]
  },
  {
   "cell_type": "code",
   "execution_count": 41,
   "id": "bbb983b8",
   "metadata": {
    "ExecuteTime": {
     "end_time": "2022-04-22T03:24:50.901347Z",
     "start_time": "2022-04-22T03:24:50.887373Z"
    }
   },
   "outputs": [
    {
     "data": {
      "text/plain": [
       "3"
      ]
     },
     "execution_count": 41,
     "metadata": {},
     "output_type": "execute_result"
    }
   ],
   "source": [
    "def solution(bridge_length, weight, truck_weights):\n",
    "    from collections import deque\n",
    "    bridge = deque([0] * bridge_length)\n",
    "    answer = 0\n",
    "    sum_bridge = 0\n",
    "    while truck_weights:\n",
    "        answer += 1 #1초\n",
    "        bridge.append(bridge.popleft())\n",
    "        if bridge[-1] != 0:\n",
    "            arrive = bridge[-1]\n",
    "            bridge[-1] = 0 #맨 뒤에 0으로 초기화 (도착)\n",
    "        if arrive != 0:\n",
    "            sum_bridge -= arrive\n",
    "        if sum_bridge + truck_weights[-1] <= weight:\n",
    "            b = truck_weights.pop()\n",
    "            bridge[-1] = b\n",
    "            sum_bridge += b\n",
    "    return answer + bridge_length #대기트럭이 빈 시간 + 마지막 트럭이 다리를 지나는 시간"
   ]
  },
  {
   "cell_type": "code",
   "execution_count": null,
   "id": "3c2b2ca7",
   "metadata": {},
   "outputs": [],
   "source": []
  }
 ],
 "metadata": {
  "kernelspec": {
   "display_name": "Python 3",
   "language": "python",
   "name": "python3"
  },
  "language_info": {
   "codemirror_mode": {
    "name": "ipython",
    "version": 3
   },
   "file_extension": ".py",
   "mimetype": "text/x-python",
   "name": "python",
   "nbconvert_exporter": "python",
   "pygments_lexer": "ipython3",
   "version": "3.8.8"
  },
  "toc": {
   "base_numbering": 1,
   "nav_menu": {},
   "number_sections": true,
   "sideBar": true,
   "skip_h1_title": false,
   "title_cell": "Table of Contents",
   "title_sidebar": "Contents",
   "toc_cell": false,
   "toc_position": {},
   "toc_section_display": true,
   "toc_window_display": false
  },
  "varInspector": {
   "cols": {
    "lenName": 16,
    "lenType": 16,
    "lenVar": 40
   },
   "kernels_config": {
    "python": {
     "delete_cmd_postfix": "",
     "delete_cmd_prefix": "del ",
     "library": "var_list.py",
     "varRefreshCmd": "print(var_dic_list())"
    },
    "r": {
     "delete_cmd_postfix": ") ",
     "delete_cmd_prefix": "rm(",
     "library": "var_list.r",
     "varRefreshCmd": "cat(var_dic_list()) "
    }
   },
   "types_to_exclude": [
    "module",
    "function",
    "builtin_function_or_method",
    "instance",
    "_Feature"
   ],
   "window_display": false
  }
 },
 "nbformat": 4,
 "nbformat_minor": 5
}
