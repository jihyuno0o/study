{
 "cells": [
  {
   "cell_type": "markdown",
   "id": "365279d5",
   "metadata": {},
   "source": [
    "https://programmers.co.kr/learn/courses/30/lessons/42747"
   ]
  },
  {
   "cell_type": "markdown",
   "id": "4bb00918",
   "metadata": {},
   "source": [
    "H-Index는 과학자의 생산성과 영향력을 나타내는 지표입니다. 어느 과학자의 H-Index를 나타내는 값인 h를 구하려고 합니다. 위키백과1에 따르면, H-Index는 다음과 같이 구합니다.\n",
    "\n",
    "어떤 과학자가 발표한 논문 n편 중, h번 이상 인용된 논문이 h편 이상이고 나머지 논문이 h번 이하 인용되었다면 h의 최댓값이 이 과학자의 H-Index입니다.\n",
    "\n",
    "어떤 과학자가 발표한 논문의 인용 횟수를 담은 배열 citations가 매개변수로 주어질 때, 이 과학자의 H-Index를 return 하도록 solution 함수를 작성해주세요.\n",
    "\n",
    "제한사항\n",
    "- 과학자가 발표한 논문의 수는 1편 이상 1,000편 이하입니다.\n",
    "- 논문별 인용 횟수는 0회 이상 10,000회 이하입니다."
   ]
  },
  {
   "cell_type": "code",
   "execution_count": 1,
   "id": "87a0fcba",
   "metadata": {
    "ExecuteTime": {
     "end_time": "2022-04-08T04:35:14.861247Z",
     "start_time": "2022-04-08T04:35:14.857296Z"
    }
   },
   "outputs": [],
   "source": [
    "citations = [3, 0, 6, 1, 5]\n",
    "# 3"
   ]
  },
  {
   "cell_type": "code",
   "execution_count": 2,
   "id": "20da25fc",
   "metadata": {
    "ExecuteTime": {
     "end_time": "2022-04-08T04:35:37.187390Z",
     "start_time": "2022-04-08T04:35:37.175108Z"
    }
   },
   "outputs": [],
   "source": [
    "citations.sort()"
   ]
  },
  {
   "cell_type": "code",
   "execution_count": 3,
   "id": "c017c20b",
   "metadata": {
    "ExecuteTime": {
     "end_time": "2022-04-08T04:35:39.055377Z",
     "start_time": "2022-04-08T04:35:39.034039Z"
    }
   },
   "outputs": [
    {
     "data": {
      "text/plain": [
       "[0, 1, 3, 5, 6]"
      ]
     },
     "execution_count": 3,
     "metadata": {},
     "output_type": "execute_result"
    }
   ],
   "source": [
    "citations"
   ]
  },
  {
   "cell_type": "code",
   "execution_count": 5,
   "id": "c1fd32eb",
   "metadata": {
    "ExecuteTime": {
     "end_time": "2022-04-08T06:42:46.055816Z",
     "start_time": "2022-04-08T06:42:46.038862Z"
    }
   },
   "outputs": [
    {
     "name": "stdout",
     "output_type": "stream",
     "text": [
      "3\n",
      "2\n",
      "1\n"
     ]
    }
   ],
   "source": [
    "for i, citation in enumerate(citations):\n",
    "    if citation >= len(citations) - i:\n",
    "        print(len(citations)-i)"
   ]
  },
  {
   "cell_type": "markdown",
   "id": "89d3cd3c",
   "metadata": {},
   "source": [
    "solution"
   ]
  },
  {
   "cell_type": "code",
   "execution_count": null,
   "id": "7d26f641",
   "metadata": {},
   "outputs": [],
   "source": [
    "def solution(citations):\n",
    "    citations.sort()\n",
    "    for i, citation in enumerate(citations):\n",
    "        if citation >= len(citations)-i:\n",
    "            return len(citations)-i\n",
    "    return 0"
   ]
  }
 ],
 "metadata": {
  "kernelspec": {
   "display_name": "Python 3",
   "language": "python",
   "name": "python3"
  },
  "language_info": {
   "codemirror_mode": {
    "name": "ipython",
    "version": 3
   },
   "file_extension": ".py",
   "mimetype": "text/x-python",
   "name": "python",
   "nbconvert_exporter": "python",
   "pygments_lexer": "ipython3",
   "version": "3.8.8"
  },
  "toc": {
   "base_numbering": 1,
   "nav_menu": {},
   "number_sections": true,
   "sideBar": true,
   "skip_h1_title": false,
   "title_cell": "Table of Contents",
   "title_sidebar": "Contents",
   "toc_cell": false,
   "toc_position": {},
   "toc_section_display": true,
   "toc_window_display": false
  },
  "varInspector": {
   "cols": {
    "lenName": 16,
    "lenType": 16,
    "lenVar": 40
   },
   "kernels_config": {
    "python": {
     "delete_cmd_postfix": "",
     "delete_cmd_prefix": "del ",
     "library": "var_list.py",
     "varRefreshCmd": "print(var_dic_list())"
    },
    "r": {
     "delete_cmd_postfix": ") ",
     "delete_cmd_prefix": "rm(",
     "library": "var_list.r",
     "varRefreshCmd": "cat(var_dic_list()) "
    }
   },
   "types_to_exclude": [
    "module",
    "function",
    "builtin_function_or_method",
    "instance",
    "_Feature"
   ],
   "window_display": false
  }
 },
 "nbformat": 4,
 "nbformat_minor": 5
}
