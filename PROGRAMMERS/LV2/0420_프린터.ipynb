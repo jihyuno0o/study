{
 "cells": [
  {
   "cell_type": "markdown",
   "id": "ac9858ea",
   "metadata": {},
   "source": [
    "https://programmers.co.kr/learn/courses/30/lessons/42587"
   ]
  },
  {
   "cell_type": "markdown",
   "id": "dfb6881c",
   "metadata": {},
   "source": [
    "일반적인 프린터는 인쇄 요청이 들어온 순서대로 인쇄합니다. 그렇기 때문에 중요한 문서가 나중에 인쇄될 수 있습니다. 이런 문제를 보완하기 위해 중요도가 높은 문서를 먼저 인쇄하는 프린터를 개발했습니다. 이 새롭게 개발한 프린터는 아래와 같은 방식으로 인쇄 작업을 수행합니다.\n",
    "\n",
    "1. 인쇄 대기목록의 가장 앞에 있는 문서(J)를 대기목록에서 꺼냅니다.\n",
    "2. 나머지 인쇄 대기목록에서 J보다 중요도가 높은 문서가 한 개라도 존재하면 J를 대기목록의 가장 마지막에 넣습니다.\n",
    "3. 그렇지 않으면 J를 인쇄합니다.\n",
    "\n",
    "예를 들어, 4개의 문서(A, B, C, D)가 순서대로 인쇄 대기목록에 있고 중요도가 2 1 3 2 라면 C D A B 순으로 인쇄하게 됩니다.\n",
    "\n",
    "내가 인쇄를 요청한 문서가 몇 번째로 인쇄되는지 알고 싶습니다. 위의 예에서 C는 1번째로, A는 3번째로 인쇄됩니다.\n",
    "\n",
    "현재 대기목록에 있는 문서의 중요도가 순서대로 담긴 배열 priorities와 내가 인쇄를 요청한 문서가 현재 대기목록의 어떤 위치에 있는지를 알려주는 location이 매개변수로 주어질 때, 내가 인쇄를 요청한 문서가 몇 번째로 인쇄되는지 return 하도록 solution 함수를 작성해주세요."
   ]
  },
  {
   "cell_type": "markdown",
   "id": "1591e56b",
   "metadata": {},
   "source": [
    "제한사항\n",
    "- 현재 대기목록에는 1개 이상 100개 이하의 문서가 있습니다.\n",
    "- 인쇄 작업의 중요도는 1~9로 표현하며 숫자가 클수록 중요하다는 뜻입니다.\n",
    "- location은 0 이상 (현재 대기목록에 있는 작업 수 - 1) 이하의 값을 가지며 대기목록의 가장 앞에 있으면 0, 두 번째에 있으면 1로 표현합니다."
   ]
  },
  {
   "cell_type": "code",
   "execution_count": 17,
   "id": "2828966e",
   "metadata": {
    "ExecuteTime": {
     "end_time": "2022-04-20T04:50:00.678355Z",
     "start_time": "2022-04-20T04:50:00.660483Z"
    }
   },
   "outputs": [],
   "source": [
    "priorities = [2, 1, 3, 2]\n",
    "location = 2\n",
    "# 1"
   ]
  },
  {
   "cell_type": "code",
   "execution_count": 27,
   "id": "d593757d",
   "metadata": {
    "ExecuteTime": {
     "end_time": "2022-04-20T04:51:04.810945Z",
     "start_time": "2022-04-20T04:51:04.801517Z"
    }
   },
   "outputs": [],
   "source": [
    "priorities = [1, 1, 9, 1, 1, 1]\n",
    "location = 0"
   ]
  },
  {
   "cell_type": "code",
   "execution_count": 28,
   "id": "ee536939",
   "metadata": {
    "ExecuteTime": {
     "end_time": "2022-04-20T04:51:04.981274Z",
     "start_time": "2022-04-20T04:51:04.962279Z"
    }
   },
   "outputs": [
    {
     "data": {
      "text/plain": [
       "[1, 0, 0, 0, 0, 0]"
      ]
     },
     "execution_count": 28,
     "metadata": {},
     "output_type": "execute_result"
    }
   ],
   "source": [
    "check = [0] * len(priorities)\n",
    "check[location] = 1\n",
    "check"
   ]
  },
  {
   "cell_type": "code",
   "execution_count": 29,
   "id": "ed472898",
   "metadata": {
    "ExecuteTime": {
     "end_time": "2022-04-20T04:51:05.135145Z",
     "start_time": "2022-04-20T04:51:05.126169Z"
    }
   },
   "outputs": [],
   "source": [
    "from collections import deque"
   ]
  },
  {
   "cell_type": "code",
   "execution_count": 30,
   "id": "902d27df",
   "metadata": {
    "ExecuteTime": {
     "end_time": "2022-04-20T04:51:05.525450Z",
     "start_time": "2022-04-20T04:51:05.509159Z"
    }
   },
   "outputs": [],
   "source": [
    "priorities = deque(priorities)\n",
    "check = deque(check)"
   ]
  },
  {
   "cell_type": "code",
   "execution_count": 31,
   "id": "235001a3",
   "metadata": {
    "ExecuteTime": {
     "end_time": "2022-04-20T04:51:05.792637Z",
     "start_time": "2022-04-20T04:51:05.777831Z"
    }
   },
   "outputs": [
    {
     "data": {
      "text/plain": [
       "9"
      ]
     },
     "execution_count": 31,
     "metadata": {},
     "output_type": "execute_result"
    }
   ],
   "source": [
    "priorities[2]"
   ]
  },
  {
   "cell_type": "markdown",
   "id": "2bacfa16",
   "metadata": {},
   "source": [
    "solution"
   ]
  },
  {
   "cell_type": "code",
   "execution_count": 32,
   "id": "7e646c10",
   "metadata": {
    "ExecuteTime": {
     "end_time": "2022-04-20T04:52:10.049110Z",
     "start_time": "2022-04-20T04:52:10.024371Z"
    }
   },
   "outputs": [],
   "source": [
    "def solution(priorities, location):\n",
    "    check = [0] * len(priorities)\n",
    "    check[location] = 1\n",
    "    \n",
    "    from collections import deque\n",
    "    priorities = deque(priorities)\n",
    "    check = deque(check)\n",
    "    \n",
    "    answer = 0\n",
    "    while True:\n",
    "        largest = max(priorities)\n",
    "        for i in range(len(priorities)):\n",
    "            if priorities[i] != largest:\n",
    "                priorities.append(priorities.popleft())\n",
    "                check.append(check.popleft())\n",
    "            else:\n",
    "                answer += 1\n",
    "                if check[i] == 1:\n",
    "                    return answer\n",
    "                priorities.popleft()\n",
    "                check.popleft()\n",
    "            break\n",
    "    return -1"
   ]
  },
  {
   "cell_type": "code",
   "execution_count": 33,
   "id": "4c4d95b0",
   "metadata": {
    "ExecuteTime": {
     "end_time": "2022-04-20T04:52:11.322195Z",
     "start_time": "2022-04-20T04:52:11.313220Z"
    }
   },
   "outputs": [
    {
     "data": {
      "text/plain": [
       "5"
      ]
     },
     "execution_count": 33,
     "metadata": {},
     "output_type": "execute_result"
    }
   ],
   "source": [
    "solution(priorities, location)\n",
    "                "
   ]
  },
  {
   "cell_type": "markdown",
   "id": "0579987a",
   "metadata": {},
   "source": [
    "다른 사람 코드"
   ]
  },
  {
   "cell_type": "code",
   "execution_count": null,
   "id": "a86b5ef3",
   "metadata": {},
   "outputs": [],
   "source": [
    "def solution(priorities, location):\n",
    "    queue =  [(i,p) for i,p in enumerate(priorities)]\n",
    "    answer = 0\n",
    "    while True:\n",
    "        cur = queue.pop(0)\n",
    "        if any(cur[1] < q[1] for q in queue):\n",
    "            queue.append(cur)\n",
    "        else:\n",
    "            answer += 1\n",
    "            if cur[0] == location:\n",
    "                return answer"
   ]
  }
 ],
 "metadata": {
  "kernelspec": {
   "display_name": "Python 3",
   "language": "python",
   "name": "python3"
  },
  "language_info": {
   "codemirror_mode": {
    "name": "ipython",
    "version": 3
   },
   "file_extension": ".py",
   "mimetype": "text/x-python",
   "name": "python",
   "nbconvert_exporter": "python",
   "pygments_lexer": "ipython3",
   "version": "3.8.8"
  },
  "toc": {
   "base_numbering": 1,
   "nav_menu": {},
   "number_sections": true,
   "sideBar": true,
   "skip_h1_title": false,
   "title_cell": "Table of Contents",
   "title_sidebar": "Contents",
   "toc_cell": false,
   "toc_position": {},
   "toc_section_display": true,
   "toc_window_display": false
  },
  "varInspector": {
   "cols": {
    "lenName": 16,
    "lenType": 16,
    "lenVar": 40
   },
   "kernels_config": {
    "python": {
     "delete_cmd_postfix": "",
     "delete_cmd_prefix": "del ",
     "library": "var_list.py",
     "varRefreshCmd": "print(var_dic_list())"
    },
    "r": {
     "delete_cmd_postfix": ") ",
     "delete_cmd_prefix": "rm(",
     "library": "var_list.r",
     "varRefreshCmd": "cat(var_dic_list()) "
    }
   },
   "types_to_exclude": [
    "module",
    "function",
    "builtin_function_or_method",
    "instance",
    "_Feature"
   ],
   "window_display": false
  }
 },
 "nbformat": 4,
 "nbformat_minor": 5
}
