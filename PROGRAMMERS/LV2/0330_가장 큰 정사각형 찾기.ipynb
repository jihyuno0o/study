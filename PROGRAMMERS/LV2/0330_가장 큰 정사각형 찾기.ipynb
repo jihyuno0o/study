{
 "cells": [
  {
   "cell_type": "markdown",
   "id": "e3034a46",
   "metadata": {
    "ExecuteTime": {
     "end_time": "2022-03-29T02:29:59.402660Z",
     "start_time": "2022-03-29T02:29:59.390594Z"
    }
   },
   "source": [
    "https://programmers.co.kr/learn/courses/30/lessons/12905"
   ]
  },
  {
   "cell_type": "markdown",
   "id": "2eee466c",
   "metadata": {
    "ExecuteTime": {
     "end_time": "2022-03-29T02:33:00.996632Z",
     "start_time": "2022-03-29T02:33:00.990648Z"
    }
   },
   "source": [
    "1와 0로 채워진 표(board)가 있습니다. 표 1칸은 1 x 1 의 정사각형으로 이루어져 있습니다. 표에서 1로 이루어진 가장 큰 정사각형을 찾아 넓이를 return 하는 solution 함수를 완성해 주세요. (단, 정사각형이란 축에 평행한 정사각형을 말합니다.)\n"
   ]
  },
  {
   "attachments": {
    "image.png": {
     "image/png": "[encoded data removed]"
    }
   },
   "cell_type": "markdown",
   "id": "eb0ec3b4",
   "metadata": {},
   "source": [
    "![image.png](attachment:image.png)"
   ]
  },
  {
   "cell_type": "markdown",
   "id": "5f2d62e1",
   "metadata": {
    "ExecuteTime": {
     "end_time": "2022-03-29T02:33:13.261057Z",
     "start_time": "2022-03-29T02:33:13.248959Z"
    }
   },
   "source": [
    "가 되며 넓이는 9가 되므로 9를 반환해 주면 됩니다."
   ]
  },
  {
   "cell_type": "markdown",
   "id": "423f431a",
   "metadata": {},
   "source": [
    "제한사항\n",
    "- 표(board)는 2차원 배열로 주어집니다.\n",
    "- 표(board)의 행(row)의 크기 : 1,000 이하의 자연수\n",
    "- 표(board)의 열(column)의 크기 : 1,000 이하의 자연수\n",
    "- 표(board)의 값은 1또는 0으로만 이루어져 있습니다."
   ]
  },
  {
   "cell_type": "code",
   "execution_count": 1,
   "id": "6f265132",
   "metadata": {
    "ExecuteTime": {
     "end_time": "2022-03-29T06:11:00.220520Z",
     "start_time": "2022-03-29T06:11:00.201569Z"
    }
   },
   "outputs": [],
   "source": [
    "board = [[0,1,1,1],[1,1,1,1],[1,1,1,1],[0,0,1,0]]\n",
    "# 4"
   ]
  },
  {
   "cell_type": "code",
   "execution_count": 2,
   "id": "dec79f12",
   "metadata": {
    "ExecuteTime": {
     "end_time": "2022-03-29T06:11:00.934280Z",
     "start_time": "2022-03-29T06:11:00.919441Z"
    }
   },
   "outputs": [],
   "source": [
    "answer = 0"
   ]
  },
  {
   "cell_type": "code",
   "execution_count": 3,
   "id": "1260f329",
   "metadata": {
    "ExecuteTime": {
     "end_time": "2022-03-29T06:11:01.328371Z",
     "start_time": "2022-03-29T06:11:01.298934Z"
    }
   },
   "outputs": [
    {
     "data": {
      "text/plain": [
       "(4, 4)"
      ]
     },
     "execution_count": 3,
     "metadata": {},
     "output_type": "execute_result"
    }
   ],
   "source": [
    "r_len = len(board)\n",
    "c_len = len(board[0])\n",
    "r_len, c_len"
   ]
  },
  {
   "cell_type": "code",
   "execution_count": 5,
   "id": "3f18b283",
   "metadata": {
    "ExecuteTime": {
     "end_time": "2022-03-29T06:11:11.356501Z",
     "start_time": "2022-03-29T06:11:11.342987Z"
    },
    "scrolled": true
   },
   "outputs": [],
   "source": [
    "# 1행이나 1열에만 1이 있는 경우\n",
    "if 1 in board[0]: answer = 1\n",
    "for b in board:\n",
    "    if b[0] == 1: answer = 1"
   ]
  },
  {
   "cell_type": "code",
   "execution_count": 6,
   "id": "4979af22",
   "metadata": {
    "ExecuteTime": {
     "end_time": "2022-03-29T06:11:13.595158Z",
     "start_time": "2022-03-29T06:11:13.578722Z"
    },
    "scrolled": true
   },
   "outputs": [],
   "source": [
    "for r in range(1, r_len):\n",
    "    for c in range(1, c_len):\n",
    "        if board[r][c] != 0:\n",
    "            board[r][c] = min(board[r][c-1], board[r-1][c], board[r-1][c-1]) + 1\n",
    "            answer = max(answer, board[r][c])"
   ]
  },
  {
   "cell_type": "code",
   "execution_count": 7,
   "id": "2268dc01",
   "metadata": {
    "ExecuteTime": {
     "end_time": "2022-03-29T06:11:14.317378Z",
     "start_time": "2022-03-29T06:11:14.296222Z"
    }
   },
   "outputs": [
    {
     "data": {
      "text/plain": [
       "3"
      ]
     },
     "execution_count": 7,
     "metadata": {},
     "output_type": "execute_result"
    }
   ],
   "source": [
    "answer"
   ]
  },
  {
   "cell_type": "code",
   "execution_count": 8,
   "id": "9bdaef36",
   "metadata": {
    "ExecuteTime": {
     "end_time": "2022-03-29T06:11:14.660778Z",
     "start_time": "2022-03-29T06:11:14.644142Z"
    }
   },
   "outputs": [
    {
     "data": {
      "text/plain": [
       "[[0, 1, 1, 1], [1, 1, 2, 2], [1, 2, 2, 3], [0, 0, 1, 0]]"
      ]
     },
     "execution_count": 8,
     "metadata": {},
     "output_type": "execute_result"
    }
   ],
   "source": [
    "board"
   ]
  },
  {
   "cell_type": "code",
   "execution_count": 9,
   "id": "07ca2e96",
   "metadata": {
    "ExecuteTime": {
     "end_time": "2022-03-29T06:11:17.763052Z",
     "start_time": "2022-03-29T06:11:17.754260Z"
    }
   },
   "outputs": [
    {
     "data": {
      "text/plain": [
       "3"
      ]
     },
     "execution_count": 9,
     "metadata": {},
     "output_type": "execute_result"
    }
   ],
   "source": [
    "answer"
   ]
  },
  {
   "cell_type": "markdown",
   "id": "67d156cd",
   "metadata": {},
   "source": [
    "solution"
   ]
  },
  {
   "cell_type": "code",
   "execution_count": null,
   "id": "c986a8f5",
   "metadata": {},
   "outputs": [],
   "source": [
    "def solution(board):\n",
    "    answer = 0\n",
    "    r_len = len(board)\n",
    "    c_len = len(board[0])\n",
    "    \n",
    "    # 1행이나 1열에만 1이 있는 경우\n",
    "    if 1 in board[0]: answer = 1\n",
    "    for b in board:\n",
    "        if b[0] == 1: answer = 1\n",
    "            \n",
    "    for r in range(1, r_len):\n",
    "        for c in range(1, c_len):\n",
    "            if board[r][c] != 0:\n",
    "                board[r][c] = min(board[r][c-1], board[r-1][c], board[r-1][c-1]) + 1\n",
    "                answer = max(answer, board[r][c])\n",
    "\n",
    "    return answer * answer"
   ]
  }
 ],
 "metadata": {
  "kernelspec": {
   "display_name": "Python 3",
   "language": "python",
   "name": "python3"
  },
  "language_info": {
   "codemirror_mode": {
    "name": "ipython",
    "version": 3
   },
   "file_extension": ".py",
   "mimetype": "text/x-python",
   "name": "python",
   "nbconvert_exporter": "python",
   "pygments_lexer": "ipython3",
   "version": "3.8.8"
  },
  "toc": {
   "base_numbering": 1,
   "nav_menu": {},
   "number_sections": true,
   "sideBar": true,
   "skip_h1_title": false,
   "title_cell": "Table of Contents",
   "title_sidebar": "Contents",
   "toc_cell": false,
   "toc_position": {},
   "toc_section_display": true,
   "toc_window_display": false
  },
  "varInspector": {
   "cols": {
    "lenName": 16,
    "lenType": 16,
    "lenVar": 40
   },
   "kernels_config": {
    "python": {
     "delete_cmd_postfix": "",
     "delete_cmd_prefix": "del ",
     "library": "var_list.py",
     "varRefreshCmd": "print(var_dic_list())"
    },
    "r": {
     "delete_cmd_postfix": ") ",
     "delete_cmd_prefix": "rm(",
     "library": "var_list.r",
     "varRefreshCmd": "cat(var_dic_list()) "
    }
   },
   "types_to_exclude": [
    "module",
    "function",
    "builtin_function_or_method",
    "instance",
    "_Feature"
   ],
   "window_display": false
  }
 },
 "nbformat": 4,
 "nbformat_minor": 5
}
