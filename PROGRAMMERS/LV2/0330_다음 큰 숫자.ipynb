{
 "cells": [
  {
   "cell_type": "markdown",
   "id": "fa6472d0",
   "metadata": {},
   "source": [
    "https://programmers.co.kr/learn/courses/30/lessons/12911"
   ]
  },
  {
   "cell_type": "markdown",
   "id": "d107ae79",
   "metadata": {},
   "source": [
    "자연수 n이 주어졌을 때, n의 다음 큰 숫자는 다음과 같이 정의 합니다.\n",
    "\n",
    "- 조건 1. n의 다음 큰 숫자는 n보다 큰 자연수 입니다.\n",
    "- 조건 2. n의 다음 큰 숫자와 n은 2진수로 변환했을 때 1의 갯수가 같습니다.\n",
    "- 조건 3. n의 다음 큰 숫자는 조건 1, 2를 만족하는 수 중 가장 작은 수 입니다.\n",
    "\n",
    "예를 들어서 78(1001110)의 다음 큰 숫자는 83(1010011)입니다.\n",
    "\n",
    "자연수 n이 매개변수로 주어질 때, n의 다음 큰 숫자를 return 하는 solution 함수를 완성해주세요.\n",
    "\n",
    "\n",
    "제한 사항\n",
    "- n은 1,000,000 이하의 자연수 입니다."
   ]
  },
  {
   "cell_type": "code",
   "execution_count": 1,
   "id": "43ed436d",
   "metadata": {
    "ExecuteTime": {
     "end_time": "2022-03-29T01:26:32.242675Z",
     "start_time": "2022-03-29T01:26:32.229182Z"
    }
   },
   "outputs": [],
   "source": [
    "n = 78\n",
    "# 83"
   ]
  },
  {
   "cell_type": "code",
   "execution_count": 2,
   "id": "4df89951",
   "metadata": {
    "ExecuteTime": {
     "end_time": "2022-03-29T01:26:37.026032Z",
     "start_time": "2022-03-29T01:26:37.012702Z"
    }
   },
   "outputs": [],
   "source": [
    "cnt = list(format(n, 'b')).count('1')"
   ]
  },
  {
   "cell_type": "code",
   "execution_count": 3,
   "id": "9d18bc38",
   "metadata": {
    "ExecuteTime": {
     "end_time": "2022-03-29T01:26:37.356149Z",
     "start_time": "2022-03-29T01:26:37.348600Z"
    }
   },
   "outputs": [],
   "source": [
    "while(True):\n",
    "    n += 1\n",
    "    if list(format(n, 'b')).count('1') == cnt:\n",
    "        break"
   ]
  },
  {
   "cell_type": "code",
   "execution_count": 4,
   "id": "14049c27",
   "metadata": {
    "ExecuteTime": {
     "end_time": "2022-03-29T01:26:37.748526Z",
     "start_time": "2022-03-29T01:26:37.719391Z"
    }
   },
   "outputs": [
    {
     "data": {
      "text/plain": [
       "83"
      ]
     },
     "execution_count": 4,
     "metadata": {},
     "output_type": "execute_result"
    }
   ],
   "source": [
    "n"
   ]
  },
  {
   "cell_type": "markdown",
   "id": "98038d6d",
   "metadata": {},
   "source": [
    "solution"
   ]
  },
  {
   "cell_type": "code",
   "execution_count": null,
   "id": "1101837d",
   "metadata": {},
   "outputs": [],
   "source": [
    "def solution(n):\n",
    "    cnt = list(format(n, 'b')).count('1')\n",
    "    while(True):\n",
    "        n += 1\n",
    "        if list(format(n, 'b')).count('1') == cnt:\n",
    "            return n\n",
    "    return -1"
   ]
  },
  {
   "cell_type": "markdown",
   "id": "64c73dd8",
   "metadata": {},
   "source": [
    "다른 사람 코드"
   ]
  },
  {
   "cell_type": "code",
   "execution_count": null,
   "id": "a17f250b",
   "metadata": {},
   "outputs": [],
   "source": [
    "def nextBigNumber(n):\n",
    "    num1 = bin(n).count('1')\n",
    "    while True:\n",
    "        n = n + 1\n",
    "        if num1 == bin(n).count('1'):\n",
    "            break\n",
    "    return n"
   ]
  },
  {
   "cell_type": "code",
   "execution_count": null,
   "id": "8b0c2a8b",
   "metadata": {},
   "outputs": [],
   "source": []
  }
 ],
 "metadata": {
  "kernelspec": {
   "display_name": "Python 3",
   "language": "python",
   "name": "python3"
  },
  "language_info": {
   "codemirror_mode": {
    "name": "ipython",
    "version": 3
   },
   "file_extension": ".py",
   "mimetype": "text/x-python",
   "name": "python",
   "nbconvert_exporter": "python",
   "pygments_lexer": "ipython3",
   "version": "3.8.8"
  },
  "toc": {
   "base_numbering": 1,
   "nav_menu": {},
   "number_sections": true,
   "sideBar": true,
   "skip_h1_title": false,
   "title_cell": "Table of Contents",
   "title_sidebar": "Contents",
   "toc_cell": false,
   "toc_position": {},
   "toc_section_display": true,
   "toc_window_display": false
  },
  "varInspector": {
   "cols": {
    "lenName": 16,
    "lenType": 16,
    "lenVar": 40
   },
   "kernels_config": {
    "python": {
     "delete_cmd_postfix": "",
     "delete_cmd_prefix": "del ",
     "library": "var_list.py",
     "varRefreshCmd": "print(var_dic_list())"
    },
    "r": {
     "delete_cmd_postfix": ") ",
     "delete_cmd_prefix": "rm(",
     "library": "var_list.r",
     "varRefreshCmd": "cat(var_dic_list()) "
    }
   },
   "types_to_exclude": [
    "module",
    "function",
    "builtin_function_or_method",
    "instance",
    "_Feature"
   ],
   "window_display": false
  }
 },
 "nbformat": 4,
 "nbformat_minor": 5
}
