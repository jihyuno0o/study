{
 "cells": [
  {
   "cell_type": "markdown",
   "id": "e95d9e18",
   "metadata": {},
   "source": [
    "https://programmers.co.kr/learn/courses/30/lessons/76502"
   ]
  },
  {
   "cell_type": "markdown",
   "id": "9e58ecec",
   "metadata": {},
   "source": [
    "다음 규칙을 지키는 문자열을 올바른 괄호 문자열이라고 정의합니다.\n",
    "\n",
    "- (), [], {} 는 모두 올바른 괄호 문자열입니다.\n",
    "- 만약 A가 올바른 괄호 문자열이라면, (A), [A], {A} 도 올바른 괄호 문자열입니다. 예를 들어, [] 가 올바른 괄호 문자열이므로, ([]) 도 올바른 괄호 문자열입니다.\n",
    "- 만약 A, B가 올바른 괄호 문자열이라면, AB 도 올바른 괄호 문자열입니다. 예를 들어, {} 와 ([]) 가 올바른 괄호 문자열이므로, {}([]) 도 올바른 괄호 문자열입니다.\n",
    "\n",
    "대괄호, 중괄호, 그리고 소괄호로 이루어진 문자열 s가 매개변수로 주어집니다. 이 s를 왼쪽으로 x (0 ≤ x < (s의 길이)) 칸만큼 회전시켰을 때 s가 올바른 괄호 문자열이 되게 하는 x의 개수를 return 하도록 solution 함수를 완성해주세요."
   ]
  },
  {
   "cell_type": "markdown",
   "id": "7e9951af",
   "metadata": {},
   "source": [
    "제한사항\n",
    "- s의 길이는 1 이상 1,000 이하입니다."
   ]
  },
  {
   "cell_type": "code",
   "execution_count": 26,
   "id": "d17ac042",
   "metadata": {
    "ExecuteTime": {
     "end_time": "2022-04-22T01:59:26.946187Z",
     "start_time": "2022-04-22T01:59:26.928200Z"
    }
   },
   "outputs": [],
   "source": [
    "def right_bracket(arr):\n",
    "    brackets = {\")\" : \"(\", \"]\" : \"[\", \"}\" : \"{\"}\n",
    "    temp = []\n",
    "    for bracket in arr:\n",
    "        if len(temp) == 0: #temp가 빈 상태면 append\n",
    "            temp.append(bracket) \n",
    "            continue\n",
    "            \n",
    "        if bracket in brackets.keys() and brackets[bracket] == temp[-1]: # 젤 마지막에 추가된 괄호랑 맞는지 확인\n",
    "            temp.pop()\n",
    "        else:\n",
    "            temp.append(bracket)\n",
    "    if len(temp) == 0: return True\n",
    "    return False"
   ]
  },
  {
   "cell_type": "code",
   "execution_count": 27,
   "id": "178a318e",
   "metadata": {
    "ExecuteTime": {
     "end_time": "2022-04-22T01:59:27.180054Z",
     "start_time": "2022-04-22T01:59:27.166084Z"
    }
   },
   "outputs": [
    {
     "data": {
      "text/plain": [
       "['}', ']', '(', ')', '[', '{']"
      ]
     },
     "execution_count": 27,
     "metadata": {},
     "output_type": "execute_result"
    }
   ],
   "source": [
    "s = \"}]()[{\"\n",
    "s = list(s)\n",
    "s"
   ]
  },
  {
   "cell_type": "code",
   "execution_count": 28,
   "id": "21523f75",
   "metadata": {
    "ExecuteTime": {
     "end_time": "2022-04-22T01:59:27.478103Z",
     "start_time": "2022-04-22T01:59:27.457795Z"
    }
   },
   "outputs": [],
   "source": [
    "from collections import deque"
   ]
  },
  {
   "cell_type": "code",
   "execution_count": 29,
   "id": "8a5fa80a",
   "metadata": {
    "ExecuteTime": {
     "end_time": "2022-04-22T01:59:27.773198Z",
     "start_time": "2022-04-22T01:59:27.759135Z"
    }
   },
   "outputs": [],
   "source": [
    "answer = 0"
   ]
  },
  {
   "cell_type": "code",
   "execution_count": 30,
   "id": "0a81cde1",
   "metadata": {
    "ExecuteTime": {
     "end_time": "2022-04-22T01:59:28.225486Z",
     "start_time": "2022-04-22T01:59:28.203478Z"
    }
   },
   "outputs": [],
   "source": [
    "for i in range(len(s)):\n",
    "    if right_bracket(s) : answer += 1\n",
    "    ss = deque(s)\n",
    "    ss.append(ss.popleft())\n",
    "    s = list(ss)"
   ]
  },
  {
   "cell_type": "code",
   "execution_count": 31,
   "id": "7ed0a2c3",
   "metadata": {
    "ExecuteTime": {
     "end_time": "2022-04-22T01:59:29.478909Z",
     "start_time": "2022-04-22T01:59:29.461926Z"
    }
   },
   "outputs": [
    {
     "data": {
      "text/plain": [
       "2"
      ]
     },
     "execution_count": 31,
     "metadata": {},
     "output_type": "execute_result"
    }
   ],
   "source": [
    "answer"
   ]
  },
  {
   "cell_type": "markdown",
   "id": "4484b5f4",
   "metadata": {},
   "source": [
    "solution"
   ]
  },
  {
   "cell_type": "code",
   "execution_count": null,
   "id": "d0012aae",
   "metadata": {},
   "outputs": [],
   "source": [
    "def right_bracket(arr):\n",
    "    brackets = {\")\" : \"(\", \"]\" : \"[\", \"}\" : \"{\"}\n",
    "    temp = []\n",
    "    for bracket in arr:\n",
    "        if len(temp) == 0: #temp가 빈 상태면 append\n",
    "            temp.append(bracket) \n",
    "            continue\n",
    "            \n",
    "        if bracket in brackets.keys() and brackets[bracket] == temp[-1]: # 젤 마지막에 추가된 괄호랑 맞는지 확인\n",
    "            temp.pop()\n",
    "        else:\n",
    "            temp.append(bracket)\n",
    "    if len(temp) == 0: return True\n",
    "    return False\n",
    "\n",
    "def solution(s):\n",
    "    s = list(s)\n",
    "    answer = 0\n",
    "    \n",
    "    from collections import deque\n",
    "    for i in range(len(s)):\n",
    "        if right_bracket(s) : answer += 1\n",
    "        ss = deque(s)\n",
    "        ss.append(ss.popleft()) #회전\n",
    "        s = list(ss)\n",
    "    \n",
    "    return answer"
   ]
  }
 ],
 "metadata": {
  "kernelspec": {
   "display_name": "Python 3",
   "language": "python",
   "name": "python3"
  },
  "language_info": {
   "codemirror_mode": {
    "name": "ipython",
    "version": 3
   },
   "file_extension": ".py",
   "mimetype": "text/x-python",
   "name": "python",
   "nbconvert_exporter": "python",
   "pygments_lexer": "ipython3",
   "version": "3.8.8"
  },
  "toc": {
   "base_numbering": 1,
   "nav_menu": {},
   "number_sections": true,
   "sideBar": true,
   "skip_h1_title": false,
   "title_cell": "Table of Contents",
   "title_sidebar": "Contents",
   "toc_cell": false,
   "toc_position": {},
   "toc_section_display": true,
   "toc_window_display": false
  },
  "varInspector": {
   "cols": {
    "lenName": 16,
    "lenType": 16,
    "lenVar": 40
   },
   "kernels_config": {
    "python": {
     "delete_cmd_postfix": "",
     "delete_cmd_prefix": "del ",
     "library": "var_list.py",
     "varRefreshCmd": "print(var_dic_list())"
    },
    "r": {
     "delete_cmd_postfix": ") ",
     "delete_cmd_prefix": "rm(",
     "library": "var_list.r",
     "varRefreshCmd": "cat(var_dic_list()) "
    }
   },
   "types_to_exclude": [
    "module",
    "function",
    "builtin_function_or_method",
    "instance",
    "_Feature"
   ],
   "window_display": false
  }
 },
 "nbformat": 4,
 "nbformat_minor": 5
}
