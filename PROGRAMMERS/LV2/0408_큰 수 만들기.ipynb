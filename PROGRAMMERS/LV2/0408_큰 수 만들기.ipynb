{
 "cells": [
  {
   "cell_type": "markdown",
   "id": "8cae467c",
   "metadata": {},
   "source": [
    "https://programmers.co.kr/learn/courses/30/lessons/42883"
   ]
  },
  {
   "cell_type": "markdown",
   "id": "c8baebbd",
   "metadata": {},
   "source": [
    "어떤 숫자에서 k개의 수를 제거했을 때 얻을 수 있는 가장 큰 숫자를 구하려 합니다.\n",
    "\n",
    "예를 들어, 숫자 1924에서 수 두 개를 제거하면 [19, 12, 14, 92, 94, 24] 를 만들 수 있습니다. 이 중 가장 큰 숫자는 94 입니다.\n",
    "\n",
    "문자열 형식으로 숫자 number와 제거할 수의 개수 k가 solution 함수의 매개변수로 주어집니다. number에서 k 개의 수를 제거했을 때 만들 수 있는 수 중 가장 큰 숫자를 문자열 형태로 return 하도록 solution 함수를 완성하세요."
   ]
  },
  {
   "cell_type": "code",
   "execution_count": 1,
   "id": "80bec736",
   "metadata": {
    "ExecuteTime": {
     "end_time": "2022-04-08T02:31:36.518874Z",
     "start_time": "2022-04-08T02:31:36.507635Z"
    }
   },
   "outputs": [],
   "source": [
    "number = \"1924\"\n",
    "k = 2\n",
    "# \"94\""
   ]
  },
  {
   "cell_type": "code",
   "execution_count": 2,
   "id": "ce2d7394",
   "metadata": {
    "ExecuteTime": {
     "end_time": "2022-04-08T02:38:30.962704Z",
     "start_time": "2022-04-08T02:38:30.948507Z"
    }
   },
   "outputs": [],
   "source": [
    "answer = []"
   ]
  },
  {
   "cell_type": "code",
   "execution_count": 3,
   "id": "1697b7ca",
   "metadata": {
    "ExecuteTime": {
     "end_time": "2022-04-08T02:40:33.867814Z",
     "start_time": "2022-04-08T02:40:33.850733Z"
    }
   },
   "outputs": [],
   "source": [
    "for num in number:\n",
    "    if not answer:\n",
    "        answer.append(num)\n",
    "        continue\n",
    "    if k>0:\n",
    "        while answer[-1]<num:\n",
    "            answer.pop()\n",
    "            k -= 1\n",
    "            if not answer or k<=0: break\n",
    "    answer.append(num)"
   ]
  },
  {
   "cell_type": "code",
   "execution_count": 4,
   "id": "8c12f05e",
   "metadata": {
    "ExecuteTime": {
     "end_time": "2022-04-08T02:40:49.269478Z",
     "start_time": "2022-04-08T02:40:49.240147Z"
    }
   },
   "outputs": [
    {
     "data": {
      "text/plain": [
       "'94'"
      ]
     },
     "execution_count": 4,
     "metadata": {},
     "output_type": "execute_result"
    }
   ],
   "source": [
    "''.join(answer[:len(answer)-k])"
   ]
  },
  {
   "cell_type": "markdown",
   "id": "0bcf6b69",
   "metadata": {},
   "source": [
    "solution"
   ]
  },
  {
   "cell_type": "code",
   "execution_count": null,
   "id": "efe35cd6",
   "metadata": {},
   "outputs": [],
   "source": [
    "def solution(number, k):\n",
    "    answer = []\n",
    "    for num in number:\n",
    "        if not answer:\n",
    "            answer.append(num)\n",
    "            continue\n",
    "        if k>0:\n",
    "            while answer[-1]<num:\n",
    "                answer.pop()\n",
    "                k-=1\n",
    "                if not answer or k<=0:\n",
    "                    break\n",
    "        answer.append(num)\n",
    "    return ''.join(answer[:len(answer)-k])"
   ]
  }
 ],
 "metadata": {
  "kernelspec": {
   "display_name": "Python 3",
   "language": "python",
   "name": "python3"
  },
  "language_info": {
   "codemirror_mode": {
    "name": "ipython",
    "version": 3
   },
   "file_extension": ".py",
   "mimetype": "text/x-python",
   "name": "python",
   "nbconvert_exporter": "python",
   "pygments_lexer": "ipython3",
   "version": "3.8.8"
  },
  "toc": {
   "base_numbering": 1,
   "nav_menu": {},
   "number_sections": true,
   "sideBar": true,
   "skip_h1_title": false,
   "title_cell": "Table of Contents",
   "title_sidebar": "Contents",
   "toc_cell": false,
   "toc_position": {},
   "toc_section_display": true,
   "toc_window_display": false
  },
  "varInspector": {
   "cols": {
    "lenName": 16,
    "lenType": 16,
    "lenVar": 40
   },
   "kernels_config": {
    "python": {
     "delete_cmd_postfix": "",
     "delete_cmd_prefix": "del ",
     "library": "var_list.py",
     "varRefreshCmd": "print(var_dic_list())"
    },
    "r": {
     "delete_cmd_postfix": ") ",
     "delete_cmd_prefix": "rm(",
     "library": "var_list.r",
     "varRefreshCmd": "cat(var_dic_list()) "
    }
   },
   "types_to_exclude": [
    "module",
    "function",
    "builtin_function_or_method",
    "instance",
    "_Feature"
   ],
   "window_display": false
  }
 },
 "nbformat": 4,
 "nbformat_minor": 5
}
