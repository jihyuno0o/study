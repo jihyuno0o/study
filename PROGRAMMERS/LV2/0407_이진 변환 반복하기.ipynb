{
 "cells": [
  {
   "cell_type": "markdown",
   "id": "8041a1a9",
   "metadata": {},
   "source": [
    "https://programmers.co.kr/learn/courses/30/lessons/70129"
   ]
  },
  {
   "cell_type": "markdown",
   "id": "b550b660",
   "metadata": {
    "ExecuteTime": {
     "end_time": "2022-04-05T05:30:52.738326Z",
     "start_time": "2022-04-05T05:30:52.727913Z"
    }
   },
   "source": [
    "0과 1로 이루어진 어떤 문자열 x에 대한 이진 변환을 다음과 같이 정의합니다.\n",
    "\n",
    "- x의 모든 0을 제거합니다.\n",
    "- x의 길이를 c라고 하면, x를 \"c를 2진법으로 표현한 문자열\"로 바꿉니다.\n",
    "\n",
    "예를 들어, x = \"0111010\"이라면, x에 이진 변환을 가하면 x = \"0111010\" -> \"1111\" -> \"100\" 이 됩니다.\n",
    "\n",
    "0과 1로 이루어진 문자열 s가 매개변수로 주어집니다. s가 \"1\"이 될 때까지 계속해서 s에 이진 변환을 가했을 때, 이진 변환의 횟수와 변환 과정에서 제거된 모든 0의 개수를 각각 배열에 담아 return 하도록 solution 함수를 완성해주세요.\n",
    "\n"
   ]
  },
  {
   "cell_type": "markdown",
   "id": "a4c6ff20",
   "metadata": {},
   "source": [
    "제한사항\n",
    "- s의 길이는 1 이상 150,000 이하입니다.\n",
    "- s에는 '1'이 최소 하나 이상 포함되어 있습니다.\n"
   ]
  },
  {
   "cell_type": "code",
   "execution_count": 22,
   "id": "701a762a",
   "metadata": {
    "ExecuteTime": {
     "end_time": "2022-04-05T05:44:14.698244Z",
     "start_time": "2022-04-05T05:44:14.685242Z"
    }
   },
   "outputs": [],
   "source": [
    "s = \"110010101001\"\n",
    "# [3,8]"
   ]
  },
  {
   "attachments": {
    "image.png": {
     "image/png": "[encoded data removed]"
    }
   },
   "cell_type": "markdown",
   "id": "27ca8ca5",
   "metadata": {},
   "source": [
    "![image.png](attachment:image.png)"
   ]
  },
  {
   "cell_type": "code",
   "execution_count": 13,
   "id": "9b2a4e5f",
   "metadata": {
    "ExecuteTime": {
     "end_time": "2022-04-05T05:40:24.724162Z",
     "start_time": "2022-04-05T05:40:24.712164Z"
    }
   },
   "outputs": [],
   "source": [
    "length = len(s)\n",
    "cnt_0 = 0"
   ]
  },
  {
   "cell_type": "code",
   "execution_count": 14,
   "id": "518efc22",
   "metadata": {
    "ExecuteTime": {
     "end_time": "2022-04-05T05:40:36.019556Z",
     "start_time": "2022-04-05T05:40:36.007240Z"
    }
   },
   "outputs": [
    {
     "data": {
      "text/plain": [
       "(6, 6, 6)"
      ]
     },
     "execution_count": 14,
     "metadata": {},
     "output_type": "execute_result"
    }
   ],
   "source": [
    "cnt_0 = s.count('0')\n",
    "length = length - cnt_0\n",
    "cnt_1 = s.count('1')\n",
    "cnt_0, length, cnt_1"
   ]
  },
  {
   "cell_type": "code",
   "execution_count": 16,
   "id": "7af07cc9",
   "metadata": {
    "ExecuteTime": {
     "end_time": "2022-04-05T05:41:31.867424Z",
     "start_time": "2022-04-05T05:41:31.856151Z"
    }
   },
   "outputs": [
    {
     "data": {
      "text/plain": [
       "'110'"
      ]
     },
     "execution_count": 16,
     "metadata": {},
     "output_type": "execute_result"
    }
   ],
   "source": [
    "s = str(format(s.count('1'), 'b'))\n",
    "s"
   ]
  },
  {
   "cell_type": "code",
   "execution_count": 23,
   "id": "613e27d3",
   "metadata": {
    "ExecuteTime": {
     "end_time": "2022-04-05T05:44:29.382687Z",
     "start_time": "2022-04-05T05:44:29.373034Z"
    }
   },
   "outputs": [],
   "source": [
    "answer = [0,0]"
   ]
  },
  {
   "cell_type": "code",
   "execution_count": 24,
   "id": "1e52860e",
   "metadata": {
    "ExecuteTime": {
     "end_time": "2022-04-05T05:44:29.728069Z",
     "start_time": "2022-04-05T05:44:29.719825Z"
    }
   },
   "outputs": [],
   "source": [
    "while(len(s) > 1):\n",
    "    answer[1] += s.count('0')\n",
    "    s = str(format(s.count('1'), 'b'))\n",
    "    answer[0] += 1"
   ]
  },
  {
   "cell_type": "code",
   "execution_count": 25,
   "id": "74264449",
   "metadata": {
    "ExecuteTime": {
     "end_time": "2022-04-05T05:44:33.499766Z",
     "start_time": "2022-04-05T05:44:33.489765Z"
    }
   },
   "outputs": [
    {
     "data": {
      "text/plain": [
       "[3, 8]"
      ]
     },
     "execution_count": 25,
     "metadata": {},
     "output_type": "execute_result"
    }
   ],
   "source": [
    "answer"
   ]
  },
  {
   "cell_type": "markdown",
   "id": "8af6977c",
   "metadata": {},
   "source": [
    "solution"
   ]
  },
  {
   "cell_type": "code",
   "execution_count": null,
   "id": "4d028038",
   "metadata": {},
   "outputs": [],
   "source": [
    "def solution(s):\n",
    "    answer = [0, 0]\n",
    "    \n",
    "    while(len(s) > 1):\n",
    "        answer[1] += s.count('0')\n",
    "        s = str(format(s.count('1'), 'b'))\n",
    "        answer[0] += 1\n",
    "    \n",
    "    return answer"
   ]
  }
 ],
 "metadata": {
  "kernelspec": {
   "display_name": "Python 3",
   "language": "python",
   "name": "python3"
  },
  "language_info": {
   "codemirror_mode": {
    "name": "ipython",
    "version": 3
   },
   "file_extension": ".py",
   "mimetype": "text/x-python",
   "name": "python",
   "nbconvert_exporter": "python",
   "pygments_lexer": "ipython3",
   "version": "3.8.8"
  },
  "toc": {
   "base_numbering": 1,
   "nav_menu": {},
   "number_sections": true,
   "sideBar": true,
   "skip_h1_title": false,
   "title_cell": "Table of Contents",
   "title_sidebar": "Contents",
   "toc_cell": false,
   "toc_position": {},
   "toc_section_display": true,
   "toc_window_display": false
  },
  "varInspector": {
   "cols": {
    "lenName": 16,
    "lenType": 16,
    "lenVar": 40
   },
   "kernels_config": {
    "python": {
     "delete_cmd_postfix": "",
     "delete_cmd_prefix": "del ",
     "library": "var_list.py",
     "varRefreshCmd": "print(var_dic_list())"
    },
    "r": {
     "delete_cmd_postfix": ") ",
     "delete_cmd_prefix": "rm(",
     "library": "var_list.r",
     "varRefreshCmd": "cat(var_dic_list()) "
    }
   },
   "types_to_exclude": [
    "module",
    "function",
    "builtin_function_or_method",
    "instance",
    "_Feature"
   ],
   "window_display": false
  }
 },
 "nbformat": 4,
 "nbformat_minor": 5
}
