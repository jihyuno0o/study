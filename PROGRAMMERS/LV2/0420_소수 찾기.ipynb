{
 "cells": [
  {
   "cell_type": "markdown",
   "id": "c1d0491c",
   "metadata": {},
   "source": [
    "https://programmers.co.kr/learn/courses/30/lessons/42839"
   ]
  },
  {
   "cell_type": "markdown",
   "id": "b6cf1ae4",
   "metadata": {},
   "source": [
    "한자리 숫자가 적힌 종이 조각이 흩어져있습니다. 흩어진 종이 조각을 붙여 소수를 몇 개 만들 수 있는지 알아내려 합니다.\n",
    "\n",
    "각 종이 조각에 적힌 숫자가 적힌 문자열 numbers가 주어졌을 때, 종이 조각으로 만들 수 있는 소수가 몇 개인지 return 하도록 solution 함수를 완성해주세요.\n",
    "\n",
    "제한사항\n",
    "- numbers는 길이 1 이상 7 이하인 문자열입니다.\n",
    "- numbers는 0~9까지 숫자만으로 이루어져 있습니다.\n",
    "- \"013\"은 0, 1, 3 숫자가 적힌 종이 조각이 흩어져있다는 의미입니다."
   ]
  },
  {
   "cell_type": "code",
   "execution_count": 25,
   "id": "be72cf25",
   "metadata": {
    "ExecuteTime": {
     "end_time": "2022-04-20T05:28:02.763357Z",
     "start_time": "2022-04-20T05:28:02.754365Z"
    }
   },
   "outputs": [],
   "source": [
    "numbers = \"011\"\n",
    "# 2"
   ]
  },
  {
   "cell_type": "code",
   "execution_count": 27,
   "id": "666932da",
   "metadata": {
    "ExecuteTime": {
     "end_time": "2022-04-20T05:28:21.525039Z",
     "start_time": "2022-04-20T05:28:21.510944Z"
    }
   },
   "outputs": [
    {
     "data": {
      "text/plain": [
       "{0, 1}"
      ]
     },
     "execution_count": 27,
     "metadata": {},
     "output_type": "execute_result"
    }
   ],
   "source": [
    "numbers = list(numbers)\n",
    "all_numbers = set(list(map(int, numbers)))\n",
    "all_numbers"
   ]
  },
  {
   "cell_type": "code",
   "execution_count": 29,
   "id": "aa5a9588",
   "metadata": {
    "ExecuteTime": {
     "end_time": "2022-04-20T05:28:36.469459Z",
     "start_time": "2022-04-20T05:28:36.455040Z"
    }
   },
   "outputs": [],
   "source": [
    "from itertools import permutations\n",
    "\n",
    "for i in range(2, len(numbers)+1):\n",
    "    for j in permutations(numbers, i):\n",
    "        all_numbers.add(int(''.join(j)))"
   ]
  },
  {
   "cell_type": "code",
   "execution_count": 30,
   "id": "9307e86d",
   "metadata": {
    "ExecuteTime": {
     "end_time": "2022-04-20T05:28:44.029452Z",
     "start_time": "2022-04-20T05:28:44.022741Z"
    }
   },
   "outputs": [
    {
     "data": {
      "text/plain": [
       "{0, 1, 10, 11, 101, 110}"
      ]
     },
     "execution_count": 30,
     "metadata": {},
     "output_type": "execute_result"
    }
   ],
   "source": [
    "all_numbers"
   ]
  },
  {
   "cell_type": "code",
   "execution_count": 31,
   "id": "6f9c3186",
   "metadata": {
    "ExecuteTime": {
     "end_time": "2022-04-20T05:28:45.573561Z",
     "start_time": "2022-04-20T05:28:45.560597Z"
    }
   },
   "outputs": [],
   "source": [
    "def isPrime(num):\n",
    "    if num == 2 or num==3:\n",
    "        return True\n",
    "    if num % 2 == 0 or num < 2:\n",
    "        return False\n",
    "    for i in range(3, int(num**1/2)+1, 2):\n",
    "        if num % i == 0: return False\n",
    "    return True"
   ]
  },
  {
   "cell_type": "code",
   "execution_count": 32,
   "id": "dee92a30",
   "metadata": {
    "ExecuteTime": {
     "end_time": "2022-04-20T05:28:46.307191Z",
     "start_time": "2022-04-20T05:28:46.300219Z"
    }
   },
   "outputs": [
    {
     "data": {
      "text/plain": [
       "2"
      ]
     },
     "execution_count": 32,
     "metadata": {},
     "output_type": "execute_result"
    }
   ],
   "source": [
    "answer = 0\n",
    "for n in all_numbers:\n",
    "    if isPrime(n):\n",
    "        answer+=1\n",
    "answer"
   ]
  },
  {
   "cell_type": "markdown",
   "id": "ea3284fe",
   "metadata": {},
   "source": [
    "solution"
   ]
  },
  {
   "cell_type": "code",
   "execution_count": null,
   "id": "e20e5474",
   "metadata": {},
   "outputs": [],
   "source": [
    "def isPrime(num):\n",
    "    if num == 2 or num==3:\n",
    "        return True\n",
    "    if num % 2 == 0 or num < 2:\n",
    "        return False\n",
    "    for i in range(3, int(num**1/2)+1, 2):\n",
    "        if num % i == 0: return False\n",
    "    return True\n",
    "\n",
    "def solution(numbers):\n",
    "    numbers = list(numbers)\n",
    "    all_numbers = set(list(map(int, numbers))) # numbers를 조합해서 만들 수 있는 숫자 저장, 중복X\n",
    "    \n",
    "    from itertools import permutations # 순열\n",
    "    for i in range(2, len(numbers)+1): # 2개짜리 조합, 3개짜리 조합 ,,,\n",
    "        for j in permutations(numbers, i):\n",
    "            all_numbers.add(int(''.join(j)))\n",
    "    \n",
    "    answer = 0\n",
    "    for n in all_numbers:\n",
    "        if isPrime(n): answer += 1\n",
    "    return answer"
   ]
  },
  {
   "cell_type": "markdown",
   "id": "daf1fc45",
   "metadata": {
    "ExecuteTime": {
     "end_time": "2022-04-20T05:32:36.784229Z",
     "start_time": "2022-04-20T05:32:36.765488Z"
    }
   },
   "source": [
    "다른 사람 코드"
   ]
  },
  {
   "cell_type": "code",
   "execution_count": null,
   "id": "486e160b",
   "metadata": {},
   "outputs": [],
   "source": [
    "from itertools import permutations\n",
    "def solution(n):\n",
    "    a = set()\n",
    "    for i in range(len(n)):\n",
    "        a |= set(map(int, map(\"\".join, permutations(list(n), i + 1))))\n",
    "    a -= set(range(0, 2))\n",
    "    for i in range(2, int(max(a) ** 0.5) + 1):\n",
    "        a -= set(range(i * 2, max(a) + 1, i))\n",
    "    return len(a)"
   ]
  }
 ],
 "metadata": {
  "kernelspec": {
   "display_name": "Python 3",
   "language": "python",
   "name": "python3"
  },
  "language_info": {
   "codemirror_mode": {
    "name": "ipython",
    "version": 3
   },
   "file_extension": ".py",
   "mimetype": "text/x-python",
   "name": "python",
   "nbconvert_exporter": "python",
   "pygments_lexer": "ipython3",
   "version": "3.8.8"
  },
  "toc": {
   "base_numbering": 1,
   "nav_menu": {},
   "number_sections": true,
   "sideBar": true,
   "skip_h1_title": false,
   "title_cell": "Table of Contents",
   "title_sidebar": "Contents",
   "toc_cell": false,
   "toc_position": {},
   "toc_section_display": true,
   "toc_window_display": false
  },
  "varInspector": {
   "cols": {
    "lenName": 16,
    "lenType": 16,
    "lenVar": 40
   },
   "kernels_config": {
    "python": {
     "delete_cmd_postfix": "",
     "delete_cmd_prefix": "del ",
     "library": "var_list.py",
     "varRefreshCmd": "print(var_dic_list())"
    },
    "r": {
     "delete_cmd_postfix": ") ",
     "delete_cmd_prefix": "rm(",
     "library": "var_list.r",
     "varRefreshCmd": "cat(var_dic_list()) "
    }
   },
   "types_to_exclude": [
    "module",
    "function",
    "builtin_function_or_method",
    "instance",
    "_Feature"
   ],
   "window_display": false
  }
 },
 "nbformat": 4,
 "nbformat_minor": 5
}
