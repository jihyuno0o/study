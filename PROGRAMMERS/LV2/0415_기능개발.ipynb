{
 "cells": [
  {
   "cell_type": "markdown",
   "id": "643fa280",
   "metadata": {},
   "source": [
    "https://programmers.co.kr/learn/courses/30/lessons/42586"
   ]
  },
  {
   "cell_type": "markdown",
   "id": "affe1426",
   "metadata": {},
   "source": [
    "프로그래머스 팀에서는 기능 개선 작업을 수행 중입니다. 각 기능은 진도가 100%일 때 서비스에 반영할 수 있습니다.\n",
    "\n",
    "또, 각 기능의 개발속도는 모두 다르기 때문에 뒤에 있는 기능이 앞에 있는 기능보다 먼저 개발될 수 있고, 이때 뒤에 있는 기능은 앞에 있는 기능이 배포될 때 함께 배포됩니다.\n",
    "\n",
    "먼저 배포되어야 하는 순서대로 작업의 진도가 적힌 정수 배열 progresses와 각 작업의 개발 속도가 적힌 정수 배열 speeds가 주어질 때 각 배포마다 몇 개의 기능이 배포되는지를 return 하도록 solution 함수를 완성하세요."
   ]
  },
  {
   "cell_type": "markdown",
   "id": "8c9425ce",
   "metadata": {},
   "source": [
    "제한 사항\n",
    "- 작업의 개수(progresses, speeds배열의 길이)는 100개 이하입니다.\n",
    "- 작업 진도는 100 미만의 자연수입니다.\n",
    "- 작업 속도는 100 이하의 자연수입니다.\n",
    "- 배포는 하루에 한 번만 할 수 있으며, 하루의 끝에 이루어진다고 가정합니다. 예를 들어 진도율이 95%인 작업의 개발 속도가 하루에 4%라면 배포는 2일 뒤에 이루어집니다.\n"
   ]
  },
  {
   "cell_type": "code",
   "execution_count": 1,
   "id": "32c6bdec",
   "metadata": {
    "ExecuteTime": {
     "end_time": "2022-04-18T01:02:03.413122Z",
     "start_time": "2022-04-18T01:02:03.395637Z"
    }
   },
   "outputs": [],
   "source": [
    "progresses = [93, 30, 55]\n",
    "speeds = [1, 30, 5]\n",
    "# [2,1]"
   ]
  },
  {
   "cell_type": "code",
   "execution_count": 2,
   "id": "03fb54ae",
   "metadata": {
    "ExecuteTime": {
     "end_time": "2022-04-18T01:02:27.737226Z",
     "start_time": "2022-04-18T01:02:27.733074Z"
    }
   },
   "outputs": [],
   "source": [
    "progresses = [95, 90, 99, 99, 80, 99]\n",
    "speeds = [1, 1, 1, 1, 1, 1]\n",
    "# [1,3,2]"
   ]
  },
  {
   "cell_type": "markdown",
   "id": "e96af809",
   "metadata": {},
   "source": [
    "solution"
   ]
  },
  {
   "cell_type": "code",
   "execution_count": null,
   "id": "53a9d5b6",
   "metadata": {},
   "outputs": [],
   "source": [
    "def solution(progresses, speeds):\n",
    "    import math\n",
    "    answer = []\n",
    "    days = {}\n",
    "    before = 0\n",
    "    for progress, speed in zip(progresses, speeds):\n",
    "        day = int(math.ceil((100-progress) / speed)) # 소수점도 하루로 침\n",
    "        if before >= day: day = before # 앞의 기능이 완료되지 않으면 뒤 기능이 배포 안됨\n",
    "        else: before = day\n",
    "        \n",
    "        if day in days:\n",
    "            days[day] = days[day] + 1\n",
    "        else: days[day] = 1\n",
    "        \n",
    "    for k,v in days.items():\n",
    "        answer.append(v)\n",
    "    return answer"
   ]
  }
 ],
 "metadata": {
  "kernelspec": {
   "display_name": "Python 3",
   "language": "python",
   "name": "python3"
  },
  "language_info": {
   "codemirror_mode": {
    "name": "ipython",
    "version": 3
   },
   "file_extension": ".py",
   "mimetype": "text/x-python",
   "name": "python",
   "nbconvert_exporter": "python",
   "pygments_lexer": "ipython3",
   "version": "3.8.8"
  },
  "toc": {
   "base_numbering": 1,
   "nav_menu": {},
   "number_sections": true,
   "sideBar": true,
   "skip_h1_title": false,
   "title_cell": "Table of Contents",
   "title_sidebar": "Contents",
   "toc_cell": false,
   "toc_position": {},
   "toc_section_display": true,
   "toc_window_display": false
  },
  "varInspector": {
   "cols": {
    "lenName": 16,
    "lenType": 16,
    "lenVar": 40
   },
   "kernels_config": {
    "python": {
     "delete_cmd_postfix": "",
     "delete_cmd_prefix": "del ",
     "library": "var_list.py",
     "varRefreshCmd": "print(var_dic_list())"
    },
    "r": {
     "delete_cmd_postfix": ") ",
     "delete_cmd_prefix": "rm(",
     "library": "var_list.r",
     "varRefreshCmd": "cat(var_dic_list()) "
    }
   },
   "types_to_exclude": [
    "module",
    "function",
    "builtin_function_or_method",
    "instance",
    "_Feature"
   ],
   "window_display": false
  }
 },
 "nbformat": 4,
 "nbformat_minor": 5
}
