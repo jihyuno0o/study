{
 "cells": [
  {
   "cell_type": "markdown",
   "id": "bf424934",
   "metadata": {},
   "source": [
    "https://programmers.co.kr/learn/courses/30/lessons/12978"
   ]
  },
  {
   "attachments": {
    "image.png": {
     "image/png": "[encoded data removed]"
    }
   },
   "cell_type": "markdown",
   "id": "d8ae3114",
   "metadata": {},
   "source": [
    "## 문제 설명\n",
    "N개의 마을로 이루어진 나라가 있습니다. 이 나라의 각 마을에는 1부터 N까지의 번호가 각각 하나씩 부여되어 있습니다. 각 마을은 양방향으로 통행할 수 있는 도로로 연결되어 있는데, 서로 다른 마을 간에 이동할 때는 이 도로를 지나야 합니다. 도로를 지날 때 걸리는 시간은 도로별로 다릅니다. 현재 1번 마을에 있는 음식점에서 각 마을로 음식 배달을 하려고 합니다. 각 마을로부터 음식 주문을 받으려고 하는데, N개의 마을 중에서 K 시간 이하로 배달이 가능한 마을에서만 주문을 받으려고 합니다. 다음은 N = 5, K = 3인 경우의 예시입니다.\n",
    "![image.png](attachment:image.png)\n",
    "위 그림에서 1번 마을에 있는 음식점은 [1, 2, 4, 5] 번 마을까지는 3 이하의 시간에 배달할 수 있습니다. 그러나 3번 마을까지는 3시간 이내로 배달할 수 있는 경로가 없으므로 3번 마을에서는 주문을 받지 않습니다. 따라서 1번 마을에 있는 음식점이 배달 주문을 받을 수 있는 마을은 4개가 됩니다.\n",
    "마을의 개수 N, 각 마을을 연결하는 도로의 정보 road, 음식 배달이 가능한 시간 K가 매개변수로 주어질 때, 음식 주문을 받을 수 있는 마을의 개수를 return 하도록 solution 함수를 완성해주세요.\n",
    "\n",
    "## 제한사항\n",
    "- 마을의 개수 N은 1 이상 50 이하의 자연수입니다.\n",
    "- road의 길이(도로 정보의 개수)는 1 이상 2,000 이하입니다.\n",
    "- road의 각 원소는 마을을 연결하고 있는 각 도로의 정보를 나타냅니다.\n",
    "- road는 길이가 3인 배열이며, 순서대로 (a, b, c)를 나타냅니다.\n",
    "    - a, b(1 ≤ a, b ≤ N, a != b)는 도로가 연결하는 두 마을의 번호이며, c(1 ≤ c ≤ 10,000, c는 자연수)는 도로를 지나는데 걸리는 시간입니다.\n",
    "    - 두 마을 a, b를 연결하는 도로는 여러 개가 있을 수 있습니다.\n",
    "    - 한 도로의 정보가 여러 번 중복해서 주어지지 않습니다.\n",
    "- K는 음식 배달이 가능한 시간을 나타내며, 1 이상 500,000 이하입니다.\n",
    "- 임의의 두 마을간에 항상 이동 가능한 경로가 존재합니다.\n",
    "- 1번 마을에 있는 음식점이 K 이하의 시간에 배달이 가능한 마을의 개수를 return 하면 됩니다.\n"
   ]
  },
  {
   "cell_type": "code",
   "execution_count": 1,
   "id": "47958548",
   "metadata": {
    "ExecuteTime": {
     "end_time": "2022-05-30T05:34:44.456595Z",
     "start_time": "2022-05-30T05:34:44.440440Z"
    }
   },
   "outputs": [],
   "source": [
    "# 문제의 예시\n",
    "N = 5\n",
    "road = [[1,2,1],[2,3,3],[5,2,2],[1,4,2],[5,3,1],[5,4,2]]\n",
    "K = 3\n",
    "# 4 "
   ]
  },
  {
   "attachments": {
    "image.png": {
     "image/png": "[encoded data removed]"
    }
   },
   "cell_type": "markdown",
   "id": "eaf950b3",
   "metadata": {},
   "source": [
    "![image.png](attachment:image.png)"
   ]
  },
  {
   "cell_type": "code",
   "execution_count": 2,
   "id": "56025f51",
   "metadata": {
    "ExecuteTime": {
     "end_time": "2022-05-30T05:35:16.904715Z",
     "start_time": "2022-05-30T05:35:16.893645Z"
    }
   },
   "outputs": [],
   "source": [
    "N = 6\n",
    "road = [[1,2,1],[1,3,2],[2,3,2],[3,4,3],[3,5,2],[3,5,3],[5,6,1]]\n",
    "K = 4\n",
    "# 4"
   ]
  },
  {
   "cell_type": "code",
   "execution_count": 3,
   "id": "7ae2f014",
   "metadata": {
    "ExecuteTime": {
     "end_time": "2022-05-30T05:43:09.978211Z",
     "start_time": "2022-05-30T05:43:09.964177Z"
    }
   },
   "outputs": [],
   "source": [
    "dist = [float('inf')] * (N+1)\n",
    "dist[1] = 0 # 1은 자기자신 이니까 거리 0\n",
    "adj = [[] for _ in range(N+1)] # 인접노드, 거리 저장"
   ]
  },
  {
   "cell_type": "code",
   "execution_count": 4,
   "id": "e52857e0",
   "metadata": {
    "ExecuteTime": {
     "end_time": "2022-05-30T05:43:54.478122Z",
     "start_time": "2022-05-30T05:43:54.457587Z"
    }
   },
   "outputs": [],
   "source": [
    "for r in road:\n",
    "    adj[r[0]].append([r[2],r[1]]) # [거리, 노드]\n",
    "    adj[r[1]].append([r[2], r[0]])"
   ]
  },
  {
   "cell_type": "code",
   "execution_count": 5,
   "id": "5672f6c9",
   "metadata": {
    "ExecuteTime": {
     "end_time": "2022-05-30T05:43:56.715111Z",
     "start_time": "2022-05-30T05:43:56.697447Z"
    }
   },
   "outputs": [
    {
     "data": {
      "text/plain": [
       "[[],\n",
       " [[1, 2], [2, 3]],\n",
       " [[1, 1], [2, 3]],\n",
       " [[2, 1], [2, 2], [3, 4], [2, 5], [3, 5]],\n",
       " [[3, 3]],\n",
       " [[2, 3], [3, 3], [1, 6]],\n",
       " [[1, 5]]]"
      ]
     },
     "execution_count": 5,
     "metadata": {},
     "output_type": "execute_result"
    }
   ],
   "source": [
    "adj"
   ]
  },
  {
   "cell_type": "code",
   "execution_count": 6,
   "id": "683c600a",
   "metadata": {
    "ExecuteTime": {
     "end_time": "2022-05-30T05:58:44.851281Z",
     "start_time": "2022-05-30T05:58:44.837795Z"
    }
   },
   "outputs": [],
   "source": [
    "import heapq\n",
    "def dijkstra(dist, adj):\n",
    "    heap = []\n",
    "    heapq.heappush(heap, [0,1]) #거리, 노드\n",
    "    \n",
    "    while heap:\n",
    "        cost, node = heapq.heappop(heap)\n",
    "        for c, n in adj[node]:\n",
    "            if cost+c < dist[n]:\n",
    "                dist[n] = cost + c # 더 짧으면 갱신\n",
    "                heapq.heappush(heap, [cost+c, n]) # 노드 추가"
   ]
  },
  {
   "cell_type": "code",
   "execution_count": 7,
   "id": "7f7e5c30",
   "metadata": {
    "ExecuteTime": {
     "end_time": "2022-05-30T05:58:59.271945Z",
     "start_time": "2022-05-30T05:58:59.255749Z"
    }
   },
   "outputs": [],
   "source": [
    "dijkstra(dist, adj)"
   ]
  },
  {
   "cell_type": "code",
   "execution_count": 8,
   "id": "87909b5e",
   "metadata": {
    "ExecuteTime": {
     "end_time": "2022-05-30T05:59:00.207944Z",
     "start_time": "2022-05-30T05:59:00.199032Z"
    }
   },
   "outputs": [
    {
     "data": {
      "text/plain": [
       "[inf, 0, 1, 2, 5, 4, 5]"
      ]
     },
     "execution_count": 8,
     "metadata": {},
     "output_type": "execute_result"
    }
   ],
   "source": [
    "dist"
   ]
  },
  {
   "cell_type": "code",
   "execution_count": 9,
   "id": "af04c8b6",
   "metadata": {
    "ExecuteTime": {
     "end_time": "2022-05-30T05:59:16.891779Z",
     "start_time": "2022-05-30T05:59:16.876032Z"
    }
   },
   "outputs": [
    {
     "data": {
      "text/plain": [
       "4"
      ]
     },
     "execution_count": 9,
     "metadata": {},
     "output_type": "execute_result"
    }
   ],
   "source": [
    "len([i for i in dist if i<=K])"
   ]
  },
  {
   "cell_type": "markdown",
   "id": "d8e6145f",
   "metadata": {},
   "source": [
    "solution"
   ]
  },
  {
   "cell_type": "code",
   "execution_count": null,
   "id": "d29e3b0f",
   "metadata": {},
   "outputs": [],
   "source": [
    "import heapq\n",
    "def dijkstra(dist, adj):\n",
    "    heap = []\n",
    "    heapq.heappush(heap, [0,1]) #거리, 노드\n",
    "    \n",
    "    while heap:\n",
    "        cost, node = heapq.heappop(heap)\n",
    "        for c, n in adj[node]:\n",
    "            if cost+c < dist[n]:\n",
    "                dist[n] = cost + c # 더 짧으면 갱신\n",
    "                heapq.heappush(heap, [cost+c, n]) # 노드 추가\n",
    "                \n",
    "                \n",
    "def solution(N, road, K):\n",
    "    dist = [float('inf')] * (N+1) # 1에서 최단거리 저장\n",
    "    dist[1] = 0 # 1은 자기자신 이니까 거리 0\n",
    "    adj = [[] for _ in range(N+1)] # 인접노드, 거리 저장\n",
    "    for r in road:\n",
    "        adj[r[0]].append([r[2],r[1]]) # [거리, 노드]\n",
    "        adj[r[1]].append([r[2], r[0]])\n",
    "    dijkstra(dist, adj)\n",
    "    \n",
    "    return len([i for i in dist if i<=K])"
   ]
  }
 ],
 "metadata": {
  "kernelspec": {
   "display_name": "Python 3",
   "language": "python",
   "name": "python3"
  },
  "language_info": {
   "codemirror_mode": {
    "name": "ipython",
    "version": 3
   },
   "file_extension": ".py",
   "mimetype": "text/x-python",
   "name": "python",
   "nbconvert_exporter": "python",
   "pygments_lexer": "ipython3",
   "version": "3.8.8"
  },
  "toc": {
   "base_numbering": 1,
   "nav_menu": {},
   "number_sections": true,
   "sideBar": true,
   "skip_h1_title": false,
   "title_cell": "Table of Contents",
   "title_sidebar": "Contents",
   "toc_cell": false,
   "toc_position": {},
   "toc_section_display": true,
   "toc_window_display": false
  },
  "varInspector": {
   "cols": {
    "lenName": 16,
    "lenType": 16,
    "lenVar": 40
   },
   "kernels_config": {
    "python": {
     "delete_cmd_postfix": "",
     "delete_cmd_prefix": "del ",
     "library": "var_list.py",
     "varRefreshCmd": "print(var_dic_list())"
    },
    "r": {
     "delete_cmd_postfix": ") ",
     "delete_cmd_prefix": "rm(",
     "library": "var_list.r",
     "varRefreshCmd": "cat(var_dic_list()) "
    }
   },
   "types_to_exclude": [
    "module",
    "function",
    "builtin_function_or_method",
    "instance",
    "_Feature"
   ],
   "window_display": false
  }
 },
 "nbformat": 4,
 "nbformat_minor": 5
}
