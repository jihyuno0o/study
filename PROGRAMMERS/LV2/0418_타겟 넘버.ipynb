{
 "cells": [
  {
   "cell_type": "markdown",
   "id": "819b41fb",
   "metadata": {},
   "source": [
    "https://programmers.co.kr/learn/courses/30/lessons/43165"
   ]
  },
  {
   "cell_type": "markdown",
   "id": "1cac4df2",
   "metadata": {},
   "source": [
    "n개의 음이 아닌 정수들이 있습니다. 이 정수들을 순서를 바꾸지 않고 적절히 더하거나 빼서 타겟 넘버를 만들려고 합니다. 예를 들어 [1, 1, 1, 1, 1]로 숫자 3을 만들려면 다음 다섯 방법을 쓸 수 있습니다.\n",
    "\n",
    "- -1+1+1+1+1 = 3\n",
    "- +1-1+1+1+1 = 3\n",
    "- +1+1-1+1+1 = 3\n",
    "- +1+1+1-1+1 = 3\n",
    "- +1+1+1+1-1 = 3\n",
    "\n",
    "사용할 수 있는 숫자가 담긴 배열 numbers, 타겟 넘버 target이 매개변수로 주어질 때 숫자를 적절히 더하고 빼서 타겟 넘버를 만드는 방법의 수를 return 하도록 solution 함수를 작성해주세요."
   ]
  },
  {
   "cell_type": "markdown",
   "id": "2620592f",
   "metadata": {},
   "source": [
    "제한사항\n",
    "- 주어지는 숫자의 개수는 2개 이상 20개 이하입니다.\n",
    "- 각 숫자는 1 이상 50 이하인 자연수입니다.\n",
    "- 타겟 넘버는 1 이상 1000 이하인 자연수입니다."
   ]
  },
  {
   "cell_type": "markdown",
   "id": "1c5cf3b5",
   "metadata": {},
   "source": [
    "https://velog.io/@ju_h2/Python-%ED%94%84%EB%A1%9C%EA%B7%B8%EB%9E%98%EB%A8%B8%EC%8A%A4-level2-%ED%83%80%EA%B2%9F%EB%84%98%EB%B2%84-BFSDFS"
   ]
  },
  {
   "cell_type": "code",
   "execution_count": 1,
   "id": "c53e300e",
   "metadata": {
    "ExecuteTime": {
     "end_time": "2022-04-18T01:44:52.707394Z",
     "start_time": "2022-04-18T01:44:52.696537Z"
    }
   },
   "outputs": [],
   "source": [
    "numbers = [4, 1, 2, 1]\n",
    "target = 4\n",
    "# 2"
   ]
  },
  {
   "cell_type": "code",
   "execution_count": 2,
   "id": "619f0745",
   "metadata": {
    "ExecuteTime": {
     "end_time": "2022-04-18T01:49:12.681201Z",
     "start_time": "2022-04-18T01:49:12.663772Z"
    }
   },
   "outputs": [],
   "source": [
    "n = len(numbers)"
   ]
  },
  {
   "cell_type": "code",
   "execution_count": 11,
   "id": "0dfb74bc",
   "metadata": {
    "ExecuteTime": {
     "end_time": "2022-04-18T01:52:06.903104Z",
     "start_time": "2022-04-18T01:52:06.897986Z"
    }
   },
   "outputs": [],
   "source": [
    "answer = 0"
   ]
  },
  {
   "cell_type": "code",
   "execution_count": 13,
   "id": "b57c78b7",
   "metadata": {
    "ExecuteTime": {
     "end_time": "2022-04-18T01:52:21.928928Z",
     "start_time": "2022-04-18T01:52:21.920695Z"
    }
   },
   "outputs": [],
   "source": [
    "def dfs(idx, result):\n",
    "    if idx == n:\n",
    "        if result == target:\n",
    "            global answer\n",
    "            answer += 1\n",
    "            return\n",
    "    else:\n",
    "        dfs(idx+1, result+numbers[idx])\n",
    "        dfs(idx+1, result-numbers[idx])"
   ]
  },
  {
   "cell_type": "code",
   "execution_count": 14,
   "id": "de01b031",
   "metadata": {
    "ExecuteTime": {
     "end_time": "2022-04-18T01:52:23.508843Z",
     "start_time": "2022-04-18T01:52:23.490613Z"
    }
   },
   "outputs": [],
   "source": [
    "dfs(0,0)"
   ]
  },
  {
   "cell_type": "code",
   "execution_count": 15,
   "id": "916e69f8",
   "metadata": {
    "ExecuteTime": {
     "end_time": "2022-04-18T01:52:25.814661Z",
     "start_time": "2022-04-18T01:52:25.781888Z"
    }
   },
   "outputs": [
    {
     "data": {
      "text/plain": [
       "2"
      ]
     },
     "execution_count": 15,
     "metadata": {},
     "output_type": "execute_result"
    }
   ],
   "source": [
    "answer"
   ]
  },
  {
   "cell_type": "markdown",
   "id": "48ffb468",
   "metadata": {},
   "source": [
    "solution"
   ]
  },
  {
   "cell_type": "code",
   "execution_count": null,
   "id": "78eb3c91",
   "metadata": {},
   "outputs": [],
   "source": [
    "def solution(numbers, target):\n",
    "    n = len(numbers)\n",
    "    answer = 0\n",
    "    def dfs(idx, result):\n",
    "        if idx == n:\n",
    "            if result == target:\n",
    "                nonlocal answer\n",
    "                answer += 1\n",
    "                return\n",
    "        else:\n",
    "            dfs(idx+1, result+numbers[idx])\n",
    "            dfs(idx+1, result-numbers[idx])\n",
    "    dfs(0,0)\n",
    "    return answer"
   ]
  }
 ],
 "metadata": {
  "kernelspec": {
   "display_name": "Python 3",
   "language": "python",
   "name": "python3"
  },
  "language_info": {
   "codemirror_mode": {
    "name": "ipython",
    "version": 3
   },
   "file_extension": ".py",
   "mimetype": "text/x-python",
   "name": "python",
   "nbconvert_exporter": "python",
   "pygments_lexer": "ipython3",
   "version": "3.8.8"
  },
  "toc": {
   "base_numbering": 1,
   "nav_menu": {},
   "number_sections": true,
   "sideBar": true,
   "skip_h1_title": false,
   "title_cell": "Table of Contents",
   "title_sidebar": "Contents",
   "toc_cell": false,
   "toc_position": {},
   "toc_section_display": true,
   "toc_window_display": false
  },
  "varInspector": {
   "cols": {
    "lenName": 16,
    "lenType": 16,
    "lenVar": 40
   },
   "kernels_config": {
    "python": {
     "delete_cmd_postfix": "",
     "delete_cmd_prefix": "del ",
     "library": "var_list.py",
     "varRefreshCmd": "print(var_dic_list())"
    },
    "r": {
     "delete_cmd_postfix": ") ",
     "delete_cmd_prefix": "rm(",
     "library": "var_list.r",
     "varRefreshCmd": "cat(var_dic_list()) "
    }
   },
   "types_to_exclude": [
    "module",
    "function",
    "builtin_function_or_method",
    "instance",
    "_Feature"
   ],
   "window_display": false
  }
 },
 "nbformat": 4,
 "nbformat_minor": 5
}
