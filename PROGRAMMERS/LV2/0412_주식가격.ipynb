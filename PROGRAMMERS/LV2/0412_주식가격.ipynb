{
 "cells": [
  {
   "cell_type": "markdown",
   "id": "83bc2535",
   "metadata": {},
   "source": [
    "https://programmers.co.kr/learn/courses/30/lessons/42584"
   ]
  },
  {
   "cell_type": "markdown",
   "id": "cbc57f2e",
   "metadata": {},
   "source": [
    "초 단위로 기록된 주식가격이 담긴 배열 prices가 매개변수로 주어질 때, 가격이 떨어지지 않은 기간은 몇 초인지를 return 하도록 solution 함수를 완성하세요.\n",
    "\n",
    "제한사항\n",
    "- prices의 각 가격은 1 이상 10,000 이하인 자연수입니다.\n",
    "- prices의 길이는 2 이상 100,000 이하입니다."
   ]
  },
  {
   "cell_type": "code",
   "execution_count": 1,
   "id": "4a687450",
   "metadata": {
    "ExecuteTime": {
     "end_time": "2022-04-12T07:30:45.884757Z",
     "start_time": "2022-04-12T07:30:45.877982Z"
    }
   },
   "outputs": [],
   "source": [
    "prices = [1, 2, 3, 2, 3]\n",
    "# [4, 3, 1, 1, 0]"
   ]
  },
  {
   "cell_type": "code",
   "execution_count": 11,
   "id": "8d1e634f",
   "metadata": {
    "ExecuteTime": {
     "end_time": "2022-04-12T07:46:44.031568Z",
     "start_time": "2022-04-12T07:46:44.013354Z"
    }
   },
   "outputs": [],
   "source": [
    "answer = []\n",
    "L = len(prices)"
   ]
  },
  {
   "cell_type": "code",
   "execution_count": 12,
   "id": "61d37a2a",
   "metadata": {
    "ExecuteTime": {
     "end_time": "2022-04-12T07:48:03.837135Z",
     "start_time": "2022-04-12T07:48:03.821599Z"
    }
   },
   "outputs": [],
   "source": [
    "for i in range(L-1):\n",
    "    time = L - i -1\n",
    "    for j in range(i+1, L):\n",
    "        if prices[j] < prices[i]:\n",
    "            time = j - i\n",
    "            break\n",
    "    answer.append(time)\n",
    "answer.append(0)"
   ]
  },
  {
   "cell_type": "code",
   "execution_count": 13,
   "id": "748ba032",
   "metadata": {
    "ExecuteTime": {
     "end_time": "2022-04-12T07:48:05.260101Z",
     "start_time": "2022-04-12T07:48:05.245247Z"
    }
   },
   "outputs": [
    {
     "data": {
      "text/plain": [
       "[4, 3, 1, 1, 0]"
      ]
     },
     "execution_count": 13,
     "metadata": {},
     "output_type": "execute_result"
    }
   ],
   "source": [
    "answer"
   ]
  },
  {
   "cell_type": "markdown",
   "id": "e3971019",
   "metadata": {},
   "source": [
    "solution"
   ]
  },
  {
   "cell_type": "code",
   "execution_count": null,
   "id": "53f82102",
   "metadata": {},
   "outputs": [],
   "source": [
    "def solution(prices):\n",
    "    answer = []\n",
    "    L = len(prices)\n",
    "    for i in range(L-1):\n",
    "        time = L - i -1\n",
    "        for j in range(i+1, L):\n",
    "            if prices[j] < prices[i]:\n",
    "                time = j - i\n",
    "                break\n",
    "        answer.append(time)\n",
    "    answer.append(0)\n",
    "    return answer"
   ]
  }
 ],
 "metadata": {
  "kernelspec": {
   "display_name": "Python 3",
   "language": "python",
   "name": "python3"
  },
  "language_info": {
   "codemirror_mode": {
    "name": "ipython",
    "version": 3
   },
   "file_extension": ".py",
   "mimetype": "text/x-python",
   "name": "python",
   "nbconvert_exporter": "python",
   "pygments_lexer": "ipython3",
   "version": "3.8.8"
  },
  "toc": {
   "base_numbering": 1,
   "nav_menu": {},
   "number_sections": true,
   "sideBar": true,
   "skip_h1_title": false,
   "title_cell": "Table of Contents",
   "title_sidebar": "Contents",
   "toc_cell": false,
   "toc_position": {},
   "toc_section_display": true,
   "toc_window_display": false
  },
  "varInspector": {
   "cols": {
    "lenName": 16,
    "lenType": 16,
    "lenVar": 40
   },
   "kernels_config": {
    "python": {
     "delete_cmd_postfix": "",
     "delete_cmd_prefix": "del ",
     "library": "var_list.py",
     "varRefreshCmd": "print(var_dic_list())"
    },
    "r": {
     "delete_cmd_postfix": ") ",
     "delete_cmd_prefix": "rm(",
     "library": "var_list.r",
     "varRefreshCmd": "cat(var_dic_list()) "
    }
   },
   "types_to_exclude": [
    "module",
    "function",
    "builtin_function_or_method",
    "instance",
    "_Feature"
   ],
   "window_display": false
  }
 },
 "nbformat": 4,
 "nbformat_minor": 5
}
