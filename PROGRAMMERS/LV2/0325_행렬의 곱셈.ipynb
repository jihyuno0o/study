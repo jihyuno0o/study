{
 "cells": [
  {
   "cell_type": "markdown",
   "id": "432e365b",
   "metadata": {},
   "source": [
    "https://programmers.co.kr/learn/courses/30/lessons/12949"
   ]
  },
  {
   "cell_type": "markdown",
   "id": "bfb31eee",
   "metadata": {},
   "source": [
    "2차원 행렬 arr1과 arr2를 입력받아, arr1에 arr2를 곱한 결과를 반환하는 함수, solution을 완성해주세요.\n",
    "\n",
    "제한 조건\n",
    "- 행렬 arr1, arr2의 행과 열의 길이는 2 이상 100 이하입니다.\n",
    "- 행렬 arr1, arr2의 원소는 -10 이상 20 이하인 자연수입니다.\n",
    "- 곱할 수 있는 배열만 주어집니다."
   ]
  },
  {
   "cell_type": "code",
   "execution_count": 84,
   "id": "a0ad8402",
   "metadata": {
    "ExecuteTime": {
     "end_time": "2022-03-24T06:34:45.544273Z",
     "start_time": "2022-03-24T06:34:45.532981Z"
    }
   },
   "outputs": [],
   "source": [
    "arr1 = [[1, 4], [3, 2], [4, 1]]\n",
    "arr2 = [[3, 3], [3, 3]]\n",
    "# [[15, 15], [15, 15], [15, 15]]"
   ]
  },
  {
   "cell_type": "code",
   "execution_count": 85,
   "id": "41078201",
   "metadata": {
    "ExecuteTime": {
     "end_time": "2022-03-24T06:34:49.018839Z",
     "start_time": "2022-03-24T06:34:49.010862Z"
    }
   },
   "outputs": [],
   "source": [
    "arr1 = [[2, 3, 2], [4, 2, 4], [3, 1, 4]]\n",
    "arr2 = [[5, 4, 3], [2, 4, 1], [3, 1, 1]]\n",
    "# [[22, 22, 11], [36, 28, 18], [29, 20, 14]]"
   ]
  },
  {
   "cell_type": "code",
   "execution_count": 76,
   "id": "b770a2a6",
   "metadata": {
    "ExecuteTime": {
     "end_time": "2022-03-24T03:27:56.425214Z",
     "start_time": "2022-03-24T03:27:56.402234Z"
    }
   },
   "outputs": [
    {
     "data": {
      "text/plain": [
       "(3, 3, 3, 3)"
      ]
     },
     "execution_count": 76,
     "metadata": {},
     "output_type": "execute_result"
    }
   ],
   "source": [
    "arr1_r, arr1_c = len(arr1), len(arr1[0])\n",
    "arr2_r, arr2_c = len(arr2), len(arr2[0])\n",
    "\n",
    "arr1_r, arr1_c, arr2_r, arr2_c"
   ]
  },
  {
   "cell_type": "code",
   "execution_count": 77,
   "id": "f91c8f50",
   "metadata": {
    "ExecuteTime": {
     "end_time": "2022-03-24T03:27:57.461261Z",
     "start_time": "2022-03-24T03:27:57.451724Z"
    }
   },
   "outputs": [
    {
     "data": {
      "text/plain": [
       "[[0, 0, 0], [0, 0, 0], [0, 0, 0]]"
      ]
     },
     "execution_count": 77,
     "metadata": {},
     "output_type": "execute_result"
    }
   ],
   "source": [
    "answer = [[0] * arr2_c for _ in range(arr1_r)]\n",
    "answer"
   ]
  },
  {
   "cell_type": "code",
   "execution_count": 78,
   "id": "f50475d0",
   "metadata": {
    "ExecuteTime": {
     "end_time": "2022-03-24T03:27:57.698253Z",
     "start_time": "2022-03-24T03:27:57.684059Z"
    }
   },
   "outputs": [
    {
     "name": "stdout",
     "output_type": "stream",
     "text": [
      "0 0\n",
      "0 1\n",
      "0 2\n",
      "1 0\n",
      "1 1\n",
      "1 2\n",
      "2 0\n",
      "2 1\n",
      "2 2\n"
     ]
    }
   ],
   "source": [
    "for i in range(arr1_r):\n",
    "    for j in range(arr2_c):\n",
    "        print(i,j)\n",
    "        temp = 0\n",
    "        for k in range(arr1_c):\n",
    "            temp += arr1[i][k] * arr2[k][j]\n",
    "        answer[i][j] = temp"
   ]
  },
  {
   "cell_type": "code",
   "execution_count": 79,
   "id": "d622a2d6",
   "metadata": {
    "ExecuteTime": {
     "end_time": "2022-03-24T03:27:58.166577Z",
     "start_time": "2022-03-24T03:27:58.158602Z"
    }
   },
   "outputs": [
    {
     "data": {
      "text/plain": [
       "[[22, 22, 11], [36, 28, 18], [29, 20, 14]]"
      ]
     },
     "execution_count": 79,
     "metadata": {},
     "output_type": "execute_result"
    }
   ],
   "source": [
    "answer"
   ]
  },
  {
   "cell_type": "markdown",
   "id": "4e2b3625",
   "metadata": {},
   "source": [
    "solution"
   ]
  },
  {
   "cell_type": "code",
   "execution_count": null,
   "id": "640773c8",
   "metadata": {},
   "outputs": [],
   "source": [
    "def solution(arr1, arr2):\n",
    "    arr1_r, arr1_c = len(arr1), len(arr1[0])\n",
    "    arr2_r, arr2_c = len(arr2), len(arr2[0])\n",
    "    \n",
    "    answer = [[0] * arr2_c for _ in range(arr1_r)]\n",
    "    for i in range(arr1_r):\n",
    "        for j in range(arr2_c):\n",
    "            print(i,j)\n",
    "            temp = 0\n",
    "            for k in range(arr1_c):\n",
    "                temp += arr1[i][k] * arr2[k][j]\n",
    "            answer[i][j] = temp\n",
    "            \n",
    "    return answer"
   ]
  }
 ],
 "metadata": {
  "kernelspec": {
   "display_name": "Python 3",
   "language": "python",
   "name": "python3"
  },
  "language_info": {
   "codemirror_mode": {
    "name": "ipython",
    "version": 3
   },
   "file_extension": ".py",
   "mimetype": "text/x-python",
   "name": "python",
   "nbconvert_exporter": "python",
   "pygments_lexer": "ipython3",
   "version": "3.8.8"
  },
  "toc": {
   "base_numbering": 1,
   "nav_menu": {},
   "number_sections": true,
   "sideBar": true,
   "skip_h1_title": false,
   "title_cell": "Table of Contents",
   "title_sidebar": "Contents",
   "toc_cell": false,
   "toc_position": {},
   "toc_section_display": true,
   "toc_window_display": false
  },
  "varInspector": {
   "cols": {
    "lenName": 16,
    "lenType": 16,
    "lenVar": 40
   },
   "kernels_config": {
    "python": {
     "delete_cmd_postfix": "",
     "delete_cmd_prefix": "del ",
     "library": "var_list.py",
     "varRefreshCmd": "print(var_dic_list())"
    },
    "r": {
     "delete_cmd_postfix": ") ",
     "delete_cmd_prefix": "rm(",
     "library": "var_list.r",
     "varRefreshCmd": "cat(var_dic_list()) "
    }
   },
   "types_to_exclude": [
    "module",
    "function",
    "builtin_function_or_method",
    "instance",
    "_Feature"
   ],
   "window_display": false
  }
 },
 "nbformat": 4,
 "nbformat_minor": 5
}
