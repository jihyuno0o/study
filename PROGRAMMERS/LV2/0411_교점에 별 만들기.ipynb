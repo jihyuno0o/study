{
 "cells": [
  {
   "cell_type": "markdown",
   "id": "97522af6",
   "metadata": {},
   "source": [
    "https://programmers.co.kr/learn/courses/30/lessons/87377"
   ]
  },
  {
   "cell_type": "markdown",
   "id": "4b9983f5",
   "metadata": {},
   "source": [
    "Ax + By + C = 0으로 표현할 수 있는 n개의 직선이 주어질 때, 이 직선의 교점 중 정수 좌표에 별을 그리려 합니다.\n",
    "\n",
    "예를 들어, 다음과 같은 직선 5개를\n",
    "\n",
    "- 2x - y + 4 = 0\n",
    "- -2x - y + 4 = 0\n",
    "- -y + 1 = 0\n",
    "- 5x - 8y - 12 = 0\n",
    "- 5x + 8y + 12 = 0\n",
    "\n",
    "좌표 평면 위에 그리면 아래 그림과 같습니다."
   ]
  },
  {
   "cell_type": "markdown",
   "id": "92ee9705",
   "metadata": {},
   "source": [
    "이때, 모든 교점의 좌표는 (4, 1), (4, -4), (-4, -4), (-4, 1), (0, 4), (1.5, 1.0), (2.1, -0.19), (0, -1.5), (-2.1, -0.19), (-1.5, 1.0)입니다. 이 중 정수로만 표현되는 좌표는 (4, 1), (4, -4), (-4, -4), (-4, 1), (0, 4)입니다."
   ]
  },
  {
   "cell_type": "markdown",
   "id": "b4f1d3e2",
   "metadata": {
    "ExecuteTime": {
     "end_time": "2022-04-11T02:25:54.355652Z",
     "start_time": "2022-04-11T02:25:54.333743Z"
    }
   },
   "source": [
    "별이 그려진 부분은 *, 빈 공간(격자선이 교차하는 지점)은 .으로 표현하면 다음과 같습니다.\n",
    "이때 격자판은 무한히 넓으니 모든 별을 포함하는 최소한의 크기만 나타내면 됩니다."
   ]
  },
  {
   "attachments": {
    "image.png": {
     "image/png": "[encoded data removed]"
    }
   },
   "cell_type": "markdown",
   "id": "b68c643b",
   "metadata": {},
   "source": [
    "![image.png](attachment:image.png)"
   ]
  },
  {
   "cell_type": "markdown",
   "id": "7884f968",
   "metadata": {
    "ExecuteTime": {
     "end_time": "2022-04-11T02:26:47.585548Z",
     "start_time": "2022-04-11T02:26:47.576347Z"
    }
   },
   "source": [
    "제한사항\n",
    "- line의 세로(행) 길이는 2 이상 1,000 이하인 자연수입니다.\n",
    "    - line의 가로(열) 길이는 3입니다.\n",
    "    - line의 각 원소는 [A, B, C] 형태입니다.\n",
    "    - A, B, C는 -100,000 이상 100,000 이하인 정수입니다.\n",
    "    - 무수히 많은 교점이 생기는 직선 쌍은 주어지지 않습니다.\n",
    "    - A = 0이면서 B = 0인 경우는 주어지지 않습니다.\n",
    "- 정답은 1,000 * 1,000 크기 이내에서 표현됩니다.\n",
    "- 별이 한 개 이상 그려지는 입력만 주어집니다.\n"
   ]
  },
  {
   "cell_type": "code",
   "execution_count": 1,
   "id": "685986e8",
   "metadata": {
    "ExecuteTime": {
     "end_time": "2022-04-11T08:44:20.941158Z",
     "start_time": "2022-04-11T08:44:20.936175Z"
    }
   },
   "outputs": [],
   "source": [
    "line = [[2, -1, 4], [-2, -1, 4], [0, -1, 1], [5, -8, -12], [5, 8, 12]]\n",
    "# [\"....*....\", \".........\", \".........\", \"*.......*\", \".........\", \".........\", \".........\", \".........\", \"*.......*\"]"
   ]
  },
  {
   "cell_type": "code",
   "execution_count": null,
   "id": "a0a1e3b9",
   "metadata": {
    "ExecuteTime": {
     "end_time": "2022-04-11T07:38:52.641704Z",
     "start_time": "2022-04-11T07:38:52.631991Z"
    }
   },
   "outputs": [],
   "source": [
    "line = [[0, 1, -1], [1, 0, -1], [1, 0, 1]]\n",
    "#line = [[1, -1, 0], [2, -1, 0]]\n",
    "#line = [[1, -1, 0], [2, -1, 0], [4, -1, 0]]"
   ]
  },
  {
   "attachments": {
    "image.png": {
     "image/png": "[encoded data removed]"
    }
   },
   "cell_type": "markdown",
   "id": "0baca20a",
   "metadata": {},
   "source": [
    "참고 사항\n",
    "Ax + By + E = 0\n",
    "Cx + Dy + F = 0\n",
    "두 직선의 교점이 유일하게 존재할 경우, 그 교점은 다음과 같습니다.\n",
    "\n",
    "![image.png](attachment:image.png)RisingStarExpression.png\n",
    "\n",
    "또, AD - BC = 0인 경우 두 직선은 평행 또는 일치합니다."
   ]
  },
  {
   "cell_type": "code",
   "execution_count": 2,
   "id": "455e7234",
   "metadata": {
    "ExecuteTime": {
     "end_time": "2022-04-11T08:44:22.154930Z",
     "start_time": "2022-04-11T08:44:22.149328Z"
    }
   },
   "outputs": [],
   "source": [
    "star = []\n",
    "square = [1000,-1000,1000,-1000] # min_x, max_x, min_y, max_y 저장"
   ]
  },
  {
   "cell_type": "code",
   "execution_count": 3,
   "id": "9fb002a6",
   "metadata": {
    "ExecuteTime": {
     "end_time": "2022-04-11T08:44:24.469358Z",
     "start_time": "2022-04-11T08:44:24.451188Z"
    }
   },
   "outputs": [],
   "source": [
    "from itertools import combinations"
   ]
  },
  {
   "cell_type": "code",
   "execution_count": 4,
   "id": "7fe2bfe6",
   "metadata": {
    "ExecuteTime": {
     "end_time": "2022-04-11T08:44:24.847776Z",
     "start_time": "2022-04-11T08:44:24.830267Z"
    }
   },
   "outputs": [],
   "source": [
    "for lines in combinations(line, 2):\n",
    "    a, b, e = lines[0][0], lines[0][1], lines[0][2]\n",
    "    c, d, f = lines[1][0], lines[1][1], lines[1][2]\n",
    "    bottom = a*d - b*c\n",
    "    if bottom == 0: continue # AD - BC = 0인 경우 두 직선은 평행 또는 일치\n",
    "    x, y = (b*f - e*d) / bottom, (e*c - a*f) / bottom\n",
    "    if x % 1 != 0 or y % 1 != 0: continue  # 정수로만 표현되는 좌표 찾기\n",
    "    x, y = int(x), int(y)\n",
    "    star.append([x, y])\n",
    "    square[0], square[1], square[2], square[3] = min(square[0], x), max(square[1], x), min(square[2], y), max(square[3], y)"
   ]
  },
  {
   "cell_type": "code",
   "execution_count": 5,
   "id": "665a4cb4",
   "metadata": {
    "ExecuteTime": {
     "end_time": "2022-04-11T08:44:25.082259Z",
     "start_time": "2022-04-11T08:44:25.059181Z"
    }
   },
   "outputs": [
    {
     "data": {
      "text/plain": [
       "[[0, 4], [-4, -4], [4, -4], [4, 1], [-4, 1]]"
      ]
     },
     "execution_count": 5,
     "metadata": {},
     "output_type": "execute_result"
    }
   ],
   "source": [
    "star"
   ]
  },
  {
   "cell_type": "code",
   "execution_count": 6,
   "id": "9f33c3e5",
   "metadata": {
    "ExecuteTime": {
     "end_time": "2022-04-11T08:44:25.633735Z",
     "start_time": "2022-04-11T08:44:25.616650Z"
    }
   },
   "outputs": [
    {
     "data": {
      "text/plain": [
       "[-4, 4, -4, 4]"
      ]
     },
     "execution_count": 6,
     "metadata": {},
     "output_type": "execute_result"
    }
   ],
   "source": [
    "square"
   ]
  },
  {
   "cell_type": "code",
   "execution_count": 7,
   "id": "5917f373",
   "metadata": {
    "ExecuteTime": {
     "end_time": "2022-04-11T08:44:25.820236Z",
     "start_time": "2022-04-11T08:44:25.807133Z"
    },
    "scrolled": true
   },
   "outputs": [
    {
     "data": {
      "text/plain": [
       "[['.', '.', '.', '.', '.', '.', '.', '.', '.'],\n",
       " ['.', '.', '.', '.', '.', '.', '.', '.', '.'],\n",
       " ['.', '.', '.', '.', '.', '.', '.', '.', '.'],\n",
       " ['.', '.', '.', '.', '.', '.', '.', '.', '.'],\n",
       " ['.', '.', '.', '.', '.', '.', '.', '.', '.'],\n",
       " ['.', '.', '.', '.', '.', '.', '.', '.', '.'],\n",
       " ['.', '.', '.', '.', '.', '.', '.', '.', '.'],\n",
       " ['.', '.', '.', '.', '.', '.', '.', '.', '.'],\n",
       " ['.', '.', '.', '.', '.', '.', '.', '.', '.']]"
      ]
     },
     "execution_count": 7,
     "metadata": {},
     "output_type": "execute_result"
    }
   ],
   "source": [
    "dots = [[\".\"] * (square[1]-square[0] + 1) for _ in range(square[3]-square[2] + 1)]\n",
    "dots"
   ]
  },
  {
   "cell_type": "code",
   "execution_count": 8,
   "id": "968742a1",
   "metadata": {
    "ExecuteTime": {
     "end_time": "2022-04-11T08:44:29.199503Z",
     "start_time": "2022-04-11T08:44:29.186568Z"
    }
   },
   "outputs": [],
   "source": [
    "for dot in star:\n",
    "    if square[3]-square[2] == 0: dots[0][dot[0] + abs(square[0])] = '*'\n",
    "    elif square[1]-square[0] == 0: dot[dot[1] + abs(square[2])][0] = '*'\n",
    "    else: dots[dot[1] + abs(square[2])][dot[0] + abs(square[0])] = '*'"
   ]
  },
  {
   "cell_type": "code",
   "execution_count": 9,
   "id": "e9ae1171",
   "metadata": {
    "ExecuteTime": {
     "end_time": "2022-04-11T08:44:29.369386Z",
     "start_time": "2022-04-11T08:44:29.350804Z"
    }
   },
   "outputs": [
    {
     "data": {
      "text/plain": [
       "[['*', '.', '.', '.', '.', '.', '.', '.', '*'],\n",
       " ['.', '.', '.', '.', '.', '.', '.', '.', '.'],\n",
       " ['.', '.', '.', '.', '.', '.', '.', '.', '.'],\n",
       " ['.', '.', '.', '.', '.', '.', '.', '.', '.'],\n",
       " ['.', '.', '.', '.', '.', '.', '.', '.', '.'],\n",
       " ['*', '.', '.', '.', '.', '.', '.', '.', '*'],\n",
       " ['.', '.', '.', '.', '.', '.', '.', '.', '.'],\n",
       " ['.', '.', '.', '.', '.', '.', '.', '.', '.'],\n",
       " ['.', '.', '.', '.', '*', '.', '.', '.', '.']]"
      ]
     },
     "execution_count": 9,
     "metadata": {},
     "output_type": "execute_result"
    }
   ],
   "source": [
    "dots"
   ]
  },
  {
   "cell_type": "code",
   "execution_count": 10,
   "id": "fc8392e4",
   "metadata": {
    "ExecuteTime": {
     "end_time": "2022-04-11T08:44:29.527522Z",
     "start_time": "2022-04-11T08:44:29.512338Z"
    }
   },
   "outputs": [],
   "source": [
    "answer = []\n",
    "for idx in range(len(dots)-1,-1,-1):\n",
    "    answer.append(''.join(dots[idx]))"
   ]
  },
  {
   "cell_type": "code",
   "execution_count": 11,
   "id": "b98a3516",
   "metadata": {
    "ExecuteTime": {
     "end_time": "2022-04-11T08:44:30.174848Z",
     "start_time": "2022-04-11T08:44:30.168648Z"
    }
   },
   "outputs": [
    {
     "data": {
      "text/plain": [
       "['....*....',\n",
       " '.........',\n",
       " '.........',\n",
       " '*.......*',\n",
       " '.........',\n",
       " '.........',\n",
       " '.........',\n",
       " '.........',\n",
       " '*.......*']"
      ]
     },
     "execution_count": 11,
     "metadata": {},
     "output_type": "execute_result"
    }
   ],
   "source": [
    "answer"
   ]
  },
  {
   "cell_type": "markdown",
   "id": "907909de",
   "metadata": {},
   "source": [
    "solution"
   ]
  },
  {
   "cell_type": "code",
   "execution_count": 12,
   "id": "610e197f",
   "metadata": {
    "ExecuteTime": {
     "end_time": "2022-04-11T08:44:33.539500Z",
     "start_time": "2022-04-11T08:44:33.516793Z"
    }
   },
   "outputs": [],
   "source": [
    "def solution(line):\n",
    "    answer = []\n",
    "    star = []\n",
    "    square = [1000,-1000,1000,-1000] # min_x, max_x, min_y, max_y 저장\n",
    "    \n",
    "    from itertools import combinations\n",
    "    for lines in combinations(line, 2):\n",
    "        a, b, e = lines[0][0], lines[0][1], lines[0][2]\n",
    "        c, d, f = lines[1][0], lines[1][1], lines[1][2]\n",
    "        bottom = a*d - b*c\n",
    "        if bottom == 0: continue # AD - BC = 0인 경우 두 직선은 평행 또는 일치\n",
    "        x, y = (b*f - e*d) / bottom, (e*c - a*f) / bottom\n",
    "        if x % 1 != 0 or y % 1 != 0: continue  # 정수로만 표현되는 좌표 찾기\n",
    "        x, y = int(x), int(y)\n",
    "        star.append([x, y])\n",
    "        square[0], square[1], square[2], square[3] = min(square[0], x), max(square[1], x), min(square[2], y), max(square[3], y)\n",
    "    \n",
    "    dots = [[\".\"] * (square[1]-square[0] + 1) for _ in range(square[3]-square[2] + 1)]\n",
    "    \n",
    "    for dot in star:\n",
    "        if square[3]-square[2] == 0: dots[0][dot[0] + abs(square[0])] = '*'\n",
    "        elif square[1]-square[0] == 0: dot[dot[1] + abs(square[2])][0] = '*'\n",
    "        else: dots[dot[1] + abs(square[2])][dot[0] + abs(square[0])] = '*'\n",
    "    \n",
    "    for idx in range(len(dots)-1,-1,-1):\n",
    "        answer.append(''.join(dots[idx]))\n",
    "    return answer"
   ]
  },
  {
   "cell_type": "markdown",
   "id": "2ab8f3f8",
   "metadata": {},
   "source": [
    "다른 사람 코드 보고 베낀 코드.."
   ]
  },
  {
   "cell_type": "code",
   "execution_count": 13,
   "id": "c4a3d479",
   "metadata": {
    "ExecuteTime": {
     "end_time": "2022-04-11T08:44:34.579616Z",
     "start_time": "2022-04-11T08:44:34.561631Z"
    }
   },
   "outputs": [],
   "source": [
    "def solution(line):\n",
    "    INF = float('inf')\n",
    "    mark, L = [], len(line)\n",
    "    minx, maxx, miny, maxy = INF, -INF, INF, -INF\n",
    "    for i in range(L):\n",
    "        for j in range(i+1, L):\n",
    "            A,B,E,C,D,F = *line[i], *line[j] # 언패킹 리스트 하나씩 풀때는 * 안써도됨\n",
    "            bottom = A*D - B*C\n",
    "            if bottom == 0: continue # AD - BC = 0인 경우 두 직선은 평행 또는 일치\n",
    "            x, y = (B*F - E*D) / bottom, (E*C - A*F) / bottom\n",
    "            if x % 1 != 0 or y % 1 != 0: continue  # 정수로만 표현되는 좌표 찾기\n",
    "            x, y = int(x), int(y)\n",
    "            minx, maxx, miny, maxy = min(minx,x), max(maxx,x), min(miny,y), max(maxy,y)\n",
    "            mark.append((x,y))\n",
    "    dots = [['.' for _ in range(maxx-minx+1)] for _ in range(maxy-miny+1)]\n",
    "    for x,y in mark:\n",
    "        dots[maxy-y][x-minx] = '*' #좌표 뒤집어야함\n",
    "    \n",
    "    return [''.join(d) for d in dots]"
   ]
  },
  {
   "cell_type": "code",
   "execution_count": 15,
   "id": "d68485dc",
   "metadata": {
    "ExecuteTime": {
     "end_time": "2022-04-11T08:44:41.484324Z",
     "start_time": "2022-04-11T08:44:41.464720Z"
    }
   },
   "outputs": [
    {
     "data": {
      "text/plain": [
       "['....*....',\n",
       " '.........',\n",
       " '.........',\n",
       " '*.......*',\n",
       " '.........',\n",
       " '.........',\n",
       " '.........',\n",
       " '.........',\n",
       " '*.......*']"
      ]
     },
     "execution_count": 15,
     "metadata": {},
     "output_type": "execute_result"
    }
   ],
   "source": [
    "solution(line)"
   ]
  },
  {
   "cell_type": "code",
   "execution_count": null,
   "id": "4a860efd",
   "metadata": {},
   "outputs": [],
   "source": []
  }
 ],
 "metadata": {
  "kernelspec": {
   "display_name": "Python 3",
   "language": "python",
   "name": "python3"
  },
  "language_info": {
   "codemirror_mode": {
    "name": "ipython",
    "version": 3
   },
   "file_extension": ".py",
   "mimetype": "text/x-python",
   "name": "python",
   "nbconvert_exporter": "python",
   "pygments_lexer": "ipython3",
   "version": "3.8.8"
  },
  "toc": {
   "base_numbering": 1,
   "nav_menu": {},
   "number_sections": true,
   "sideBar": true,
   "skip_h1_title": false,
   "title_cell": "Table of Contents",
   "title_sidebar": "Contents",
   "toc_cell": false,
   "toc_position": {},
   "toc_section_display": true,
   "toc_window_display": false
  },
  "varInspector": {
   "cols": {
    "lenName": 16,
    "lenType": 16,
    "lenVar": 40
   },
   "kernels_config": {
    "python": {
     "delete_cmd_postfix": "",
     "delete_cmd_prefix": "del ",
     "library": "var_list.py",
     "varRefreshCmd": "print(var_dic_list())"
    },
    "r": {
     "delete_cmd_postfix": ") ",
     "delete_cmd_prefix": "rm(",
     "library": "var_list.r",
     "varRefreshCmd": "cat(var_dic_list()) "
    }
   },
   "types_to_exclude": [
    "module",
    "function",
    "builtin_function_or_method",
    "instance",
    "_Feature"
   ],
   "window_display": false
  }
 },
 "nbformat": 4,
 "nbformat_minor": 5
}
