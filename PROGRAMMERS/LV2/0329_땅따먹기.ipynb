{
 "cells": [
  {
   "cell_type": "markdown",
   "id": "ca101f6c",
   "metadata": {},
   "source": [
    "https://programmers.co.kr/learn/courses/30/lessons/12913"
   ]
  },
  {
   "cell_type": "markdown",
   "id": "244cf629",
   "metadata": {},
   "source": [
    "땅따먹기 게임을 하려고 합니다. 땅따먹기 게임의 땅(land)은 총 N행 4열로 이루어져 있고, 모든 칸에는 점수가 쓰여 있습니다. 1행부터 땅을 밟으며 한 행씩 내려올 때, 각 행의 4칸 중 한 칸만 밟으면서 내려와야 합니다. 단, 땅따먹기 게임에는 한 행씩 내려올 때, 같은 열을 연속해서 밟을 수 없는 특수 규칙이 있습니다.\n",
    "\n",
    "예를 들면,\n",
    "\n",
    "| 1 | 2 | 3 | 5 |\n",
    "\n",
    "| 5 | 6 | 7 | 8 |\n",
    "\n",
    "| 4 | 3 | 2 | 1 |\n",
    "\n",
    "로 땅이 주어졌다면, 1행에서 네번째 칸 (5)를 밟았으면, 2행의 네번째 칸 (8)은 밟을 수 없습니다.\n",
    "\n",
    "마지막 행까지 모두 내려왔을 때, 얻을 수 있는 점수의 최대값을 return하는 solution 함수를 완성해 주세요. 위 예의 경우, 1행의 네번째 칸 (5), 2행의 세번째 칸 (7), 3행의 첫번째 칸 (4) 땅을 밟아 16점이 최고점이 되므로 16을 return 하면 됩니다."
   ]
  },
  {
   "cell_type": "markdown",
   "id": "1e46ef3c",
   "metadata": {},
   "source": [
    "제한사항\n",
    "- 행의 개수 N : 100,000 이하의 자연수\n",
    "- 열의 개수는 4개이고, 땅(land)은 2차원 배열로 주어집니다.\n",
    "- 점수 : 100 이하의 자연수"
   ]
  },
  {
   "cell_type": "code",
   "execution_count": 9,
   "id": "9a5a47ab",
   "metadata": {
    "ExecuteTime": {
     "end_time": "2022-03-25T07:00:37.157951Z",
     "start_time": "2022-03-25T07:00:37.148273Z"
    }
   },
   "outputs": [],
   "source": [
    "land = [[1,2,3,5],[5,6,7,8],[4,3,2,1]]\n",
    "# 16"
   ]
  },
  {
   "cell_type": "code",
   "execution_count": 10,
   "id": "165b05ac",
   "metadata": {
    "ExecuteTime": {
     "end_time": "2022-03-25T07:00:37.373579Z",
     "start_time": "2022-03-25T07:00:37.359613Z"
    }
   },
   "outputs": [],
   "source": [
    "answer = 0\n",
    "before_idx = -1"
   ]
  },
  {
   "cell_type": "code",
   "execution_count": 11,
   "id": "8426afac",
   "metadata": {
    "ExecuteTime": {
     "end_time": "2022-03-25T07:00:37.591250Z",
     "start_time": "2022-03-25T07:00:37.568975Z"
    }
   },
   "outputs": [
    {
     "name": "stdout",
     "output_type": "stream",
     "text": [
      "[1, 2, 3, 5]\n",
      "5\n",
      "[5, 6, 7, 8]\n",
      "7\n",
      "[4, 3, 2, 1]\n",
      "4\n"
     ]
    }
   ],
   "source": [
    "for l in land:\n",
    "    print(l)\n",
    "    if l.index(max(l)) == before_idx: # 가장 큰 점수가 이전에 밟았던 칸과 같으면 0으로 처리\n",
    "        l[l.index(max(l))] = 0 \n",
    "\n",
    "    max_point = max(l)\n",
    "    print(max_point)\n",
    "    answer += max_point\n",
    "    before_idx = l.index(max_point)"
   ]
  },
  {
   "cell_type": "code",
   "execution_count": 8,
   "id": "4bffd1ff",
   "metadata": {
    "ExecuteTime": {
     "end_time": "2022-03-25T06:56:55.580261Z",
     "start_time": "2022-03-25T06:56:55.569931Z"
    }
   },
   "outputs": [
    {
     "data": {
      "text/plain": [
       "16"
      ]
     },
     "execution_count": 8,
     "metadata": {},
     "output_type": "execute_result"
    }
   ],
   "source": [
    "answer"
   ]
  },
  {
   "cell_type": "markdown",
   "id": "ab3f7891",
   "metadata": {},
   "source": [
    "코드 돌려보니 다 틀리게 나와서 질문하기 찾아보니\n",
    "\n",
    "land = [[1,2,3,5],[5,6,7,100],[4,3,2,1]]\n",
    "\n",
    "이고 dp 문제임을 인식"
   ]
  },
  {
   "cell_type": "code",
   "execution_count": 19,
   "id": "95cfad69",
   "metadata": {
    "ExecuteTime": {
     "end_time": "2022-03-29T00:30:33.515325Z",
     "start_time": "2022-03-29T00:30:33.501230Z"
    }
   },
   "outputs": [],
   "source": [
    "land = [[1,2,3,5],[5,6,7,100],[4,3,2,1]]"
   ]
  },
  {
   "cell_type": "code",
   "execution_count": 24,
   "id": "0819a382",
   "metadata": {
    "ExecuteTime": {
     "end_time": "2022-03-29T00:31:48.159610Z",
     "start_time": "2022-03-29T00:31:48.133113Z"
    }
   },
   "outputs": [],
   "source": [
    "land = [[1,1,1,1],[2,2,2,3],[3,3,3,6],[4,4,4,7]]"
   ]
  },
  {
   "cell_type": "code",
   "execution_count": 25,
   "id": "63628dd4",
   "metadata": {
    "ExecuteTime": {
     "end_time": "2022-03-29T00:31:48.456158Z",
     "start_time": "2022-03-29T00:31:48.451013Z"
    }
   },
   "outputs": [],
   "source": [
    "answer = 0"
   ]
  },
  {
   "cell_type": "code",
   "execution_count": 26,
   "id": "aa5c840f",
   "metadata": {
    "ExecuteTime": {
     "end_time": "2022-03-29T00:31:48.927314Z",
     "start_time": "2022-03-29T00:31:48.911225Z"
    }
   },
   "outputs": [],
   "source": [
    "n = len(land)"
   ]
  },
  {
   "cell_type": "code",
   "execution_count": 27,
   "id": "3d7570d0",
   "metadata": {
    "ExecuteTime": {
     "end_time": "2022-03-29T00:31:49.653242Z",
     "start_time": "2022-03-29T00:31:49.631684Z"
    }
   },
   "outputs": [
    {
     "name": "stdout",
     "output_type": "stream",
     "text": [
      "[[1, 1, 1, 1], [3, 3, 3, 4], [3, 3, 3, 6], [4, 4, 4, 7]]\n",
      "[[1, 1, 1, 1], [3, 3, 3, 4], [7, 7, 7, 9], [4, 4, 4, 7]]\n",
      "[[1, 1, 1, 1], [3, 3, 3, 4], [7, 7, 7, 9], [13, 13, 13, 14]]\n"
     ]
    }
   ],
   "source": [
    "for i in range(1, n):\n",
    "    land[i][0] += max(land[i-1][1], land[i-1][2], land[i-1][3])\n",
    "    land[i][1] += max(land[i-1][0], land[i-1][2], land[i-1][3])       \n",
    "    land[i][2] += max(land[i-1][0], land[i-1][1], land[i-1][3])\n",
    "    land[i][3] += max(land[i-1][0], land[i-1][1], land[i-1][2])\n",
    "    print(land)\n"
   ]
  },
  {
   "cell_type": "code",
   "execution_count": 28,
   "id": "30620525",
   "metadata": {
    "ExecuteTime": {
     "end_time": "2022-03-29T00:31:50.283690Z",
     "start_time": "2022-03-29T00:31:50.264537Z"
    }
   },
   "outputs": [
    {
     "data": {
      "text/plain": [
       "14"
      ]
     },
     "execution_count": 28,
     "metadata": {},
     "output_type": "execute_result"
    }
   ],
   "source": [
    "answer = max(land[n-1])\n",
    "answer"
   ]
  },
  {
   "cell_type": "code",
   "execution_count": null,
   "id": "606d1e55",
   "metadata": {},
   "outputs": [],
   "source": []
  }
 ],
 "metadata": {
  "kernelspec": {
   "display_name": "Python 3",
   "language": "python",
   "name": "python3"
  },
  "language_info": {
   "codemirror_mode": {
    "name": "ipython",
    "version": 3
   },
   "file_extension": ".py",
   "mimetype": "text/x-python",
   "name": "python",
   "nbconvert_exporter": "python",
   "pygments_lexer": "ipython3",
   "version": "3.8.8"
  },
  "toc": {
   "base_numbering": 1,
   "nav_menu": {},
   "number_sections": true,
   "sideBar": true,
   "skip_h1_title": false,
   "title_cell": "Table of Contents",
   "title_sidebar": "Contents",
   "toc_cell": false,
   "toc_position": {},
   "toc_section_display": true,
   "toc_window_display": false
  },
  "varInspector": {
   "cols": {
    "lenName": 16,
    "lenType": 16,
    "lenVar": 40
   },
   "kernels_config": {
    "python": {
     "delete_cmd_postfix": "",
     "delete_cmd_prefix": "del ",
     "library": "var_list.py",
     "varRefreshCmd": "print(var_dic_list())"
    },
    "r": {
     "delete_cmd_postfix": ") ",
     "delete_cmd_prefix": "rm(",
     "library": "var_list.r",
     "varRefreshCmd": "cat(var_dic_list()) "
    }
   },
   "types_to_exclude": [
    "module",
    "function",
    "builtin_function_or_method",
    "instance",
    "_Feature"
   ],
   "window_display": false
  }
 },
 "nbformat": 4,
 "nbformat_minor": 5
}
