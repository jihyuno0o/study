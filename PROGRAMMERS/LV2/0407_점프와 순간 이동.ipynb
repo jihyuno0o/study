{
 "cells": [
  {
   "cell_type": "markdown",
   "id": "a5d6d7bb",
   "metadata": {},
   "source": [
    "https://programmers.co.kr/learn/courses/30/lessons/12980"
   ]
  },
  {
   "cell_type": "markdown",
   "id": "663ef2a1",
   "metadata": {},
   "source": [
    "OO 연구소는 한 번에 K 칸을 앞으로 점프하거나, (현재까지 온 거리) x 2 에 해당하는 위치로 순간이동을 할 수 있는 특수한 기능을 가진 아이언 슈트를 개발하여 판매하고 있습니다. 이 아이언 슈트는 건전지로 작동되는데, 순간이동을 하면 건전지 사용량이 줄지 않지만, 앞으로 K 칸을 점프하면 K 만큼의 건전지 사용량이 듭니다. 그러므로 아이언 슈트를 착용하고 이동할 때는 순간 이동을 하는 것이 더 효율적입니다. 아이언 슈트 구매자는 아이언 슈트를 착용하고 거리가 N 만큼 떨어져 있는 장소로 가려고 합니다. 단, 건전지 사용량을 줄이기 위해 점프로 이동하는 것은 최소로 하려고 합니다. 아이언 슈트 구매자가 이동하려는 거리 N이 주어졌을 때, 사용해야 하는 건전지 사용량의 최솟값을 return하는 solution 함수를 만들어 주세요.\n",
    "\n",
    "예를 들어 거리가 5만큼 떨어져 있는 장소로 가려고 합니다.\n",
    "아이언 슈트를 입고 거리가 5만큼 떨어져 있는 장소로 갈 수 있는 경우의 수는 여러 가지입니다.\n",
    "\n",
    "- 처음 위치 0 에서 5 칸을 앞으로 점프하면 바로 도착하지만, 건전지 사용량이 5 만큼 듭니다.\n",
    "- 처음 위치 0 에서 2 칸을 앞으로 점프한 다음 순간이동 하면 (현재까지 온 거리 : 2) x 2에 해당하는 위치로 이동할 수 있으므로 위치 4로 이동합니다. 이때 1 칸을 앞으로 점프하면 도착하므로 건전지 사용량이 3 만큼 듭니다.\n",
    "- 처음 위치 0 에서 1 칸을 앞으로 점프한 다음 순간이동 하면 (현재까지 온 거리 : 1) x 2에 해당하는 위치로 이동할 수 있으므로 위치 2로 이동됩니다. 이때 다시 순간이동 하면 (현재까지 온 거리 : 2) x 2 만큼 이동할 수 있으므로 위치 4로 이동합니다. 이때 1 칸을 앞으로 점프하면 도착하므로 건전지 사용량이 2 만큼 듭니다.\n",
    "\n",
    "위의 3가지 경우 거리가 5만큼 떨어져 있는 장소로 가기 위해서 3번째 경우가 건전지 사용량이 가장 적으므로 답은 2가 됩니다."
   ]
  },
  {
   "cell_type": "markdown",
   "id": "bbbc3b6c",
   "metadata": {},
   "source": [
    "제한 사항\n",
    "- 숫자 N: 1 이상 10억 이하의 자연수\n",
    "- 숫자 K: 1 이상의 자연수"
   ]
  },
  {
   "cell_type": "code",
   "execution_count": 19,
   "id": "c1c1faeb",
   "metadata": {
    "ExecuteTime": {
     "end_time": "2022-04-05T04:57:36.920724Z",
     "start_time": "2022-04-05T04:57:36.913648Z"
    }
   },
   "outputs": [],
   "source": [
    "N = 5000\n",
    "# 5"
   ]
  },
  {
   "cell_type": "code",
   "execution_count": 14,
   "id": "72752ed6",
   "metadata": {
    "ExecuteTime": {
     "end_time": "2022-04-05T04:55:39.853260Z",
     "start_time": "2022-04-05T04:55:39.850129Z"
    }
   },
   "outputs": [],
   "source": [
    "answer = 0"
   ]
  },
  {
   "cell_type": "code",
   "execution_count": 15,
   "id": "d3494f7a",
   "metadata": {
    "ExecuteTime": {
     "end_time": "2022-04-05T04:55:40.376777Z",
     "start_time": "2022-04-05T04:55:40.366018Z"
    }
   },
   "outputs": [
    {
     "name": "stdout",
     "output_type": "stream",
     "text": [
      "2500\n",
      "1250\n",
      "625\n",
      "312\n",
      "156\n",
      "78\n",
      "39\n",
      "19\n",
      "9\n",
      "4\n",
      "2\n",
      "1\n"
     ]
    }
   ],
   "source": [
    "while (N > 0):\n",
    "    if N % 2 == 0: \n",
    "        N = N // 2\n",
    "        print(N)\n",
    "    else:\n",
    "        N -= 1\n",
    "        answer += 1"
   ]
  },
  {
   "cell_type": "code",
   "execution_count": 16,
   "id": "f26eb2e3",
   "metadata": {
    "ExecuteTime": {
     "end_time": "2022-04-05T04:55:41.980766Z",
     "start_time": "2022-04-05T04:55:41.969023Z"
    }
   },
   "outputs": [
    {
     "data": {
      "text/plain": [
       "5"
      ]
     },
     "execution_count": 16,
     "metadata": {},
     "output_type": "execute_result"
    }
   ],
   "source": [
    "answer"
   ]
  },
  {
   "cell_type": "markdown",
   "id": "30657e37",
   "metadata": {},
   "source": [
    "solution"
   ]
  },
  {
   "cell_type": "code",
   "execution_count": null,
   "id": "8974c066",
   "metadata": {},
   "outputs": [],
   "source": [
    "def solution(n):\n",
    "    ans = 0\n",
    "    \n",
    "    while (n > 0):\n",
    "        if n % 2 == 0:\n",
    "            n = n//2\n",
    "        else:\n",
    "            n -= 1\n",
    "            ans += 1\n",
    "\n",
    "    return ans"
   ]
  },
  {
   "cell_type": "markdown",
   "id": "2a367ddb",
   "metadata": {},
   "source": [
    "다른 사람 코드"
   ]
  },
  {
   "cell_type": "code",
   "execution_count": 20,
   "id": "4bffc3fb",
   "metadata": {
    "ExecuteTime": {
     "end_time": "2022-04-05T04:57:38.811240Z",
     "start_time": "2022-04-05T04:57:38.796281Z"
    }
   },
   "outputs": [
    {
     "data": {
      "text/plain": [
       "5"
      ]
     },
     "execution_count": 20,
     "metadata": {},
     "output_type": "execute_result"
    }
   ],
   "source": [
    "def solution(n):\n",
    "    return bin(n).count('1')"
   ]
  },
  {
   "cell_type": "code",
   "execution_count": null,
   "id": "03341f87",
   "metadata": {},
   "outputs": [],
   "source": [
    "def solution(n):\n",
    "    answer = 1\n",
    "    while n > 1:\n",
    "        answer += n % 2\n",
    "        n = n // 2\n",
    "    return answer"
   ]
  }
 ],
 "metadata": {
  "kernelspec": {
   "display_name": "Python 3",
   "language": "python",
   "name": "python3"
  },
  "language_info": {
   "codemirror_mode": {
    "name": "ipython",
    "version": 3
   },
   "file_extension": ".py",
   "mimetype": "text/x-python",
   "name": "python",
   "nbconvert_exporter": "python",
   "pygments_lexer": "ipython3",
   "version": "3.8.8"
  },
  "toc": {
   "base_numbering": 1,
   "nav_menu": {},
   "number_sections": true,
   "sideBar": true,
   "skip_h1_title": false,
   "title_cell": "Table of Contents",
   "title_sidebar": "Contents",
   "toc_cell": false,
   "toc_position": {},
   "toc_section_display": true,
   "toc_window_display": false
  },
  "varInspector": {
   "cols": {
    "lenName": 16,
    "lenType": 16,
    "lenVar": 40
   },
   "kernels_config": {
    "python": {
     "delete_cmd_postfix": "",
     "delete_cmd_prefix": "del ",
     "library": "var_list.py",
     "varRefreshCmd": "print(var_dic_list())"
    },
    "r": {
     "delete_cmd_postfix": ") ",
     "delete_cmd_prefix": "rm(",
     "library": "var_list.r",
     "varRefreshCmd": "cat(var_dic_list()) "
    }
   },
   "types_to_exclude": [
    "module",
    "function",
    "builtin_function_or_method",
    "instance",
    "_Feature"
   ],
   "window_display": false
  }
 },
 "nbformat": 4,
 "nbformat_minor": 5
}
