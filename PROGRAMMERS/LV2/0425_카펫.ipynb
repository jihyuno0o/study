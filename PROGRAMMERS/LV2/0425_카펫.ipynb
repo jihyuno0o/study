{
 "cells": [
  {
   "cell_type": "markdown",
   "id": "3c13b736",
   "metadata": {},
   "source": [
    "https://programmers.co.kr/learn/courses/30/lessons/42842"
   ]
  },
  {
   "attachments": {
    "image.png": {
     "image/png": "[encoded data removed]"
    }
   },
   "cell_type": "markdown",
   "id": "b09c44cc",
   "metadata": {},
   "source": [
    "Leo는 카펫을 사러 갔다가 아래 그림과 같이 중앙에는 노란색으로 칠해져 있고 테두리 1줄은 갈색으로 칠해져 있는 격자 모양 카펫을 봤습니다.\n",
    "\n",
    "![image.png](attachment:image.png)\n",
    "\n",
    "Leo는 집으로 돌아와서 아까 본 카펫의 노란색과 갈색으로 색칠된 격자의 개수는 기억했지만, 전체 카펫의 크기는 기억하지 못했습니다.\n",
    "\n",
    "Leo가 본 카펫에서 갈색 격자의 수 brown, 노란색 격자의 수 yellow가 매개변수로 주어질 때 카펫의 가로, 세로 크기를 순서대로 배열에 담아 return 하도록 solution 함수를 작성해주세요."
   ]
  },
  {
   "cell_type": "markdown",
   "id": "2b645d16",
   "metadata": {},
   "source": [
    "제한사항\n",
    "- 갈색 격자의 수 brown은 8 이상 5,000 이하인 자연수입니다.\n",
    "- 노란색 격자의 수 yellow는 1 이상 2,000,000 이하인 자연수입니다.\n",
    "- 카펫의 가로 길이는 세로 길이와 같거나, 세로 길이보다 깁니다."
   ]
  },
  {
   "cell_type": "code",
   "execution_count": 9,
   "id": "85ef3c1b",
   "metadata": {
    "ExecuteTime": {
     "end_time": "2022-04-25T05:04:27.271523Z",
     "start_time": "2022-04-25T05:04:27.253760Z"
    }
   },
   "outputs": [],
   "source": [
    "brown = 24\n",
    "yellow = 24\n",
    "# [8,6]"
   ]
  },
  {
   "cell_type": "code",
   "execution_count": 15,
   "id": "8cd196cc",
   "metadata": {
    "ExecuteTime": {
     "end_time": "2022-04-25T05:06:41.013630Z",
     "start_time": "2022-04-25T05:06:41.007020Z"
    }
   },
   "outputs": [],
   "source": [
    "brown = 8\n",
    "yellow = 1\n",
    "# [3,3]"
   ]
  },
  {
   "cell_type": "code",
   "execution_count": 19,
   "id": "ac8d8cea",
   "metadata": {
    "ExecuteTime": {
     "end_time": "2022-04-25T05:07:50.735660Z",
     "start_time": "2022-04-25T05:07:50.721269Z"
    }
   },
   "outputs": [],
   "source": [
    "for y in range(1, yellow):\n",
    "    print(y)"
   ]
  },
  {
   "cell_type": "code",
   "execution_count": 16,
   "id": "06d8f9b1",
   "metadata": {
    "ExecuteTime": {
     "end_time": "2022-04-25T05:06:45.278583Z",
     "start_time": "2022-04-25T05:06:45.270222Z"
    }
   },
   "outputs": [],
   "source": [
    "carpet = brown + yellow\n",
    "answer = []"
   ]
  },
  {
   "cell_type": "code",
   "execution_count": 11,
   "id": "7ee55bd7",
   "metadata": {
    "ExecuteTime": {
     "end_time": "2022-04-25T05:04:27.765086Z",
     "start_time": "2022-04-25T05:04:27.758138Z"
    }
   },
   "outputs": [],
   "source": [
    "for y in range(1, yellow//2+1):\n",
    "    if yellow % y == 0:\n",
    "        x = yellow // y\n",
    "        if (x+2) * (y+2) == carpet:\n",
    "            answer.append(x+2)\n",
    "            answer.append(y+2)\n",
    "            break"
   ]
  },
  {
   "cell_type": "code",
   "execution_count": 12,
   "id": "39d9b76c",
   "metadata": {
    "ExecuteTime": {
     "end_time": "2022-04-25T05:04:30.396891Z",
     "start_time": "2022-04-25T05:04:30.385915Z"
    }
   },
   "outputs": [
    {
     "data": {
      "text/plain": [
       "[8, 6]"
      ]
     },
     "execution_count": 12,
     "metadata": {},
     "output_type": "execute_result"
    }
   ],
   "source": [
    "answer"
   ]
  },
  {
   "cell_type": "markdown",
   "id": "89f46718",
   "metadata": {},
   "source": [
    "solution"
   ]
  },
  {
   "cell_type": "code",
   "execution_count": 13,
   "id": "a1dc45a6",
   "metadata": {
    "ExecuteTime": {
     "end_time": "2022-04-25T05:05:58.044604Z",
     "start_time": "2022-04-25T05:05:58.030612Z"
    }
   },
   "outputs": [],
   "source": [
    "def solution(brown, yellow):\n",
    "    carpet = brown + yellow\n",
    "    for y in range(1, yellow+1):\n",
    "        if yellow % y == 0:\n",
    "            x = yellow // y\n",
    "            if (x+2) * (y+2) == carpet:\n",
    "                return [x+2, y+2]"
   ]
  },
  {
   "cell_type": "code",
   "execution_count": 14,
   "id": "a8379769",
   "metadata": {
    "ExecuteTime": {
     "end_time": "2022-04-25T05:06:04.561736Z",
     "start_time": "2022-04-25T05:06:04.556749Z"
    }
   },
   "outputs": [
    {
     "data": {
      "text/plain": [
       "[8, 6]"
      ]
     },
     "execution_count": 14,
     "metadata": {},
     "output_type": "execute_result"
    }
   ],
   "source": [
    "solution(brown, yellow)"
   ]
  }
 ],
 "metadata": {
  "kernelspec": {
   "display_name": "Python 3",
   "language": "python",
   "name": "python3"
  },
  "language_info": {
   "codemirror_mode": {
    "name": "ipython",
    "version": 3
   },
   "file_extension": ".py",
   "mimetype": "text/x-python",
   "name": "python",
   "nbconvert_exporter": "python",
   "pygments_lexer": "ipython3",
   "version": "3.8.8"
  },
  "toc": {
   "base_numbering": 1,
   "nav_menu": {},
   "number_sections": true,
   "sideBar": true,
   "skip_h1_title": false,
   "title_cell": "Table of Contents",
   "title_sidebar": "Contents",
   "toc_cell": false,
   "toc_position": {},
   "toc_section_display": true,
   "toc_window_display": false
  },
  "varInspector": {
   "cols": {
    "lenName": 16,
    "lenType": 16,
    "lenVar": 40
   },
   "kernels_config": {
    "python": {
     "delete_cmd_postfix": "",
     "delete_cmd_prefix": "del ",
     "library": "var_list.py",
     "varRefreshCmd": "print(var_dic_list())"
    },
    "r": {
     "delete_cmd_postfix": ") ",
     "delete_cmd_prefix": "rm(",
     "library": "var_list.r",
     "varRefreshCmd": "cat(var_dic_list()) "
    }
   },
   "types_to_exclude": [
    "module",
    "function",
    "builtin_function_or_method",
    "instance",
    "_Feature"
   ],
   "window_display": false
  }
 },
 "nbformat": 4,
 "nbformat_minor": 5
}
