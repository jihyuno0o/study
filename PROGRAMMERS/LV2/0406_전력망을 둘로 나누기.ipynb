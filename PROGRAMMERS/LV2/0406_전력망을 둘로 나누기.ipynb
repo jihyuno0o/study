{
 "cells": [
  {
   "cell_type": "markdown",
   "id": "2727bf90",
   "metadata": {},
   "source": [
    "https://programmers.co.kr/learn/courses/30/lessons/86971"
   ]
  },
  {
   "cell_type": "markdown",
   "id": "0a37d44e",
   "metadata": {},
   "source": [
    "n개의 송전탑이 전선을 통해 하나의 트리 형태로 연결되어 있습니다. 당신은 이 전선들 중 하나를 끊어서 현재의 전력망 네트워크를 2개로 분할하려고 합니다. 이때, 두 전력망이 갖게 되는 송전탑의 개수를 최대한 비슷하게 맞추고자 합니다.\n",
    "\n",
    "송전탑의 개수 n, 그리고 전선 정보 wires가 매개변수로 주어집니다. 전선들 중 하나를 끊어서 송전탑 개수가 가능한 비슷하도록 두 전력망으로 나누었을 때, 두 전력망이 가지고 있는 송전탑 개수의 차이(절대값)를 return 하도록 solution 함수를 완성해주세요."
   ]
  },
  {
   "cell_type": "markdown",
   "id": "f6d5ef46",
   "metadata": {},
   "source": [
    "제한사항\n",
    "- n은 2 이상 100 이하인 자연수입니다.\n",
    "- wires는 길이가 n-1인 정수형 2차원 배열입니다.\n",
    "    - wires의 각 원소는 [v1, v2] 2개의 자연수로 이루어져 있으며, 이는 전력망의 v1번 송전탑과 v2번 송전탑이 전선으로 연결되어 있다는 것을 의미합니다.\n",
    "    - 1 ≤ v1 < v2 ≤ n 입니다.\n",
    "    - 전력망 네트워크가 하나의 트리 형태가 아닌 경우는 입력으로 주어지지 않습니다."
   ]
  },
  {
   "cell_type": "code",
   "execution_count": 8,
   "id": "52a19fb8",
   "metadata": {
    "ExecuteTime": {
     "end_time": "2022-04-06T06:20:42.014610Z",
     "start_time": "2022-04-06T06:20:42.008241Z"
    }
   },
   "outputs": [],
   "source": [
    "n = 9\n",
    "wires = [[1,3],[2,3],[3,4],[4,5],[4,6],[4,7],[7,8],[7,9]]\n",
    "# 3"
   ]
  },
  {
   "cell_type": "code",
   "execution_count": 9,
   "id": "82e4b9f1",
   "metadata": {
    "ExecuteTime": {
     "end_time": "2022-04-06T06:20:42.171454Z",
     "start_time": "2022-04-06T06:20:42.167493Z"
    }
   },
   "outputs": [],
   "source": [
    "answer = 100"
   ]
  },
  {
   "cell_type": "code",
   "execution_count": 10,
   "id": "4ba01e59",
   "metadata": {
    "ExecuteTime": {
     "end_time": "2022-04-06T06:20:42.310309Z",
     "start_time": "2022-04-06T06:20:42.299290Z"
    }
   },
   "outputs": [],
   "source": [
    " for i in range(len(wires)):\n",
    "        group_a = set()\n",
    "        group_b = set()\n",
    "        \n",
    "        group_a.add(wires[i][0])\n",
    "        group_b.add(wires[i][1])\n",
    "        \n",
    "        new_wires = wires[:i] + wires[i+1:]\n",
    "        visited = [False] * (n-2)\n",
    "        cur = 0\n",
    "\n",
    "        while False in visited:\n",
    "            if visited[cur] is False:\n",
    "                if new_wires[cur][0] in group_a:\n",
    "                    group_a.add(new_wires[cur][1])\n",
    "                    visited[cur] = True\n",
    "                elif new_wires[cur][0] in group_b:\n",
    "                    group_b.add(new_wires[cur][1])\n",
    "                    visited[cur] = True\n",
    "                elif new_wires[cur][1] in group_a:\n",
    "                    group_a.add(new_wires[cur][0])\n",
    "                    visited[cur] = True\n",
    "                elif new_wires[cur][1] in group_b:\n",
    "                    group_b.add(new_wires[cur][0])\n",
    "                    visited[cur] = True\n",
    "                \n",
    "            if cur == n-3:\n",
    "                cur = 0\n",
    "            else:\n",
    "                cur += 1\n",
    "            \n",
    "        diff = abs(len(group_a) - len(group_b))\n",
    "        if diff < answer:\n",
    "            answer = diff"
   ]
  },
  {
   "cell_type": "code",
   "execution_count": 11,
   "id": "fe7dec30",
   "metadata": {
    "ExecuteTime": {
     "end_time": "2022-04-06T06:20:43.198174Z",
     "start_time": "2022-04-06T06:20:43.179870Z"
    }
   },
   "outputs": [
    {
     "data": {
      "text/plain": [
       "3"
      ]
     },
     "execution_count": 11,
     "metadata": {},
     "output_type": "execute_result"
    }
   ],
   "source": [
    "answer"
   ]
  },
  {
   "cell_type": "code",
   "execution_count": null,
   "id": "28382387",
   "metadata": {},
   "outputs": [],
   "source": [
    "def solution(n, wires):\n",
    "    answer = 100\n",
    "    \n",
    "    for i in range(len(wires)):\n",
    "        group_a = set()\n",
    "        group_b = set()\n",
    "        \n",
    "        group_a.add(wires[i][0])\n",
    "        group_b.add(wires[i][1])\n",
    "        \n",
    "        new_wires = wires[:i] + wires[i+1:]\n",
    "        visited = [False] * (n-2)\n",
    "        cur = 0\n",
    "\n",
    "        while False in visited:\n",
    "            if visited[cur] is False:\n",
    "                if new_wires[cur][0] in group_a:\n",
    "                    group_a.add(new_wires[cur][1])\n",
    "                    visited[cur] = True\n",
    "                elif new_wires[cur][0] in group_b:\n",
    "                    group_b.add(new_wires[cur][1])\n",
    "                    visited[cur] = True\n",
    "                elif new_wires[cur][1] in group_a:\n",
    "                    group_a.add(new_wires[cur][0])\n",
    "                    visited[cur] = True\n",
    "                elif new_wires[cur][1] in group_b:\n",
    "                    group_b.add(new_wires[cur][0])\n",
    "                    visited[cur] = True\n",
    "                \n",
    "            if cur == n-3:\n",
    "                cur = 0\n",
    "            else:\n",
    "                cur += 1\n",
    "            \n",
    "        diff = abs(len(group_a) - len(group_b))\n",
    "        if diff < answer:\n",
    "            answer = diff\n",
    "        \n",
    "    if answer == 101:\n",
    "        answer = 0\n",
    "        \n",
    "    return answer"
   ]
  }
 ],
 "metadata": {
  "kernelspec": {
   "display_name": "Python 3",
   "language": "python",
   "name": "python3"
  },
  "language_info": {
   "codemirror_mode": {
    "name": "ipython",
    "version": 3
   },
   "file_extension": ".py",
   "mimetype": "text/x-python",
   "name": "python",
   "nbconvert_exporter": "python",
   "pygments_lexer": "ipython3",
   "version": "3.8.8"
  },
  "toc": {
   "base_numbering": 1,
   "nav_menu": {},
   "number_sections": true,
   "sideBar": true,
   "skip_h1_title": false,
   "title_cell": "Table of Contents",
   "title_sidebar": "Contents",
   "toc_cell": false,
   "toc_position": {},
   "toc_section_display": true,
   "toc_window_display": false
  },
  "varInspector": {
   "cols": {
    "lenName": 16,
    "lenType": 16,
    "lenVar": 40
   },
   "kernels_config": {
    "python": {
     "delete_cmd_postfix": "",
     "delete_cmd_prefix": "del ",
     "library": "var_list.py",
     "varRefreshCmd": "print(var_dic_list())"
    },
    "r": {
     "delete_cmd_postfix": ") ",
     "delete_cmd_prefix": "rm(",
     "library": "var_list.r",
     "varRefreshCmd": "cat(var_dic_list()) "
    }
   },
   "types_to_exclude": [
    "module",
    "function",
    "builtin_function_or_method",
    "instance",
    "_Feature"
   ],
   "window_display": false
  }
 },
 "nbformat": 4,
 "nbformat_minor": 5
}
