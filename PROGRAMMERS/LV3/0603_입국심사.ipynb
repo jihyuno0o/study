{
 "cells": [
  {
   "cell_type": "markdown",
   "id": "f9823911",
   "metadata": {
    "ExecuteTime": {
     "end_time": "2022-06-03T01:24:36.921428Z",
     "start_time": "2022-06-03T01:24:36.906328Z"
    }
   },
   "source": [
    "https://programmers.co.kr/learn/courses/30/lessons/43238"
   ]
  },
  {
   "cell_type": "markdown",
   "id": "008633d1",
   "metadata": {},
   "source": [
    "## 문제 설명\n",
    "n명이 입국심사를 위해 줄을 서서 기다리고 있습니다. 각 입국심사대에 있는 심사관마다 심사하는데 걸리는 시간은 다릅니다.\n",
    "\n",
    "처음에 모든 심사대는 비어있습니다. 한 심사대에서는 동시에 한 명만 심사를 할 수 있습니다. 가장 앞에 서 있는 사람은 비어 있는 심사대로 가서 심사를 받을 수 있습니다. 하지만 더 빨리 끝나는 심사대가 있으면 기다렸다가 그곳으로 가서 심사를 받을 수도 있습니다.\n",
    "\n",
    "모든 사람이 심사를 받는데 걸리는 시간을 최소로 하고 싶습니다.\n",
    "\n",
    "입국심사를 기다리는 사람 수 n, 각 심사관이 한 명을 심사하는데 걸리는 시간이 담긴 배열 times가 매개변수로 주어질 때, 모든 사람이 심사를 받는데 걸리는 시간의 최솟값을 return 하도록 solution 함수를 작성해주세요.\n",
    "\n",
    "## 제한사항\n",
    "- 입국심사를 기다리는 사람은 1명 이상 1,000,000,000명 이하입니다.\n",
    "- 각 심사관이 한 명을 심사하는데 걸리는 시간은 1분 이상 1,000,000,000분 이하입니다.\n",
    "- 심사관은 1명 이상 100,000명 이하입니다."
   ]
  },
  {
   "cell_type": "code",
   "execution_count": 2,
   "id": "4abfa4ad",
   "metadata": {
    "ExecuteTime": {
     "end_time": "2022-06-03T01:25:05.379466Z",
     "start_time": "2022-06-03T01:25:05.371864Z"
    }
   },
   "outputs": [],
   "source": [
    "n = 6\n",
    "times = [7, 10]\n",
    "# 28"
   ]
  },
  {
   "cell_type": "markdown",
   "id": "01522622",
   "metadata": {},
   "source": [
    "입출력 예 설명\n",
    "가장 첫 두 사람은 바로 심사를 받으러 갑니다.\n",
    "\n",
    "7분이 되었을 때, 첫 번째 심사대가 비고 3번째 사람이 심사를 받습니다.\n",
    "\n",
    "10분이 되었을 때, 두 번째 심사대가 비고 4번째 사람이 심사를 받습니다.\n",
    "\n",
    "14분이 되었을 때, 첫 번째 심사대가 비고 5번째 사람이 심사를 받습니다.\n",
    "\n",
    "20분이 되었을 때, 두 번째 심사대가 비지만 6번째 사람이 그곳에서 심사를 받지 않고 1분을 더 기다린 후에 첫 번째 심사대에서 심사를 받으면 28분에 모든 사람의 심사가 끝납니다."
   ]
  },
  {
   "cell_type": "code",
   "execution_count": 19,
   "id": "caf5356a",
   "metadata": {
    "ExecuteTime": {
     "end_time": "2022-06-03T01:40:19.610240Z",
     "start_time": "2022-06-03T01:40:19.589301Z"
    }
   },
   "outputs": [
    {
     "data": {
      "text/plain": [
       "(1, 60)"
      ]
     },
     "execution_count": 19,
     "metadata": {},
     "output_type": "execute_result"
    }
   ],
   "source": [
    "# right 는 가장 긴 심사시간이 소요되는 심사관에게 n명 모두 받는 경우 ( 가장 비효율적인 경우)\n",
    "left, right = 1, max(times) * n\n",
    "left, right"
   ]
  },
  {
   "cell_type": "code",
   "execution_count": 20,
   "id": "e3cee8b7",
   "metadata": {
    "ExecuteTime": {
     "end_time": "2022-06-03T01:40:19.764763Z",
     "start_time": "2022-06-03T01:40:19.746813Z"
    }
   },
   "outputs": [
    {
     "data": {
      "text/plain": [
       "30"
      ]
     },
     "execution_count": 20,
     "metadata": {},
     "output_type": "execute_result"
    }
   ],
   "source": [
    "mid = (left + right) // 2\n",
    "mid"
   ]
  },
  {
   "cell_type": "code",
   "execution_count": 21,
   "id": "6fa9e054",
   "metadata": {
    "ExecuteTime": {
     "end_time": "2022-06-03T01:40:19.949692Z",
     "start_time": "2022-06-03T01:40:19.943478Z"
    }
   },
   "outputs": [
    {
     "name": "stdout",
     "output_type": "stream",
     "text": [
      "4\n",
      "7\n"
     ]
    }
   ],
   "source": [
    "people = 0\n",
    "for time in times:\n",
    "    people += mid // time\n",
    "    print(people)"
   ]
  },
  {
   "cell_type": "code",
   "execution_count": 22,
   "id": "4ae48c77",
   "metadata": {
    "ExecuteTime": {
     "end_time": "2022-06-03T01:40:20.353262Z",
     "start_time": "2022-06-03T01:40:20.343259Z"
    }
   },
   "outputs": [
    {
     "name": "stdout",
     "output_type": "stream",
     "text": [
      "1 30 60\n",
      "1 30 29 7\n",
      "\n",
      "1 15 29\n",
      "16 15 29 3\n",
      "\n",
      "16 22 29\n",
      "23 22 29 5\n",
      "\n",
      "23 26 29\n",
      "27 26 29 5\n",
      "\n",
      "27 28 29\n",
      "27 28 27 6\n",
      "\n",
      "27 27 27\n",
      "28 27 27 5\n",
      "\n"
     ]
    }
   ],
   "source": [
    "while left <= right:   \n",
    "    mid = (left + right) // 2\n",
    "    print(left, mid, right)\n",
    "    people = 0 # mid 분 동안 심사한 사람 수\n",
    "    for time in times:\n",
    "        people += mid // time # 각 심사관이 시간안에 심사할 수 있는 사람\n",
    "        if people >= n: # 모든 심사관을 거치지 않아도 n이 넘으면 반복문 탈출하고 mid 줄이기\n",
    "            break\n",
    "    \n",
    "    # people(mid 분 동안 심사받은 사람 수)가 n보다 많은 경우 중간보다 큰 경우는 버림\n",
    "    if people >= n:\n",
    "        answer = mid\n",
    "        right = mid - 1\n",
    "    # people가 n보다 작은 경우 mid 아래는 버림\n",
    "    elif people < n:\n",
    "        left = mid + 1\n",
    "    print(left, mid, right, people)\n",
    "    print()"
   ]
  },
  {
   "cell_type": "code",
   "execution_count": 18,
   "id": "9aac98ee",
   "metadata": {
    "ExecuteTime": {
     "end_time": "2022-06-03T01:39:41.314371Z",
     "start_time": "2022-06-03T01:39:41.294626Z"
    }
   },
   "outputs": [
    {
     "data": {
      "text/plain": [
       "28"
      ]
     },
     "execution_count": 18,
     "metadata": {},
     "output_type": "execute_result"
    }
   ],
   "source": [
    "answer"
   ]
  },
  {
   "cell_type": "code",
   "execution_count": null,
   "id": "7fadcd1e",
   "metadata": {},
   "outputs": [],
   "source": []
  },
  {
   "cell_type": "markdown",
   "id": "43e31deb",
   "metadata": {},
   "source": [
    "solution"
   ]
  },
  {
   "cell_type": "code",
   "execution_count": null,
   "id": "aae24935",
   "metadata": {},
   "outputs": [],
   "source": [
    "def solution(n, times):\n",
    "    answer = 0\n",
    "    # right 는 가장 긴 심사시간이 소요되는 심사관에게 n명 모두 받는 경우 ( 가장 비효율적인 경우)\n",
    "    left, right = 1, max(times) * n\n",
    "    while left <= right:   \n",
    "        mid = (left + right) // 2\n",
    "        people = 0 # mid 분 동안 심사한 사람 수\n",
    "        for time in times:\n",
    "            people += mid // time # 각 심사관이 시간안에 심사할 수 있는 사람\n",
    "            if people >= n: # 모든 심사관을 거치지 않아도 n이 넘으면 반복문 탈출하고 mid 줄이기\n",
    "                break\n",
    "\n",
    "        # people(mid 분 동안 심사받은 사람 수)가 n보다 많은 경우 중간보다 큰 경우는 버림\n",
    "        if people >= n:\n",
    "            answer = mid\n",
    "            right = mid - 1\n",
    "        # people가 n보다 작은 경우 mid 아래는 버림\n",
    "        elif people < n:\n",
    "            left = mid + 1 \n",
    "\n",
    "    return answer"
   ]
  }
 ],
 "metadata": {
  "kernelspec": {
   "display_name": "Python 3",
   "language": "python",
   "name": "python3"
  },
  "language_info": {
   "codemirror_mode": {
    "name": "ipython",
    "version": 3
   },
   "file_extension": ".py",
   "mimetype": "text/x-python",
   "name": "python",
   "nbconvert_exporter": "python",
   "pygments_lexer": "ipython3",
   "version": "3.8.8"
  },
  "toc": {
   "base_numbering": 1,
   "nav_menu": {},
   "number_sections": true,
   "sideBar": true,
   "skip_h1_title": false,
   "title_cell": "Table of Contents",
   "title_sidebar": "Contents",
   "toc_cell": false,
   "toc_position": {},
   "toc_section_display": true,
   "toc_window_display": false
  },
  "varInspector": {
   "cols": {
    "lenName": 16,
    "lenType": 16,
    "lenVar": 40
   },
   "kernels_config": {
    "python": {
     "delete_cmd_postfix": "",
     "delete_cmd_prefix": "del ",
     "library": "var_list.py",
     "varRefreshCmd": "print(var_dic_list())"
    },
    "r": {
     "delete_cmd_postfix": ") ",
     "delete_cmd_prefix": "rm(",
     "library": "var_list.r",
     "varRefreshCmd": "cat(var_dic_list()) "
    }
   },
   "types_to_exclude": [
    "module",
    "function",
    "builtin_function_or_method",
    "instance",
    "_Feature"
   ],
   "window_display": false
  }
 },
 "nbformat": 4,
 "nbformat_minor": 5
}
