{
 "cells": [
  {
   "cell_type": "markdown",
   "id": "7c957e74",
   "metadata": {
    "ExecuteTime": {
     "end_time": "2022-05-30T07:59:56.289083Z",
     "start_time": "2022-05-30T07:59:56.273180Z"
    }
   },
   "source": [
    "https://programmers.co.kr/learn/courses/30/lessons/49191"
   ]
  },
  {
   "cell_type": "markdown",
   "id": "a1ccaae0",
   "metadata": {},
   "source": [
    "## 문제 설명\n",
    "n명의 권투선수가 권투 대회에 참여했고 각각 1번부터 n번까지 번호를 받았습니다. 권투 경기는 1대1 방식으로 진행이 되고, 만약 A 선수가 B 선수보다 실력이 좋다면 A 선수는 B 선수를 항상 이깁니다. 심판은 주어진 경기 결과를 가지고 선수들의 순위를 매기려 합니다. 하지만 몇몇 경기 결과를 분실하여 정확하게 순위를 매길 수 없습니다.\n",
    "\n",
    "선수의 수 n, 경기 결과를 담은 2차원 배열 results가 매개변수로 주어질 때 정확하게 순위를 매길 수 있는 선수의 수를 return 하도록 solution 함수를 작성해주세요.\n",
    "\n",
    "## 제한사항\n",
    "- 선수의 수는 1명 이상 100명 이하입니다.\n",
    "- 경기 결과는 1개 이상 4,500개 이하입니다.\n",
    "- results 배열 각 행 [A, B]는 A 선수가 B 선수를 이겼다는 의미입니다.\n",
    "- 모든 경기 결과에는 모순이 없습니다."
   ]
  },
  {
   "cell_type": "code",
   "execution_count": 5,
   "id": "3a062010",
   "metadata": {
    "ExecuteTime": {
     "end_time": "2022-05-31T01:32:46.665892Z",
     "start_time": "2022-05-31T01:32:46.657240Z"
    }
   },
   "outputs": [],
   "source": [
    "n = 5\n",
    "results = [[4, 3], [4, 2], [3, 2], [1, 2], [2, 5]]\n",
    "# 2"
   ]
  },
  {
   "cell_type": "code",
   "execution_count": 6,
   "id": "6b724a2f",
   "metadata": {
    "ExecuteTime": {
     "end_time": "2022-05-31T01:32:46.819009Z",
     "start_time": "2022-05-31T01:32:46.813023Z"
    }
   },
   "outputs": [],
   "source": [
    "from collections import defaultdict\n",
    "win_graph = defaultdict(set) # 키를 이긴 num을 값에 저장\n",
    "lose_graph = defaultdict(set) # 키에게 진 num을 값에 저장"
   ]
  },
  {
   "cell_type": "code",
   "execution_count": 7,
   "id": "6daf17b4",
   "metadata": {
    "ExecuteTime": {
     "end_time": "2022-05-31T01:32:47.004732Z",
     "start_time": "2022-05-31T01:32:46.987428Z"
    }
   },
   "outputs": [],
   "source": [
    "for w, l in results:\n",
    "    win_graph[l].add(w)\n",
    "    lose_graph[w].add(l)   "
   ]
  },
  {
   "cell_type": "code",
   "execution_count": 8,
   "id": "676d2022",
   "metadata": {
    "ExecuteTime": {
     "end_time": "2022-05-31T01:32:52.686114Z",
     "start_time": "2022-05-31T01:32:52.661253Z"
    }
   },
   "outputs": [
    {
     "data": {
      "text/plain": [
       "defaultdict(set, {3: {4}, 2: {1, 3, 4}, 5: {2}})"
      ]
     },
     "execution_count": 8,
     "metadata": {},
     "output_type": "execute_result"
    }
   ],
   "source": [
    "win_graph"
   ]
  },
  {
   "cell_type": "code",
   "execution_count": 9,
   "id": "06d6b245",
   "metadata": {
    "ExecuteTime": {
     "end_time": "2022-05-31T01:32:55.710472Z",
     "start_time": "2022-05-31T01:32:55.694404Z"
    }
   },
   "outputs": [
    {
     "data": {
      "text/plain": [
       "defaultdict(set, {4: {2, 3}, 3: {2}, 1: {2}, 2: {5}})"
      ]
     },
     "execution_count": 9,
     "metadata": {},
     "output_type": "execute_result"
    }
   ],
   "source": [
    "lose_graph"
   ]
  },
  {
   "cell_type": "code",
   "execution_count": 11,
   "id": "23f23d14",
   "metadata": {
    "ExecuteTime": {
     "end_time": "2022-05-31T01:43:22.452403Z",
     "start_time": "2022-05-31T01:43:22.433504Z"
    }
   },
   "outputs": [],
   "source": [
    "for i in range(1, n+1):\n",
    "    for w in win_graph[i]: # i를 이긴애들은 i한테 진 애들한테도 이긴 것\n",
    "        lose_graph[w].update(lose_graph[i])\n",
    "    for l in lose_graph[i]: # i한테 진 애들은 i를 이긴 애들한테도 진 것\n",
    "        win_graph[l].update(win_graph[i])"
   ]
  },
  {
   "cell_type": "code",
   "execution_count": 12,
   "id": "70ee7a41",
   "metadata": {
    "ExecuteTime": {
     "end_time": "2022-05-31T01:43:29.097780Z",
     "start_time": "2022-05-31T01:43:29.075406Z"
    }
   },
   "outputs": [
    {
     "data": {
      "text/plain": [
       "defaultdict(set, {3: {4}, 2: {1, 3, 4}, 5: {1, 2, 3, 4}, 1: set(), 4: set()})"
      ]
     },
     "execution_count": 12,
     "metadata": {},
     "output_type": "execute_result"
    }
   ],
   "source": [
    "win_graph"
   ]
  },
  {
   "cell_type": "code",
   "execution_count": 13,
   "id": "d2ab1586",
   "metadata": {
    "ExecuteTime": {
     "end_time": "2022-05-31T01:43:39.295841Z",
     "start_time": "2022-05-31T01:43:39.287899Z"
    }
   },
   "outputs": [
    {
     "data": {
      "text/plain": [
       "defaultdict(set, {4: {2, 3, 5}, 3: {2, 5}, 1: {2, 5}, 2: {5}, 5: set()})"
      ]
     },
     "execution_count": 13,
     "metadata": {},
     "output_type": "execute_result"
    }
   ],
   "source": [
    "lose_graph"
   ]
  },
  {
   "cell_type": "code",
   "execution_count": 14,
   "id": "bb75ec84",
   "metadata": {
    "ExecuteTime": {
     "end_time": "2022-05-31T01:47:18.059616Z",
     "start_time": "2022-05-31T01:47:18.046705Z"
    }
   },
   "outputs": [],
   "source": [
    "answer = 0\n",
    "for i in range(1, n+1):\n",
    "    if len(win_graph[i]) + len(lose_graph[i]) == n-1:\n",
    "        answer += 1"
   ]
  },
  {
   "cell_type": "code",
   "execution_count": 15,
   "id": "6d8743bb",
   "metadata": {
    "ExecuteTime": {
     "end_time": "2022-05-31T01:47:19.837650Z",
     "start_time": "2022-05-31T01:47:19.827298Z"
    }
   },
   "outputs": [
    {
     "data": {
      "text/plain": [
       "2"
      ]
     },
     "execution_count": 15,
     "metadata": {},
     "output_type": "execute_result"
    }
   ],
   "source": [
    "answer"
   ]
  },
  {
   "cell_type": "markdown",
   "id": "7d187719",
   "metadata": {},
   "source": [
    "solution - defaultdict(set) 사용"
   ]
  },
  {
   "cell_type": "code",
   "execution_count": null,
   "id": "0bdead31",
   "metadata": {},
   "outputs": [],
   "source": [
    "def solution(n, results):\n",
    "    from collections import defaultdict\n",
    "    win_graph = defaultdict(set) # 키를 이긴 num을 값에 저장\n",
    "    lose_graph = defaultdict(set) # 키에게 진 num을 값에 저장\n",
    "    for w, l in results:\n",
    "        win_graph[l].add(w)\n",
    "        lose_graph[w].add(l)\n",
    "    \n",
    "    for i in range(1, n+1):\n",
    "        for w in win_graph[i]: # i를 이긴애들은 i한테 진 애들한테도 이긴 것\n",
    "            lose_graph[w].update(lose_graph[i])\n",
    "        for l in lose_graph[i]: # i한테 진 애들은 i를 이긴 애들한테도 진 것\n",
    "            win_graph[l].update(win_graph[i])\n",
    "    \n",
    "    answer = 0\n",
    "    for i in range(1, n+1):\n",
    "        if len(win_graph[i]) + len(lose_graph[i]) == n-1:\n",
    "            answer += 1\n",
    "    return answer"
   ]
  },
  {
   "cell_type": "code",
   "execution_count": null,
   "id": "79a52131",
   "metadata": {},
   "outputs": [],
   "source": []
  },
  {
   "cell_type": "code",
   "execution_count": 39,
   "id": "f5ca39ba",
   "metadata": {
    "ExecuteTime": {
     "end_time": "2022-05-31T02:22:52.304922Z",
     "start_time": "2022-05-31T02:22:52.298022Z"
    }
   },
   "outputs": [],
   "source": [
    "n = 5\n",
    "results = [[4, 3], [4, 2], [3, 2], [1, 2], [2, 5]]\n",
    "# 2"
   ]
  },
  {
   "cell_type": "code",
   "execution_count": 40,
   "id": "4c32af21",
   "metadata": {
    "ExecuteTime": {
     "end_time": "2022-05-31T02:22:52.506473Z",
     "start_time": "2022-05-31T02:22:52.492161Z"
    }
   },
   "outputs": [
    {
     "data": {
      "text/plain": [
       "[[0, 0, 0, 0, 0, 0],\n",
       " [0, 0, 1, 0, 0, 0],\n",
       " [0, -1, 0, -1, -1, 1],\n",
       " [0, 0, 1, 0, -1, 0],\n",
       " [0, 0, 1, 1, 0, 0],\n",
       " [0, 0, -1, 0, 0, 0]]"
      ]
     },
     "execution_count": 40,
     "metadata": {},
     "output_type": "execute_result"
    }
   ],
   "source": [
    "matchs = [[0 for _ in range(n+1)] for _ in range(n+1)]\n",
    "for a, b in results:\n",
    "    matchs[a][b] = 1\n",
    "    matchs[b][a] = -1\n",
    "matchs"
   ]
  },
  {
   "cell_type": "code",
   "execution_count": 41,
   "id": "cff8aafb",
   "metadata": {
    "ExecuteTime": {
     "end_time": "2022-05-31T02:22:53.585709Z",
     "start_time": "2022-05-31T02:22:53.561333Z"
    }
   },
   "outputs": [
    {
     "data": {
      "text/plain": [
       "[[0, 0, 0, 0, 0, 0],\n",
       " [0, 0, 1, 0, 0, 1],\n",
       " [0, -1, 0, -1, -1, 1],\n",
       " [0, 0, 1, 0, -1, 1],\n",
       " [0, 0, 1, 1, 0, 1],\n",
       " [0, 0, -1, 0, 0, 0]]"
      ]
     },
     "execution_count": 41,
     "metadata": {},
     "output_type": "execute_result"
    }
   ],
   "source": [
    "for k in range(1, n+1): # 거쳐가는 노드(기준)\n",
    "    for i in range(1, n+1): # 출발 노드\n",
    "        for j in range(1, n+1): # 도착 노드\n",
    "            if matchs[i][j] == 1 or (matchs[i][k] == 1 and matchs[k][j] == 1):\n",
    "                matchs[i][j] = 1\n",
    "matchs"
   ]
  },
  {
   "cell_type": "code",
   "execution_count": 38,
   "id": "7b88a406",
   "metadata": {
    "ExecuteTime": {
     "end_time": "2022-05-31T02:21:34.019590Z",
     "start_time": "2022-05-31T02:21:33.996127Z"
    }
   },
   "outputs": [
    {
     "data": {
      "text/plain": [
       "[[0, 0, 0, 0, 0, 0],\n",
       " [0, 0, 1, 0, 0, 1],\n",
       " [0, -1, 0, -1, -1, 1],\n",
       " [0, 0, 1, 0, -1, 1],\n",
       " [0, 0, 1, 1, 0, 1],\n",
       " [0, -1, -1, -1, -1, 0]]"
      ]
     },
     "execution_count": 38,
     "metadata": {},
     "output_type": "execute_result"
    }
   ],
   "source": [
    "for i in range(1, n+1):\n",
    "    for j in range(1, n+1):\n",
    "        if matchs[i][j] == 1:\n",
    "            matchs[j][i] = -1\n",
    "matchs"
   ]
  },
  {
   "cell_type": "markdown",
   "id": "7ab2dbd7",
   "metadata": {},
   "source": [
    "solution - 플로이드마샬 알고리즘 사용"
   ]
  },
  {
   "cell_type": "code",
   "execution_count": null,
   "id": "b5363c34",
   "metadata": {},
   "outputs": [],
   "source": [
    "def solution(n, results):\n",
    "    matchs = [[0 for _ in range(n+1)] for _ in range(n+1)]\n",
    "    for a, b in results:\n",
    "        matchs[a][b] = 1\n",
    "        matchs[b][a] = -1\n",
    "    \n",
    "    for k in range(1, n+1): # 거쳐가는 노드(기준)\n",
    "        for i in range(1, n+1): # 출발 노드\n",
    "            for j in range(1, n+1): # 도착 노드\n",
    "                if matchs[i][j] == 1 or (matchs[i][k] == 1 and matchs[k][j] == 1):\n",
    "                    matchs[i][j] = 1\n",
    "    \n",
    "    for i in range(1, n+1):\n",
    "        for j in range(1, n+1):\n",
    "            if matchs[i][j] == 1:\n",
    "                matchs[j][i] = -1\n",
    "                \n",
    "    answer = 0\n",
    "    for i in range(1, n+1):\n",
    "        if matchs[i].count(0) == 2: # 0번인덱스와 자기자신을 뺴고 모두 승패가 기록되어있다면\n",
    "            answer += 1\n",
    "    \n",
    "    return answer"
   ]
  }
 ],
 "metadata": {
  "kernelspec": {
   "display_name": "Python 3",
   "language": "python",
   "name": "python3"
  },
  "language_info": {
   "codemirror_mode": {
    "name": "ipython",
    "version": 3
   },
   "file_extension": ".py",
   "mimetype": "text/x-python",
   "name": "python",
   "nbconvert_exporter": "python",
   "pygments_lexer": "ipython3",
   "version": "3.8.8"
  },
  "toc": {
   "base_numbering": 1,
   "nav_menu": {},
   "number_sections": true,
   "sideBar": true,
   "skip_h1_title": false,
   "title_cell": "Table of Contents",
   "title_sidebar": "Contents",
   "toc_cell": false,
   "toc_position": {},
   "toc_section_display": true,
   "toc_window_display": false
  },
  "varInspector": {
   "cols": {
    "lenName": 16,
    "lenType": 16,
    "lenVar": 40
   },
   "kernels_config": {
    "python": {
     "delete_cmd_postfix": "",
     "delete_cmd_prefix": "del ",
     "library": "var_list.py",
     "varRefreshCmd": "print(var_dic_list())"
    },
    "r": {
     "delete_cmd_postfix": ") ",
     "delete_cmd_prefix": "rm(",
     "library": "var_list.r",
     "varRefreshCmd": "cat(var_dic_list()) "
    }
   },
   "types_to_exclude": [
    "module",
    "function",
    "builtin_function_or_method",
    "instance",
    "_Feature"
   ],
   "window_display": false
  }
 },
 "nbformat": 4,
 "nbformat_minor": 5
}
