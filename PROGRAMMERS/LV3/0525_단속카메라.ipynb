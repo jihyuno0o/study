{
 "cells": [
  {
   "cell_type": "markdown",
   "id": "e87561f4",
   "metadata": {
    "ExecuteTime": {
     "end_time": "2022-05-25T06:57:08.268719Z",
     "start_time": "2022-05-25T06:57:08.255174Z"
    }
   },
   "source": [
    "## 문제 설명\n",
    "고속도로를 이동하는 모든 차량이 고속도로를 이용하면서 단속용 카메라를 한 번은 만나도록 카메라를 설치하려고 합니다.\n",
    "\n",
    "고속도로를 이동하는 차량의 경로 routes가 매개변수로 주어질 때, 모든 차량이 한 번은 단속용 카메라를 만나도록 하려면 최소 몇 대의 카메라를 설치해야 하는지를 return 하도록 solution 함수를 완성하세요.\n",
    "\n",
    "## 제한사항\n",
    "\n",
    "- 차량의 대수는 1대 이상 10,000대 이하입니다.\n",
    "- routes에는 차량의 이동 경로가 포함되어 있으며 routes[i][0]에는 i번째 차량이 고속도로에 진입한 지점, routes[i][1]에는 i번째 차량이 고속도로에서 나간 지점이 적혀 있습니다.\n",
    "- 차량의 진입/진출 지점에 카메라가 설치되어 있어도 카메라를 만난것으로 간주합니다.\n",
    "- 차량의 진입 지점, 진출 지점은 -30,000 이상 30,000 이하입니다."
   ]
  },
  {
   "attachments": {
    "image.png": {
     "image/png": "[encoded data removed]"
    }
   },
   "cell_type": "markdown",
   "id": "e5f75486",
   "metadata": {},
   "source": [
    "![image.png](attachment:image.png)"
   ]
  },
  {
   "cell_type": "code",
   "execution_count": 11,
   "id": "fcd9c60e",
   "metadata": {
    "ExecuteTime": {
     "end_time": "2022-05-25T07:55:54.629470Z",
     "start_time": "2022-05-25T07:55:54.612384Z"
    }
   },
   "outputs": [],
   "source": [
    "routes = [[-20,-15], [-14,-5], [-18,-13], [-5,-3]]\n",
    "# 2"
   ]
  },
  {
   "cell_type": "code",
   "execution_count": 12,
   "id": "24a1801c",
   "metadata": {
    "ExecuteTime": {
     "end_time": "2022-05-25T07:58:23.910002Z",
     "start_time": "2022-05-25T07:58:23.899031Z"
    }
   },
   "outputs": [
    {
     "data": {
      "text/plain": [
       "[[-20, -15], [-18, -13], [-14, -5], [-5, -3]]"
      ]
     },
     "execution_count": 12,
     "metadata": {},
     "output_type": "execute_result"
    }
   ],
   "source": [
    "routes.sort(key=lambda x:x[1]) # 나간지점 기준 오름차순\n",
    "routes"
   ]
  },
  {
   "cell_type": "code",
   "execution_count": 13,
   "id": "3ec75a1c",
   "metadata": {
    "ExecuteTime": {
     "end_time": "2022-05-25T07:59:09.899923Z",
     "start_time": "2022-05-25T07:59:09.891636Z"
    }
   },
   "outputs": [],
   "source": [
    "camera = -30001 # -30000 ~ 30000"
   ]
  },
  {
   "cell_type": "code",
   "execution_count": 14,
   "id": "f51a54a2",
   "metadata": {
    "ExecuteTime": {
     "end_time": "2022-05-25T07:59:38.121352Z",
     "start_time": "2022-05-25T07:59:38.111210Z"
    }
   },
   "outputs": [],
   "source": [
    "answer = 0\n",
    "for route in routes:\n",
    "    if camera < route[0]:\n",
    "        answer += 1\n",
    "        camera = route[1]"
   ]
  },
  {
   "cell_type": "code",
   "execution_count": 15,
   "id": "754a5d1f",
   "metadata": {
    "ExecuteTime": {
     "end_time": "2022-05-25T07:59:40.618323Z",
     "start_time": "2022-05-25T07:59:40.601387Z"
    }
   },
   "outputs": [
    {
     "data": {
      "text/plain": [
       "2"
      ]
     },
     "execution_count": 15,
     "metadata": {},
     "output_type": "execute_result"
    }
   ],
   "source": [
    "answer"
   ]
  },
  {
   "cell_type": "markdown",
   "id": "adad2f8e",
   "metadata": {},
   "source": [
    "solution"
   ]
  },
  {
   "cell_type": "code",
   "execution_count": null,
   "id": "e351ff3c",
   "metadata": {},
   "outputs": [],
   "source": [
    "def solution(routes):\n",
    "    answer = 0\n",
    "    routes.sort(key = lambda x : x[1]) # 나간지점 기준 오름차순\n",
    "    camera = -30001 # 진입지점 -30000 부터\n",
    "    for route in routes:\n",
    "        if camera < route[0]:\n",
    "            answer += 1\n",
    "            camera = route[1]\n",
    "    return answer"
   ]
  }
 ],
 "metadata": {
  "kernelspec": {
   "display_name": "Python 3",
   "language": "python",
   "name": "python3"
  },
  "language_info": {
   "codemirror_mode": {
    "name": "ipython",
    "version": 3
   },
   "file_extension": ".py",
   "mimetype": "text/x-python",
   "name": "python",
   "nbconvert_exporter": "python",
   "pygments_lexer": "ipython3",
   "version": "3.8.8"
  },
  "toc": {
   "base_numbering": 1,
   "nav_menu": {},
   "number_sections": true,
   "sideBar": true,
   "skip_h1_title": false,
   "title_cell": "Table of Contents",
   "title_sidebar": "Contents",
   "toc_cell": false,
   "toc_position": {},
   "toc_section_display": true,
   "toc_window_display": false
  },
  "varInspector": {
   "cols": {
    "lenName": 16,
    "lenType": 16,
    "lenVar": 40
   },
   "kernels_config": {
    "python": {
     "delete_cmd_postfix": "",
     "delete_cmd_prefix": "del ",
     "library": "var_list.py",
     "varRefreshCmd": "print(var_dic_list())"
    },
    "r": {
     "delete_cmd_postfix": ") ",
     "delete_cmd_prefix": "rm(",
     "library": "var_list.r",
     "varRefreshCmd": "cat(var_dic_list()) "
    }
   },
   "types_to_exclude": [
    "module",
    "function",
    "builtin_function_or_method",
    "instance",
    "_Feature"
   ],
   "window_display": false
  }
 },
 "nbformat": 4,
 "nbformat_minor": 5
}
