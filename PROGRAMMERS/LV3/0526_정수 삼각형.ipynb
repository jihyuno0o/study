{
 "cells": [
  {
   "cell_type": "markdown",
   "id": "fa5ce414",
   "metadata": {},
   "source": [
    "https://programmers.co.kr/learn/courses/30/lessons/43105"
   ]
  },
  {
   "attachments": {
    "image.png": {
     "image/png": "[encoded data removed]"
    }
   },
   "cell_type": "markdown",
   "id": "ad119587",
   "metadata": {},
   "source": [
    "## 문제 설명\n",
    "![image.png](attachment:image.png)\n",
    "위와 같은 삼각형의 꼭대기에서 바닥까지 이어지는 경로 중, 거쳐간 숫자의 합이 가장 큰 경우를 찾아보려고 합니다. 아래 칸으로 이동할 때는 대각선 방향으로 한 칸 오른쪽 또는 왼쪽으로만 이동 가능합니다. 예를 들어 3에서는 그 아래칸의 8 또는 1로만 이동이 가능합니다.\n",
    "\n",
    "삼각형의 정보가 담긴 배열 triangle이 매개변수로 주어질 때, 거쳐간 숫자의 최댓값을 return 하도록 solution 함수를 완성하세요.\n",
    "\n",
    "## 제한사항\n",
    "- 삼각형의 높이는 1 이상 500 이하입니다.\n",
    "- 삼각형을 이루고 있는 숫자는 0 이상 9,999 이하의 정수입니다."
   ]
  },
  {
   "cell_type": "code",
   "execution_count": 14,
   "id": "48cfbc92",
   "metadata": {
    "ExecuteTime": {
     "end_time": "2022-05-26T01:45:59.696632Z",
     "start_time": "2022-05-26T01:45:59.676784Z"
    }
   },
   "outputs": [],
   "source": [
    "triangle = [[7], [3, 8], [8, 1, 0], [2, 7, 4, 4], [4, 5, 2, 6, 5]]\n",
    "# 30"
   ]
  },
  {
   "cell_type": "code",
   "execution_count": 15,
   "id": "2b9c5499",
   "metadata": {
    "ExecuteTime": {
     "end_time": "2022-05-26T01:45:59.945871Z",
     "start_time": "2022-05-26T01:45:59.926913Z"
    }
   },
   "outputs": [
    {
     "name": "stdout",
     "output_type": "stream",
     "text": [
      "[7]\n",
      "[3, 8]\n",
      "[8, 1, 0]\n",
      "[2, 7, 4, 4]\n",
      "[4, 5, 2, 6, 5]\n"
     ]
    }
   ],
   "source": [
    "for t in triangle:\n",
    "    print(t)"
   ]
  },
  {
   "cell_type": "code",
   "execution_count": 16,
   "id": "7d8171e7",
   "metadata": {
    "ExecuteTime": {
     "end_time": "2022-05-26T01:46:00.335564Z",
     "start_time": "2022-05-26T01:46:00.316359Z"
    }
   },
   "outputs": [
    {
     "data": {
      "text/plain": [
       "5"
      ]
     },
     "execution_count": 16,
     "metadata": {},
     "output_type": "execute_result"
    }
   ],
   "source": [
    "len(triangle)"
   ]
  },
  {
   "cell_type": "code",
   "execution_count": 17,
   "id": "d36da88a",
   "metadata": {
    "ExecuteTime": {
     "end_time": "2022-05-26T01:46:00.832630Z",
     "start_time": "2022-05-26T01:46:00.814319Z"
    }
   },
   "outputs": [
    {
     "name": "stdout",
     "output_type": "stream",
     "text": [
      "[3, 8]\n",
      "[10, 8]\n",
      "[8, 1, 0]\n",
      "[18, 1, 0]\n",
      "[18, 16, 0]\n",
      "[2, 7, 4, 4]\n",
      "[20, 7, 4, 4]\n",
      "[20, 25, 4, 4]\n",
      "[20, 25, 20, 4]\n",
      "[4, 5, 2, 6, 5]\n",
      "[24, 5, 2, 6, 5]\n",
      "[24, 30, 2, 6, 5]\n",
      "[24, 30, 27, 6, 5]\n",
      "[24, 30, 27, 26, 5]\n"
     ]
    }
   ],
   "source": [
    "for i, t in enumerate(triangle):\n",
    "    if i == 0:\n",
    "        continue\n",
    "    for j, n in enumerate(t):\n",
    "        print(t)\n",
    "        if j == 0:\n",
    "            triangle[i][j] = n + triangle[i-1][j]\n",
    "        elif j == len(t) - 1:\n",
    "            triangle[i][j] = n + triangle[i-1][j-1]\n",
    "        else:\n",
    "            large, small = triangle[i-1][j-1], triangle[i-1][j]\n",
    "            if large < small:\n",
    "                large, samll = small, large\n",
    "            triangle[i][j] = large + n"
   ]
  },
  {
   "cell_type": "markdown",
   "id": "e089238d",
   "metadata": {},
   "source": [
    "solution"
   ]
  },
  {
   "cell_type": "code",
   "execution_count": null,
   "id": "6eb2fc6c",
   "metadata": {},
   "outputs": [],
   "source": [
    "def solution(triangle):\n",
    "    for i, t in enumerate(triangle):\n",
    "        if i == 0: # 첫째줄 pass\n",
    "            continue\n",
    "        for j, n in enumerate(t):\n",
    "            if j == 0: # [i, 0] 과 [i, -1]은 대각선 방향이 하나만 존재\n",
    "                triangle[i][j] = n + triangle[i-1][j]\n",
    "            elif j == len(t) - 1:\n",
    "                triangle[i][j] = n + triangle[i-1][j-1]\n",
    "            else: # 대각선 방향 두개\n",
    "                large, small = triangle[i-1][j-1], triangle[i-1][j] \n",
    "                if large < small:\n",
    "                    large, samll = small, large\n",
    "                triangle[i][j] = large + n # 두 대각선 방향 중 큰 값을 더함\n",
    "                \n",
    "    return max(triangle[len(triangle) - 1])"
   ]
  }
 ],
 "metadata": {
  "kernelspec": {
   "display_name": "Python 3",
   "language": "python",
   "name": "python3"
  },
  "language_info": {
   "codemirror_mode": {
    "name": "ipython",
    "version": 3
   },
   "file_extension": ".py",
   "mimetype": "text/x-python",
   "name": "python",
   "nbconvert_exporter": "python",
   "pygments_lexer": "ipython3",
   "version": "3.8.8"
  },
  "toc": {
   "base_numbering": 1,
   "nav_menu": {},
   "number_sections": true,
   "sideBar": true,
   "skip_h1_title": false,
   "title_cell": "Table of Contents",
   "title_sidebar": "Contents",
   "toc_cell": false,
   "toc_position": {},
   "toc_section_display": true,
   "toc_window_display": false
  },
  "varInspector": {
   "cols": {
    "lenName": 16,
    "lenType": 16,
    "lenVar": 40
   },
   "kernels_config": {
    "python": {
     "delete_cmd_postfix": "",
     "delete_cmd_prefix": "del ",
     "library": "var_list.py",
     "varRefreshCmd": "print(var_dic_list())"
    },
    "r": {
     "delete_cmd_postfix": ") ",
     "delete_cmd_prefix": "rm(",
     "library": "var_list.r",
     "varRefreshCmd": "cat(var_dic_list()) "
    }
   },
   "types_to_exclude": [
    "module",
    "function",
    "builtin_function_or_method",
    "instance",
    "_Feature"
   ],
   "window_display": false
  }
 },
 "nbformat": 4,
 "nbformat_minor": 5
}
