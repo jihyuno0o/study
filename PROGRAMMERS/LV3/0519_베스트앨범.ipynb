{
 "cells": [
  {
   "cell_type": "markdown",
   "id": "24985b7f",
   "metadata": {},
   "source": [
    "https://programmers.co.kr/learn/courses/30/lessons/42579?language=python3"
   ]
  },
  {
   "cell_type": "markdown",
   "id": "64a2604a",
   "metadata": {
    "ExecuteTime": {
     "end_time": "2022-05-19T07:24:01.716234Z",
     "start_time": "2022-05-19T07:24:01.699181Z"
    }
   },
   "source": [
    "## 문제 설명\n",
    "스트리밍 사이트에서 장르 별로 가장 많이 재생된 노래를 두 개씩 모아 베스트 앨범을 출시하려 합니다. 노래는 고유 번호로 구분하며, 노래를 수록하는 기준은 다음과 같습니다.\n",
    "\n",
    "1. 속한 노래가 많이 재생된 장르를 먼저 수록합니다.\n",
    "2. 장르 내에서 많이 재생된 노래를 먼저 수록합니다.\n",
    "3. 장르 내에서 재생 횟수가 같은 노래 중에서는 고유 번호가 낮은 노래를 먼저 수록합니다.\n",
    "\n",
    "노래의 장르를 나타내는 문자열 배열 genres와 노래별 재생 횟수를 나타내는 정수 배열 plays가 주어질 때, 베스트 앨범에 들어갈 노래의 고유 번호를 순서대로 return 하도록 solution 함수를 완성하세요.\n",
    "\n",
    "## 제한사항\n",
    "- genres[i]는 고유번호가 i인 노래의 장르입니다.\n",
    "- plays[i]는 고유번호가 i인 노래가 재생된 횟수입니다.\n",
    "- genres와 plays의 길이는 같으며, 이는 1 이상 10,000 이하입니다.\n",
    "- 장르 종류는 100개 미만입니다.\n",
    "- 장르에 속한 곡이 하나라면, 하나의 곡만 선택합니다.\n",
    "- 모든 장르는 재생된 횟수가 다릅니다."
   ]
  },
  {
   "attachments": {
    "image.png": {
     "image/png": "[encoded data removed]"
    }
   },
   "cell_type": "markdown",
   "id": "69073945",
   "metadata": {},
   "source": [
    "![image.png](attachment:image.png)"
   ]
  },
  {
   "cell_type": "markdown",
   "id": "e250b62a",
   "metadata": {},
   "source": [
    "## 입출력 예 설명\n",
    "classic 장르는 1,450회 재생되었으며, classic 노래는 다음과 같습니다.\n",
    "\n",
    "- 고유 번호 3: 800회 재생\n",
    "- 고유 번호 0: 500회 재생\n",
    "- 고유 번호 2: 150회 재생\n",
    "\n",
    "pop 장르는 3,100회 재생되었으며, pop 노래는 다음과 같습니다.\n",
    "\n",
    "- 고유 번호 4: 2,500회 재생\n",
    "- 고유 번호 1: 600회 재생\n",
    "\n",
    "따라서 pop 장르의 [4, 1]번 노래를 먼저, classic 장르의 [3, 0]번 노래를 그다음에 수록합니다."
   ]
  },
  {
   "cell_type": "code",
   "execution_count": 145,
   "id": "33665860",
   "metadata": {
    "ExecuteTime": {
     "end_time": "2022-05-19T08:26:47.421629Z",
     "start_time": "2022-05-19T08:26:47.415542Z"
    }
   },
   "outputs": [],
   "source": [
    "genres = [\"classic\", \"pop\", \"classic\", \"classic\", \"pop\"]\n",
    "plays = [500, 600, 150, 800, 2500]\n"
   ]
  },
  {
   "cell_type": "code",
   "execution_count": 151,
   "id": "4d0d1178",
   "metadata": {
    "ExecuteTime": {
     "end_time": "2022-05-19T08:27:20.882926Z",
     "start_time": "2022-05-19T08:27:20.867856Z"
    }
   },
   "outputs": [],
   "source": [
    "genres = [\"classic\", \"pop\", \"classic\", \"classic\", \"pop\", \"zazz\", \"zazz\"]\n",
    "plays = [500, 600, 150, 800, 2500, 2000, 6000]"
   ]
  },
  {
   "cell_type": "code",
   "execution_count": 152,
   "id": "ab25d120",
   "metadata": {
    "ExecuteTime": {
     "end_time": "2022-05-19T08:27:21.163618Z",
     "start_time": "2022-05-19T08:27:21.157422Z"
    }
   },
   "outputs": [],
   "source": [
    "answer = []"
   ]
  },
  {
   "cell_type": "code",
   "execution_count": 153,
   "id": "1e87ab52",
   "metadata": {
    "ExecuteTime": {
     "end_time": "2022-05-19T08:27:21.412897Z",
     "start_time": "2022-05-19T08:27:21.401466Z"
    }
   },
   "outputs": [],
   "source": [
    "record = {} # 장르별 총 재생 수 저장\n",
    "index = {} # 장르에 인덱스 붙여서 저장"
   ]
  },
  {
   "cell_type": "code",
   "execution_count": 154,
   "id": "25825baa",
   "metadata": {
    "ExecuteTime": {
     "end_time": "2022-05-19T08:27:21.677834Z",
     "start_time": "2022-05-19T08:27:21.669559Z"
    }
   },
   "outputs": [
    {
     "name": "stdout",
     "output_type": "stream",
     "text": [
      "{'classic': 500} {'classic': 0} 1\n",
      "\n",
      "{'classic': 500, 'pop': 600} {'classic': 0, 'pop': 1} 2\n",
      "\n",
      "{'classic': 650, 'pop': 600} {'classic': 0, 'pop': 1} 2\n",
      "\n",
      "{'classic': 1450, 'pop': 600} {'classic': 0, 'pop': 1} 2\n",
      "\n",
      "{'classic': 1450, 'pop': 3100} {'classic': 0, 'pop': 1} 2\n",
      "\n",
      "{'classic': 1450, 'pop': 3100, 'zazz': 2000} {'classic': 0, 'pop': 1, 'zazz': 2} 3\n",
      "\n",
      "{'classic': 1450, 'pop': 3100, 'zazz': 8000} {'classic': 0, 'pop': 1, 'zazz': 2} 3\n",
      "\n"
     ]
    }
   ],
   "source": [
    "indx = 0\n",
    "for i, genre in enumerate(genres): \n",
    "    if genre in record: # record 에 저장된 장르 있으면\n",
    "        record[genre] = record[genre] + plays[i] # 기존 재생 수 + 현재 i번의 재생 수\n",
    "    else: # 없으면\n",
    "        record[genre] = plays[i] #record에 추가\n",
    "        index[genre] = indx # 장르에 인덱스 부여\n",
    "        indx += 1 # 인덱스 증가\n",
    "    print(record, index, indx)\n",
    "    print()"
   ]
  },
  {
   "cell_type": "code",
   "execution_count": 155,
   "id": "b23817fc",
   "metadata": {
    "ExecuteTime": {
     "end_time": "2022-05-19T08:27:24.188241Z",
     "start_time": "2022-05-19T08:27:24.177951Z"
    },
    "scrolled": true
   },
   "outputs": [
    {
     "data": {
      "text/plain": [
       "({'classic': 1450, 'pop': 3100, 'zazz': 8000},\n",
       " {'classic': 0, 'pop': 1, 'zazz': 2})"
      ]
     },
     "execution_count": 155,
     "metadata": {},
     "output_type": "execute_result"
    }
   ],
   "source": [
    "record, index"
   ]
  },
  {
   "cell_type": "code",
   "execution_count": 110,
   "id": "61582799",
   "metadata": {
    "ExecuteTime": {
     "end_time": "2022-05-19T08:18:57.870712Z",
     "start_time": "2022-05-19T08:18:57.861771Z"
    }
   },
   "outputs": [
    {
     "data": {
      "text/plain": [
       "deque([('pop', 3100), ('classic', 1450)])"
      ]
     },
     "execution_count": 110,
     "metadata": {},
     "output_type": "execute_result"
    }
   ],
   "source": [
    "from collections import deque\n",
    "record = deque(sorted(record.items(), reverse=True, key=lambda x:x[1]))\n",
    "record"
   ]
  },
  {
   "cell_type": "code",
   "execution_count": 111,
   "id": "5bf5431d",
   "metadata": {
    "ExecuteTime": {
     "end_time": "2022-05-19T08:18:59.331427Z",
     "start_time": "2022-05-19T08:18:59.310799Z"
    }
   },
   "outputs": [
    {
     "data": {
      "text/plain": [
       "[[], []]"
      ]
     },
     "execution_count": 111,
     "metadata": {},
     "output_type": "execute_result"
    }
   ],
   "source": [
    "output = [[] for _ in range(len(index))] # 재생 수와 노래번호 index에 저장된 장르 인덱스에 저장\n",
    "output"
   ]
  },
  {
   "cell_type": "code",
   "execution_count": 112,
   "id": "91482c38",
   "metadata": {
    "ExecuteTime": {
     "end_time": "2022-05-19T08:18:59.718826Z",
     "start_time": "2022-05-19T08:18:59.697985Z"
    }
   },
   "outputs": [],
   "source": [
    "i = 0\n",
    "for genre, play in zip(genres, plays):\n",
    "    output[index.get(genre)].append((play, i)) #index에 저장된 장르 인덱스에 재생수와 번호 넣기\n",
    "    i += 1"
   ]
  },
  {
   "cell_type": "code",
   "execution_count": 116,
   "id": "2d7bfa67",
   "metadata": {
    "ExecuteTime": {
     "end_time": "2022-05-19T08:19:08.792195Z",
     "start_time": "2022-05-19T08:19:08.782014Z"
    },
    "scrolled": true
   },
   "outputs": [
    {
     "data": {
      "text/plain": [
       "[[(500, 0), (150, 2), (800, 3)], [(600, 1), (2500, 4)]]"
      ]
     },
     "execution_count": 116,
     "metadata": {},
     "output_type": "execute_result"
    }
   ],
   "source": [
    "output # 0번 인덱스는 classic, 1번 인덱슨느 pop"
   ]
  },
  {
   "cell_type": "code",
   "execution_count": 114,
   "id": "4cf218f7",
   "metadata": {
    "ExecuteTime": {
     "end_time": "2022-05-19T08:19:02.490023Z",
     "start_time": "2022-05-19T08:19:02.486034Z"
    }
   },
   "outputs": [],
   "source": [
    "while record:\n",
    "    genre, _ = record.popleft() # 누적 재생 수 높은 장르 부터\n",
    "    answer.extend(list(map(lambda x:x[1], sorted(output[index.get(genre)], reverse=True, key=lambda x:(x[0],x[1]))[:2])))\n",
    "    # output의 해당 genre 인덱스를 재생수기준으로 오름차순 정렬 후 2번까지 슬라이싱, \n",
    "    # map() 사용해서 해당 노래의 번호만 answer에 append"
   ]
  },
  {
   "cell_type": "code",
   "execution_count": 115,
   "id": "0826573e",
   "metadata": {
    "ExecuteTime": {
     "end_time": "2022-05-19T08:19:03.181275Z",
     "start_time": "2022-05-19T08:19:03.170218Z"
    }
   },
   "outputs": [
    {
     "data": {
      "text/plain": [
       "[4, 1, 3, 0, 2]"
      ]
     },
     "execution_count": 115,
     "metadata": {},
     "output_type": "execute_result"
    }
   ],
   "source": [
    "answer"
   ]
  },
  {
   "cell_type": "code",
   "execution_count": 117,
   "id": "f4d52bbd",
   "metadata": {
    "ExecuteTime": {
     "end_time": "2022-05-19T08:19:27.373176Z",
     "start_time": "2022-05-19T08:19:27.362285Z"
    }
   },
   "outputs": [
    {
     "data": {
      "text/plain": [
       "[(800, 3), (500, 0)]"
      ]
     },
     "execution_count": 117,
     "metadata": {},
     "output_type": "execute_result"
    }
   ],
   "source": [
    "sorted(output[index.get(genre)], reverse=True, key=lambda x:(x[0],x[1]))[:2]"
   ]
  },
  {
   "cell_type": "markdown",
   "id": "ebe918db",
   "metadata": {},
   "source": [
    "solution"
   ]
  },
  {
   "cell_type": "code",
   "execution_count": 161,
   "id": "c4949b27",
   "metadata": {
    "ExecuteTime": {
     "end_time": "2022-05-19T08:28:29.122749Z",
     "start_time": "2022-05-19T08:28:29.095824Z"
    }
   },
   "outputs": [],
   "source": [
    "def solution(genres, plays):\n",
    "    answer = []\n",
    "\n",
    "    record = {} # 장르별 총 재생 수 저장\n",
    "    index = {} # 장르에 인덱스 붙여서 저장\n",
    "\n",
    "    indx = 0\n",
    "    for i, genre in enumerate(genres): \n",
    "        if genre in record: # record 에 저장된 장르 있으면\n",
    "            record[genre] = record[genre] + plays[i] # 기존 재생 수 + 현재 i번의 재생 수\n",
    "        else: # 없으면\n",
    "            record[genre] = plays[i] #record에 추가\n",
    "            index[genre] = indx # 장르에 인덱스 부여\n",
    "            indx += 1 # 인덱스 증가\n",
    "\n",
    "    output = [[] for _ in range(len(index))] # 재생 수와 노래번호 index에 저장된 장르 인덱스에 저장\n",
    "    i = 0\n",
    "    for genre, play in zip(genres, plays):\n",
    "        output[index.get(genre)].append((play, i)) #index에 저장된 장르 인덱스에 재생수와 번호 넣기\n",
    "        i += 1\n",
    "\n",
    "    from collections import deque\n",
    "    record = deque(sorted(record.items(), reverse=True, key=lambda x:x[1]))    \n",
    "    while record:\n",
    "        genre, _ = record.popleft() # 누적 재생 수 높은 장르 부터\n",
    "        answer.extend(list(map(lambda x:x[1], sorted(output[index.get(genre)], reverse=True, key=lambda x:(x[0],-x[1]))[:2])))\n",
    "        # output의 해당 genre 인덱스를 재생수기준으로 오름차순 정렬 후 2번까지 슬라이싱, \n",
    "        # map() 사용해서 해당 노래의 번호만 answer에 append   \n",
    "    \n",
    "    return answer"
   ]
  },
  {
   "cell_type": "code",
   "execution_count": 162,
   "id": "a068e6f6",
   "metadata": {
    "ExecuteTime": {
     "end_time": "2022-05-19T08:28:29.294422Z",
     "start_time": "2022-05-19T08:28:29.276261Z"
    }
   },
   "outputs": [],
   "source": [
    "genres = [\"classic\", \"pop\", \"classic\", \"pop\", \"classic\", \"classic\"]\n",
    "plays = [1950, 600, 500, 2500, 500, 150]"
   ]
  },
  {
   "cell_type": "code",
   "execution_count": 163,
   "id": "419c694d",
   "metadata": {
    "ExecuteTime": {
     "end_time": "2022-05-19T08:28:29.498711Z",
     "start_time": "2022-05-19T08:28:29.485319Z"
    }
   },
   "outputs": [
    {
     "data": {
      "text/plain": [
       "[0, 2, 3, 1]"
      ]
     },
     "execution_count": 163,
     "metadata": {},
     "output_type": "execute_result"
    }
   ],
   "source": [
    "solution(genres, plays)"
   ]
  },
  {
   "cell_type": "code",
   "execution_count": null,
   "id": "c535c739",
   "metadata": {
    "collapsed": true
   },
   "outputs": [],
   "source": []
  }
 ],
 "metadata": {
  "kernelspec": {
   "display_name": "Python 3",
   "language": "python",
   "name": "python3"
  },
  "language_info": {
   "codemirror_mode": {
    "name": "ipython",
    "version": 3
   },
   "file_extension": ".py",
   "mimetype": "text/x-python",
   "name": "python",
   "nbconvert_exporter": "python",
   "pygments_lexer": "ipython3",
   "version": "3.8.8"
  },
  "toc": {
   "base_numbering": 1,
   "nav_menu": {},
   "number_sections": true,
   "sideBar": true,
   "skip_h1_title": false,
   "title_cell": "Table of Contents",
   "title_sidebar": "Contents",
   "toc_cell": false,
   "toc_position": {},
   "toc_section_display": true,
   "toc_window_display": false
  },
  "varInspector": {
   "cols": {
    "lenName": 16,
    "lenType": 16,
    "lenVar": 40
   },
   "kernels_config": {
    "python": {
     "delete_cmd_postfix": "",
     "delete_cmd_prefix": "del ",
     "library": "var_list.py",
     "varRefreshCmd": "print(var_dic_list())"
    },
    "r": {
     "delete_cmd_postfix": ") ",
     "delete_cmd_prefix": "rm(",
     "library": "var_list.r",
     "varRefreshCmd": "cat(var_dic_list()) "
    }
   },
   "types_to_exclude": [
    "module",
    "function",
    "builtin_function_or_method",
    "instance",
    "_Feature"
   ],
   "window_display": false
  }
 },
 "nbformat": 4,
 "nbformat_minor": 5
}
