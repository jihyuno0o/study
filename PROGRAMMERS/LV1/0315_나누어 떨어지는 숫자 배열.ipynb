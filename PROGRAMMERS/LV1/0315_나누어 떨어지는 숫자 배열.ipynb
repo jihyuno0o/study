{
 "cells": [
  {
   "cell_type": "markdown",
   "id": "08250d35",
   "metadata": {},
   "source": [
    "https://programmers.co.kr/learn/courses/30/lessons/12910"
   ]
  },
  {
   "cell_type": "markdown",
   "id": "7964ca41",
   "metadata": {
    "ExecuteTime": {
     "end_time": "2022-03-10T07:07:44.878333Z",
     "start_time": "2022-03-10T07:07:44.868255Z"
    }
   },
   "source": [
    "array의 각 element 중 divisor로 나누어 떨어지는 값을 오름차순으로 정렬한 배열을 반환하는 함수, solution을 작성해주세요.\n",
    "divisor로 나누어 떨어지는 element가 하나도 없다면 배열에 -1을 담아 반환하세요.\n",
    "\n",
    "제한사항\n",
    "- arr은 자연수를 담은 배열입니다.\n",
    "- 정수 i, j에 대해 i ≠ j 이면 arr[i] ≠ arr[j] 입니다.\n",
    "- divisor는 자연수입니다.\n",
    "- array는 길이 1 이상인 배열입니다."
   ]
  },
  {
   "cell_type": "markdown",
   "id": "97e5cbbe",
   "metadata": {},
   "source": [
    "[5, 9, 7, 10]\t5\t[5, 10]\n",
    "\n",
    "[2, 36, 1, 3]\t1\t[1, 2, 3, 36]\n",
    "\n",
    "[3,2,6]\t10\t[-1]"
   ]
  },
  {
   "cell_type": "code",
   "execution_count": 18,
   "id": "10192301",
   "metadata": {
    "ExecuteTime": {
     "end_time": "2022-03-10T07:13:53.743740Z",
     "start_time": "2022-03-10T07:13:53.729719Z"
    }
   },
   "outputs": [],
   "source": [
    "arr = [2, 36, 1, 3]\n",
    "divisor = 1\n",
    "# [1, 2, 3, 36]"
   ]
  },
  {
   "cell_type": "code",
   "execution_count": 14,
   "id": "cd64a869",
   "metadata": {
    "ExecuteTime": {
     "end_time": "2022-03-10T07:13:35.167147Z",
     "start_time": "2022-03-10T07:13:35.162165Z"
    }
   },
   "outputs": [],
   "source": [
    "arr = [3,2,6]\n",
    "divisor = 10\n",
    "# [-1]"
   ]
  },
  {
   "cell_type": "code",
   "execution_count": 19,
   "id": "e72b5556",
   "metadata": {
    "ExecuteTime": {
     "end_time": "2022-03-10T07:13:54.821638Z",
     "start_time": "2022-03-10T07:13:54.809197Z"
    }
   },
   "outputs": [],
   "source": [
    "answer = []"
   ]
  },
  {
   "cell_type": "code",
   "execution_count": 20,
   "id": "a3348c9c",
   "metadata": {
    "ExecuteTime": {
     "end_time": "2022-03-10T07:13:55.087631Z",
     "start_time": "2022-03-10T07:13:55.074536Z"
    }
   },
   "outputs": [],
   "source": [
    "arr.sort()\n",
    "for num in sorted(arr):\n",
    "    if num%divisor == 0:\n",
    "        answer.append(num)\n",
    "        \n",
    "if len(answer)==0:\n",
    "    answer = [-1]"
   ]
  },
  {
   "cell_type": "code",
   "execution_count": 21,
   "id": "55061ba2",
   "metadata": {
    "ExecuteTime": {
     "end_time": "2022-03-10T07:13:55.809734Z",
     "start_time": "2022-03-10T07:13:55.788952Z"
    }
   },
   "outputs": [
    {
     "data": {
      "text/plain": [
       "[1, 2, 3, 36]"
      ]
     },
     "execution_count": 21,
     "metadata": {},
     "output_type": "execute_result"
    }
   ],
   "source": [
    "answer"
   ]
  },
  {
   "cell_type": "markdown",
   "id": "db0a227f",
   "metadata": {},
   "source": [
    "solution"
   ]
  },
  {
   "cell_type": "code",
   "execution_count": null,
   "id": "5046f31b",
   "metadata": {},
   "outputs": [],
   "source": [
    "def solution(arr, divisor):\n",
    "    answer = []\n",
    "    for num in sorted(arr):\n",
    "        if num%divisor == 0:\n",
    "            answer.append(num)\n",
    "    \n",
    "    if len(answer) == 0:\n",
    "        return [-1]\n",
    "    return answer"
   ]
  },
  {
   "cell_type": "markdown",
   "id": "2e42fb78",
   "metadata": {},
   "source": [
    "다른 사람 코드 - 앞에것이 거짓일때 뒤에것이 호출"
   ]
  },
  {
   "cell_type": "code",
   "execution_count": null,
   "id": "599056b7",
   "metadata": {},
   "outputs": [],
   "source": [
    "def solution(arr, divisor): return sorted([n for n in arr if n%divisor == 0]) or [-1]"
   ]
  },
  {
   "cell_type": "code",
   "execution_count": null,
   "id": "fe1ee410",
   "metadata": {},
   "outputs": [],
   "source": []
  }
 ],
 "metadata": {
  "kernelspec": {
   "display_name": "Python 3",
   "language": "python",
   "name": "python3"
  },
  "language_info": {
   "codemirror_mode": {
    "name": "ipython",
    "version": 3
   },
   "file_extension": ".py",
   "mimetype": "text/x-python",
   "name": "python",
   "nbconvert_exporter": "python",
   "pygments_lexer": "ipython3",
   "version": "3.8.8"
  },
  "toc": {
   "base_numbering": 1,
   "nav_menu": {},
   "number_sections": true,
   "sideBar": true,
   "skip_h1_title": false,
   "title_cell": "Table of Contents",
   "title_sidebar": "Contents",
   "toc_cell": false,
   "toc_position": {},
   "toc_section_display": true,
   "toc_window_display": false
  },
  "varInspector": {
   "cols": {
    "lenName": 16,
    "lenType": 16,
    "lenVar": 40
   },
   "kernels_config": {
    "python": {
     "delete_cmd_postfix": "",
     "delete_cmd_prefix": "del ",
     "library": "var_list.py",
     "varRefreshCmd": "print(var_dic_list())"
    },
    "r": {
     "delete_cmd_postfix": ") ",
     "delete_cmd_prefix": "rm(",
     "library": "var_list.r",
     "varRefreshCmd": "cat(var_dic_list()) "
    }
   },
   "types_to_exclude": [
    "module",
    "function",
    "builtin_function_or_method",
    "instance",
    "_Feature"
   ],
   "window_display": false
  }
 },
 "nbformat": 4,
 "nbformat_minor": 5
}
