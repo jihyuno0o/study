{
 "cells": [
  {
   "cell_type": "markdown",
   "id": "a42e7176",
   "metadata": {},
   "source": [
    "https://programmers.co.kr/learn/courses/30/lessons/42862"
   ]
  },
  {
   "cell_type": "markdown",
   "id": "abe32458",
   "metadata": {},
   "source": [
    "점심시간에 도둑이 들어, 일부 학생이 체육복을 도난당했습니다. 다행히 여벌 체육복이 있는 학생이 이들에게 체육복을 빌려주려 합니다. 학생들의 번호는 체격 순으로 매겨져 있어, 바로 앞번호의 학생이나 바로 뒷번호의 학생에게만 체육복을 빌려줄 수 있습니다. 예를 들어, 4번 학생은 3번 학생이나 5번 학생에게만 체육복을 빌려줄 수 있습니다. 체육복이 없으면 수업을 들을 수 없기 때문에 체육복을 적절히 빌려 최대한 많은 학생이 체육수업을 들어야 합니다.\n",
    "\n",
    "전체 학생의 수 n, 체육복을 도난당한 학생들의 번호가 담긴 배열 lost, 여벌의 체육복을 가져온 학생들의 번호가 담긴 배열 reserve가 매개변수로 주어질 때, 체육수업을 들을 수 있는 학생의 최댓값을 return 하도록 solution 함수를 작성해주세요."
   ]
  },
  {
   "cell_type": "markdown",
   "id": "6c4b7254",
   "metadata": {
    "ExecuteTime": {
     "end_time": "2022-03-18T03:05:42.904259Z",
     "start_time": "2022-03-18T03:05:42.896277Z"
    }
   },
   "source": [
    "제한사항\n",
    "- 전체 학생의 수는 2명 이상 30명 이하입니다.\n",
    "- 체육복을 도난당한 학생의 수는 1명 이상 n명 이하이고 중복되는 번호는 없습니다.\n",
    "- 여벌의 체육복을 가져온 학생의 수는 1명 이상 n명 이하이고 중복되는 번호는 없습니다.\n",
    "- 여벌 체육복이 있는 학생만 다른 학생에게 체육복을 빌려줄 수 있습니다.\n",
    "- 여벌 체육복을 가져온 학생이 체육복을 도난당했을 수 있습니다. 이때 이 학생은 체육복을 하나만 도난당했다고 가정하며, 남은 체육복이 하나이기에 다른 학생에게는 체육복을 빌려줄 수 없습니다."
   ]
  },
  {
   "cell_type": "code",
   "execution_count": 2,
   "id": "a80a647f",
   "metadata": {
    "ExecuteTime": {
     "end_time": "2022-03-18T03:08:47.474194Z",
     "start_time": "2022-03-18T03:08:47.460606Z"
    }
   },
   "outputs": [],
   "source": [
    "lost = [2, 4]\n",
    "reserve = [1,3,5]\n",
    "# 5"
   ]
  },
  {
   "cell_type": "markdown",
   "id": "c9f907c5",
   "metadata": {},
   "source": [
    "예제 #1\n",
    "1번 학생이 2번 학생에게 체육복을 빌려주고, 3번 학생이나 5번 학생이 4번 학생에게 체육복을 빌려주면 학생 5명이 체육수업을 들을 수 있습니다."
   ]
  },
  {
   "cell_type": "code",
   "execution_count": 3,
   "id": "e79f8332",
   "metadata": {
    "ExecuteTime": {
     "end_time": "2022-03-18T03:18:28.286238Z",
     "start_time": "2022-03-18T03:18:28.267414Z"
    }
   },
   "outputs": [],
   "source": [
    "reserve = [r for r in reserve if r not in lost]\n",
    "lost = [l for l in lost if l not in reserve]"
   ]
  },
  {
   "cell_type": "code",
   "execution_count": 4,
   "id": "76d56872",
   "metadata": {
    "ExecuteTime": {
     "end_time": "2022-03-18T03:19:45.205017Z",
     "start_time": "2022-03-18T03:19:45.197176Z"
    }
   },
   "outputs": [],
   "source": [
    "for i in reserve:\n",
    "    if i-1 in lost:\n",
    "        lost.remove(i-1)\n",
    "    elif i+1 in lost:\n",
    "        lost.remove(i+1)"
   ]
  },
  {
   "cell_type": "code",
   "execution_count": 5,
   "id": "7f1bba32",
   "metadata": {
    "ExecuteTime": {
     "end_time": "2022-03-18T03:19:48.069960Z",
     "start_time": "2022-03-18T03:19:48.047825Z"
    }
   },
   "outputs": [
    {
     "data": {
      "text/plain": [
       "[]"
      ]
     },
     "execution_count": 5,
     "metadata": {},
     "output_type": "execute_result"
    }
   ],
   "source": [
    "lost"
   ]
  },
  {
   "cell_type": "markdown",
   "id": "d522eb84",
   "metadata": {},
   "source": [
    "solution"
   ]
  },
  {
   "cell_type": "code",
   "execution_count": null,
   "id": "d44b0a82",
   "metadata": {},
   "outputs": [],
   "source": [
    "def solution(n, lost, reserve):\n",
    "    _reserve = list(set(reserve)-set(lost))\n",
    "    _lost = list(set(lost)-set(reserve))\n",
    "    #_reserve = [r for r in reserve if r not in lost]\n",
    "    #_lost = [l for l in lost if l not in reserve]\n",
    "    for i in _reserve:\n",
    "        if i-1 in _lost:\n",
    "            _lost.remove(i-1)\n",
    "        elif i+1 in _lost:\n",
    "            _lost.remove(i+1)\n",
    "    return n-len(_lost)"
   ]
  }
 ],
 "metadata": {
  "kernelspec": {
   "display_name": "Python 3",
   "language": "python",
   "name": "python3"
  },
  "language_info": {
   "codemirror_mode": {
    "name": "ipython",
    "version": 3
   },
   "file_extension": ".py",
   "mimetype": "text/x-python",
   "name": "python",
   "nbconvert_exporter": "python",
   "pygments_lexer": "ipython3",
   "version": "3.8.8"
  },
  "toc": {
   "base_numbering": 1,
   "nav_menu": {},
   "number_sections": true,
   "sideBar": true,
   "skip_h1_title": false,
   "title_cell": "Table of Contents",
   "title_sidebar": "Contents",
   "toc_cell": false,
   "toc_position": {},
   "toc_section_display": true,
   "toc_window_display": false
  },
  "varInspector": {
   "cols": {
    "lenName": 16,
    "lenType": 16,
    "lenVar": 40
   },
   "kernels_config": {
    "python": {
     "delete_cmd_postfix": "",
     "delete_cmd_prefix": "del ",
     "library": "var_list.py",
     "varRefreshCmd": "print(var_dic_list())"
    },
    "r": {
     "delete_cmd_postfix": ") ",
     "delete_cmd_prefix": "rm(",
     "library": "var_list.r",
     "varRefreshCmd": "cat(var_dic_list()) "
    }
   },
   "types_to_exclude": [
    "module",
    "function",
    "builtin_function_or_method",
    "instance",
    "_Feature"
   ],
   "window_display": false
  }
 },
 "nbformat": 4,
 "nbformat_minor": 5
}
