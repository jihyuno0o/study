{
 "cells": [
  {
   "cell_type": "markdown",
   "id": "4fdce476",
   "metadata": {},
   "source": [
    "https://programmers.co.kr/learn/courses/30/lessons/42840"
   ]
  },
  {
   "cell_type": "markdown",
   "id": "7600dd47",
   "metadata": {},
   "source": [
    "수포자는 수학을 포기한 사람의 준말입니다. 수포자 삼인방은 모의고사에 수학 문제를 전부 찍으려 합니다. 수포자는 1번 문제부터 마지막 문제까지 다음과 같이 찍습니다.\n",
    "\n",
    "1번 수포자가 찍는 방식: 1, 2, 3, 4, 5, 1, 2, 3, 4, 5, ...\n",
    "    \n",
    "2번 수포자가 찍는 방식: 2, 1, 2, 3, 2, 4, 2, 5, 2, 1, 2, 3, 2, 4, 2, 5, ...\n",
    "    \n",
    "3번 수포자가 찍는 방식: 3, 3, 1, 1, 2, 2, 4, 4, 5, 5, 3, 3, 1, 1, 2, 2, 4, 4, 5, 5, ...\n",
    "\n",
    "1번 문제부터 마지막 문제까지의 정답이 순서대로 들은 배열 answers가 주어졌을 때, 가장 많은 문제를 맞힌 사람이 누구인지 배열에 담아 return 하도록 solution 함수를 작성해주세요.\n",
    "\n",
    "\n",
    "제한 조건\n",
    "- 시험은 최대 10,000 문제로 구성되어있습니다.\n",
    "- 문제의 정답은 1, 2, 3, 4, 5중 하나입니다.\n",
    "- 가장 높은 점수를 받은 사람이 여럿일 경우, return하는 값을 오름차순 정렬해주세요."
   ]
  },
  {
   "cell_type": "code",
   "execution_count": 18,
   "id": "a8449c8a",
   "metadata": {
    "ExecuteTime": {
     "end_time": "2022-03-15T09:48:38.500087Z",
     "start_time": "2022-03-15T09:48:38.495950Z"
    }
   },
   "outputs": [],
   "source": [
    "answers = [1,2,3,4,5]\n",
    "# [1]"
   ]
  },
  {
   "cell_type": "code",
   "execution_count": 32,
   "id": "e7f02bb9",
   "metadata": {
    "ExecuteTime": {
     "end_time": "2022-03-15T10:01:30.071484Z",
     "start_time": "2022-03-15T10:01:30.053395Z"
    }
   },
   "outputs": [],
   "source": [
    "answers = [1,3,2,4,2]\n",
    "# [1,2,3]"
   ]
  },
  {
   "cell_type": "code",
   "execution_count": 33,
   "id": "47ded028",
   "metadata": {
    "ExecuteTime": {
     "end_time": "2022-03-15T10:01:30.703724Z",
     "start_time": "2022-03-15T10:01:30.696287Z"
    }
   },
   "outputs": [],
   "source": [
    "students = [[1,2,3,4,5], [2,1,2,3,2,4,2,5], [3,3,1,1,2,2,4,4,5,5]]"
   ]
  },
  {
   "cell_type": "code",
   "execution_count": 34,
   "id": "e133555a",
   "metadata": {
    "ExecuteTime": {
     "end_time": "2022-03-15T10:01:31.733169Z",
     "start_time": "2022-03-15T10:01:31.719981Z"
    }
   },
   "outputs": [],
   "source": [
    "cnt1, cnt2, cnt3 = 0,0,0"
   ]
  },
  {
   "cell_type": "code",
   "execution_count": 35,
   "id": "df6ade25",
   "metadata": {
    "ExecuteTime": {
     "end_time": "2022-03-15T10:01:34.639856Z",
     "start_time": "2022-03-15T10:01:34.632906Z"
    },
    "scrolled": true
   },
   "outputs": [],
   "source": [
    "for i, answer in enumerate(answers):\n",
    "    if answer == students[0][i%5]:\n",
    "        cnt1 +=1\n",
    "    if answer == students[1][i%8]:\n",
    "        cnt2 +=1\n",
    "    if answer == students[2][i%10]:\n",
    "        cnt3 +=1"
   ]
  },
  {
   "cell_type": "code",
   "execution_count": 36,
   "id": "821a411a",
   "metadata": {
    "ExecuteTime": {
     "end_time": "2022-03-15T10:01:35.280003Z",
     "start_time": "2022-03-15T10:01:35.258869Z"
    }
   },
   "outputs": [
    {
     "data": {
      "text/plain": [
       "(2, 2, 2)"
      ]
     },
     "execution_count": 36,
     "metadata": {},
     "output_type": "execute_result"
    }
   ],
   "source": [
    "cnt1, cnt2, cnt3"
   ]
  },
  {
   "cell_type": "code",
   "execution_count": 37,
   "id": "da8c4829",
   "metadata": {
    "ExecuteTime": {
     "end_time": "2022-03-15T10:01:36.093553Z",
     "start_time": "2022-03-15T10:01:36.080510Z"
    }
   },
   "outputs": [],
   "source": [
    "max_cnt = max(cnt1, cnt2, cnt3)"
   ]
  },
  {
   "cell_type": "code",
   "execution_count": 38,
   "id": "a040c316",
   "metadata": {
    "ExecuteTime": {
     "end_time": "2022-03-15T10:01:37.272851Z",
     "start_time": "2022-03-15T10:01:37.253592Z"
    }
   },
   "outputs": [
    {
     "data": {
      "text/plain": [
       "[1, 2, 3]"
      ]
     },
     "execution_count": 38,
     "metadata": {},
     "output_type": "execute_result"
    }
   ],
   "source": [
    "result = []\n",
    "if cnt1 == max_cnt:\n",
    "    result.append(1)\n",
    "if cnt2 == max_cnt:\n",
    "    result.append(2)\n",
    "if cnt3 == max_cnt:\n",
    "    result.append(3)\n",
    "\n",
    "result"
   ]
  },
  {
   "cell_type": "markdown",
   "id": "c73901d5",
   "metadata": {},
   "source": [
    "solution - 1번시도 런타임오류남"
   ]
  },
  {
   "cell_type": "code",
   "execution_count": null,
   "id": "fd84baec",
   "metadata": {},
   "outputs": [],
   "source": [
    "def solution(answers):\n",
    "    answer = [1,2,3]\n",
    "    students = [[1,2,3,4,5], [2,1,2,3,2,4,2,5], [3,3,1,1,2,2,4,4,5,5]]\n",
    "    multi = len(answers)//5\n",
    "    \n",
    "    correct = []\n",
    "    for i, student in enumerate(students):\n",
    "        for answer_num, check in zip(answers, student*multi):\n",
    "            if answer_num == check:\n",
    "                correct.append(i+1)\n",
    "    \n",
    "    first = max(correct, key=correct.count) #빈도수 높은 숫자\n",
    "    for i in range(1,4):\n",
    "        if correct.count(first) > correct.count(i):\n",
    "            answer.remove(i)\n",
    "    \n",
    "    return answer"
   ]
  },
  {
   "cell_type": "markdown",
   "id": "a762b390",
   "metadata": {},
   "source": [
    "solution - 2번시도"
   ]
  },
  {
   "cell_type": "code",
   "execution_count": null,
   "id": "a5fd9de4",
   "metadata": {},
   "outputs": [],
   "source": [
    "def solution(answers):\n",
    "    result = []\n",
    "    students = [[1,2,3,4,5], [2,1,2,3,2,4,2,5], [3,3,1,1,2,2,4,4,5,5]]\n",
    "    cnt1, cnt2, cnt3 = 0,0,0\n",
    "    \n",
    "    for i, answer in enumerate(answers):\n",
    "        if answer == students[0][i%5]:\n",
    "            cnt1 +=1\n",
    "        if answer == students[1][i%8]:\n",
    "            cnt2 +=1\n",
    "        if answer == students[2][i%10]:\n",
    "            cnt3 +=1\n",
    "        \n",
    "    max_cnt = max(cnt1, cnt2, cnt3)\n",
    "    if cnt1 == max_cnt:\n",
    "        result.append(1)\n",
    "    if cnt2 == max_cnt:\n",
    "        result.append(2)\n",
    "    if cnt3 == max_cnt:\n",
    "        result.append(3) \n",
    "    \n",
    "    return result"
   ]
  }
 ],
 "metadata": {
  "kernelspec": {
   "display_name": "Python 3",
   "language": "python",
   "name": "python3"
  },
  "language_info": {
   "codemirror_mode": {
    "name": "ipython",
    "version": 3
   },
   "file_extension": ".py",
   "mimetype": "text/x-python",
   "name": "python",
   "nbconvert_exporter": "python",
   "pygments_lexer": "ipython3",
   "version": "3.8.8"
  },
  "toc": {
   "base_numbering": 1,
   "nav_menu": {},
   "number_sections": true,
   "sideBar": true,
   "skip_h1_title": false,
   "title_cell": "Table of Contents",
   "title_sidebar": "Contents",
   "toc_cell": false,
   "toc_position": {},
   "toc_section_display": true,
   "toc_window_display": true
  },
  "varInspector": {
   "cols": {
    "lenName": 16,
    "lenType": 16,
    "lenVar": 40
   },
   "kernels_config": {
    "python": {
     "delete_cmd_postfix": "",
     "delete_cmd_prefix": "del ",
     "library": "var_list.py",
     "varRefreshCmd": "print(var_dic_list())"
    },
    "r": {
     "delete_cmd_postfix": ") ",
     "delete_cmd_prefix": "rm(",
     "library": "var_list.r",
     "varRefreshCmd": "cat(var_dic_list()) "
    }
   },
   "types_to_exclude": [
    "module",
    "function",
    "builtin_function_or_method",
    "instance",
    "_Feature"
   ],
   "window_display": false
  }
 },
 "nbformat": 4,
 "nbformat_minor": 5
}
