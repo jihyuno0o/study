{
 "cells": [
  {
   "cell_type": "markdown",
   "id": "82f83ea0",
   "metadata": {},
   "source": [
    "https://programmers.co.kr/learn/courses/30/lessons/81301"
   ]
  },
  {
   "cell_type": "markdown",
   "id": "dcc26a0b",
   "metadata": {},
   "source": [
    "네오와 프로도가 숫자놀이를 하고 있습니다. 네오가 프로도에게 숫자를 건넬 때 일부 자릿수를 영단어로 바꾼 카드를 건네주면 프로도는 원래 숫자를 찾는 게임입니다.\n",
    "\n",
    "다음은 숫자의 일부 자릿수를 영단어로 바꾸는 예시입니다.\n",
    "\n",
    "- 1478 → \"one4seveneight\"\n",
    "- 234567 → \"23four5six7\"\n",
    "- 10203 → \"1zerotwozero3\"\n",
    "\n",
    "이렇게 숫자의 일부 자릿수가 영단어로 바뀌어졌거나, 혹은 바뀌지 않고 그대로인 문자열 s가 매개변수로 주어집니다. s가 의미하는 원래 숫자를 return 하도록 solution 함수를 완성해주세요.\n",
    "\n",
    "참고로 각 숫자에 대응되는 영단어는 다음 표와 같습니다."
   ]
  },
  {
   "cell_type": "markdown",
   "id": "c8795f31",
   "metadata": {},
   "source": [
    "제한사항\n",
    "- 1 ≤ s의 길이 ≤ 50\n",
    "- s가 \"zero\" 또는 \"0\"으로 시작하는 경우는 주어지지 않습니다.\n",
    "- return 값이 1 이상 2,000,000,000 이하의 정수가 되는 올바른 입력만 s로 주어집니다."
   ]
  },
  {
   "cell_type": "code",
   "execution_count": 1,
   "id": "1be71f35",
   "metadata": {
    "ExecuteTime": {
     "end_time": "2022-03-21T06:11:35.203010Z",
     "start_time": "2022-03-21T06:11:35.189641Z"
    }
   },
   "outputs": [],
   "source": [
    "s = \"one4seveneight\"\n",
    "# 1478"
   ]
  },
  {
   "cell_type": "code",
   "execution_count": null,
   "id": "f7fd6214",
   "metadata": {
    "ExecuteTime": {
     "end_time": "2022-03-21T06:11:06.200147Z",
     "start_time": "2022-03-21T06:11:06.191865Z"
    }
   },
   "outputs": [],
   "source": [
    "# s = \"23four5six7\"\n",
    "s = \"2three45sixseven\"\n",
    "# 234567"
   ]
  },
  {
   "cell_type": "code",
   "execution_count": null,
   "id": "1edc2d00",
   "metadata": {
    "ExecuteTime": {
     "end_time": "2022-03-21T06:11:24.228466Z",
     "start_time": "2022-03-21T06:11:24.221855Z"
    }
   },
   "outputs": [],
   "source": [
    "s = \"123\"\n",
    "# 123"
   ]
  },
  {
   "cell_type": "code",
   "execution_count": 2,
   "id": "364e65a4",
   "metadata": {
    "ExecuteTime": {
     "end_time": "2022-03-21T06:11:36.272435Z",
     "start_time": "2022-03-21T06:11:36.263423Z"
    }
   },
   "outputs": [],
   "source": [
    "num_dict = {'zero':'0', 'one':'1', 'two':'2', 'three':'3', 'four':'4', 'five':'5', 'six':'6', 'seven':'7', 'eight':'8', 'nine':'9'}"
   ]
  },
  {
   "cell_type": "code",
   "execution_count": 3,
   "id": "c4ec614c",
   "metadata": {
    "ExecuteTime": {
     "end_time": "2022-03-21T06:11:38.162032Z",
     "start_time": "2022-03-21T06:11:38.142089Z"
    }
   },
   "outputs": [],
   "source": [
    "answer = \"\""
   ]
  },
  {
   "cell_type": "code",
   "execution_count": 4,
   "id": "9c572e1e",
   "metadata": {
    "ExecuteTime": {
     "end_time": "2022-03-21T06:11:40.600798Z",
     "start_time": "2022-03-21T06:11:40.585815Z"
    }
   },
   "outputs": [],
   "source": [
    "num = \"\"\n",
    "for string in s:\n",
    "    try:\n",
    "        int(string)\n",
    "        answer += string\n",
    "    except:\n",
    "        num += string\n",
    "        if num in num_dict:\n",
    "            answer += num_dict[num]\n",
    "            num = \"\""
   ]
  },
  {
   "cell_type": "code",
   "execution_count": 5,
   "id": "8f76748f",
   "metadata": {
    "ExecuteTime": {
     "end_time": "2022-03-21T06:11:41.838770Z",
     "start_time": "2022-03-21T06:11:41.812891Z"
    }
   },
   "outputs": [
    {
     "data": {
      "text/plain": [
       "'1478'"
      ]
     },
     "execution_count": 5,
     "metadata": {},
     "output_type": "execute_result"
    }
   ],
   "source": [
    "answer"
   ]
  },
  {
   "cell_type": "markdown",
   "id": "27fff42d",
   "metadata": {},
   "source": [
    "solution"
   ]
  },
  {
   "cell_type": "code",
   "execution_count": null,
   "id": "2a646fe8",
   "metadata": {},
   "outputs": [],
   "source": [
    "def solution(s):\n",
    "    answer = \"\"\n",
    "    num_dict = {'zero':'0', 'one':'1', 'two':'2', 'three':'3', 'four':'4', 'five':'5', 'six':'6', 'seven':'7', 'eight':'8', 'nine':'9'}\n",
    "    \n",
    "    num = \"\"\n",
    "    for string in s:\n",
    "        try:\n",
    "            int(string)\n",
    "            answer += string\n",
    "        except:\n",
    "            num += string\n",
    "            if num in num_dict:\n",
    "                answer += num_dict[num]\n",
    "                num = \"\"\n",
    "                \n",
    "    return int(answer)"
   ]
  },
  {
   "cell_type": "markdown",
   "id": "ffc8af58",
   "metadata": {
    "ExecuteTime": {
     "end_time": "2022-03-21T06:13:10.758797Z",
     "start_time": "2022-03-21T06:13:10.747833Z"
    }
   },
   "source": [
    "다른 사람 코드"
   ]
  },
  {
   "cell_type": "code",
   "execution_count": null,
   "id": "0aaf9eb4",
   "metadata": {},
   "outputs": [],
   "source": [
    "num_dic = {\"zero\":\"0\", \"one\":\"1\", \"two\":\"2\", \"three\":\"3\", \"four\":\"4\", \"five\":\"5\", \"six\":\"6\", \"seven\":\"7\", \"eight\":\"8\", \"nine\":\"9\"}\n",
    "\n",
    "def solution(s):\n",
    "    answer = s\n",
    "    for key, value in num_dic.items():\n",
    "        answer = answer.replace(key, value)\n",
    "    return int(answer)"
   ]
  }
 ],
 "metadata": {
  "kernelspec": {
   "display_name": "Python 3",
   "language": "python",
   "name": "python3"
  },
  "language_info": {
   "codemirror_mode": {
    "name": "ipython",
    "version": 3
   },
   "file_extension": ".py",
   "mimetype": "text/x-python",
   "name": "python",
   "nbconvert_exporter": "python",
   "pygments_lexer": "ipython3",
   "version": "3.8.8"
  },
  "toc": {
   "base_numbering": 1,
   "nav_menu": {},
   "number_sections": true,
   "sideBar": true,
   "skip_h1_title": false,
   "title_cell": "Table of Contents",
   "title_sidebar": "Contents",
   "toc_cell": false,
   "toc_position": {},
   "toc_section_display": true,
   "toc_window_display": false
  },
  "varInspector": {
   "cols": {
    "lenName": 16,
    "lenType": 16,
    "lenVar": 40
   },
   "kernels_config": {
    "python": {
     "delete_cmd_postfix": "",
     "delete_cmd_prefix": "del ",
     "library": "var_list.py",
     "varRefreshCmd": "print(var_dic_list())"
    },
    "r": {
     "delete_cmd_postfix": ") ",
     "delete_cmd_prefix": "rm(",
     "library": "var_list.r",
     "varRefreshCmd": "cat(var_dic_list()) "
    }
   },
   "types_to_exclude": [
    "module",
    "function",
    "builtin_function_or_method",
    "instance",
    "_Feature"
   ],
   "window_display": false
  }
 },
 "nbformat": 4,
 "nbformat_minor": 5
}
