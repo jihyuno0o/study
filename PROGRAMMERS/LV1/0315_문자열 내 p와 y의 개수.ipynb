{
 "cells": [
  {
   "cell_type": "markdown",
   "id": "afd4ee01",
   "metadata": {},
   "source": [
    "https://programmers.co.kr/learn/courses/30/lessons/12916"
   ]
  },
  {
   "cell_type": "markdown",
   "id": "e0f6382f",
   "metadata": {},
   "source": [
    "대문자와 소문자가 섞여있는 문자열 s가 주어집니다. s에 'p'의 개수와 'y'의 개수를 비교해 같으면 True, 다르면 False를 return 하는 solution를 완성하세요. 'p', 'y' 모두 하나도 없는 경우는 항상 True를 리턴합니다. 단, 개수를 비교할 때 대문자와 소문자는 구별하지 않습니다.\n",
    "\n",
    "예를 들어 s가 \"pPoooyY\"면 true를 return하고 \"Pyy\"라면 false를 return합니다.\n",
    "\n",
    "제한사항\n",
    "- 문자열 s의 길이 : 50 이하의 자연수\n",
    "- 문자열 s는 알파벳으로만 이루어져 있습니다."
   ]
  },
  {
   "cell_type": "markdown",
   "id": "74fecfed",
   "metadata": {},
   "source": [
    "\"pPoooyY\"\ttrue\n",
    "\"Pyy\"\tfalse"
   ]
  },
  {
   "cell_type": "code",
   "execution_count": 1,
   "id": "2333c40e",
   "metadata": {
    "ExecuteTime": {
     "end_time": "2022-03-10T06:47:29.983559Z",
     "start_time": "2022-03-10T06:47:29.972409Z"
    }
   },
   "outputs": [],
   "source": [
    "s = \"pPoooyY\""
   ]
  },
  {
   "cell_type": "code",
   "execution_count": 4,
   "id": "90495295",
   "metadata": {
    "ExecuteTime": {
     "end_time": "2022-03-10T06:47:47.057191Z",
     "start_time": "2022-03-10T06:47:47.037374Z"
    }
   },
   "outputs": [
    {
     "data": {
      "text/plain": [
       "'ppoooyy'"
      ]
     },
     "execution_count": 4,
     "metadata": {},
     "output_type": "execute_result"
    }
   ],
   "source": [
    "lower_s = s.lower()\n",
    "lower_s"
   ]
  },
  {
   "cell_type": "code",
   "execution_count": 7,
   "id": "a673d0c2",
   "metadata": {
    "ExecuteTime": {
     "end_time": "2022-03-10T06:49:05.841998Z",
     "start_time": "2022-03-10T06:49:05.819978Z"
    }
   },
   "outputs": [
    {
     "data": {
      "text/plain": [
       "True"
      ]
     },
     "execution_count": 7,
     "metadata": {},
     "output_type": "execute_result"
    }
   ],
   "source": [
    "lower_s.count('p') == lower_s.count('y')"
   ]
  },
  {
   "cell_type": "markdown",
   "id": "6cee496d",
   "metadata": {},
   "source": [
    "solution"
   ]
  },
  {
   "cell_type": "code",
   "execution_count": null,
   "id": "8297dba7",
   "metadata": {},
   "outputs": [],
   "source": [
    "def solution(s):\n",
    "    lower_s = s.lower()\n",
    "    return lower_s.count('p') == lower_s.count('y')"
   ]
  }
 ],
 "metadata": {
  "kernelspec": {
   "display_name": "Python 3",
   "language": "python",
   "name": "python3"
  },
  "language_info": {
   "codemirror_mode": {
    "name": "ipython",
    "version": 3
   },
   "file_extension": ".py",
   "mimetype": "text/x-python",
   "name": "python",
   "nbconvert_exporter": "python",
   "pygments_lexer": "ipython3",
   "version": "3.8.8"
  },
  "toc": {
   "base_numbering": 1,
   "nav_menu": {},
   "number_sections": true,
   "sideBar": true,
   "skip_h1_title": false,
   "title_cell": "Table of Contents",
   "title_sidebar": "Contents",
   "toc_cell": false,
   "toc_position": {},
   "toc_section_display": true,
   "toc_window_display": false
  },
  "varInspector": {
   "cols": {
    "lenName": 16,
    "lenType": 16,
    "lenVar": 40
   },
   "kernels_config": {
    "python": {
     "delete_cmd_postfix": "",
     "delete_cmd_prefix": "del ",
     "library": "var_list.py",
     "varRefreshCmd": "print(var_dic_list())"
    },
    "r": {
     "delete_cmd_postfix": ") ",
     "delete_cmd_prefix": "rm(",
     "library": "var_list.r",
     "varRefreshCmd": "cat(var_dic_list()) "
    }
   },
   "types_to_exclude": [
    "module",
    "function",
    "builtin_function_or_method",
    "instance",
    "_Feature"
   ],
   "window_display": false
  }
 },
 "nbformat": 4,
 "nbformat_minor": 5
}
