{
 "cells": [
  {
   "cell_type": "markdown",
   "id": "1f36c3f4",
   "metadata": {},
   "source": [
    "https://programmers.co.kr/learn/courses/30/lessons/12982"
   ]
  },
  {
   "cell_type": "markdown",
   "id": "f5845f76",
   "metadata": {},
   "source": [
    "S사에서는 각 부서에 필요한 물품을 지원해 주기 위해 부서별로 물품을 구매하는데 필요한 금액을 조사했습니다. 그러나, 전체 예산이 정해져 있기 때문에 모든 부서의 물품을 구매해 줄 수는 없습니다. 그래서 최대한 많은 부서의 물품을 구매해 줄 수 있도록 하려고 합니다.\n",
    "\n",
    "물품을 구매해 줄 때는 각 부서가 신청한 금액만큼을 모두 지원해 줘야 합니다. 예를 들어 1,000원을 신청한 부서에는 정확히 1,000원을 지원해야 하며, 1,000원보다 적은 금액을 지원해 줄 수는 없습니다.\n",
    "\n",
    "부서별로 신청한 금액이 들어있는 배열 d와 예산 budget이 매개변수로 주어질 때, 최대 몇 개의 부서에 물품을 지원할 수 있는지 return 하도록 solution 함수를 완성해주세요."
   ]
  },
  {
   "cell_type": "markdown",
   "id": "aeddb019",
   "metadata": {},
   "source": [
    "제한사항\n",
    "- d는 부서별로 신청한 금액이 들어있는 배열이며, 길이(전체 부서의 개수)는 1 이상 100 이하입니다.\n",
    "- d의 각 원소는 부서별로 신청한 금액을 나타내며, 부서별 신청 금액은 1 이상 100,000 이하의 자연수입니다.\n",
    "- budget은 예산을 나타내며, 1 이상 10,000,000 이하의 자연수입니다."
   ]
  },
  {
   "cell_type": "code",
   "execution_count": 21,
   "id": "00fd6d4c",
   "metadata": {
    "ExecuteTime": {
     "end_time": "2022-03-16T13:35:25.878949Z",
     "start_time": "2022-03-16T13:35:25.861397Z"
    }
   },
   "outputs": [],
   "source": [
    "d = [1,3,2,5,4]\n",
    "budget = 9\n",
    "# 3"
   ]
  },
  {
   "cell_type": "code",
   "execution_count": 22,
   "id": "5bb8de8e",
   "metadata": {
    "ExecuteTime": {
     "end_time": "2022-03-16T13:35:26.067869Z",
     "start_time": "2022-03-16T13:35:26.056032Z"
    }
   },
   "outputs": [],
   "source": [
    "answer = 0"
   ]
  },
  {
   "cell_type": "code",
   "execution_count": 17,
   "id": "c1f74151",
   "metadata": {
    "ExecuteTime": {
     "end_time": "2022-03-16T13:33:03.576303Z",
     "start_time": "2022-03-16T13:33:03.561256Z"
    }
   },
   "outputs": [
    {
     "data": {
      "text/plain": [
       "[5, 4, 3, 2, 1]"
      ]
     },
     "execution_count": 17,
     "metadata": {},
     "output_type": "execute_result"
    }
   ],
   "source": [
    "d.sort(reverse=True)\n",
    "d"
   ]
  },
  {
   "cell_type": "code",
   "execution_count": 18,
   "id": "39e82531",
   "metadata": {
    "ExecuteTime": {
     "end_time": "2022-03-16T13:33:04.280362Z",
     "start_time": "2022-03-16T13:33:04.273420Z"
    }
   },
   "outputs": [
    {
     "name": "stdout",
     "output_type": "stream",
     "text": [
      "8\n",
      "1\n",
      "6\n",
      "2\n",
      "3\n",
      "3\n",
      "-1\n",
      "4\n"
     ]
    }
   ],
   "source": [
    "while(budget>=0):\n",
    "    budget -= d.pop()\n",
    "    print(budget)\n",
    "    answer += 1\n",
    "    print(answer)"
   ]
  },
  {
   "cell_type": "code",
   "execution_count": 19,
   "id": "94ed1c12",
   "metadata": {
    "ExecuteTime": {
     "end_time": "2022-03-16T13:33:08.498928Z",
     "start_time": "2022-03-16T13:33:08.484769Z"
    }
   },
   "outputs": [
    {
     "data": {
      "text/plain": [
       "4"
      ]
     },
     "execution_count": 19,
     "metadata": {},
     "output_type": "execute_result"
    }
   ],
   "source": [
    "answer"
   ]
  },
  {
   "cell_type": "code",
   "execution_count": null,
   "id": "313fb248",
   "metadata": {},
   "outputs": [],
   "source": [
    "if sum(d) <= budget:\n",
    "    return len(d)"
   ]
  },
  {
   "cell_type": "markdown",
   "id": "a3a3125d",
   "metadata": {},
   "source": [
    "solution"
   ]
  },
  {
   "cell_type": "code",
   "execution_count": null,
   "id": "556bbf2a",
   "metadata": {},
   "outputs": [],
   "source": [
    "def solution(d, budget):\n",
    "    answer = 0\n",
    "    # 예산으로 전부 지원 가능한 경우\n",
    "    if sum(d) <= budget:\n",
    "        return len(d)\n",
    "    \n",
    "    d.sort(reverse=True)\n",
    "    while(budget>=0):\n",
    "        budget -= d.pop()\n",
    "        answer += 1\n",
    "    return answer-1"
   ]
  },
  {
   "cell_type": "markdown",
   "id": "10a3bab2",
   "metadata": {
    "ExecuteTime": {
     "end_time": "2022-03-16T13:38:16.758113Z",
     "start_time": "2022-03-16T13:38:16.745327Z"
    }
   },
   "source": [
    "다른 사람 코드"
   ]
  },
  {
   "cell_type": "code",
   "execution_count": null,
   "id": "6f819107",
   "metadata": {},
   "outputs": [],
   "source": [
    "def solution(d, budget):\n",
    "    d.sort()\n",
    "    while budget < sum(d):\n",
    "        d.pop()\n",
    "    return len(d)"
   ]
  },
  {
   "cell_type": "code",
   "execution_count": null,
   "id": "8b1e6c4f",
   "metadata": {},
   "outputs": [],
   "source": []
  }
 ],
 "metadata": {
  "kernelspec": {
   "display_name": "Python 3",
   "language": "python",
   "name": "python3"
  },
  "language_info": {
   "codemirror_mode": {
    "name": "ipython",
    "version": 3
   },
   "file_extension": ".py",
   "mimetype": "text/x-python",
   "name": "python",
   "nbconvert_exporter": "python",
   "pygments_lexer": "ipython3",
   "version": "3.8.8"
  },
  "toc": {
   "base_numbering": 1,
   "nav_menu": {},
   "number_sections": true,
   "sideBar": true,
   "skip_h1_title": false,
   "title_cell": "Table of Contents",
   "title_sidebar": "Contents",
   "toc_cell": false,
   "toc_position": {},
   "toc_section_display": true,
   "toc_window_display": false
  },
  "varInspector": {
   "cols": {
    "lenName": 16,
    "lenType": 16,
    "lenVar": 40
   },
   "kernels_config": {
    "python": {
     "delete_cmd_postfix": "",
     "delete_cmd_prefix": "del ",
     "library": "var_list.py",
     "varRefreshCmd": "print(var_dic_list())"
    },
    "r": {
     "delete_cmd_postfix": ") ",
     "delete_cmd_prefix": "rm(",
     "library": "var_list.r",
     "varRefreshCmd": "cat(var_dic_list()) "
    }
   },
   "types_to_exclude": [
    "module",
    "function",
    "builtin_function_or_method",
    "instance",
    "_Feature"
   ],
   "window_display": false
  }
 },
 "nbformat": 4,
 "nbformat_minor": 5
}
